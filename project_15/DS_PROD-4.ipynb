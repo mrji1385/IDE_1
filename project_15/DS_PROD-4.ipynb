{
 "cells": [
  {
   "cell_type": "markdown",
   "metadata": {},
   "source": [
    "### <center><b>АНАЛИЗ ЭФФЕКТИВНОСТИ ДВУХ ВАРИАНТОВ ПОСАДОЧНОЙ СТРАНИЦЫ</b></center>"
   ]
  },
  {
   "cell_type": "markdown",
   "metadata": {},
   "source": [
    "##### <b>Задача:</b>\n",
    "##### Представьте, что вы — Data Scientist в туристической фирме. Компания планирует запустить новую акцию, чтобы продать как можно больше туров. Команда разработала два варианта посадочной страницы официального сайта и провела A/B-тестирование. В результате эксперимента были собраны данные — скачайте их по [ссылке](https://lms-cdn.skillfactory.ru/assets/courseware/v1/3274d20d12cca49b6ce3d18d75ba8826/asset-v1:SkillFactory+DSPR-2.0+14JULY2021+type@asset+block/ab_data_tourist.zip).\n",
    "##### Вам предстоит решить настоящую бизнес-задачу: проанализировать эффективность обоих вариантов посадочной страницы сразу по двум критериям — <b>конверсии покупки</b> и <b>ежедневному среднему чеку</b>.\n",
    "##### Вы должны убедиться, что A/B-тестирование было проведено корректно, проверить факт стабилизации метрик и обоснованно ответить на ключевой вопрос турагентства: какой вариант посадочной страницы более предпочтителен по метрикам конверсии и ежедневного среднего чека?\n",
    "##### Итак, компания предлагает следующие варианты туров:\n",
    "* Таиланд — 100 000 рублей;\n",
    "* Турция — 60 000 рублей;\n",
    "* Мальдивы — 200 000 рублей;\n",
    "* Санкт-Петербург — 10 000 рублей;\n",
    "* Камчатка — 150 000 рублей."
   ]
  },
  {
   "cell_type": "code",
   "execution_count": 1,
   "metadata": {},
   "outputs": [],
   "source": [
    "# Импортируем библиотеки\n",
    "\n",
    "import pandas as pd\n",
    "import matplotlib.pyplot as plt\n",
    "import seaborn as sns\n",
    "from scipy.stats import ttest_ind, shapiro\n",
    "from statsmodels.stats.proportion import proportions_ztest\n",
    "from scipy import stats"
   ]
  },
  {
   "cell_type": "markdown",
   "metadata": {},
   "source": [
    "##### Прочитаем наши данные и посмотрим на столбцы таблицы:"
   ]
  },
  {
   "cell_type": "code",
   "execution_count": 2,
   "metadata": {},
   "outputs": [
    {
     "data": {
      "text/html": [
       "<div>\n",
       "<style scoped>\n",
       "    .dataframe tbody tr th:only-of-type {\n",
       "        vertical-align: middle;\n",
       "    }\n",
       "\n",
       "    .dataframe tbody tr th {\n",
       "        vertical-align: top;\n",
       "    }\n",
       "\n",
       "    .dataframe thead th {\n",
       "        text-align: right;\n",
       "    }\n",
       "</style>\n",
       "<table border=\"1\" class=\"dataframe\">\n",
       "  <thead>\n",
       "    <tr style=\"text-align: right;\">\n",
       "      <th></th>\n",
       "      <th>user_id</th>\n",
       "      <th>date</th>\n",
       "      <th>group</th>\n",
       "      <th>purchase</th>\n",
       "      <th>price</th>\n",
       "    </tr>\n",
       "  </thead>\n",
       "  <tbody>\n",
       "    <tr>\n",
       "      <th>0</th>\n",
       "      <td>851104</td>\n",
       "      <td>2021-01-21</td>\n",
       "      <td>A</td>\n",
       "      <td>0</td>\n",
       "      <td>0</td>\n",
       "    </tr>\n",
       "    <tr>\n",
       "      <th>1</th>\n",
       "      <td>804228</td>\n",
       "      <td>2021-01-12</td>\n",
       "      <td>A</td>\n",
       "      <td>0</td>\n",
       "      <td>0</td>\n",
       "    </tr>\n",
       "    <tr>\n",
       "      <th>2</th>\n",
       "      <td>661590</td>\n",
       "      <td>2021-01-11</td>\n",
       "      <td>B</td>\n",
       "      <td>0</td>\n",
       "      <td>0</td>\n",
       "    </tr>\n",
       "    <tr>\n",
       "      <th>3</th>\n",
       "      <td>853541</td>\n",
       "      <td>2021-01-08</td>\n",
       "      <td>B</td>\n",
       "      <td>0</td>\n",
       "      <td>0</td>\n",
       "    </tr>\n",
       "    <tr>\n",
       "      <th>4</th>\n",
       "      <td>864975</td>\n",
       "      <td>2021-01-21</td>\n",
       "      <td>A</td>\n",
       "      <td>1</td>\n",
       "      <td>150000</td>\n",
       "    </tr>\n",
       "  </tbody>\n",
       "</table>\n",
       "</div>"
      ],
      "text/plain": [
       "   user_id        date group  purchase   price\n",
       "0   851104  2021-01-21     A         0       0\n",
       "1   804228  2021-01-12     A         0       0\n",
       "2   661590  2021-01-11     B         0       0\n",
       "3   853541  2021-01-08     B         0       0\n",
       "4   864975  2021-01-21     A         1  150000"
      ]
     },
     "execution_count": 2,
     "metadata": {},
     "output_type": "execute_result"
    }
   ],
   "source": [
    "data = pd.read_csv('data/ab_data_tourist.csv')\n",
    "\n",
    "data.head()"
   ]
  },
  {
   "cell_type": "markdown",
   "metadata": {},
   "source": [
    "##### Наша таблица представлена следующими полями:\n",
    "* user_id — идентификатор пользователя, зашедшего на сайт;\n",
    "* data — дата посещения сайта;\n",
    "* group — группа теста (контрольная — А или тестовая — B);\n",
    "* purchase — признак покупки: совершил ли пользователь покупку тура (1 — да, 0 — нет);\n",
    "* price — цена купленного тура (если покупка не состоялась, цена равна 0)."
   ]
  },
  {
   "cell_type": "markdown",
   "metadata": {},
   "source": [
    "### <center>1. Анализ структуры данных и их предобработка</center>"
   ]
  },
  {
   "cell_type": "code",
   "execution_count": 3,
   "metadata": {},
   "outputs": [
    {
     "name": "stdout",
     "output_type": "stream",
     "text": [
      "<class 'pandas.core.frame.DataFrame'>\n",
      "RangeIndex: 294478 entries, 0 to 294477\n",
      "Data columns (total 5 columns):\n",
      " #   Column    Non-Null Count   Dtype \n",
      "---  ------    --------------   ----- \n",
      " 0   user_id   294478 non-null  int64 \n",
      " 1   date      294478 non-null  object\n",
      " 2   group     294478 non-null  object\n",
      " 3   purchase  294478 non-null  int64 \n",
      " 4   price     294478 non-null  int64 \n",
      "dtypes: int64(3), object(2)\n",
      "memory usage: 11.2+ MB\n"
     ]
    }
   ],
   "source": [
    "# Выведем информацию о типе данных и количестве непустых значений\n",
    "\n",
    "data.info()"
   ]
  },
  {
   "cell_type": "markdown",
   "metadata": {},
   "source": [
    "##### Пропуски в данных отсутствуют. Столбец date имеет тип object, а нам нужен datetime."
   ]
  },
  {
   "cell_type": "code",
   "execution_count": 4,
   "metadata": {},
   "outputs": [],
   "source": [
    "# Приведем столбец date к типу данных datetime\n",
    "\n",
    "data.date = pd.to_datetime(data.date, format='%Y-%m-%d')"
   ]
  },
  {
   "cell_type": "code",
   "execution_count": 5,
   "metadata": {},
   "outputs": [
    {
     "data": {
      "text/html": [
       "<div>\n",
       "<style scoped>\n",
       "    .dataframe tbody tr th:only-of-type {\n",
       "        vertical-align: middle;\n",
       "    }\n",
       "\n",
       "    .dataframe tbody tr th {\n",
       "        vertical-align: top;\n",
       "    }\n",
       "\n",
       "    .dataframe thead th {\n",
       "        text-align: right;\n",
       "    }\n",
       "</style>\n",
       "<table border=\"1\" class=\"dataframe\">\n",
       "  <thead>\n",
       "    <tr style=\"text-align: right;\">\n",
       "      <th></th>\n",
       "      <th>min</th>\n",
       "      <th>max</th>\n",
       "    </tr>\n",
       "    <tr>\n",
       "      <th>group</th>\n",
       "      <th></th>\n",
       "      <th></th>\n",
       "    </tr>\n",
       "  </thead>\n",
       "  <tbody>\n",
       "    <tr>\n",
       "      <th>A</th>\n",
       "      <td>2021-01-02</td>\n",
       "      <td>2021-01-24</td>\n",
       "    </tr>\n",
       "    <tr>\n",
       "      <th>B</th>\n",
       "      <td>2021-01-02</td>\n",
       "      <td>2021-01-24</td>\n",
       "    </tr>\n",
       "  </tbody>\n",
       "</table>\n",
       "</div>"
      ],
      "text/plain": [
       "             min        max\n",
       "group                      \n",
       "A     2021-01-02 2021-01-24\n",
       "B     2021-01-02 2021-01-24"
      ]
     },
     "execution_count": 5,
     "metadata": {},
     "output_type": "execute_result"
    }
   ],
   "source": [
    "# Убедимся в одинаковой длительности проведения A/B-тестирования в каждой из групп\n",
    "\n",
    "data.groupby('group')['date'].agg(['min', 'max'])"
   ]
  },
  {
   "cell_type": "markdown",
   "metadata": {},
   "source": [
    "##### Время начала и окончания теста в обоих группах совпадает, следовательно, длительность проведения теста в каждой из групп одинаковая."
   ]
  },
  {
   "cell_type": "code",
   "execution_count": 6,
   "metadata": {},
   "outputs": [
    {
     "data": {
      "text/plain": [
       "1895"
      ]
     },
     "execution_count": 6,
     "metadata": {},
     "output_type": "execute_result"
    }
   ],
   "source": [
    "# Проверим, есть ли пользователи, которые в процессе A/B-теста попали в обе группы\n",
    "\n",
    "data_a = set(data[data['group']=='A']['user_id'])  # множество пользователей группы A\n",
    "data_b = set(data[data['group']=='B']['user_id'])  # множество пользователей группы B\n",
    "\n",
    "user_intersection = data_a.intersection(data_b)\n",
    "len(user_intersection)"
   ]
  },
  {
   "cell_type": "markdown",
   "metadata": {},
   "source": [
    "##### 1895 пользователей плпали в обе группы, избавимся от них."
   ]
  },
  {
   "cell_type": "code",
   "execution_count": 7,
   "metadata": {},
   "outputs": [],
   "source": [
    "# Исключим пользователей, оказавшихся в обеих группах\n",
    "\n",
    "data = data[data['user_id'].apply(lambda x: x not in user_intersection)]\n",
    "\n",
    "data.reset_index(inplace=True)"
   ]
  },
  {
   "cell_type": "markdown",
   "metadata": {},
   "source": [
    "### <center>2. Первичный анализ результатов A/B-тестирования</center>"
   ]
  },
  {
   "cell_type": "markdown",
   "metadata": {},
   "source": [
    "##### Рассчитаем вспомогательные показатели для контрольной и тестовой групп:\n",
    "* количество посещений сайта;\n",
    "* суммарное количество совершённых покупок;\n",
    "* сумма всех покупок.\n",
    "##### Результаты занесем в таблицу data_group"
   ]
  },
  {
   "cell_type": "code",
   "execution_count": 8,
   "metadata": {},
   "outputs": [
    {
     "data": {
      "text/html": [
       "<div>\n",
       "<style scoped>\n",
       "    .dataframe tbody tr th:only-of-type {\n",
       "        vertical-align: middle;\n",
       "    }\n",
       "\n",
       "    .dataframe tbody tr th {\n",
       "        vertical-align: top;\n",
       "    }\n",
       "\n",
       "    .dataframe thead th {\n",
       "        text-align: right;\n",
       "    }\n",
       "</style>\n",
       "<table border=\"1\" class=\"dataframe\">\n",
       "  <thead>\n",
       "    <tr style=\"text-align: right;\">\n",
       "      <th></th>\n",
       "      <th>group</th>\n",
       "      <th>visits</th>\n",
       "      <th>sum_purchase</th>\n",
       "      <th>sum_price</th>\n",
       "    </tr>\n",
       "  </thead>\n",
       "  <tbody>\n",
       "    <tr>\n",
       "      <th>0</th>\n",
       "      <td>A</td>\n",
       "      <td>145307</td>\n",
       "      <td>17487</td>\n",
       "      <td>1417780000</td>\n",
       "    </tr>\n",
       "    <tr>\n",
       "      <th>1</th>\n",
       "      <td>B</td>\n",
       "      <td>145381</td>\n",
       "      <td>17290</td>\n",
       "      <td>1533010000</td>\n",
       "    </tr>\n",
       "  </tbody>\n",
       "</table>\n",
       "</div>"
      ],
      "text/plain": [
       "  group  visits  sum_purchase   sum_price\n",
       "0     A  145307         17487  1417780000\n",
       "1     B  145381         17290  1533010000"
      ]
     },
     "execution_count": 8,
     "metadata": {},
     "output_type": "execute_result"
    }
   ],
   "source": [
    "data_group = data.groupby(['group']).agg({\n",
    "    'user_id':'count',\n",
    "    'purchase':'sum',\n",
    "    'price': 'sum'\n",
    "}).reset_index().rename(columns={\n",
    "    'user_id': 'visits',\n",
    "    'purchase':'sum_purchase',\n",
    "    'price':'sum_price'})\n",
    "\n",
    "data_group"
   ]
  },
  {
   "cell_type": "markdown",
   "metadata": {},
   "source": [
    "#### Вывод:\n",
    "* Количество посещений обоих вариантов посадочной страницы различается на 74 пользователя, что несущественно. Можно сказать, что выборка сбалансированна."
   ]
  },
  {
   "cell_type": "markdown",
   "metadata": {},
   "source": [
    "##### В каждой из групп рассчитаем ключевые показатели:\n",
    "* конверсия;\n",
    "* средний чек.\n",
    "##### Результаты добавим в таблицу data_group"
   ]
  },
  {
   "cell_type": "code",
   "execution_count": 9,
   "metadata": {},
   "outputs": [
    {
     "data": {
      "text/html": [
       "<div>\n",
       "<style scoped>\n",
       "    .dataframe tbody tr th:only-of-type {\n",
       "        vertical-align: middle;\n",
       "    }\n",
       "\n",
       "    .dataframe tbody tr th {\n",
       "        vertical-align: top;\n",
       "    }\n",
       "\n",
       "    .dataframe thead th {\n",
       "        text-align: right;\n",
       "    }\n",
       "</style>\n",
       "<table border=\"1\" class=\"dataframe\">\n",
       "  <thead>\n",
       "    <tr style=\"text-align: right;\">\n",
       "      <th></th>\n",
       "      <th>group</th>\n",
       "      <th>visits</th>\n",
       "      <th>sum_purchase</th>\n",
       "      <th>sum_price</th>\n",
       "      <th>conversion</th>\n",
       "      <th>mean_check</th>\n",
       "    </tr>\n",
       "  </thead>\n",
       "  <tbody>\n",
       "    <tr>\n",
       "      <th>0</th>\n",
       "      <td>A</td>\n",
       "      <td>145307</td>\n",
       "      <td>17487</td>\n",
       "      <td>1417780000</td>\n",
       "      <td>12.03</td>\n",
       "      <td>81076.23</td>\n",
       "    </tr>\n",
       "    <tr>\n",
       "      <th>1</th>\n",
       "      <td>B</td>\n",
       "      <td>145381</td>\n",
       "      <td>17290</td>\n",
       "      <td>1533010000</td>\n",
       "      <td>11.89</td>\n",
       "      <td>88664.55</td>\n",
       "    </tr>\n",
       "  </tbody>\n",
       "</table>\n",
       "</div>"
      ],
      "text/plain": [
       "  group  visits  sum_purchase   sum_price  conversion  mean_check\n",
       "0     A  145307         17487  1417780000       12.03    81076.23\n",
       "1     B  145381         17290  1533010000       11.89    88664.55"
      ]
     },
     "execution_count": 9,
     "metadata": {},
     "output_type": "execute_result"
    }
   ],
   "source": [
    "data_group['conversion'] = round(data_group['sum_purchase'] / data_group['visits'] * 100, 2)\n",
    "data_group['mean_check'] = round(data_group['sum_price'] / data_group['sum_purchase'], 2)\n",
    "\n",
    "data_group"
   ]
  },
  {
   "cell_type": "markdown",
   "metadata": {},
   "source": [
    "#### Вывод:\n",
    "* По показателям конверсии вариант A, лучше варианта B (12.03% против 11.89%), а по среднему чеку - хуже (81076 руб. против 88665 руб.).\n",
    "* По общему результату - сумме покупок - вариант B лучше варианта A (1533 млн. руб. против 1417 млн. руб.)"
   ]
  },
  {
   "cell_type": "markdown",
   "metadata": {},
   "source": [
    "##### Сравним варианты A/B по покупательской способности каждого из туров. Для этого постройте сводную таблицу, которая покажет зависимость количества продаж от группы и цены тура. "
   ]
  },
  {
   "cell_type": "code",
   "execution_count": 10,
   "metadata": {},
   "outputs": [
    {
     "data": {
      "text/html": [
       "<div>\n",
       "<style scoped>\n",
       "    .dataframe tbody tr th:only-of-type {\n",
       "        vertical-align: middle;\n",
       "    }\n",
       "\n",
       "    .dataframe tbody tr th {\n",
       "        vertical-align: top;\n",
       "    }\n",
       "\n",
       "    .dataframe thead th {\n",
       "        text-align: right;\n",
       "    }\n",
       "</style>\n",
       "<table border=\"1\" class=\"dataframe\">\n",
       "  <thead>\n",
       "    <tr style=\"text-align: right;\">\n",
       "      <th>price</th>\n",
       "      <th>10000</th>\n",
       "      <th>60000</th>\n",
       "      <th>100000</th>\n",
       "      <th>150000</th>\n",
       "      <th>200000</th>\n",
       "    </tr>\n",
       "    <tr>\n",
       "      <th>group</th>\n",
       "      <th></th>\n",
       "      <th></th>\n",
       "      <th></th>\n",
       "      <th></th>\n",
       "      <th></th>\n",
       "    </tr>\n",
       "  </thead>\n",
       "  <tbody>\n",
       "    <tr>\n",
       "      <th>A</th>\n",
       "      <td>5182</td>\n",
       "      <td>5271</td>\n",
       "      <td>1832</td>\n",
       "      <td>3478</td>\n",
       "      <td>1724</td>\n",
       "    </tr>\n",
       "    <tr>\n",
       "      <th>B</th>\n",
       "      <td>5201</td>\n",
       "      <td>1730</td>\n",
       "      <td>5227</td>\n",
       "      <td>3438</td>\n",
       "      <td>1694</td>\n",
       "    </tr>\n",
       "  </tbody>\n",
       "</table>\n",
       "</div>"
      ],
      "text/plain": [
       "price  10000   60000   100000  150000  200000\n",
       "group                                        \n",
       "A        5182    5271    1832    3478    1724\n",
       "B        5201    1730    5227    3438    1694"
      ]
     },
     "execution_count": 10,
     "metadata": {},
     "output_type": "execute_result"
    }
   ],
   "source": [
    "data_pivot = data[data['purchase'] == 1].pivot_table(   # оставляем в данных только строки с покупками\n",
    "    values='user_id',\n",
    "    index='group',\n",
    "    columns='price',\n",
    "    aggfunc='count'\n",
    ")\n",
    "\n",
    "data_pivot"
   ]
  },
  {
   "cell_type": "markdown",
   "metadata": {},
   "source": [
    "##### Визуализируем полученную сводную таблицу с помощью тепловой карты."
   ]
  },
  {
   "cell_type": "code",
   "execution_count": 11,
   "metadata": {},
   "outputs": [
    {
     "data": {
      "image/png": "[encoded data removed]",
      "text/plain": [
       "<Figure size 1600x800 with 2 Axes>"
      ]
     },
     "metadata": {},
     "output_type": "display_data"
    }
   ],
   "source": [
    "# Формируем полотно\n",
    "fig, ax = plt.subplots(figsize=(16, 8))\n",
    "\n",
    "# Строим график\n",
    "heatmap = sns.heatmap(\n",
    "    data=data_pivot, \n",
    "    annot=True, \n",
    "    fmt='d',\n",
    "    cmap='coolwarm', \n",
    "    square=True,\n",
    "    linewidths=0.1,\n",
    "    ax=ax\n",
    ")\n",
    "\n",
    "# Поворот меток по оси ординат\n",
    "plt.yticks(rotation=0)\n",
    "\n",
    "# Подписи осей и заголовок графика\n",
    "ax.set(\n",
    "    xlabel='Стоимость тура',\n",
    "    ylabel='Группа',\n",
    "    title='Тепловая карта покупательной способности туров'\n",
    ");"
   ]
  },
  {
   "cell_type": "markdown",
   "metadata": {},
   "source": [
    "#### Вывод:\n",
    "* Покупательская способность примерно идентична в рамках следующих направлений:\n",
    "    * Санкт-Петербург (10000),\n",
    "    * Камчатка (150000),\n",
    "    * Мальдивы (200000);\n",
    "* Покупательская способность в группе A выше в направлении Турция (60000);\n",
    "* Покупательская способность в группе B выше в направлении Тайланд (100000)."
   ]
  },
  {
   "cell_type": "markdown",
   "metadata": {},
   "source": [
    "### <center>3. Проанализируем данные на предмет стабилизации метрик</center>"
   ]
  },
  {
   "cell_type": "markdown",
   "metadata": {},
   "source": [
    "##### Сгруппируем данные по дате и группе тестирования и построим таблицу с ежедневными данными результатов проведения A/B-тестирования. В каждой группе вычислим ежедневные показатели:\n",
    "* количество посещений страницы;\n",
    "* количество покупок;\n",
    "* сумму покупок."
   ]
  },
  {
   "cell_type": "code",
   "execution_count": 12,
   "metadata": {},
   "outputs": [
    {
     "data": {
      "text/html": [
       "<div>\n",
       "<style scoped>\n",
       "    .dataframe tbody tr th:only-of-type {\n",
       "        vertical-align: middle;\n",
       "    }\n",
       "\n",
       "    .dataframe tbody tr th {\n",
       "        vertical-align: top;\n",
       "    }\n",
       "\n",
       "    .dataframe thead th {\n",
       "        text-align: right;\n",
       "    }\n",
       "</style>\n",
       "<table border=\"1\" class=\"dataframe\">\n",
       "  <thead>\n",
       "    <tr style=\"text-align: right;\">\n",
       "      <th></th>\n",
       "      <th>date</th>\n",
       "      <th>group</th>\n",
       "      <th>count_visits</th>\n",
       "      <th>count_purchase</th>\n",
       "      <th>sum_price</th>\n",
       "    </tr>\n",
       "  </thead>\n",
       "  <tbody>\n",
       "    <tr>\n",
       "      <th>0</th>\n",
       "      <td>2021-01-02</td>\n",
       "      <td>A</td>\n",
       "      <td>2854</td>\n",
       "      <td>359</td>\n",
       "      <td>29410000</td>\n",
       "    </tr>\n",
       "    <tr>\n",
       "      <th>1</th>\n",
       "      <td>2021-01-02</td>\n",
       "      <td>B</td>\n",
       "      <td>2861</td>\n",
       "      <td>345</td>\n",
       "      <td>29660000</td>\n",
       "    </tr>\n",
       "    <tr>\n",
       "      <th>2</th>\n",
       "      <td>2021-01-03</td>\n",
       "      <td>A</td>\n",
       "      <td>6596</td>\n",
       "      <td>748</td>\n",
       "      <td>62000000</td>\n",
       "    </tr>\n",
       "    <tr>\n",
       "      <th>3</th>\n",
       "      <td>2021-01-03</td>\n",
       "      <td>B</td>\n",
       "      <td>6619</td>\n",
       "      <td>754</td>\n",
       "      <td>65960000</td>\n",
       "    </tr>\n",
       "    <tr>\n",
       "      <th>4</th>\n",
       "      <td>2021-01-04</td>\n",
       "      <td>A</td>\n",
       "      <td>6566</td>\n",
       "      <td>799</td>\n",
       "      <td>64250000</td>\n",
       "    </tr>\n",
       "  </tbody>\n",
       "</table>\n",
       "</div>"
      ],
      "text/plain": [
       "        date group  count_visits  count_purchase  sum_price\n",
       "0 2021-01-02     A          2854             359   29410000\n",
       "1 2021-01-02     B          2861             345   29660000\n",
       "2 2021-01-03     A          6596             748   62000000\n",
       "3 2021-01-03     B          6619             754   65960000\n",
       "4 2021-01-04     A          6566             799   64250000"
      ]
     },
     "execution_count": 12,
     "metadata": {},
     "output_type": "execute_result"
    }
   ],
   "source": [
    "data_daily = data.groupby(['date', 'group']).agg({\n",
    "    'user_id':'count',\n",
    "    'purchase':'sum',\n",
    "    'price':'sum'\n",
    "}).reset_index().rename(columns={\n",
    "    'user_id':'count_visits',\n",
    "    'purchase':'count_purchase',\n",
    "    'price':'sum_price'\n",
    "})\n",
    "\n",
    "data_daily.head()"
   ]
  },
  {
   "cell_type": "markdown",
   "metadata": {},
   "source": [
    "##### Добавим в таблицу информацию о ежедневной конверсии (ежедневное количество покупок / ежедневное количество посещений) в группе и о ежедневном среднем чеке (ежедневная сумма покупок / ежедневное количество покупок)."
   ]
  },
  {
   "cell_type": "code",
   "execution_count": 13,
   "metadata": {},
   "outputs": [
    {
     "data": {
      "text/html": [
       "<div>\n",
       "<style scoped>\n",
       "    .dataframe tbody tr th:only-of-type {\n",
       "        vertical-align: middle;\n",
       "    }\n",
       "\n",
       "    .dataframe tbody tr th {\n",
       "        vertical-align: top;\n",
       "    }\n",
       "\n",
       "    .dataframe thead th {\n",
       "        text-align: right;\n",
       "    }\n",
       "</style>\n",
       "<table border=\"1\" class=\"dataframe\">\n",
       "  <thead>\n",
       "    <tr style=\"text-align: right;\">\n",
       "      <th></th>\n",
       "      <th>date</th>\n",
       "      <th>group</th>\n",
       "      <th>count_visits</th>\n",
       "      <th>count_purchase</th>\n",
       "      <th>sum_price</th>\n",
       "      <th>conversion</th>\n",
       "      <th>mean_check</th>\n",
       "    </tr>\n",
       "  </thead>\n",
       "  <tbody>\n",
       "    <tr>\n",
       "      <th>0</th>\n",
       "      <td>2021-01-02</td>\n",
       "      <td>A</td>\n",
       "      <td>2854</td>\n",
       "      <td>359</td>\n",
       "      <td>29410000</td>\n",
       "      <td>12.58</td>\n",
       "      <td>81922.01</td>\n",
       "    </tr>\n",
       "    <tr>\n",
       "      <th>1</th>\n",
       "      <td>2021-01-02</td>\n",
       "      <td>B</td>\n",
       "      <td>2861</td>\n",
       "      <td>345</td>\n",
       "      <td>29660000</td>\n",
       "      <td>12.06</td>\n",
       "      <td>85971.01</td>\n",
       "    </tr>\n",
       "    <tr>\n",
       "      <th>2</th>\n",
       "      <td>2021-01-03</td>\n",
       "      <td>A</td>\n",
       "      <td>6596</td>\n",
       "      <td>748</td>\n",
       "      <td>62000000</td>\n",
       "      <td>11.34</td>\n",
       "      <td>82887.70</td>\n",
       "    </tr>\n",
       "    <tr>\n",
       "      <th>3</th>\n",
       "      <td>2021-01-03</td>\n",
       "      <td>B</td>\n",
       "      <td>6619</td>\n",
       "      <td>754</td>\n",
       "      <td>65960000</td>\n",
       "      <td>11.39</td>\n",
       "      <td>87480.11</td>\n",
       "    </tr>\n",
       "    <tr>\n",
       "      <th>4</th>\n",
       "      <td>2021-01-04</td>\n",
       "      <td>A</td>\n",
       "      <td>6566</td>\n",
       "      <td>799</td>\n",
       "      <td>64250000</td>\n",
       "      <td>12.17</td>\n",
       "      <td>80413.02</td>\n",
       "    </tr>\n",
       "  </tbody>\n",
       "</table>\n",
       "</div>"
      ],
      "text/plain": [
       "        date group  count_visits  count_purchase  sum_price  conversion   \n",
       "0 2021-01-02     A          2854             359   29410000       12.58  \\\n",
       "1 2021-01-02     B          2861             345   29660000       12.06   \n",
       "2 2021-01-03     A          6596             748   62000000       11.34   \n",
       "3 2021-01-03     B          6619             754   65960000       11.39   \n",
       "4 2021-01-04     A          6566             799   64250000       12.17   \n",
       "\n",
       "   mean_check  \n",
       "0    81922.01  \n",
       "1    85971.01  \n",
       "2    82887.70  \n",
       "3    87480.11  \n",
       "4    80413.02  "
      ]
     },
     "execution_count": 13,
     "metadata": {},
     "output_type": "execute_result"
    }
   ],
   "source": [
    "data_daily['conversion'] = round(data_daily['count_purchase'] / data_daily['count_visits'] * 100, 2)\n",
    "data_daily['mean_check'] = round(data_daily['sum_price'] / data_daily['count_purchase'], 2)\n",
    "\n",
    "data_daily.head()"
   ]
  },
  {
   "cell_type": "markdown",
   "metadata": {},
   "source": [
    "##### Рассчитаем кумулятивные показатели:\n",
    "* кумулятивное количество посещений страницы;\n",
    "* кумулятивное количество покупок;\n",
    "* кумулятивную сумму покупок."
   ]
  },
  {
   "cell_type": "code",
   "execution_count": 14,
   "metadata": {},
   "outputs": [
    {
     "data": {
      "text/html": [
       "<div>\n",
       "<style scoped>\n",
       "    .dataframe tbody tr th:only-of-type {\n",
       "        vertical-align: middle;\n",
       "    }\n",
       "\n",
       "    .dataframe tbody tr th {\n",
       "        vertical-align: top;\n",
       "    }\n",
       "\n",
       "    .dataframe thead th {\n",
       "        text-align: right;\n",
       "    }\n",
       "</style>\n",
       "<table border=\"1\" class=\"dataframe\">\n",
       "  <thead>\n",
       "    <tr style=\"text-align: right;\">\n",
       "      <th></th>\n",
       "      <th>date</th>\n",
       "      <th>group</th>\n",
       "      <th>count_visits</th>\n",
       "      <th>count_purchase</th>\n",
       "      <th>sum_price</th>\n",
       "      <th>conversion</th>\n",
       "      <th>mean_check</th>\n",
       "      <th>cum_count_visits</th>\n",
       "      <th>cum_count_purchase</th>\n",
       "      <th>cum_sum_price</th>\n",
       "    </tr>\n",
       "  </thead>\n",
       "  <tbody>\n",
       "    <tr>\n",
       "      <th>0</th>\n",
       "      <td>2021-01-02</td>\n",
       "      <td>A</td>\n",
       "      <td>2854</td>\n",
       "      <td>359</td>\n",
       "      <td>29410000</td>\n",
       "      <td>12.58</td>\n",
       "      <td>81922.01</td>\n",
       "      <td>2854</td>\n",
       "      <td>359</td>\n",
       "      <td>29410000</td>\n",
       "    </tr>\n",
       "    <tr>\n",
       "      <th>1</th>\n",
       "      <td>2021-01-02</td>\n",
       "      <td>B</td>\n",
       "      <td>2861</td>\n",
       "      <td>345</td>\n",
       "      <td>29660000</td>\n",
       "      <td>12.06</td>\n",
       "      <td>85971.01</td>\n",
       "      <td>2861</td>\n",
       "      <td>345</td>\n",
       "      <td>29660000</td>\n",
       "    </tr>\n",
       "    <tr>\n",
       "      <th>2</th>\n",
       "      <td>2021-01-03</td>\n",
       "      <td>A</td>\n",
       "      <td>6596</td>\n",
       "      <td>748</td>\n",
       "      <td>62000000</td>\n",
       "      <td>11.34</td>\n",
       "      <td>82887.70</td>\n",
       "      <td>9450</td>\n",
       "      <td>1107</td>\n",
       "      <td>91410000</td>\n",
       "    </tr>\n",
       "    <tr>\n",
       "      <th>3</th>\n",
       "      <td>2021-01-03</td>\n",
       "      <td>B</td>\n",
       "      <td>6619</td>\n",
       "      <td>754</td>\n",
       "      <td>65960000</td>\n",
       "      <td>11.39</td>\n",
       "      <td>87480.11</td>\n",
       "      <td>9480</td>\n",
       "      <td>1099</td>\n",
       "      <td>95620000</td>\n",
       "    </tr>\n",
       "    <tr>\n",
       "      <th>4</th>\n",
       "      <td>2021-01-04</td>\n",
       "      <td>A</td>\n",
       "      <td>6566</td>\n",
       "      <td>799</td>\n",
       "      <td>64250000</td>\n",
       "      <td>12.17</td>\n",
       "      <td>80413.02</td>\n",
       "      <td>16016</td>\n",
       "      <td>1906</td>\n",
       "      <td>155660000</td>\n",
       "    </tr>\n",
       "  </tbody>\n",
       "</table>\n",
       "</div>"
      ],
      "text/plain": [
       "        date group  count_visits  count_purchase  sum_price  conversion   \n",
       "0 2021-01-02     A          2854             359   29410000       12.58  \\\n",
       "1 2021-01-02     B          2861             345   29660000       12.06   \n",
       "2 2021-01-03     A          6596             748   62000000       11.34   \n",
       "3 2021-01-03     B          6619             754   65960000       11.39   \n",
       "4 2021-01-04     A          6566             799   64250000       12.17   \n",
       "\n",
       "   mean_check  cum_count_visits  cum_count_purchase  cum_sum_price  \n",
       "0    81922.01              2854                 359       29410000  \n",
       "1    85971.01              2861                 345       29660000  \n",
       "2    82887.70              9450                1107       91410000  \n",
       "3    87480.11              9480                1099       95620000  \n",
       "4    80413.02             16016                1906      155660000  "
      ]
     },
     "execution_count": 14,
     "metadata": {},
     "output_type": "execute_result"
    }
   ],
   "source": [
    "data_daily['cum_count_visits'] = data_daily.groupby(['group'])['count_visits'].cumsum()\n",
    "data_daily['cum_count_purchase'] = data_daily.groupby(['group'])['count_purchase'].cumsum()\n",
    "data_daily['cum_sum_price'] = data_daily.groupby(['group'])['sum_price'].cumsum()\n",
    "\n",
    "data_daily.head()"
   ]
  },
  {
   "cell_type": "markdown",
   "metadata": {},
   "source": [
    "##### На основе полученных кумулятивных показателей вычислим кумулятивную конверсию и кумулятивный средний чек."
   ]
  },
  {
   "cell_type": "code",
   "execution_count": 15,
   "metadata": {},
   "outputs": [
    {
     "data": {
      "text/html": [
       "<div>\n",
       "<style scoped>\n",
       "    .dataframe tbody tr th:only-of-type {\n",
       "        vertical-align: middle;\n",
       "    }\n",
       "\n",
       "    .dataframe tbody tr th {\n",
       "        vertical-align: top;\n",
       "    }\n",
       "\n",
       "    .dataframe thead th {\n",
       "        text-align: right;\n",
       "    }\n",
       "</style>\n",
       "<table border=\"1\" class=\"dataframe\">\n",
       "  <thead>\n",
       "    <tr style=\"text-align: right;\">\n",
       "      <th></th>\n",
       "      <th>date</th>\n",
       "      <th>group</th>\n",
       "      <th>count_visits</th>\n",
       "      <th>count_purchase</th>\n",
       "      <th>sum_price</th>\n",
       "      <th>conversion</th>\n",
       "      <th>mean_check</th>\n",
       "      <th>cum_count_visits</th>\n",
       "      <th>cum_count_purchase</th>\n",
       "      <th>cum_sum_price</th>\n",
       "      <th>cum_conversion</th>\n",
       "      <th>cum_mean_check</th>\n",
       "    </tr>\n",
       "  </thead>\n",
       "  <tbody>\n",
       "    <tr>\n",
       "      <th>0</th>\n",
       "      <td>2021-01-02</td>\n",
       "      <td>A</td>\n",
       "      <td>2854</td>\n",
       "      <td>359</td>\n",
       "      <td>29410000</td>\n",
       "      <td>12.58</td>\n",
       "      <td>81922.01</td>\n",
       "      <td>2854</td>\n",
       "      <td>359</td>\n",
       "      <td>29410000</td>\n",
       "      <td>12.58</td>\n",
       "      <td>81922.01</td>\n",
       "    </tr>\n",
       "    <tr>\n",
       "      <th>1</th>\n",
       "      <td>2021-01-02</td>\n",
       "      <td>B</td>\n",
       "      <td>2861</td>\n",
       "      <td>345</td>\n",
       "      <td>29660000</td>\n",
       "      <td>12.06</td>\n",
       "      <td>85971.01</td>\n",
       "      <td>2861</td>\n",
       "      <td>345</td>\n",
       "      <td>29660000</td>\n",
       "      <td>12.06</td>\n",
       "      <td>85971.01</td>\n",
       "    </tr>\n",
       "    <tr>\n",
       "      <th>2</th>\n",
       "      <td>2021-01-03</td>\n",
       "      <td>A</td>\n",
       "      <td>6596</td>\n",
       "      <td>748</td>\n",
       "      <td>62000000</td>\n",
       "      <td>11.34</td>\n",
       "      <td>82887.70</td>\n",
       "      <td>9450</td>\n",
       "      <td>1107</td>\n",
       "      <td>91410000</td>\n",
       "      <td>11.71</td>\n",
       "      <td>82574.53</td>\n",
       "    </tr>\n",
       "    <tr>\n",
       "      <th>3</th>\n",
       "      <td>2021-01-03</td>\n",
       "      <td>B</td>\n",
       "      <td>6619</td>\n",
       "      <td>754</td>\n",
       "      <td>65960000</td>\n",
       "      <td>11.39</td>\n",
       "      <td>87480.11</td>\n",
       "      <td>9480</td>\n",
       "      <td>1099</td>\n",
       "      <td>95620000</td>\n",
       "      <td>11.59</td>\n",
       "      <td>87006.37</td>\n",
       "    </tr>\n",
       "    <tr>\n",
       "      <th>4</th>\n",
       "      <td>2021-01-04</td>\n",
       "      <td>A</td>\n",
       "      <td>6566</td>\n",
       "      <td>799</td>\n",
       "      <td>64250000</td>\n",
       "      <td>12.17</td>\n",
       "      <td>80413.02</td>\n",
       "      <td>16016</td>\n",
       "      <td>1906</td>\n",
       "      <td>155660000</td>\n",
       "      <td>11.90</td>\n",
       "      <td>81668.42</td>\n",
       "    </tr>\n",
       "  </tbody>\n",
       "</table>\n",
       "</div>"
      ],
      "text/plain": [
       "        date group  count_visits  count_purchase  sum_price  conversion   \n",
       "0 2021-01-02     A          2854             359   29410000       12.58  \\\n",
       "1 2021-01-02     B          2861             345   29660000       12.06   \n",
       "2 2021-01-03     A          6596             748   62000000       11.34   \n",
       "3 2021-01-03     B          6619             754   65960000       11.39   \n",
       "4 2021-01-04     A          6566             799   64250000       12.17   \n",
       "\n",
       "   mean_check  cum_count_visits  cum_count_purchase  cum_sum_price   \n",
       "0    81922.01              2854                 359       29410000  \\\n",
       "1    85971.01              2861                 345       29660000   \n",
       "2    82887.70              9450                1107       91410000   \n",
       "3    87480.11              9480                1099       95620000   \n",
       "4    80413.02             16016                1906      155660000   \n",
       "\n",
       "   cum_conversion  cum_mean_check  \n",
       "0           12.58        81922.01  \n",
       "1           12.06        85971.01  \n",
       "2           11.71        82574.53  \n",
       "3           11.59        87006.37  \n",
       "4           11.90        81668.42  "
      ]
     },
     "execution_count": 15,
     "metadata": {},
     "output_type": "execute_result"
    }
   ],
   "source": [
    "data_daily['cum_conversion'] = round(data_daily['cum_count_purchase'] / data_daily['cum_count_visits'] * 100, 2)\n",
    "data_daily['cum_mean_check'] = round(data_daily['cum_sum_price'] / data_daily['cum_count_purchase'], 2)\n",
    "\n",
    "data_daily.head()"
   ]
  },
  {
   "cell_type": "markdown",
   "metadata": {},
   "source": [
    "##### Построим кумулятивные графики конверсии и среднего чека в каждой группе по дням."
   ]
  },
  {
   "cell_type": "code",
   "execution_count": 16,
   "metadata": {},
   "outputs": [
    {
     "data": {
      "image/png": "[encoded data removed]",
      "text/plain": [
       "<Figure size 1600x800 with 2 Axes>"
      ]
     },
     "metadata": {},
     "output_type": "display_data"
    }
   ],
   "source": [
    "# Формируем полотно\n",
    "fig, ax = plt.subplots(nrows=2, ncols=1, figsize=(16, 8), sharex='row')\n",
    "\n",
    "# Строим графики\n",
    "sns.lineplot(\n",
    "    data=data_daily,\n",
    "    x='date',\n",
    "    y='cum_conversion',\n",
    "    hue='group',\n",
    "    ax=ax[0],\n",
    "    palette='bright'\n",
    ")\n",
    "sns.lineplot(\n",
    "    data=data_daily,\n",
    "    x='date',\n",
    "    y='cum_mean_check',\n",
    "    hue='group',\n",
    "    ax=ax[1],\n",
    "    palette='bright'\n",
    ")\n",
    "\n",
    "# Подписи осей, заголовка графика и легенды\n",
    "ax[0].legend(title='Группа')\n",
    "ax[0].set(xticklabels=[], xlabel='', ylabel='Кумулятивная конверсия', title='График кумулятивной конверсии')\n",
    "ax[0].grid(True)\n",
    "\n",
    "ax[1].legend(title='Группа', loc='center right')\n",
    "ax[1].set(xlabel='Дата', ylabel='Кумулятивный средний чек' , title='График кумулятивного среднего чека')\n",
    "ax[1].grid(True);\n",
    "ax[1].xaxis.set_tick_params(rotation=45);"
   ]
  },
  {
   "cell_type": "markdown",
   "metadata": {},
   "source": [
    "#### Вывод:\n",
    "* До 2021-01-11 кумулятивные метрики были нестабильны, но после 2021-01-13 резкие скачки прекратились (кривые графиков переходят в прямые).\n",
    "* Судя по графику кумулятивной конверсии, конверсия группы B стабильно хуже конверсии группы A на всем промежутке времени.\n",
    "* По графику кумулятивного среднего чека видно, что средний чек в группе A намного меньше среднего чека в группе B.\n",
    "* На основании стабилизированного кумулятивного графика можно сделать вывод, что длительность эксперимента была достаточной для того, чтобы судить о статистической значимости разности между показателем конверсии в группах. Значит, пора переходить к проведению статистических тестов."
   ]
  },
  {
   "cell_type": "markdown",
   "metadata": {},
   "source": [
    "### <center>4. Проведем статистический анализ результатов A/B-тестирования</center>"
   ]
  },
  {
   "cell_type": "markdown",
   "metadata": {},
   "source": [
    "##### Определим, есть ли статистическая разница между конверсиями в группах А и B.\n",
    "##### Проведем тестирование при следующих нулевой и альтернативной гипотезе:\n",
    "* $H_0$: Конверсии в группах А и B равны; \n",
    "* $H_1$: Конверсия в группе А больше чем конверсия в группе B.\n",
    "##### Для опеределения статистической разницы применим z-тест (<i>proportions_ztest()</i>), т.к.:\n",
    "* сравниваются конверсии (пропорции) по двум выборкам;\n",
    "* число наблюдений достаточно велико.\n",
    "##### Уровень значимости выберем $\\alpha$=0.05. "
   ]
  },
  {
   "cell_type": "markdown",
   "metadata": {},
   "source": [
    "##### Но прежде проверим данные на нормальность.\n",
    "##### Для этого применим критерий Шапиро — Уилка (функция <i>shapiro()</i>).\n",
    "##### Проверим следующие гипотезы:\n",
    "* $H_0$: Распределение выборки нормальное;\n",
    "* $H_1$: Распределение выборки отлично от нормального.\n",
    "##### Уровень значимости выберем $\\alpha$=0.05."
   ]
  },
  {
   "cell_type": "code",
   "execution_count": 17,
   "metadata": {},
   "outputs": [
    {
     "name": "stdout",
     "output_type": "stream",
     "text": [
      "p-value 0.39\n",
      "Принимаем нулевую гипотезу: Распределение выборки нормальное\n"
     ]
    }
   ],
   "source": [
    "# Проверка данных на нормальность\n",
    "\n",
    "# Нулевая и альтернативная гипотезы\n",
    "H0 = 'Распределение выборки нормальное'\n",
    "H1 = 'Распределение выборки отлично от нормального'\n",
    "\n",
    "# Уровень значимости\n",
    "alpha = 0.05\n",
    "\n",
    "# Вычисляем результат теста Шапиро — Уилка\n",
    "shapiro_result = shapiro(data_daily['conversion'])\n",
    "\n",
    "# Выводим результат на экран\n",
    "print('p-value', round(shapiro_result.pvalue, 2))\n",
    "\n",
    "# Сравниваем полученное p-value с уровнем значимости\n",
    "if shapiro_result.pvalue <= alpha:\n",
    "    print(f\"Отвергаем нулевую гипотезу в пользу альтернативной\")\n",
    "    print(f\"Альтернативная гипотеза: {H1}\")\n",
    "else:\n",
    "    print(f\"Принимаем нулевую гипотезу: {H0}\")"
   ]
  },
  {
   "cell_type": "code",
   "execution_count": 18,
   "metadata": {},
   "outputs": [
    {
     "data": {
      "text/html": [
       "<div>\n",
       "<style scoped>\n",
       "    .dataframe tbody tr th:only-of-type {\n",
       "        vertical-align: middle;\n",
       "    }\n",
       "\n",
       "    .dataframe tbody tr th {\n",
       "        vertical-align: top;\n",
       "    }\n",
       "\n",
       "    .dataframe thead th {\n",
       "        text-align: right;\n",
       "    }\n",
       "</style>\n",
       "<table border=\"1\" class=\"dataframe\">\n",
       "  <thead>\n",
       "    <tr style=\"text-align: right;\">\n",
       "      <th></th>\n",
       "      <th>sum</th>\n",
       "      <th>count</th>\n",
       "    </tr>\n",
       "    <tr>\n",
       "      <th>group</th>\n",
       "      <th></th>\n",
       "      <th></th>\n",
       "    </tr>\n",
       "  </thead>\n",
       "  <tbody>\n",
       "    <tr>\n",
       "      <th>A</th>\n",
       "      <td>17487</td>\n",
       "      <td>145307</td>\n",
       "    </tr>\n",
       "    <tr>\n",
       "      <th>B</th>\n",
       "      <td>17290</td>\n",
       "      <td>145381</td>\n",
       "    </tr>\n",
       "  </tbody>\n",
       "</table>\n",
       "</div>"
      ],
      "text/plain": [
       "         sum   count\n",
       "group               \n",
       "A      17487  145307\n",
       "B      17290  145381"
      ]
     },
     "execution_count": 18,
     "metadata": {},
     "output_type": "execute_result"
    }
   ],
   "source": [
    "# Cгруппируем таблицу data по признаку группы и рассчитаем количество «успехов» и общее количество наблюдений для каждой группы\n",
    "\n",
    "conversion_piv= data.groupby(by=['group'])['purchase'].agg(\n",
    "    ['sum', 'count']\n",
    ")\n",
    "\n",
    "conversion_piv"
   ]
  },
  {
   "cell_type": "code",
   "execution_count": 19,
   "metadata": {},
   "outputs": [
    {
     "name": "stdout",
     "output_type": "stream",
     "text": [
      "p-value: 0.12\n",
      "Принимаем нулевую гипотезу: Конверсии в группах А и B равны\n"
     ]
    }
   ],
   "source": [
    "# Статистический анализ A/B тестирования\n",
    "\n",
    "# Нулевая и альтернативная гипотезы\n",
    "H0 = 'Конверсии в группах А и B равны'\n",
    "H1 = 'Конверсия в группе А выше, чем конверсия в группе B'\n",
    "\n",
    "# Уровень значимости\n",
    "alpha = 0.05\n",
    "\n",
    "# Вычисляем значение P-value для z-теста для пропорций\n",
    "_, p_value = proportions_ztest(\n",
    "    count=conversion_piv['sum'],  # число \"успехов\"\n",
    "    nobs=conversion_piv['count'], # общее число наблюдений\n",
    "    alternative='larger', # правосторонняя альтернативная гипотеза\n",
    ")\n",
    "\n",
    "# Выводим результат на экран\n",
    "print('p-value:', round(p_value, 2))\n",
    "\n",
    "# Сравниваем полученное p-value с уровнем значимости\n",
    "if (p_value < alpha):\n",
    "    print(f\"Отвергаем нулевую гипотезу в пользу альтернативной\")\n",
    "    print(f\"Альтернативная гипотеза: {H1}\")\n",
    "else:\n",
    "    print(f\"Принимаем нулевую гипотезу: {H0}\")"
   ]
  },
  {
   "cell_type": "markdown",
   "metadata": {},
   "source": [
    "#### Вывод:\n",
    "##### С помощью статистических тестов удалось выяснить следующее:\n",
    "* данные распределены нормально;\n",
    "* конверсии в группах A и B равны."
   ]
  },
  {
   "cell_type": "markdown",
   "metadata": {},
   "source": [
    "##### Проверим гипотезу о нормальности распределения ежедневного среднего чека в каждой из групп тестирования. \n",
    "##### Для этого применим критерий Шапиро — Уилка (функция <i>shapiro()</i>).\n",
    "##### Проверим следующие гипотезы:\n",
    "* $H_0$: Распределение выборки нормальное;\n",
    "* $H_1$: Распределение выборки отлично от нормального.\n",
    "##### Уровень значимости выберем $\\alpha$=0.05."
   ]
  },
  {
   "cell_type": "code",
   "execution_count": 20,
   "metadata": {},
   "outputs": [],
   "source": [
    "# Фильтруем данные группы А\n",
    "data_daily_a = data_daily[data_daily['group'] == 'A']\n",
    "\n",
    "# Фильтруем данные группы B\n",
    "data_daily_b = data_daily[data_daily['group'] == 'B']"
   ]
  },
  {
   "cell_type": "code",
   "execution_count": 21,
   "metadata": {},
   "outputs": [
    {
     "name": "stdout",
     "output_type": "stream",
     "text": [
      "p-value группы A 0.25\n",
      "p-value группы B 0.09\n",
      "Для группы A: Распределение выборки нормальное\n",
      "Для группы B: Распределение выборки нормальное\n"
     ]
    }
   ],
   "source": [
    "# Проверка данных на нормальность\n",
    "\n",
    "# Нулевая и альтернативная гипотезы\n",
    "H0 = 'Распределение выборки нормальное'\n",
    "H1 = 'Распределение выборки отлично от нормального'\n",
    "\n",
    "# Уровень значимости\n",
    "alpha = 0.05\n",
    "\n",
    "# Вычисляем результат теста Шапиро — Уилка\n",
    "shapiro_result_a = shapiro(data_daily_a['mean_check'])\n",
    "shapiro_result_b = shapiro(data_daily_b['mean_check'])\n",
    "\n",
    "# Выводим результат на экран\n",
    "print('p-value группы A', round(shapiro_result_a.pvalue, 2))\n",
    "print('p-value группы B', round(shapiro_result_b.pvalue, 2))\n",
    "\n",
    "# Сравниваем полученное p-value с уровнем значимости\n",
    "if shapiro_result_a.pvalue > alpha:\n",
    "    print(f'Для группы A: {H0}')\n",
    "else:\n",
    "    print(f'Для группы A: {H1}')\n",
    "\n",
    "if shapiro_result_b.pvalue > alpha:\n",
    "    print(f'Для группы B: {H0}')\n",
    "else:\n",
    "    print(f'Для группы B: {H1}')"
   ]
  },
  {
   "cell_type": "markdown",
   "metadata": {},
   "source": [
    "##### Определим, есть ли статистическая разница между ежедневными средними чеками в группах А и B.\n",
    "##### Проведем тестирование при следующих нулевой и альтернативной гипотезе:\n",
    "* $H_0$: Ежедневные средние чеки в группах А и B равны; \n",
    "* $H_1$: Ежедневный средний чек в группе А меньше чем в группе B.\n",
    "##### Для опеределения статистической разницы применим t-тест (<i>ttest_ind()</i>), т.к.:\n",
    "* распределение признака нормальное;\n",
    "* cравниваются только две группы;\n",
    "* количество объектов в выборке не больше 30.\n",
    "##### Уровень значимости выберем $\\alpha$=0.05."
   ]
  },
  {
   "cell_type": "code",
   "execution_count": 22,
   "metadata": {},
   "outputs": [
    {
     "name": "stdout",
     "output_type": "stream",
     "text": [
      "p-value: 0.0\n",
      "Отвергаем нулевую гипотезу в пользу альтернативной\n",
      "Альтернативная гипотеза: Ежедневный средний чек в группе А меньше, чем в группе B\n"
     ]
    }
   ],
   "source": [
    "# Нулевая и альтернативная гипотезы\n",
    "H0 = 'Ежедневные средние чеки в группах А и B равны'\n",
    "H1 = 'Ежедневный средний чек в группе А меньше, чем в группе B'\n",
    "\n",
    "# Уровень значимости\n",
    "alpha = 0.05 \n",
    "\n",
    "# Вычисляем результат t-теста для выборок\n",
    "result = ttest_ind(\n",
    "    data_daily_a['mean_check'],\n",
    "    data_daily_b['mean_check'],\n",
    "    alternative='less'\n",
    ")\n",
    "\n",
    "# Выводим результат на экран\n",
    "print('p-value:', round(result.pvalue, 2))\n",
    "\n",
    "# Сравниваем полученное p-value с уровнем значимости\n",
    "if result.pvalue < alpha:\n",
    "    print(f\"Отвергаем нулевую гипотезу в пользу альтернативной\")\n",
    "    print(f\"Альтернативная гипотеза: {H1}\")\n",
    "else:\n",
    "    print(f\"Принимаем нулевую гипотезу: {H0}\")"
   ]
  },
  {
   "cell_type": "markdown",
   "metadata": {},
   "source": [
    "#### Вывод:\n",
    "##### С помощью статистических тестов удалось выяснить следующее:\n",
    "* данные распределены нормально;\n",
    "* ежедневный средний чек в группе A меньше, чем в группе B."
   ]
  },
  {
   "cell_type": "markdown",
   "metadata": {},
   "source": [
    "##### Подкрепим результаты статистических тестов, построив 95 % доверительные интервалы для:\n",
    "* конверсий в каждой из групп;\n",
    "* разницы конверсий в группах;\n",
    "* ежедневного среднего чека в каждой из групп."
   ]
  },
  {
   "cell_type": "code",
   "execution_count": 23,
   "metadata": {},
   "outputs": [],
   "source": [
    "# Функция для расчета 95 % доверительного интервала для конверсий в каждой из групп\n",
    "\n",
    "def proportions_conf_interval(n, X_p, gamma=0.95):\n",
    "  \n",
    "    # Уровень значимости\n",
    "    alpha = 1 - gamma\n",
    "\n",
    "    # z-критическое\n",
    "    z_crit = -stats.norm.ppf(alpha / 2)\n",
    "\n",
    "    # Погрешность\n",
    "    eps = z_crit * (X_p * (1 - X_p) / n) ** 0.5\n",
    "\n",
    "    # Левая (нижняя) граница\n",
    "    lower_bound = X_p - eps\n",
    "\n",
    "    # Правая (верхняя) граница\n",
    "    upper_bound = X_p + eps\n",
    "\n",
    "    # Возвращаем кортеж из округлённых границ интервала\n",
    "    return round(lower_bound * 100, 2), round(upper_bound * 100, 2)"
   ]
  },
  {
   "cell_type": "code",
   "execution_count": 24,
   "metadata": {},
   "outputs": [],
   "source": [
    "# Функция для расчета 95 % доверительного интервала для разницы конверсий в группах\n",
    "\n",
    "def diff_proportions_conf_interval(n, X_p, gamma=0.95):\n",
    "\n",
    "    # Уровень значимости\n",
    "    alpha = 1 - gamma\n",
    "\n",
    "    # Выборочная разница конверсий групп B и A\n",
    "    diff = X_p[1] - X_p[0]\n",
    "\n",
    "    # z-критическое\n",
    "    z_crit = -stats.norm.ppf(alpha / 2)\n",
    "\n",
    "    # Погрешность\n",
    "    eps = z_crit * (X_p[0] * (1 - X_p[0]) / n[0] + X_p[1] * (1 - X_p[1]) / n[1]) ** 0.5\n",
    "\n",
    "    # Левая (нижняя) граница\n",
    "    lower_bound = diff - eps\n",
    "\n",
    "    # Правая (верхняя) граница\n",
    "    upper_bound = diff + eps\n",
    "\n",
    "    # Возвращаем кортеж из округлённых границ интервала\n",
    "    return round(lower_bound *100, 2), round(upper_bound * 100, 2)"
   ]
  },
  {
   "cell_type": "code",
   "execution_count": 25,
   "metadata": {},
   "outputs": [],
   "source": [
    "# Функция для расчета 95 % доверительного интервала для ежедневного среднего чека в каждой из групп\n",
    "\n",
    "def t_crit_conf_interval(n, X_mean, X_std, gamma=0.95):\n",
    "\n",
    "    # Уровень значимости\n",
    "    alpha = 1 - gamma\n",
    "\n",
    "    # Число степеней свободы\n",
    "    k = n - 1\n",
    "\n",
    "    # t-критическое\n",
    "    t_crit = -stats.t.ppf(alpha / 2, k)\n",
    "\n",
    "    # Погрешность\n",
    "    eps = t_crit * X_std / (n ** 0.5)\n",
    "\n",
    "    # Левая (нижняя) граница\n",
    "    lower_bound = X_mean - eps\n",
    "\n",
    "    # Правая (верхняя) граница\n",
    "    upper_bound = X_mean + eps\n",
    "\n",
    "    # Возвращаем кортеж из округлённых границ интервала\n",
    "    return (round(lower_bound), round(upper_bound))"
   ]
  },
  {
   "cell_type": "code",
   "execution_count": 26,
   "metadata": {},
   "outputs": [],
   "source": [
    "# Фильтруем данные группы А\n",
    "data_a = data[data['group'] == 'A'].copy()\n",
    "\n",
    "# Фильтруем данные группы B\n",
    "data_b = data[data['group'] == 'B'].copy()"
   ]
  },
  {
   "cell_type": "code",
   "execution_count": 27,
   "metadata": {},
   "outputs": [
    {
     "name": "stdout",
     "output_type": "stream",
     "text": [
      "Доверительный интервал для конверсии группы А: (11.87, 12.2)\n",
      "Доверительный интервал для конверсии группы B: (11.73, 12.06)\n"
     ]
    }
   ],
   "source": [
    "# Расчёт двусторонних доверительных интервалов конверсии по группам\n",
    "conf_interval_a = proportions_conf_interval(\n",
    "    n = data_a['user_id'].count(),    # размер выборки\n",
    "    X_p = data_a['purchase'].mean()   # выборочная пропорция\n",
    ")\n",
    "conf_interval_b = proportions_conf_interval(\n",
    "    n = data_b['user_id'].count(),    # размер выборки\n",
    "    X_p = data_b['purchase'].mean()   # выборочная пропорция\n",
    ")\n",
    "\n",
    "print(f'Доверительный интервал для конверсии группы А: {conf_interval_a}')\n",
    "print(f'Доверительный интервал для конверсии группы B: {conf_interval_b}')"
   ]
  },
  {
   "cell_type": "code",
   "execution_count": 28,
   "metadata": {},
   "outputs": [
    {
     "name": "stdout",
     "output_type": "stream",
     "text": [
      "Доверительный интервал для разности конверсий: (-0.38, 0.09)\n"
     ]
    }
   ],
   "source": [
    "# Расчёт доверительного интервала разницы конверсии между группами\n",
    "\n",
    "# Размеры выборок групп А и B\n",
    "n = [data_a['user_id'].count(), data_b['user_id'].count()]\n",
    "\n",
    "# Выборочная пропорция групп A и B\n",
    "X_p = [data_a['purchase'].mean(), data_b['purchase'].mean()]\n",
    "\n",
    "# Строим доверительный интервал для разности конверсий\n",
    "diff_inverval = diff_proportions_conf_interval(n, X_p)\n",
    "\n",
    "print(f'Доверительный интервал для разности конверсий: {diff_inverval}')"
   ]
  },
  {
   "cell_type": "code",
   "execution_count": 29,
   "metadata": {},
   "outputs": [
    {
     "name": "stdout",
     "output_type": "stream",
     "text": [
      "Доверительный интервал среднего чека в группе А: (79630, 82308)\n",
      "Доверительный интервал среднего чека в группе B: (87626, 89526)\n"
     ]
    }
   ],
   "source": [
    "# Расчет доверительного интервала для ежедневного среднего чека в каждой из групп\n",
    "\n",
    "# Размер выборки\n",
    "n_a = data_daily_a['mean_check'].count()  \n",
    "n_b = data_daily_b['mean_check'].count()\n",
    "\n",
    "# Выборочное среднее\n",
    "mean_a = data_daily_a['mean_check'].mean()\n",
    "mean_b = data_daily_b['mean_check'].mean()\n",
    "\n",
    "# Выборочное стандартное отклонение\n",
    "std_a = data_daily_a['mean_check'].std()\n",
    "std_b = data_daily_b['mean_check'].std()\n",
    "\n",
    "print(f'Доверительный интервал среднего чека в группе А: {t_crit_conf_interval(n_a, mean_a, std_a)}')\n",
    "print(f'Доверительный интервал среднего чека в группе B: {t_crit_conf_interval(n_b, mean_b, std_b)}')"
   ]
  },
  {
   "cell_type": "markdown",
   "metadata": {},
   "source": [
    "#### Вывод:\n",
    "* Доверительные интервалы конверсий групп А и В пересекаются, что означает достаточно большую вероятность совпадения истинных конверсий каждой из групп.\n",
    "* Границы доверительного интервала разницы конверсий охватывает точку 0. Разница в конверсии с 95%-ой надёжностью может быть как положительной, так и отрицательной.\n",
    "* Исходя из выше сказанного можно сделать вывод, что статистической разницы в конверсии между вариантами А и B не существует, т.е. они являются равнозначными по данной метрике.\n",
    "* Интервал для среднего чека группы А лежит в диапазоне (79630, 82308).\n",
    "* Интервал для среднего чека группы B лежит в диапазоне (87626, 89526).\n",
    "* Т.е. доверительные интервалы средних чеков в группах не пересекаются, а значит с 95%-ной вероятностью можно сказать, что истинный средний чек группы В больше аналогичной метрики группы А, что подтверждает результат, ранее полученный при помощи статистического теста."
   ]
  },
  {
   "cell_type": "markdown",
   "metadata": {},
   "source": [
    "### <center>5. Сделайте общий вывод по результатам A/B-теста.</center>"
   ]
  },
  {
   "cell_type": "markdown",
   "metadata": {},
   "source": [
    "##### Общий вывод по результатам A/B-теста:\n",
    "\n",
    "* А/В-тест можно назвать завершенным, т.к. кумулятивные метрики визуально стабилизируются со временем, следовательно, удовлетворяют принципам проведения А/В тестирования.\n",
    "* Группы А и В практически равнозначны по метрике конверсии.\n",
    "* Группа В, однозначно, лучше группы А по метрике среднего чека.\n",
    "* Дизайн страницы официального сайта компании в варианте В лучше по комплексной оценке метрик - конверсии и среднего чека.\n",
    "* С точки зрения эффективности прибыльности, вариант посадочной страницы В является более эффективным по выручке компании, приходящейся на одного покупателя (средний чек)."
   ]
  }
 ],
 "metadata": {
  "kernelspec": {
   "display_name": "Python 3",
   "language": "python",
   "name": "python3"
  },
  "language_info": {
   "codemirror_mode": {
    "name": "ipython",
    "version": 3
   },
   "file_extension": ".py",
   "mimetype": "text/x-python",
   "name": "python",
   "nbconvert_exporter": "python",
   "pygments_lexer": "ipython3",
   "version": "3.10.9"
  }
 },
 "nbformat": 4,
 "nbformat_minor": 2
}
