{
 "cells": [
  {
   "cell_type": "markdown",
   "metadata": {},
   "source": [
    "### <center><b>Итоговый проект: \"Агенство недвижимости\"</b></center>"
   ]
  },
  {
   "cell_type": "markdown",
   "metadata": {},
   "source": [
    "##### <b>Описание проекта:</b> Агентство недвижимости столкнулось с проблемой: риелторы тратят слишком много времени на сортировку объявлений и поиск выгодных предложений. Поэтому скорость их реакции и качество анализа не дотягивают до уровня конкурентов. Это сказывается на финансовых показателях агентства.  \n",
    "##### <b>Бизнес-задача:</b> Повысить прибыль агентства недвижимости за счет увеличения скорости реакции риелторов и качества их работы при продаже объектов недвижимости.  \n",
    "##### <b>Техническая задача для специалиста Data Science:</b> Разработать модель, которая позволила бы агентству недвижимости обойти конкурентов по скорости и качеству совершения сделок на продажу объектов недвижимости.  \n",
    "##### <b>Основные цели проекта:</b>\n",
    "* Произвести предобработку и разведывательный анализ набора данных:\n",
    "   * обработать пропуски;\n",
    "   * дубликаты и выбросы;\n",
    "   * устранить ошибки ввода;\n",
    "   * расшифровать сокращения;\n",
    "   * отыскать закономерности;\n",
    "   * сгенерировать новые признаки.\n",
    "* Выделить наиболее значимые факторы, влияющие на стоимость недвижимости.  \n",
    "* Построить несколько моделей для прогнозирования стоимости недвижимости и отобрать лучшую по целевой метрике.  \n",
    "* Разработать сервис, на вход которого поступали бы данные о некоторой выставленной на продажу недвижимости, а сервис прогнозировал бы ее стоимость."
   ]
  },
  {
   "cell_type": "code",
   "execution_count": null,
   "metadata": {},
   "outputs": [],
   "source": [
    "# Загружаем библиотеки\n",
    "\n",
    "import pandas as pd\n",
    "import numpy as np\n",
    "import ast\n",
    "import datetime\n",
    "import seaborn as sns\n",
    "import matplotlib.pyplot as plt\n",
    "import plotly.express as px\n",
    "import plotly.graph_objects as go\n",
    "import re\n",
    "import requests\n",
    "import category_encoders as ce\n",
    "from scipy.stats import shapiro\n",
    "from sklearn import preprocessing\n",
    "from sklearn import metrics\n",
    "from sklearn import feature_selection\n",
    "from sklearn.model_selection import train_test_split\n",
    "from sklearn.linear_model import LinearRegression\n",
    "from sklearn.ensemble import RandomForestRegressor, GradientBoostingRegressor, AdaBoostRegressor\n",
    "from sklearn.tree import DecisionTreeRegressor\n",
    "from sklearn.feature_selection import SelectKBest, f_regression, f_classif, chi2\n",
    "from catboost import CatBoostRegressor\n",
    "from dmba import AIC_score, stepwise_selection\n",
    "import pickle\n",
    "import warnings\n",
    "warnings.filterwarnings('ignore')"
   ]
  },
  {
   "cell_type": "markdown",
   "metadata": {},
   "source": [
    "### <center><b>Исследование данных</b></center>"
   ]
  },
  {
   "cell_type": "code",
   "execution_count": null,
   "metadata": {},
   "outputs": [],
   "source": [
    "# Прочитаем dataframe\n",
    "\n",
    "df = pd.read_csv('data/data.zip')\n",
    "\n",
    "# Знакомимся с данными\n",
    "\n",
    "display(df.shape)\n",
    "display(df.head())"
   ]
  },
  {
   "cell_type": "markdown",
   "metadata": {},
   "source": [
    "##### В датасете имеется 377185 объектов, описанных следующими 18-ю признаками:\n",
    "* status — статус продажи;  \n",
    "* private pool и PrivatePool — наличие собственного бассейна;  \n",
    "* propertyType — тип объекта недвижимости;\n",
    "* street — адрес объекта;\n",
    "* baths — количество ванных комнат;\n",
    "* homeFacts — сведения о строительстве объекта (содержит несколько типов сведений, влияющих на оценку объекта);\n",
    "* fireplace — наличие камина;\n",
    "* city — город;\n",
    "* schools — сведения о школах в районе;\n",
    "* sqft — площадь в футах;\n",
    "* zipcode — почтовый индекс;\n",
    "* beds — количество спален;\n",
    "* state — штат;\n",
    "* stories — количество этажей;\n",
    "* mls-id и MlsId — идентификатор MLS (Multiple Listing Service, система мультилистинга);\n",
    "* target — цена объекта недвижимости (целевой признак, который необходимо спрогнозировать)."
   ]
  },
  {
   "cell_type": "code",
   "execution_count": null,
   "metadata": {},
   "outputs": [],
   "source": [
    "# Выведем информацию о датасете\n",
    "\n",
    "df.info()"
   ]
  },
  {
   "cell_type": "code",
   "execution_count": null,
   "metadata": {},
   "outputs": [],
   "source": [
    "# Построим тепловую карту пропусков\n",
    "\n",
    "heatmap = sns.heatmap(\n",
    "    data = df.isnull(),\n",
    "    cmap = sns.color_palette(['#000099', '#ffff00'])\n",
    ");\n",
    "heatmap.set_title('Тепловая карта пропущенных значений');"
   ]
  },
  {
   "cell_type": "code",
   "execution_count": null,
   "metadata": {},
   "outputs": [],
   "source": [
    "# Проверим данные на наличие дубликатов\n",
    "\n",
    "df.duplicated().value_counts()"
   ]
  },
  {
   "cell_type": "markdown",
   "metadata": {},
   "source": [
    "#### <b>Вывод:</b>\n",
    "* Имеются полные дубли (50 шт.) - удалим их.\n",
    "* Имеются пропуски в данных, больше всего пропущенных значений в признаках: private pool, fireplace, mls-id, PrivatePool. Необходимо будет с ними поработать.\n",
    "* Все признаки представлены типом object, что тоже неправильно.\n",
    "##### Дальнейшая схема работы:\n",
    "1. Удалить дубли.\n",
    "2. Проанализировать и удалить неинформативные признаки\n",
    "3. Привести целевой признак (target) к числовому типу, и обработать пропуски в данном признаке.\n",
    "4. Обработать пропуски в остальных признаках.\n",
    "5. Отдельно обработать информацию в признаках homeFacts и school, содержащие пул данных.\n",
    "6. Спроектировать новые признаки.\n",
    "7. Визуализировать данные, найти зависимости, гипотезы."
   ]
  },
  {
   "cell_type": "markdown",
   "metadata": {},
   "source": [
    "### <center><b>Предобработка и очистка данных</b></center>"
   ]
  },
  {
   "cell_type": "code",
   "execution_count": null,
   "metadata": {},
   "outputs": [],
   "source": [
    "# Удаляем дубли\n",
    "\n",
    "df.drop_duplicates(inplace=True)\n",
    "\n",
    "df.shape"
   ]
  },
  {
   "cell_type": "markdown",
   "metadata": {},
   "source": [
    "##### Количество объектов сократилось на 50, ровно на количество дублей."
   ]
  },
  {
   "cell_type": "markdown",
   "metadata": {},
   "source": [
    "##### Для начала избавимся от <b><u>неинформативных признаков</u></b>\n",
    "##### Признаки <b><u>MlsId</u></b> и <b><u>mls-id</u></b> являются уникальными номерами в базе данных в системе множественного листинга и никакой информативности не несут.\n",
    "##### Признак <b><u>fireplace</u></b> (наличие камина) имеет порядка 90% пропусков.\n",
    "##### Избавимся от этих признаков."
   ]
  },
  {
   "cell_type": "code",
   "execution_count": null,
   "metadata": {},
   "outputs": [],
   "source": [
    "# Удаляем неинформативные признаки\n",
    "\n",
    "df = df.drop(['MlsId', 'mls-id', 'fireplace'], axis=1)"
   ]
  },
  {
   "cell_type": "markdown",
   "metadata": {},
   "source": [
    "##### Обработаем пропуски в целевом признаке <b><u>target</u></b> и приведем его к числовому типу. Напишем функцию, которая позволит избавиться от различных символов, отличных от цифр и преобразует данные в числовой формат."
   ]
  },
  {
   "cell_type": "code",
   "execution_count": null,
   "metadata": {},
   "outputs": [],
   "source": [
    "# Функция-обработчик признака target\n",
    "\n",
    "def processing_target(sign):\n",
    "    number_list = ['1', '2', '3', '4', '5', '6', '7', '8', '9', '0']\n",
    "    # создаём новый лист, куда будем добавлять символы, если они присутствуют в number_list\n",
    "    sign_new = []\n",
    "    # если нет пропуска, то разбиваем посимвольно и проверяем каждый символ на соответствие number_list\n",
    "    if sign is not np.nan:\n",
    "        sign_list = list(str(sign))\n",
    "        for i in sign_list:\n",
    "            if i in number_list:\n",
    "               sign_new.append(i)\n",
    "        # соединяем все цифры воедино и преобразуем в числовой формат\n",
    "        sign_int = int(''.join(sign_new))\n",
    "        return sign_int\n",
    "    # если имеется пропущенное значение, то преобразований не проводим\n",
    "    else:\n",
    "        return sign"
   ]
  },
  {
   "cell_type": "code",
   "execution_count": null,
   "metadata": {},
   "outputs": [],
   "source": [
    "# Применим функцию к признаку\n",
    "\n",
    "df['target'] = df['target'].apply(processing_target)"
   ]
  },
  {
   "cell_type": "code",
   "execution_count": null,
   "metadata": {},
   "outputs": [],
   "source": [
    "# Посмотрим на количество пропусков в признаке target\n",
    "\n",
    "df['target'].isnull().sum()"
   ]
  },
  {
   "cell_type": "markdown",
   "metadata": {},
   "source": [
    "##### Количество пропусков в признаке target равно 2480. Это менее 1% значений, поэтому их можно просто удалить."
   ]
  },
  {
   "cell_type": "code",
   "execution_count": null,
   "metadata": {},
   "outputs": [],
   "source": [
    "# Удаляем строки с пропусками в целевом признаке\n",
    "\n",
    "df.dropna(subset='target', axis=0, inplace=True)"
   ]
  },
  {
   "cell_type": "code",
   "execution_count": null,
   "metadata": {},
   "outputs": [],
   "source": [
    "# Посмотрим на описательные статистики целевого признака\n",
    "\n",
    "df['target'].describe()"
   ]
  },
  {
   "cell_type": "markdown",
   "metadata": {},
   "source": [
    "##### Медианная стоимость недвижимости 320000$ (при средней 644759,6$, что примерно в 2 раза больше). За меру центральной тенденции примем медианное значение цены, т.к. оно устойчиво к выбросам. Также имеется недвижимость стоимостью 1$ и 195000000$, что явно является выбросами."
   ]
  },
  {
   "cell_type": "code",
   "execution_count": null,
   "metadata": {},
   "outputs": [],
   "source": [
    "# Посмотрим на распределение целевой переменной\n",
    "\n",
    "fig = px.histogram(\n",
    "    data_frame=df,\n",
    "    x='target',    \n",
    "    title='Распределение целевой переменной',\n",
    "    text_auto=True,    \n",
    "    height=600,    \n",
    "    width=1000,\n",
    "    nbins=400           \n",
    ")\n",
    "fig.show();"
   ]
  },
  {
   "cell_type": "markdown",
   "metadata": {},
   "source": [
    "##### Распределение целевой переменной не дало понимания общей картины из-за большого диапазона цен и из-за выбросов. Избавимся от выбросов с помощью метода Тьюки, но для начала проверим на нормальность с помощью теста Шапиро-Уилка.\n",
    "##### Проверим следующие гипотезы:\n",
    "* $H_0$: Данные распределены нормально; \n",
    "* $H_1$: Распределение данных отлично от нормального.\n",
    "##### Уровень значимости $\\alpha$=0.05. "
   ]
  },
  {
   "cell_type": "code",
   "execution_count": null,
   "metadata": {},
   "outputs": [],
   "source": [
    "# Проверка данных на нормальность\n",
    "\n",
    "# Нулевая и альтернативная гипотезы\n",
    "H0 = 'Данные распределены нормально'\n",
    "H1 = 'Распределение данных отлично от нормального'\n",
    "\n",
    "# Уровень значимости\n",
    "alpha = 0.05\n",
    "\n",
    "# Вычисляем результат теста Шапиро — Уилка\n",
    "_, p = shapiro(df['target'])\n",
    "\n",
    "# Выводим результат на экран\n",
    "print('p-value = %.3f' % p)\n",
    "\n",
    "# Сравниваем полученное p-value с уровнем значимости\n",
    "if p > alpha:\n",
    "    print(f\"Принимаем нулевую гипотезу: {H0}\")\n",
    "else:\n",
    "    print(f\"Отвергаем нулевую гипотезу в пользу альтернативной\")\n",
    "    print(f\"Альтернативная гипотеза: {H1}\")"
   ]
  },
  {
   "cell_type": "markdown",
   "metadata": {},
   "source": [
    "##### Тест Шапиро-Уилка показал, что данные не распределены нормально. Прологарифмируем целевой признак и создадим новый признак - target_log. Тем самым приведем исходное распределение к подобию нормального."
   ]
  },
  {
   "cell_type": "code",
   "execution_count": null,
   "metadata": {},
   "outputs": [],
   "source": [
    "df['target_log'] = np.log(df['target'])\n",
    "\n",
    "fig = px.histogram(\n",
    "    data_frame=df,\n",
    "    x='target_log',    \n",
    "    title='Распределение целевой переменной',\n",
    "    text_auto=True,    \n",
    "    height=600,    \n",
    "    width=1000, \n",
    "    nbins=400,\n",
    "    marginal='box'   \n",
    ")\n",
    "fig.show();"
   ]
  },
  {
   "cell_type": "markdown",
   "metadata": {},
   "source": [
    "##### Судя по графику, распределение данных стало похоже на нормальное. Избавимся от выбросов в целевом признаке, воспользовавшись методом Тьюки (межквартильный размах), применим его к логарифмированному целевому признаку."
   ]
  },
  {
   "cell_type": "code",
   "execution_count": null,
   "metadata": {},
   "outputs": [],
   "source": [
    "# Функция для реализации метода Тьюки\n",
    "\n",
    "def outliers_iqr(data, feature):\n",
    "    x = data[feature]\n",
    "    quartile_1, quartile_3 = x.quantile(0.25), x.quantile(0.75),\n",
    "    iqr = quartile_3 - quartile_1\n",
    "    lower_bound = quartile_1 - (iqr * 1.5)\n",
    "    upper_bound = quartile_3 + (iqr * 1.5)\n",
    "    outliers = data[(x<lower_bound) | (x > upper_bound)]\n",
    "    cleaned = data[(x>lower_bound) & (x < upper_bound)].reset_index()\n",
    "    cleaned = cleaned.drop([feature, 'index'], axis=1)\n",
    "    return outliers, cleaned"
   ]
  },
  {
   "cell_type": "code",
   "execution_count": null,
   "metadata": {},
   "outputs": [],
   "source": [
    "# Применим функцию к признаку\n",
    "\n",
    "outliers, df = outliers_iqr(df, 'target_log')"
   ]
  },
  {
   "cell_type": "code",
   "execution_count": null,
   "metadata": {},
   "outputs": [],
   "source": [
    "# Еще раз посмотрим на описательные статистики целевого признака\n",
    "\n",
    "df['target'].describe()"
   ]
  },
  {
   "cell_type": "markdown",
   "metadata": {},
   "source": [
    "##### Значения  1$ и 195000000$ ушли. Значит мы избавились от выбров."
   ]
  },
  {
   "cell_type": "markdown",
   "metadata": {},
   "source": [
    "##### Поработаем с признаком <b><u>status</u></b>."
   ]
  },
  {
   "cell_type": "code",
   "execution_count": null,
   "metadata": {},
   "outputs": [],
   "source": [
    "df.status.value_counts()"
   ]
  },
  {
   "cell_type": "code",
   "execution_count": null,
   "metadata": {},
   "outputs": [],
   "source": [
    "# Заполним пропуски самым распространённым значением. Переведём данные в нижний регистр. Оставим топ-5 значений, остальные переименуем в other\n",
    "\n",
    "df['status'] = df['status'].fillna(df['status'].describe().top)\n",
    "df['status'] = df['status'].apply(lambda x: x.lower())\n",
    "status_list = list(df['status'].value_counts()[:5].index)   # лист с категориями\n",
    "df['status'] = df['status'].apply(lambda x: x if x in status_list else 'other')"
   ]
  },
  {
   "cell_type": "markdown",
   "metadata": {},
   "source": [
    "##### Наличие собственного бассейна содержится в 2 признаках <b><u>private pool</u></b> и <b><u>PrivatePool</u></b> объединим их в признак <b>Pool</b> и предобработаем. Если данные о наличии бассейна отсутствуют, то будем считать, что он отсутствует."
   ]
  },
  {
   "cell_type": "code",
   "execution_count": null,
   "metadata": {},
   "outputs": [],
   "source": [
    "# Закодируем данные в признаках 'private pool' и 'PrivatePool', если бассейн имеется '1', если нет '0'.\n",
    "# Приведем признаки к числовому типу. Объединим данные признаки в признак 'Pool'\n",
    "\n",
    "df['private pool'] = df['private pool'].fillna('0') # заполняем пустые значения '0'\n",
    "df['PrivatePool'] = df['PrivatePool'].fillna('0')   # заполняем пустые значения '0'\n",
    "df['private pool'] = df['private pool'].apply(lambda x: x.lower()) # преобразуем значения в нижний регистр\n",
    "df['private pool'] = df['private pool'].apply(lambda x: x.replace('yes', '1')) # заменим значение 'yes' на '1'\n",
    "df['private pool'] = df['private pool'].astype('int') # преобразуем данные к числовому типу\n",
    "df['PrivatePool'] = df['PrivatePool'].apply(lambda x: x.lower()) # преобразуем значения в нижний регистр\n",
    "df['PrivatePool'] = df['PrivatePool'].apply(lambda x: x.replace('yes', '1')) # заменим значение 'yes' на '1'\n",
    "df['PrivatePool'] = df['PrivatePool'].astype('int') # преобразуем данные к числовому типу\n",
    "df['Pool'] = df['PrivatePool'] + df['private pool'] # объединим признаки в признак 'Pool'"
   ]
  },
  {
   "cell_type": "code",
   "execution_count": null,
   "metadata": {},
   "outputs": [],
   "source": [
    "# Удаляем признаки 'private pool' и 'PrivatePool'\n",
    "\n",
    "df = df.drop(['private pool', 'PrivatePool'], axis=1)"
   ]
  },
  {
   "cell_type": "markdown",
   "metadata": {},
   "source": [
    "Признак <b><u>propertyType</u></b> обработаем аналогично признаку <b>status</b>"
   ]
  },
  {
   "cell_type": "code",
   "execution_count": null,
   "metadata": {},
   "outputs": [],
   "source": [
    "df.propertyType.value_counts()"
   ]
  },
  {
   "cell_type": "code",
   "execution_count": null,
   "metadata": {},
   "outputs": [],
   "source": [
    "# Заполним пропуски самым распространённым значением. Переведём данные в нижний регистр. Оставим топ-10 значений, остальные переименуем в other\n",
    "\n",
    "df['propertyType'] = df['propertyType'].fillna(df['propertyType'].describe().top)\n",
    "df['propertyType'] = df['propertyType'].apply(lambda x: x.lower())\n",
    " \n",
    "df['propertyType'] = df['propertyType'].apply(lambda x: ' '.join(x.replace('-', ' ').replace(',', ' ').replace('/', ' ').split(' ')[0:2]))       # удаляем лишние символы\n",
    "df['propertyType'] = df['propertyType'].replace('condo townhome', 'condo').replace('lot land', 'land').replace('detached ', 'single detached')   # удаляем лишние символы\n",
    "\n",
    "propertyType_list = list(df['propertyType'].value_counts()[:10].index)   # лист с категориями\n",
    "propertyType_list.remove('1 story')             # удаляем неинформационную категорию '1 story'\n",
    "df['propertyType'] = df['propertyType'].apply(lambda x: x if x in propertyType_list else 'other')"
   ]
  },
  {
   "cell_type": "markdown",
   "metadata": {},
   "source": [
    "##### По схожей схеме обработаем признак <b><u>street</u></b>"
   ]
  },
  {
   "cell_type": "code",
   "execution_count": null,
   "metadata": {},
   "outputs": [],
   "source": [
    "df.street.value_counts()"
   ]
  },
  {
   "cell_type": "code",
   "execution_count": null,
   "metadata": {},
   "outputs": [],
   "source": [
    "# Заполним пропуски самым распространённым значением. Переведём данные в нижний регистр.\n",
    "\n",
    "df['street'] = df['street'].fillna(df['street'].describe().top)\n",
    "df['street'] = df['street'].apply(lambda x: x.lower())"
   ]
  },
  {
   "cell_type": "code",
   "execution_count": null,
   "metadata": {},
   "outputs": [],
   "source": [
    "# Преобразуем признак street, оставив только наименование улиц, т.к. наименование улицы это способ привязаться к локации недвижимости\n",
    "\n",
    "df['street'] = df['street'].replace('undisclosed address', 'not_specified').replace('(undisclosed address)', 'not_specified')\\\n",
    "    .replace('address not available', 'not_specified').replace('unknown address', 'not_specified').replace('address not disclosed', 'not_specified')\n",
    "    \n",
    "df['street'] = df['street'].apply(lambda x: ' '.join(x.split(' ')[1:4])).replace('', 'not_specified')"
   ]
  },
  {
   "cell_type": "code",
   "execution_count": null,
   "metadata": {},
   "outputs": [],
   "source": [
    "# Улицы в единственном экземпляре объединим в категорию other\n",
    "\n",
    "street_list = list(df['street'].value_counts()[df['street'].value_counts()==1].index)\n",
    "date_street = df[df['street'].isin(street_list)]\n",
    "date_street['street'] = date_street['street'].apply(lambda x: 'other')\n",
    "df = pd.concat(\n",
    "    [df[~df['street'].isin(street_list)], date_street],\n",
    "    ignore_index=True,\n",
    "    axis=0\n",
    ")"
   ]
  },
  {
   "cell_type": "markdown",
   "metadata": {},
   "source": [
    "##### Обработка признака <b><u>baths</u></b>.\n",
    "##### Выделим строки типа object количество ванных комнат и сохраним его в формате float. Дробные значения ванных комнат, возможно ошибка а, возможно, способ закодировать не полноценную ванную комнату, скажем, с раковиной и душевой кабиной или раковиной и туалетом. Ктоме того, присутствуют и аномальные значения, которые превышают тысячи. Т.к. они имеют в остальных разрядах нули, предположим, что это опечатка, и отбросим нули. Если строка пустая, будем считать, что ванная комната отсутствует и сохраним NaN."
   ]
  },
  {
   "cell_type": "code",
   "execution_count": null,
   "metadata": {},
   "outputs": [],
   "source": [
    "# Функция для преобразования признака baths к числовому формату\n",
    "\n",
    "def baths_num(sign):\n",
    "    if sign is np.NaN:\n",
    "        result = np.NaN # если строка пустая, сохраним NaN\n",
    "    else:\n",
    "        result = re.findall(r'\\d+\\.*,*\\d*', sign) # выделяем число ванных\n",
    "        if len(result) > 0:\n",
    "            result = result[0] # если оно содержалось в строке, оно - на 1-м месте списка\n",
    "            result = float(result.replace(',', '')) # убираем запятую-разделитель тысяч и приводим к float\n",
    "            if result >= 1000: # устраняем опечатку\n",
    "                result = result / 1000\n",
    "        else:\n",
    "            result = np.NaN # если в строке не было числа комнтат, сохраним NaN\n",
    "\n",
    "    return result"
   ]
  },
  {
   "cell_type": "code",
   "execution_count": null,
   "metadata": {},
   "outputs": [],
   "source": [
    "# Применимисанную функцию\n",
    "\n",
    "df['baths'] = df['baths'].apply(lambda sign: baths_num(sign))"
   ]
  },
  {
   "cell_type": "markdown",
   "metadata": {},
   "source": [
    "##### Имеются аномалии, когда количество ванных комнат исчисляется десятками. Построим коробчатую диаграмму, чтобы посмотреть как обстоят дела с выбросами.  "
   ]
  },
  {
   "cell_type": "code",
   "execution_count": null,
   "metadata": {},
   "outputs": [],
   "source": [
    "# Построим две коробчатые диаграмм признака baths с разбивкой на типы жилья\n",
    "\n",
    "fig, axes = plt.subplots(figsize=(16, 5))\n",
    "boxplot = sns.boxplot(\n",
    "    data = df,\n",
    "    x = 'baths',\n",
    "    y = 'propertyType'\n",
    ");\n",
    "boxplot.set(xlim=(-1,20)); # ограничим диапазон\n",
    "boxplot.set_title('Диаграммы числа ванных комнат по типу жилья');\n",
    "boxplot.set_xlabel('Число ванных комнат');\n",
    "boxplot.set_ylabel('');"
   ]
  },
  {
   "cell_type": "markdown",
   "metadata": {},
   "source": [
    "##### Судя по диаграммам выбросы присутствуют. Обработаем их с помощью метода Тьюринга, но для начала проверим данные на нормальность с помощью теста Шапиро-Уилка.\n",
    "##### Проверим следующие гипотезы:\n",
    "* $H_0$: Данные распределены нормально; \n",
    "* $H_1$: Распределение данных отлично от нормального.\n",
    "##### Уровень значимости $\\alpha$=0.05. "
   ]
  },
  {
   "cell_type": "code",
   "execution_count": null,
   "metadata": {},
   "outputs": [],
   "source": [
    "# Проверка данных на нормальность\n",
    "\n",
    "# Нулевая и альтернативная гипотезы\n",
    "H0 = 'Данные распределены нормально'\n",
    "H1 = 'Распределение данных отлично от нормального'\n",
    "\n",
    "# Уровень значимости\n",
    "alpha = 0.05\n",
    "\n",
    "# Вычисляем результат теста Шапиро — Уилка\n",
    "_, p = shapiro(df['baths'])\n",
    "\n",
    "# Выводим результат на экран\n",
    "print('p-value = %.3f' % p)\n",
    "\n",
    "# Сравниваем полученное p-value с уровнем значимости\n",
    "if p > alpha:\n",
    "    print(f\"Принимаем нулевую гипотезу: {H0}\")\n",
    "else:\n",
    "    print(f\"Отвергаем нулевую гипотезу в пользу альтернативной\")\n",
    "    print(f\"Альтернативная гипотеза: {H1}\")"
   ]
  },
  {
   "cell_type": "markdown",
   "metadata": {},
   "source": [
    "##### Тест показал, что данные распределены нормально, следовательно, можем применить метод Тьюринга."
   ]
  },
  {
   "cell_type": "code",
   "execution_count": null,
   "metadata": {},
   "outputs": [],
   "source": [
    "# Воспользуемся ранее написанной функцией для определения выбросов\n",
    "outliers, cleaned = outliers_iqr(df, 'baths')\n",
    "\n",
    "print(f'Число выбросов по методу Тьюки: {outliers.shape[0]}')\n",
    "print('ТОП-5 значений по количеству выбросов:',\n",
    "    outliers['baths'].value_counts().nlargest(5))"
   ]
  },
  {
   "cell_type": "markdown",
   "metadata": {},
   "source": [
    "##### Метод Тьюринга отнес к выбросам значения равные 0 и 5 и выше.\n",
    "##### Если следовать логике, то на пустых участках ванных комнат быть не может, а именно на такой тип собственности приходится подавляющее число \"нулевых\" значений. Количество ванных комнат редко превышает количество спален, а их число вряд ли будет выше 10. Поэтому ориентируясь на многосемейные дома на диаграмме, посчитаем за выбросы все объекты, где число ванных комнат больше 7-ми. Проверим процент таких записей в датафрейме и, если он окажется небольшим, то удалим данные выбросы.  "
   ]
  },
  {
   "cell_type": "code",
   "execution_count": null,
   "metadata": {},
   "outputs": [],
   "source": [
    "# Проверим количество объектов, у которых ванных больше 7-ми\n",
    "\n",
    "baths_7 = df[df['baths'] > 7].index\n",
    "display(f'> 7 ванных в {len(baths_7)} объектах')\n",
    "display(' Это {:2.2%} от всего датафрейма'.format(len(baths_7)/df.shape[0]))"
   ]
  },
  {
   "cell_type": "code",
   "execution_count": null,
   "metadata": {},
   "outputs": [],
   "source": [
    "# Т.к. это всего лишь 0.43% от всего датафрейма, удаляем эти записи\n",
    "\n",
    "df.drop(baths_7, axis=0, inplace=True)"
   ]
  },
  {
   "cell_type": "code",
   "execution_count": null,
   "metadata": {},
   "outputs": [],
   "source": [
    "# Выведем количество пустых значений\n",
    "\n",
    "df.baths.isnull().sum()"
   ]
  },
  {
   "cell_type": "markdown",
   "metadata": {},
   "source": [
    "##### Ранее мы приняли решение, что если строка пустая, то ванная комната отсутствует и заполняли их значением np.NaN, в принципе это возможно, т.к. на тех же пустых участках вряд ли будет присутствовать ванная комната. Но оставлять пустые значения тоже не правильно, поэтому заполним их нулями."
   ]
  },
  {
   "cell_type": "code",
   "execution_count": null,
   "metadata": {},
   "outputs": [],
   "source": [
    "# Заполняем пустые значения 0\n",
    "\n",
    "df.baths = df.baths.fillna(0)"
   ]
  },
  {
   "cell_type": "markdown",
   "metadata": {},
   "source": [
    "##### Признак <b><u>homeFacts</u></b> содержит несколько типов сведений, которые влияют на оценку объекта. Информация  представлена в строковом формате, который очень похож на json-формат, в котором данные хранятся в виде словарей и списков."
   ]
  },
  {
   "cell_type": "code",
   "execution_count": null,
   "metadata": {},
   "outputs": [],
   "source": [
    "df.homeFacts.value_counts()[:5]"
   ]
  },
  {
   "cell_type": "markdown",
   "metadata": {},
   "source": [
    "##### atAGlanceFacts - основной ключь, значениями которого является список словарей.\n",
    "##### В каждом словаре находятся два ключа factLabel (наименование параметра) и factValue (значение параметра). \n",
    "##### Имеются следующие параметры:\n",
    "* Year built - год постройки дома;\n",
    "* Remodeled year - год реконструкции;\n",
    "* Heating - отопление;\n",
    "* Cooling - охлаждение;\n",
    "* Parking - паркинг;\n",
    "* lotsize - дом с участком;\n",
    "* Price/sqft - цена за квадратный фунт.\n",
    "##### Необходимо создать на основе параметров новые признаки, которые впоследствии обработать."
   ]
  },
  {
   "cell_type": "code",
   "execution_count": null,
   "metadata": {},
   "outputs": [],
   "source": [
    "# Преобразуем строку в словарь\n",
    "\n",
    "df['homeFacts'] = df['homeFacts'].apply(lambda x: ast.literal_eval(x))\n",
    "\n",
    "# Создаем новые признаки\n",
    "\n",
    "df['year_built'] = df['homeFacts'].apply(lambda x: x['atAGlanceFacts'][0]['factValue'])\n",
    "df['remodeled_year'] = df['homeFacts'].apply(lambda x: x['atAGlanceFacts'][1]['factValue'])\n",
    "df['heating'] = df['homeFacts'].apply(lambda x: x['atAGlanceFacts'][2]['factValue'])\n",
    "df['cooling'] = df['homeFacts'].apply(lambda x: x['atAGlanceFacts'][3]['factValue'])\n",
    "df['parking'] = df['homeFacts'].apply(lambda x: x['atAGlanceFacts'][4]['factValue'])\n",
    "df['lotsize'] = df['homeFacts'].apply(lambda x: x['atAGlanceFacts'][5]['factValue'])\n",
    "df['price_sqft'] = df['homeFacts'].apply(lambda x: x['atAGlanceFacts'][6]['factValue'])"
   ]
  },
  {
   "cell_type": "markdown",
   "metadata": {},
   "source": [
    "##### Поработаем с признаком <b><u>year_built</u></b>"
   ]
  },
  {
   "cell_type": "code",
   "execution_count": null,
   "metadata": {},
   "outputs": [],
   "source": [
    "# Выведем информация о пропущенных значениях\n",
    "\n",
    "df.year_built.isnull().sum()"
   ]
  },
  {
   "cell_type": "code",
   "execution_count": null,
   "metadata": {},
   "outputs": [],
   "source": [
    "# Преобразуем признак в числовой формат, заменим ненужные значения на NaN, заполним пропуски медианным значением\n",
    "# Также заменим на медианные значения года постройки позже 2023 года и раньше 1700 года\n",
    "\n",
    "df['year_built'] = df['year_built'].apply(lambda x: np.nan if x == '' else np.nan if x == 'No Data' else np.nan if x is None else x)\n",
    "df['year_built'] = df['year_built'].fillna(df['year_built'].median())\n",
    "df['year_built'] = df['year_built'].apply(lambda x: int(x))\n",
    "df['year_built'] = df['year_built'].apply(lambda x: df['year_built'].median() if x > 2023 else df['year_built'].median() if x < 1700 else x)"
   ]
  },
  {
   "cell_type": "code",
   "execution_count": null,
   "metadata": {},
   "outputs": [],
   "source": [
    "# Проверим, что у нас получилось\n",
    "\n",
    "df.year_built.describe()"
   ]
  },
  {
   "cell_type": "code",
   "execution_count": null,
   "metadata": {},
   "outputs": [],
   "source": [
    "# Создадим новый признак age (возраст дома), т.е. разница между текущим годом и годоь постройки\n",
    "\n",
    "year_current = datetime.datetime.now().year   # текущий год\n",
    "df['age'] = year_current - df['year_built']"
   ]
  },
  {
   "cell_type": "markdown",
   "metadata": {},
   "source": [
    "##### Признак <b><u>remodeled_year</u></b>"
   ]
  },
  {
   "cell_type": "code",
   "execution_count": null,
   "metadata": {},
   "outputs": [],
   "source": [
    "# Выведем информация о пропущенных значениях\n",
    "\n",
    "df['remodeled_year'].isnull().sum()"
   ]
  },
  {
   "cell_type": "code",
   "execution_count": null,
   "metadata": {},
   "outputs": [],
   "source": [
    "# Преобразуем признак в числовой формат, заменим ненужные значения на NaN, заполним пропуски медианным значением\n",
    "\n",
    "df['remodeled_year'] = df['remodeled_year'].apply(lambda x: np.nan if (x == '') | (x == None) else x)\n",
    "df['remodeled_year'] = df['remodeled_year'].fillna(df['remodeled_year'].median())\n",
    "df['remodeled_year'] = df['remodeled_year'].apply(lambda x: int(x))"
   ]
  },
  {
   "cell_type": "code",
   "execution_count": null,
   "metadata": {},
   "outputs": [],
   "source": [
    "# Создадим признак age_remodeled - сколько лет прошло с реконструкции дома\n",
    "# Если в признаке remodeled_year указан 0, то время реставрации считается с даты постройки дома\n",
    "\n",
    "df['age_remodeled'] = df.apply(lambda x: (year_current - x.remodeled_year) if x.remodeled_year != 0 else (year_current - x.year_built), axis=1)"
   ]
  },
  {
   "cell_type": "code",
   "execution_count": null,
   "metadata": {},
   "outputs": [],
   "source": [
    "# Удаляем ненужные более признаки year_built и remodeled_year\n",
    "\n",
    "df = df.drop(['year_built', 'remodeled_year'], axis=1)"
   ]
  },
  {
   "cell_type": "markdown",
   "metadata": {},
   "source": [
    "##### Признак <b><u>heating</u></b>"
   ]
  },
  {
   "cell_type": "code",
   "execution_count": null,
   "metadata": {},
   "outputs": [],
   "source": [
    "# Выведем количество пропусков\n",
    "\n",
    "df['heating'].isnull().sum()"
   ]
  },
  {
   "cell_type": "code",
   "execution_count": null,
   "metadata": {},
   "outputs": [],
   "source": [
    "# Переведем значения в нижний регистр, уберем лишние символы, возьмём только первые два значения\n",
    "\n",
    "df['heating'] = df['heating'].apply(lambda x: x.lower() if (type(x) is not float) and (x is not None) else x)\n",
    "df['heating'] = df['heating'].apply(lambda x: np.nan if (x is None) | (x == '') else x)\n",
    "df['heating'] = df['heating'].apply(lambda x: x.replace(',', '') if type(x) is not float else x)\n",
    "df['heating'] = df['heating'].apply(lambda x: x if (x is np.nan) | (type(x) is float) else ' '.join(x.split(' ')[:2]))"
   ]
  },
  {
   "cell_type": "markdown",
   "metadata": {},
   "source": [
    "##### Будем считать, что на объектах где в значении heating указано 'no data' или 'none', отопление отсутствует, что в США с учетом их температурного режима возможно."
   ]
  },
  {
   "cell_type": "code",
   "execution_count": null,
   "metadata": {},
   "outputs": [],
   "source": [
    "# Преобразуем значения, после чего отберём 9 популярных значений, а остальные заменим на other\n",
    "# Пропущенные значения заменим самой распространённой категорией\n",
    "\n",
    "df['heating'] = df['heating'].replace('central electric', 'electric').replace(' electric', 'electric').replace('no data', 'absent').replace('electric heat', 'electric')\\\n",
    "    .replace('natural gas', 'gas').replace(' gas', 'gas').replace('central gas', 'gas').replace('gas heat', 'gas').replace('electric gas', 'gas').replace('gas hot', 'gas')\\\n",
    "        .replace('gas -', 'gas').replace('propane', 'gas').replace(' heat', 'heat pump').replace('heating system', 'central').replace('central furnace', 'central')\\\n",
    "            .replace('central heating', 'central').replace('central heat', 'central').replace('heat pump(s)', 'heat pump').replace('radiant', 'central').replace('baseboard forced', 'baseboard')\\\n",
    "                .replace('baseboard hot', 'baseboard').replace('none', 'absent')\n",
    "\n",
    "df['heating'] = df['heating'].fillna(df['heating'].describe().top)\n",
    "\n",
    "heating_list = list(df['heating'].value_counts()[:9].index)    # топ 9 категорий\n",
    "\n",
    "df['heating'] = df['heating'].apply(lambda x: x if x is np.nan else x if x in heating_list else 'other')"
   ]
  },
  {
   "cell_type": "code",
   "execution_count": null,
   "metadata": {},
   "outputs": [],
   "source": [
    "# Посмотрим, что получилось\n",
    "\n",
    "df['heating'].value_counts()"
   ]
  },
  {
   "cell_type": "markdown",
   "metadata": {},
   "source": [
    "##### Признак <b><u>cooling</u></b>"
   ]
  },
  {
   "cell_type": "code",
   "execution_count": null,
   "metadata": {},
   "outputs": [],
   "source": [
    "# Выведем количество пропусков\n",
    "\n",
    "df['cooling'].isnull().sum()"
   ]
  },
  {
   "cell_type": "code",
   "execution_count": null,
   "metadata": {},
   "outputs": [],
   "source": [
    "# Переведем значения в нижний регистр, проведем преобразования\n",
    "\n",
    "df['cooling'] = df['cooling'].apply(lambda x: x.lower() if (x is not np.nan) & (x is not None) else x)\n",
    "df['cooling'] = df['cooling'].apply(lambda x: np.nan if (x is None) | (x == 'none') | (x == '') else x)"
   ]
  },
  {
   "cell_type": "code",
   "execution_count": null,
   "metadata": {},
   "outputs": [],
   "source": [
    "# Выведем 40 распространённых значений\n",
    "\n",
    "df['cooling'].value_counts()[:40]"
   ]
  },
  {
   "cell_type": "markdown",
   "metadata": {},
   "source": [
    "##### Будем действовать по аналогии с признаком <i>heating</i>, если где в значении cooling указано 'no data' или 'none', будем считать, что кондиционирование отсутствует (значение 'absent')."
   ]
  },
  {
   "cell_type": "code",
   "execution_count": null,
   "metadata": {},
   "outputs": [],
   "source": [
    "# Преобразуем значения и разделим на категории. После чего отберём 9 популярных значений, а остальные заменим на other\n",
    "# Пропущенные значения заменим самой распространённой категорией\n",
    "\n",
    "df['cooling'] = df['cooling'].replace('no data', 'absent').replace('none', 'absent')\n",
    "df['cooling'] = df['cooling'].apply(lambda x: x if x is np.nan else ' '.join(x.split(' ')[:2]))\n",
    "df['cooling'] = df['cooling'].apply(lambda x: x.replace(',', '') if type(x) is not float else x)\n",
    "df['cooling'] = df['cooling'].replace('has cooling', 'cooling').replace('central a/c', 'central air')\n",
    "\n",
    "df['cooling'] = df['cooling'].fillna(df['cooling'].describe().top)\n",
    "\n",
    "cooling_list = list(df['cooling'].value_counts()[:9].index)    # топ-9 значений\n",
    "\n",
    "df['cooling'] = df['cooling'].apply(lambda x: x if x is np.nan else x if x in cooling_list else 'other')"
   ]
  },
  {
   "cell_type": "code",
   "execution_count": null,
   "metadata": {},
   "outputs": [],
   "source": [
    "# Посмотрим, что получилось\n",
    "\n",
    "df['cooling'].value_counts()"
   ]
  },
  {
   "cell_type": "markdown",
   "metadata": {},
   "source": [
    "##### Признак <b><u>parking</u></b>"
   ]
  },
  {
   "cell_type": "code",
   "execution_count": null,
   "metadata": {},
   "outputs": [],
   "source": [
    "# Выведем количество пропусков\n",
    "\n",
    "df['parking'].isnull().sum()"
   ]
  },
  {
   "cell_type": "code",
   "execution_count": null,
   "metadata": {},
   "outputs": [],
   "source": [
    "# Выведем 20 распространенных значений\n",
    "\n",
    "df['parking'].value_counts()[:20]"
   ]
  },
  {
   "cell_type": "markdown",
   "metadata": {},
   "source": [
    "##### Произведём преобразование признака и унификацию категорий, если в значении указано 'no data' или 'none', будем считать, что парковка отсутствует (значение '0'), далее оставим топ-15, остальное обозначим как other, пропуски заполним топовым значением."
   ]
  },
  {
   "cell_type": "code",
   "execution_count": null,
   "metadata": {},
   "outputs": [],
   "source": [
    "# Переведем значения в нижний регистр, проведем преобразования\n",
    "# После чего отберём 15 популярных значений, а остальные заменим на other\n",
    "# Пропущенные значения заменим самой распространённой категорией\n",
    "\n",
    "df['parking'] = df['parking'].apply(lambda x: x.lower() if (x is not np.nan) & (x is not None) else x)\n",
    "df['parking'] = df['parking'].apply(lambda x: np.nan if (x is None) | (x == '') else x)\n",
    "df['parking'] = df['parking'].replace('no data', '0').replace('none', '0')\n",
    "df['parking'] = df['parking'].apply(lambda x: x if x is np.nan else x.replace('+', '').replace(',', '').split(' ')[0])\n",
    "df['parking'] = df['parking'].replace('driveway', 'off').replace('garage', 'detached')\n",
    "\n",
    "df['parking'] = df['parking'].fillna(df['parking'].describe().top)\n",
    "\n",
    "parking_list = list(df['parking'].value_counts()[:15].index)    # топ лист\n",
    "\n",
    "df['parking'] = df['parking'].apply(lambda x: x if x is np.nan else x if x in parking_list else 'other')"
   ]
  },
  {
   "cell_type": "code",
   "execution_count": null,
   "metadata": {},
   "outputs": [],
   "source": [
    "# Посмотрим, что получилось\n",
    "\n",
    "df['parking'].value_counts()"
   ]
  },
  {
   "cell_type": "markdown",
   "metadata": {},
   "source": [
    "##### Признак <b><u>lotsize</u></b>"
   ]
  },
  {
   "cell_type": "code",
   "execution_count": null,
   "metadata": {},
   "outputs": [],
   "source": [
    "# Выведем количество пропусков\n",
    "\n",
    "df['lotsize'].isnull().sum()"
   ]
  },
  {
   "cell_type": "code",
   "execution_count": null,
   "metadata": {},
   "outputs": [],
   "source": [
    "# Выведем 20 распространенных значений\n",
    "\n",
    "df['lotsize'].value_counts()[:20]"
   ]
  },
  {
   "cell_type": "markdown",
   "metadata": {},
   "source": [
    "##### Значения в разных единицах измерения - акры (acres) и квадратные фунты (sqft) - переведём всё к одному виду - sqft."
   ]
  },
  {
   "cell_type": "code",
   "execution_count": null,
   "metadata": {},
   "outputs": [],
   "source": [
    "# Функция для перевода акры в фунты\n",
    "\n",
    "def acr_change(acr):\n",
    "    sqft = 43560 * float(acr)\n",
    "    return sqft"
   ]
  },
  {
   "cell_type": "code",
   "execution_count": null,
   "metadata": {},
   "outputs": [],
   "source": [
    "# Функция-обработчик признака lotsize\n",
    "\n",
    "def handler_lotsize(df):\n",
    "    # заменяем пропуски на No и приводим разделитель к общему виду - точки\n",
    "    df = df.replace('—', 'No').replace('No Data', 'No').replace('-- sqft lot', 'No').replace(',', '')\n",
    "    \n",
    "    if df != 'No':\n",
    "        # приводим строку к нижнему регистру\n",
    "        df = df.lower()\n",
    "        # создаём лист со значениями \n",
    "        list_temp = df.split(' ')\n",
    "        # если строка состоит из более чем одного значения, и второе значение 'acres' или 'acre', то переводим в кв фунты\n",
    "        if (len(list_temp) > 1) and (df.split(' ')[1] == 'acres' or df.split(' ')[1] == 'acre'):\n",
    "            df = acr_change(list_temp[0])\n",
    "            return df\n",
    "        else:\n",
    "            df = float(list_temp[0])\n",
    "            return df\n",
    "    return df"
   ]
  },
  {
   "cell_type": "code",
   "execution_count": null,
   "metadata": {},
   "outputs": [],
   "source": [
    "# Меняем все пропущенные значения для удобства на No\n",
    "\n",
    "df['lotsize'] = df['lotsize'].apply(lambda x: 'No' if (x is np.nan) | (x is None) | (x == '') else x)\n",
    "\n",
    "# Применяем функцию-обработчик\n",
    "\n",
    "df['lotsize'] = df['lotsize'].apply(handler_lotsize)\n",
    "\n",
    "# Все No меняем на np.nan, отрицательные значения на 0\n",
    "\n",
    "df['lotsize'] = df['lotsize'].apply(lambda x: np.nan if x == 'No' else 0 if x < 0 else x)\n",
    "\n",
    "# Пропуски заменяем на медианное значение\n",
    "\n",
    "df['lotsize'] = df['lotsize'].fillna(df['lotsize'].describe().median())"
   ]
  },
  {
   "cell_type": "markdown",
   "metadata": {},
   "source": [
    "##### Признак <b><u>price_sqft</u></b>"
   ]
  },
  {
   "cell_type": "code",
   "execution_count": null,
   "metadata": {},
   "outputs": [],
   "source": [
    "# Выведем количество пропусков\n",
    "\n",
    "df['price_sqft'].isnull().sum()"
   ]
  },
  {
   "cell_type": "code",
   "execution_count": null,
   "metadata": {},
   "outputs": [],
   "source": [
    "# Выведем 20 распространенных значений\n",
    "\n",
    "df['price_sqft'].value_counts()[:20]"
   ]
  },
  {
   "cell_type": "markdown",
   "metadata": {},
   "source": [
    "##### В признаке имеются явные пропуски значений и не явные в виде записей 'No Data' и 'No Info', которые заменим на np.nan."
   ]
  },
  {
   "cell_type": "code",
   "execution_count": null,
   "metadata": {},
   "outputs": [],
   "source": [
    "# Заменяем ненужные значения и символы. Пропуски заменяем на медианное значение\n",
    "\n",
    "df['price_sqft'] = df['price_sqft'].apply(lambda x: np.nan if (x == 'No Data') | (x == 'No Info') | (x is None) | (x == '') else x)\n",
    "df['price_sqft'] = df['price_sqft'].apply(lambda x: x if x is np.nan else float(x.replace('$', '').replace('/', ' ').replace(',', '').split(' ')[0]))\n",
    "df['price_sqft'] = df['price_sqft'].fillna(df['price_sqft'].median())"
   ]
  },
  {
   "cell_type": "markdown",
   "metadata": {},
   "source": [
    "##### После того как разобрались с признаком homeFacts его можно удалить"
   ]
  },
  {
   "cell_type": "code",
   "execution_count": null,
   "metadata": {},
   "outputs": [],
   "source": [
    "# Удаляем признак homeFacts\n",
    "\n",
    "df = df.drop(['homeFacts'], axis=1)"
   ]
  },
  {
   "cell_type": "markdown",
   "metadata": {},
   "source": [
    "##### Обработка признака <b><u>city</u></b>:\n",
    "* заменим пустые строки, а также значения \"other\" на названия городов, для этого воспользуемся признаком почтового кода zipcode;\n",
    "* разделим написание city с именем города, например, commercecity;\n",
    "* заменим распространенные сокращения на полные назания;\n",
    "\n",
    "  - [X] st -> saint\n",
    "  - [X] pt -> port\n",
    "  - [X] ft -> fort\n",
    "  - [X] mt -> mount\n",
    "  - [X] twp -> township\n",
    "\n",
    "* заменим сокращенные названия городов на полные."
   ]
  },
  {
   "cell_type": "code",
   "execution_count": null,
   "metadata": {},
   "outputs": [],
   "source": [
    "# Удалим строки с пропусками\n",
    "\n",
    "df.dropna(subset='city', axis=0, inplace=True)"
   ]
  },
  {
   "cell_type": "code",
   "execution_count": null,
   "metadata": {},
   "outputs": [],
   "source": [
    "# Приводим к нижему регистру\n",
    "\n",
    "df['city'] = df['city'].str.lower()"
   ]
  },
  {
   "cell_type": "code",
   "execution_count": null,
   "metadata": {},
   "outputs": [],
   "source": [
    "# Обработка пустых названий и other  \n",
    "# Создадим датафрейм для подбора подходящего названия города по индексу\n",
    "\n",
    "zip_city_df = df.groupby(['zipcode', 'city'])['city'].count()\n",
    "\n",
    "# Отберем все города, где вместо названия содержится слово other\n",
    "\n",
    "ind = []\n",
    "ind.extend(df[df['city'].str.contains('other') == True].index)\n",
    "ind.extend(df[df['city'] == ' '].index)\n",
    "\n",
    "# Заменим на наиболее подходящее название города\n",
    "\n",
    "df.loc[ind, 'city']\\\n",
    "= df.loc[ind, ['zipcode']]\\\n",
    ".applymap(lambda x: zip_city_df[x].sort_values(ascending=False).index[0]).squeeze()\n",
    "\n",
    "# Если не удалось подобрать название города по индексу - оставим other, чтобы не терять данные\n",
    "\n",
    "ind = df[df['city'].str.contains('other') == True].index\n",
    "df.loc[ind, 'city'] = 'other'"
   ]
  },
  {
   "cell_type": "code",
   "execution_count": null,
   "metadata": {},
   "outputs": [],
   "source": [
    "# Отберем все города, где слово city написано слитно\n",
    "\n",
    "ind = df[df['city'].str.contains(r'\\wcity') == True].index\n",
    "\n",
    "# Заменим на наиболее подходящее название города\n",
    "\n",
    "p = re.compile('(\\w+)city') # создадим объект regex для поиска\n",
    "df.loc[ind, 'city'] = df.loc[ind, ['city']]\\\n",
    "    .applymap(lambda x: p.findall(x)[0] + ' city').squeeze()\n"
   ]
  },
  {
   "cell_type": "code",
   "execution_count": null,
   "metadata": {},
   "outputs": [],
   "source": [
    "# Отберем все города, где вначале написано st или st.\n",
    "\n",
    "ind = df[df['city'].str.match('(st\\.*)\\s+') == True].index\n",
    "\n",
    "# Заменим на наиболее подходящее название города\n",
    "\n",
    "p = re.compile('(st\\.*)\\s+') # создадим объект regex для поиска\n",
    "df.loc[ind, 'city'] = df.loc[ind, ['city']]\\\n",
    "    .applymap(lambda x: 'saint ' + x[p.match(x).end():]).squeeze()"
   ]
  },
  {
   "cell_type": "code",
   "execution_count": null,
   "metadata": {},
   "outputs": [],
   "source": [
    "# Отберем все города, где есть сокращение pt/pt.\n",
    "\n",
    "ind = df[df['city'].str.match('(pt\\.*)\\s+', case=False) == True].index\n",
    "\n",
    "# Заменим на развернутое port\n",
    "\n",
    "p = re.compile('(pt\\.*)\\s+') # создадим объект regex для поиска\n",
    "df.loc[ind, 'city'] = df.loc[ind, ['city']]\\\n",
    "    .applymap(lambda x: 'port ' + x[p.match(x).end():]).squeeze()"
   ]
  },
  {
   "cell_type": "code",
   "execution_count": null,
   "metadata": {},
   "outputs": [],
   "source": [
    "# Отберем все города, где есть сокращение ft/ft.\n",
    "\n",
    "ind = df[df['city'].str.match('(ft\\.*)\\s+', case=False) == True].index\n",
    "\n",
    "# Заменим на развернутое fort\n",
    "\n",
    "p = re.compile('(ft\\.*)\\s+') # создадим объект regex для поиска\n",
    "df.loc[ind, 'city'] = df.loc[ind, ['city']]\\\n",
    "    .applymap(lambda x: 'fort ' + x[p.match(x).end():]).squeeze()"
   ]
  },
  {
   "cell_type": "code",
   "execution_count": null,
   "metadata": {},
   "outputs": [],
   "source": [
    "# Отберем все города, где есть сокращение mt/mt.\n",
    "\n",
    "ind = df[df['city'].str.match('(mt\\.*)\\s+', case=False) == True].index\n",
    "\n",
    "# Заменим на развернутое mount\n",
    "\n",
    "p = re.compile('(mt\\.*)\\s+') # создадим объект regex для поиска\n",
    "df.loc[ind, 'city'] = df.loc[ind, ['city']]\\\n",
    "    .applymap(lambda x: 'mount ' + x[p.match(x).end():]).squeeze()"
   ]
  },
  {
   "cell_type": "code",
   "execution_count": null,
   "metadata": {},
   "outputs": [],
   "source": [
    "# Отберем все города, где есть сокращение twp/twp.\n",
    "\n",
    "ind = df[df['city'].str.contains('\\s+(twp\\.?)', case=False) == True].index\n",
    "\n",
    "# Заменим на развернутое township\n",
    "\n",
    "p = re.compile('\\s+(twp\\.?)') # создадим объект regex для поиска\n",
    "df.loc[ind, 'city'] = df.loc[ind, ['city']]\\\n",
    "    .applymap(lambda x: x[:p.search(x).start()] + ' township').squeeze()"
   ]
  },
  {
   "cell_type": "code",
   "execution_count": null,
   "metadata": {},
   "outputs": [],
   "source": [
    "# Заменим сокращенные названия городов на полные\n",
    "\n",
    "df.loc[df[df['city'] == 'new york city'].index, 'city'] = 'new york'\n",
    "df.loc[df[df['city'] == 'e. new york'].index, 'city'] = 'brooklyn'\n",
    "df.loc[df[df['city'] == 'point charlotte'].index, 'city'] = 'port charlotte'\n",
    "df.loc[df[df['city'] == 'p c beach'].index, 'city'] = 'panama city beach'\n",
    "df.loc[df[df['city'] == 'west panama city beach'].index, 'city'] = 'panama city beach'\n",
    "df.loc[df[df['city'] == 'city beach'].index, 'city'] = 'panama city beach'\n",
    "df.loc[df[df['city'] == 'piney pt village'].index, 'city'] = 'piney point village'\n",
    "df.loc[df[df['city'] == 'city center'].index, 'city'] = 'las vegas'\n",
    "df.loc[df[df['city'] == 'pete beach'].index, 'city'] = 'saint pete beach'\n",
    "df.loc[df[df['city'] == 'atlaanta'].index, 'city'] = 'atlanta'\n",
    "df.loc[df[df['city'] == 'n miami beach'].index, 'city'] = 'miami beach'"
   ]
  },
  {
   "cell_type": "code",
   "execution_count": null,
   "metadata": {},
   "outputs": [],
   "source": [
    "# Т.К. признак zipcode более не нужен, удаляем его\n",
    "\n",
    "df.drop('zipcode', axis=1, inplace=True)"
   ]
  },
  {
   "cell_type": "markdown",
   "metadata": {},
   "source": [
    "##### Признак <b><u>schools</u></b> по структуре похож на формат json файла с вложенными словарями и списками, в которых содержатся следующие данные:\n",
    "* rating - рейтинг школ\n",
    "* data, содержащий несколько сведений:\n",
    "\n",
    "    - Distance - дистанции до школ, в милях;\n",
    "    - Grades - уровень школы (младшая/средняя/старшая/и тд);\n",
    "    - name - наименование школы.\n",
    "\n",
    "##### Для нас интересны только <u>rating</u> и <u>Distance</u>, остальные проигнорируем.\n",
    "##### Для начала преобразуем строковое значение в словарь и создадим два новых признака <u>rating</u> и <u>distance</u>"
   ]
  },
  {
   "cell_type": "code",
   "execution_count": null,
   "metadata": {},
   "outputs": [],
   "source": [
    "# Создаем новые признаки и удаляем признак school\n",
    "\n",
    "df['rating'] = df['schools'].apply(lambda x: ast.literal_eval(x)[0]['rating'])\n",
    "df['distance'] = df['schools'].apply(lambda x: ast.literal_eval(x)[0]['data']['Distance'])\n",
    "df = df.drop(['schools'], axis=1)"
   ]
  },
  {
   "cell_type": "markdown",
   "metadata": {},
   "source": [
    "##### Значение признака <b><u>rating</u></b> представлено в виде списка рейтингов школ в данном районе. Список может быть либо пустым, либо содержать 'NR' (нет рейтинга) и 'NA' (нет данных). Создадим на основе данного признака новый признак <b><u>rating_school</u></b> - среднее значение рейтинга школ в данном районе. "
   ]
  },
  {
   "cell_type": "code",
   "execution_count": null,
   "metadata": {},
   "outputs": [],
   "source": [
    "# Функция обработчик признака raiting\n",
    "\n",
    "def rating_mean(sign):\n",
    "    temp_list = []\n",
    "    list_rating = ['1', '2', '3', '4', '5', '6', '7', '8', '9', '10']\n",
    "    \n",
    "    if sign == []:\n",
    "        return np.nan\n",
    "    else:\n",
    "        for i in sign:\n",
    "            i = i.split('/')[0]\n",
    "            if i in list_rating:\n",
    "                temp_list.append(float(i))\n",
    "        sign_mean = round(np.mean(temp_list), 2)\n",
    "        return sign_mean   "
   ]
  },
  {
   "cell_type": "code",
   "execution_count": null,
   "metadata": {},
   "outputs": [],
   "source": [
    "# Применяем функцию-обработчик к признаку, пустые значения заполняем средним\n",
    "# Удаляем признак reiting \n",
    "\n",
    "df['rating_school'] = df['rating'].apply(rating_mean)\n",
    "df['rating_school'] = df['rating_school'].fillna(round(df['rating_school'].mean(), 2))\n",
    "df = df.drop(['rating'], axis=1)                                                           "
   ]
  },
  {
   "cell_type": "markdown",
   "metadata": {},
   "source": [
    "##### Признак <b><u>distance</u></b> представлен в виде списка из расстояний до школ. Создадим на его основе два новых признака: <b><u>distance_school</u></b> (среднее расстояние до школы) и <b><u>schools_count</u></b> (количество школ в данном районе)."
   ]
  },
  {
   "cell_type": "code",
   "execution_count": null,
   "metadata": {},
   "outputs": [],
   "source": [
    "# Функция обработчик признака distance\n",
    "\n",
    "def distance_mean(sign):\n",
    "    temp_list = []\n",
    "    \n",
    "    for i in sign:\n",
    "        i = i.split('mi')[0]\n",
    "        temp_list.append(float(i))\n",
    "    dist_mean = round(np.mean(temp_list), 2)\n",
    "    schools_count = len(temp_list)\n",
    "    return [dist_mean, schools_count]"
   ]
  },
  {
   "cell_type": "code",
   "execution_count": null,
   "metadata": {},
   "outputs": [],
   "source": [
    "# Применяем функцию-обработчик к признаку и создаем новые признаки\n",
    "# В признаке school_count нулевые значения заполняем медианой\n",
    "# В признаке distance_school пустые значения заполняем средним\n",
    "# Удаляем признак distance\n",
    "\n",
    "df['distance_school'] = df['distance'].apply(lambda x: distance_mean(x)[0])\n",
    "df['schools_count'] = df['distance'].apply(lambda x: distance_mean(x)[1])\n",
    "df['schools_count'] = df['schools_count'].apply(lambda x: df['schools_count'].median() if x==0 else x)\n",
    "df['distance_school'] = df['distance_school'].fillna(round(df['distance_school'].mean(), 2))                                                 \n",
    "df = df.drop(['distance'], axis=1)"
   ]
  },
  {
   "cell_type": "markdown",
   "metadata": {},
   "source": [
    "##### В признаке <b><u>sqft</u></b> имеются записи в следующих форматов: '--', '2500 sqft', '-- sqft', 'Total interior livable area: 2,533 sqft' и т.д. Кроме того имеются пропущенные значения. Напишем функцию-обработчик, которая удалит лишние символы и приведет значения к единому числовому формату. Пропущенные значения заменим медианой."
   ]
  },
  {
   "cell_type": "code",
   "execution_count": null,
   "metadata": {},
   "outputs": [],
   "source": [
    "df['sqft'].value_counts()[:20]"
   ]
  },
  {
   "cell_type": "code",
   "execution_count": null,
   "metadata": {},
   "outputs": [],
   "source": [
    "# Функция-обработчик для признака sqft\n",
    "\n",
    "def sqft_num(sign):\n",
    "    if sign is np.nan or sign == '--' or sign.replace(',', '').split(' ')[0]=='--':\n",
    "        return np.nan\n",
    "    if sign.replace(',', '').split(' ')[0].lower()=='total':\n",
    "        sign = float(sign.replace(',', '').split(' ')[-2])\n",
    "    else:\n",
    "        sign = float(sign.replace(',', '').split(' ')[0])        \n",
    "    return sign"
   ]
  },
  {
   "cell_type": "code",
   "execution_count": null,
   "metadata": {},
   "outputs": [],
   "source": [
    "# Применим функцию\n",
    "# Пропущенные значения заменим медианой\n",
    "\n",
    "df['sqft'] = df['sqft'].apply(sqft_num)\n",
    "df['sqft'] = df['sqft'].fillna(df['sqft'].median())"
   ]
  },
  {
   "cell_type": "code",
   "execution_count": null,
   "metadata": {},
   "outputs": [],
   "source": [
    "# Выведем описательные статистики признака\n",
    "\n",
    "df.sqft.describe()"
   ]
  },
  {
   "cell_type": "markdown",
   "metadata": {},
   "source": [
    "##### Удалось привести к единому числовому формату. Про выбросы в данном признаке говорить сложно, т.к. площадь можетбыть любой, кроме отрицательной конечно, которую мы и не наблюдаем."
   ]
  },
  {
   "cell_type": "markdown",
   "metadata": {},
   "source": [
    "##### Обработка признака <b><u>beds</u></b> - количество спален"
   ]
  },
  {
   "cell_type": "markdown",
   "metadata": {},
   "source": [
    "##### Признак <b><u>beds</u></b> содержит количество спальных комнат либо в виде числа, либо в формате \"`n` Beds/bd\", где `n` - число спален. Встречаются и пустые записи, а также записи, в которых вместо количества спален записана площадь в квадратных футах или акрах, которые нас не интересуют."
   ]
  },
  {
   "cell_type": "code",
   "execution_count": null,
   "metadata": {},
   "outputs": [],
   "source": [
    "# Функция для выделения числа спален\n",
    "\n",
    "def beds_num(s):\n",
    "    if s is np.NaN:\n",
    "        result = np.NaN  # если строка пустая, сохраним NaN\n",
    "    elif s.isdigit():\n",
    "        result = s # если в строке только число спален без точки, оставляем строку\n",
    "    else:\n",
    "        result = re.findall(r'(\\d+)\\s+[Bb]ed', s) # выделяем число спален из формата 10 Beds\n",
    "        if len(result) > 0:\n",
    "            result = result[0]\n",
    "        else:\n",
    "            result = re.findall(r'(\\d+)\\.*\\d*\\s+bd', s) # выделяем число спален из формата 3.0 bd\n",
    "            if len(result) > 0:\n",
    "                result = result[0]\n",
    "            else:\n",
    "                result = re.findall(r'(\\d+)\\.', s) # выделяем число спален из формата 10.0\n",
    "                if len(result) > 0:\n",
    "                    result = result[0]\n",
    "                else:\n",
    "                    result = np.NaN # если спален нет, а только текст, то - np.NaN\n",
    "\n",
    "    # Возвращаем число спален в формате float\n",
    "    return float(result)"
   ]
  },
  {
   "cell_type": "code",
   "execution_count": null,
   "metadata": {},
   "outputs": [],
   "source": [
    "# Применяем написанную функцию для выделения числа спален\n",
    "\n",
    "df['beds'] = df['beds'].apply(beds_num)"
   ]
  },
  {
   "cell_type": "markdown",
   "metadata": {},
   "source": [
    "##### Проверим, что данные распределены нормально с помощью теста Шапиро-Уилка.\n",
    "##### Проверим следующие гипотезы:\n",
    "* $H_0$: Данные распределены нормально; \n",
    "* $H_1$: Распределение данных отлично от нормального.\n",
    "##### Уровень значимости $\\alpha$=0.05. "
   ]
  },
  {
   "cell_type": "code",
   "execution_count": null,
   "metadata": {},
   "outputs": [],
   "source": [
    "# Проверка данных на нормальность\n",
    "\n",
    "# Нулевая и альтернативная гипотезы\n",
    "H0 = 'Данные распределены нормально'\n",
    "H1 = 'Распределение данных отлично от нормального'\n",
    "\n",
    "# Уровень значимости\n",
    "alpha = 0.05\n",
    "\n",
    "# Вычисляем результат теста Шапиро — Уилка\n",
    "_, p = shapiro(df['beds'])\n",
    "\n",
    "# Выводим результат на экран\n",
    "print('p-value = %.3f' % p)\n",
    "\n",
    "# Сравниваем полученное p-value с уровнем значимости\n",
    "if p > alpha:\n",
    "    print(f\"Принимаем нулевую гипотезу: {H0}\")\n",
    "else:\n",
    "    print(f\"Отвергаем нулевую гипотезу в пользу альтернативной\")\n",
    "    print(f\"Альтернативная гипотеза: {H1}\")"
   ]
  },
  {
   "cell_type": "markdown",
   "metadata": {},
   "source": [
    "##### Воспользуемся методом Тьюки, чтобы выявить выбросы в данных."
   ]
  },
  {
   "cell_type": "code",
   "execution_count": null,
   "metadata": {},
   "outputs": [],
   "source": [
    "# Воспользуемся ранее написанной функцией для определения выбросов\n",
    "outliers, cleaned = outliers_iqr(df, 'beds')\n",
    "\n",
    "print(f'Число выбросов по методу Тьюки: {outliers.shape[0]}')\n",
    "print('ТОП-5 значений по количеству выбросов:',\n",
    "    outliers['beds'].value_counts().nlargest(5))"
   ]
  },
  {
   "cell_type": "markdown",
   "metadata": {},
   "source": [
    "##### Метод Тьюки отнес к выбросам ноль спален, одну спальню, а также свыше 5.\n",
    "##### Можно предположить, что число спален находится в некоей зависимости от числа ванных комнат, т.е. число ванных комнат редко превышает число спален. Проверим предположение, вычислив отношение и взяв медиану.   "
   ]
  },
  {
   "cell_type": "code",
   "execution_count": null,
   "metadata": {},
   "outputs": [],
   "source": [
    "print('Отношение числа спален к числу ванных:', (df.beds / df.baths).median().round(2))"
   ]
  },
  {
   "cell_type": "markdown",
   "metadata": {},
   "source": [
    "##### Предположение подтвердилось. Имея обработанный признак \"baths\" мы можем сверяться с вычисленным значением \"beds\".  Спальни отсутствуют на пустых участках, 1 спальня вполне может быть в недорогом односемейном доме. Посколько для ванных мы ограничили данные чилом 7, следовательно спален в таком случае может быть: `7 * 1.33 = 9.31`. Округлим до 9. Тогда будем считать выбросами все записи, в которых число спален превышает 9. "
   ]
  },
  {
   "cell_type": "code",
   "execution_count": null,
   "metadata": {},
   "outputs": [],
   "source": [
    "# Проверим количество объектов, у которых спален больше 9\n",
    "\n",
    "beds_9 = df[df['beds'] > 9].index\n",
    "print(f'Свыше 9 спален насчитывается в {len(beds_9)} объектах')\n",
    "print('Это составляет {:2.2%} всего датафрейма'.format(len(beds_9)/df.shape[0]))"
   ]
  },
  {
   "cell_type": "code",
   "execution_count": null,
   "metadata": {},
   "outputs": [],
   "source": [
    "# Удаляем эти записи\n",
    "\n",
    "df.drop(beds_9, axis=0, inplace=True)"
   ]
  },
  {
   "cell_type": "markdown",
   "metadata": {},
   "source": [
    "##### Заполним пропуски в данных медианным значением"
   ]
  },
  {
   "cell_type": "code",
   "execution_count": null,
   "metadata": {},
   "outputs": [],
   "source": [
    "# Заполним пропуски медианным значением\n",
    "\n",
    "df.beds = df.beds.fillna(df.beds.median())  "
   ]
  },
  {
   "cell_type": "markdown",
   "metadata": {},
   "source": [
    "##### Признак <b><u>state</u></b>"
   ]
  },
  {
   "attachments": {
    "image.png": {
     "image/png": "[encoded data removed]"
    }
   },
   "cell_type": "markdown",
   "metadata": {},
   "source": [
    "##### В признаке <b><u>state</u></b> обнаружились несуществующие аббревиатуры штатов. Соберем их в таблицу с количеством записей и способом устранения ошибки.\n",
    "\n",
    "![image.png](attachment:image.png)"
   ]
  },
  {
   "cell_type": "code",
   "execution_count": null,
   "metadata": {},
   "outputs": [],
   "source": [
    "# Заменим неверные аббревиатуры шатов\n",
    "\n",
    "df.loc[df[df['state'] == 'Fl'].index, 'state'] = 'FL'\n",
    "df.loc[df[df['state'] == 'DC'].index, 'state'] = 'WA'\n",
    "\n",
    "# По остальным сохраним индекс и удалим записи по индексам\n",
    "\n",
    "ind = []\n",
    "ind.extend(df[df['state'] == 'BA'].index)\n",
    "ind.extend(df[df['state'] == 'OS'].index)\n",
    "ind.extend(df[df['state'] == 'AL'].index)\n",
    "ind.extend(df[df['state'] == 'OT'].index)\n",
    "df.drop(ind, axis=0, inplace=True)"
   ]
  },
  {
   "cell_type": "markdown",
   "metadata": {},
   "source": [
    "##### В признаке <b><u>stories</u></b> записи представлены в строковом формате, некоторые прописаны словами ('One', 'One,' '1 Story'), некоторые числами. Имеются пропущенные значения и специальные символы, например, '+'. Имеются записи не имеющие никакого отношения к этажности т.е. неинформативные. Напишем функцию-обработчик признака stories, с помощью которой приведем значения этажности к единому числовому формату. Пропущенные и неинформативные значения заполним медианой."
   ]
  },
  {
   "cell_type": "code",
   "execution_count": null,
   "metadata": {},
   "outputs": [],
   "source": [
    "df['stories'].value_counts()[:25]"
   ]
  },
  {
   "cell_type": "code",
   "execution_count": null,
   "metadata": {},
   "outputs": [],
   "source": [
    "# Функция обработчик признака stories\n",
    "\n",
    "def stories_num(sign):\n",
    "    # словарь для замены номеров этажей\n",
    "    stories_dict = {'One':1, 'Two':2, 'Three':3, 'Tri-Level':3, 'One,':1, '1-2':1.5, 'Bi-Level':2, '3-4':3.5, 'Two,':2, 'Tri':3}\n",
    "    \n",
    "    if sign is not np.nan:\n",
    "        sign = sign.replace('+', '').split(' ')[0]\n",
    "        if sign in stories_dict.keys():\n",
    "            sign = stories_dict[sign]\n",
    "            try:\n",
    "                sign = float(sign)\n",
    "                return sign\n",
    "            except ValueError:\n",
    "                sign = np.nan\n",
    "                return sign\n",
    "        else:\n",
    "            try:\n",
    "                sign = float(sign)\n",
    "                return sign\n",
    "            except ValueError:\n",
    "                sign = np.nan\n",
    "                return sign\n",
    "    else:\n",
    "        return sign"
   ]
  },
  {
   "cell_type": "code",
   "execution_count": null,
   "metadata": {},
   "outputs": [],
   "source": [
    "# Применяем функцию\n",
    "\n",
    "df['stories'] = df['stories'].apply(stories_num)"
   ]
  },
  {
   "cell_type": "code",
   "execution_count": null,
   "metadata": {},
   "outputs": [],
   "source": [
    "df['stories'].value_counts()"
   ]
  },
  {
   "cell_type": "code",
   "execution_count": null,
   "metadata": {},
   "outputs": [],
   "source": [
    "df[df['stories'] > 100]"
   ]
  },
  {
   "cell_type": "markdown",
   "metadata": {},
   "source": [
    "##### Число этажей может быть любым, кроме отрицательного конечно, но такие значения отсутствуют. Тем не менее есть два объекта с этажностью более 100, явно это выбросы. Избавимся от них."
   ]
  },
  {
   "cell_type": "code",
   "execution_count": null,
   "metadata": {},
   "outputs": [],
   "source": [
    "df = df[df['stories'] < 100].reset_index().drop(['index'], axis=1)"
   ]
  },
  {
   "cell_type": "code",
   "execution_count": null,
   "metadata": {},
   "outputs": [],
   "source": [
    "# Заполним пропуски медианой\n",
    "\n",
    "df['stories'] = df['stories'].fillna(df['stories'].median())"
   ]
  },
  {
   "cell_type": "markdown",
   "metadata": {},
   "source": [
    "#### Вывод:\n",
    "##### Итак, мы закончили предобработку данных. В процессе нее сделали следующее:\n",
    "* удалили неинформативные признаки;\n",
    "* привели числовые данные к числовому типу;\n",
    "* разобрались с выбросами;\n",
    "* создали новые признаки."
   ]
  },
  {
   "cell_type": "code",
   "execution_count": null,
   "metadata": {},
   "outputs": [],
   "source": [
    "# Выведем информацию о данных после очистки\n",
    "\n",
    "df.info()"
   ]
  },
  {
   "cell_type": "markdown",
   "metadata": {},
   "source": [
    "##### <center><b>EDA анализ данных</b></center>"
   ]
  },
  {
   "cell_type": "markdown",
   "metadata": {},
   "source": [
    "##### В очищенном датасете осталось 213850 наблюдений. Выведем информацию о распределении целевой переменной."
   ]
  },
  {
   "cell_type": "code",
   "execution_count": null,
   "metadata": {},
   "outputs": [],
   "source": [
    "fig = px.histogram(\n",
    "    data_frame=df,\n",
    "    x='target',    \n",
    "    title='Распределение признака target',\n",
    "    text_auto=True,    \n",
    "    height=800,    \n",
    "    width=1500,\n",
    "    marginal='box'     \n",
    ")\n",
    "fig.show();"
   ]
  },
  {
   "cell_type": "code",
   "execution_count": null,
   "metadata": {},
   "outputs": [],
   "source": [
    "# Выведем информации об асиметрия распределения данных\n",
    " \n",
    "print(f\"Значение асимметрии равно:  {df['target'].skew().round(2)}\")"
   ]
  },
  {
   "cell_type": "markdown",
   "metadata": {},
   "source": [
    "##### Распределение целевой переменной имеет визуально читаемый вид. Признак асиметричный - коэффициент асиметрии положительный и равен 2.73. Это говорит о смещении вправо. На графике наблюдаем длинный правый хвост, в котором имеются наблюдения с большим диапазоном разброса цен:\n",
    "* Медианное значение 325000$\n",
    "* Среднее - 462330$\n",
    "* Минимальное - 34251$\n",
    "* Максимальное - 3195000$"
   ]
  },
  {
   "cell_type": "markdown",
   "metadata": {},
   "source": [
    "##### Попытаемся найти зависимости в признаках и сформировать гипотезы/выводы.\n",
    "##### Зависимость целевого признака <b>target</b> от признака <b>status</b>."
   ]
  },
  {
   "cell_type": "code",
   "execution_count": null,
   "metadata": {},
   "outputs": [],
   "source": [
    "# Распределение признака status\n",
    "\n",
    "fig = px.histogram(\n",
    "    data_frame=df.groupby(['status'], as_index=False)['target'].count(),\n",
    "    x='status',\n",
    "    y= ['target'],\n",
    "    color='status',\n",
    "    height=500, \n",
    "    width=1000, \n",
    "    title='Распределение признака status',\n",
    "    text_auto=True   \n",
    ")\n",
    "\n",
    "fig.show();"
   ]
  },
  {
   "cell_type": "markdown",
   "metadata": {},
   "source": [
    "##### Основная масса недвижимости со статусом for sale, наименьшее количество со статусом foreclosure."
   ]
  },
  {
   "cell_type": "code",
   "execution_count": null,
   "metadata": {},
   "outputs": [],
   "source": [
    "# Зависимость медианного значения целевой переменной от status\n",
    "\n",
    "fig = px.bar(\n",
    "    data_frame= df.groupby(['status'], as_index=False)['target'].median(),\n",
    "    x='status',\n",
    "    y='target',\n",
    "    color='status',\n",
    "    text='target', \n",
    "    orientation='v',\n",
    "    title='Зависимость медианного значения признака target от признака status',\n",
    "    height=500, \n",
    "    width=1000   \n",
    ")\n",
    "\n",
    "fig.show();"
   ]
  },
  {
   "cell_type": "markdown",
   "metadata": {},
   "source": [
    "##### Медианная стоимость недвижимости в зависимости от статуса распределена следующим образом: наибольшая зафиксирована в категории new construction, наименьшая в категории foreclosure. Что касается категорий active и for sale, то судя по графику разницы в распределении цен практически нет. Чтобы подтвердить это проведем статистические тесты. Например, критерий Краскела-Уоллиса.\n",
    "##### Проверим следующие гипотезы:\n",
    "* $H_0$: Нет статистически значимой разницы между ценой недвижимости с разным статусом продажи; \n",
    "* $H_1$: Есть статистически значимая разница между ценой недвижимости с разным статусом продажи.\n",
    "##### Уровень значимости $\\alpha$=0.05."
   ]
  },
  {
   "cell_type": "code",
   "execution_count": null,
   "metadata": {},
   "outputs": [],
   "source": [
    "# Сгруппируем данные по признаку status\n",
    "\n",
    "for_sale = df[df['status']=='for sale']['target'].values\n",
    "active = df[df['status']=='active']['target'].values\n",
    "foreclosure = df[df['status']=='foreclosure']['target'].values\n",
    "new_construction = df[df['status']=='new construction']['target'].values\n",
    "pending = df[df['status']=='pending']['target'].values\n",
    "other = df[df['status']=='other']['target'].values"
   ]
  },
  {
   "cell_type": "code",
   "execution_count": null,
   "metadata": {},
   "outputs": [],
   "source": [
    "# Критерий Краскела-Уоллиса\n",
    "\n",
    "from scipy import stats\n",
    "\n",
    "# Нулевая и альтернативная гипотезы\n",
    "H0 = 'Нет статистически значимой разницы между ценой недвижимости с разным статусом продажи'\n",
    "H1 = 'Есть статистически значимая разница между ценой недвижимости с разным статусом продажи'\n",
    "\n",
    "# Уровень значимости\n",
    "alpha = 0.05\n",
    "\n",
    "# Вычисляем результат\n",
    "_, p = stats.kruskal(for_sale, active, foreclosure, new_construction, pending, other)\n",
    "\n",
    "# Выводим результат на экран\n",
    "print('p-value = %.3f' % p)\n",
    "\n",
    "# Сравниваем полученное p-value с уровнем значимости\n",
    "if p > alpha:\n",
    "    print(f\"Принимаем нулевую гипотезу: {H0}\")\n",
    "else:\n",
    "    print(f\"Отвергаем нулевую гипотезу в пользу альтернативной\")\n",
    "    print(f\"Альтернативная гипотеза: {H1}\")"
   ]
  },
  {
   "cell_type": "markdown",
   "metadata": {},
   "source": [
    "##### Т.к. результат теста Краскела-Уоллиса показал, что статистическая значимость между ценой недвижимости с разным сатусом продажи есть, целесообразно провести тест Данна, чтобы точно определить, какие именно статусы отличаются."
   ]
  },
  {
   "cell_type": "code",
   "execution_count": null,
   "metadata": {},
   "outputs": [],
   "source": [
    "# Тест Данна\n",
    "\n",
    "import scikit_posthocs as sp\n",
    "\n",
    "data = [for_sale, active, foreclosure, new_construction, pending, other]\n",
    "sp.posthoc_dunn (data, p_adjust = 'bonferroni')[sp.posthoc_dunn (data, p_adjust = 'bonferroni') < 0.05]"
   ]
  },
  {
   "cell_type": "markdown",
   "metadata": {},
   "source": [
    "##### Критерий Краскела-Уоллиса и тест Данна доказали, что существует статистически значимая разница между ценой недвижимости с разным значением признака status."
   ]
  },
  {
   "cell_type": "markdown",
   "metadata": {},
   "source": [
    "##### Зависимость целевого признака <b>target</b> от <b>propertyType</b>"
   ]
  },
  {
   "cell_type": "code",
   "execution_count": null,
   "metadata": {},
   "outputs": [],
   "source": [
    "# Распределение признака propertyType\n",
    "\n",
    "fig = px.histogram(\n",
    "    data_frame=df.groupby(['propertyType'], as_index=False)['target'].count().sort_values(by=['target'], ascending=False),\n",
    "    x='propertyType',\n",
    "    y= ['target'],\n",
    "    color='propertyType',\n",
    "    height=500, \n",
    "    width=1000, \n",
    "    title='Распределение признака propertyType',\n",
    "    text_auto=True   \n",
    ")\n",
    "\n",
    "fig.show();"
   ]
  },
  {
   "cell_type": "markdown",
   "metadata": {},
   "source": [
    "##### Около 70 % объявлений о продаже недвижимости приходится на категорию single family, Наименьшее количество на категории single detached."
   ]
  },
  {
   "cell_type": "code",
   "execution_count": null,
   "metadata": {},
   "outputs": [],
   "source": [
    "# Зависимость медианного значения целевой переменной от propertyType\n",
    "\n",
    "fig = px.bar(\n",
    "    data_frame= df.groupby(['propertyType'], as_index=False)['target'].median().sort_values(by=['target'], ascending=False),\n",
    "    x='propertyType',\n",
    "    y='target',\n",
    "    color='propertyType',\n",
    "    text='target', \n",
    "    orientation='v',\n",
    "    title='Зависимость медианного значения признака target от признака propertyType',\n",
    "    height=500, \n",
    "    width=1000   \n",
    ")\n",
    "\n",
    "fig.show();"
   ]
  },
  {
   "cell_type": "markdown",
   "metadata": {},
   "source": [
    "##### Видим, что признак single detached существенно влияет на цену недвижимости, наименьшее влияние, судя по графику оказывают признаки land и high rise, хотя это скорее всего обусловлено количеством объявлений 13 и 3. Что касается категорий single family, condo, other и townhouse, то судя по графику разницы в распределении цен практически нет. Чтобы подтвердить это проведем статистический тест.\n",
    "##### Проверим следующие гипотезы:\n",
    "* $H_0$: Нет статистически значимой разницы между ценой разного типа недвижимости; \n",
    "* $H_1$: Есть статистически значимая разница между  ценой разного типа недвижимости.\n",
    "##### Уровень значимости $\\alpha$=0.05."
   ]
  },
  {
   "cell_type": "code",
   "execution_count": null,
   "metadata": {},
   "outputs": [],
   "source": [
    "# Сгруппируем данные по признаку propertyType\n",
    "\n",
    "single_detached = df[df['propertyType']=='single detached']['target'].values\n",
    "multi_family = df[df['propertyType']=='multi family']['target'].values\n",
    "coop = df[df['propertyType']=='coop']['target'].values\n",
    "propertyType = df[df['propertyType']=='single family']['target'].values\n",
    "condo = df[df['propertyType']=='condo']['target'].values\n",
    "other = df[df['propertyType']=='other']['target'].values\n",
    "townhouse = df[df['propertyType']=='townhouse']['target'].values\n",
    "traditional = df[df['propertyType']=='traditional']['target'].values\n",
    "land = df[df['propertyType']=='land']['target'].values\n",
    "high_rise = df[df['propertyType']=='high rise']['target'].values"
   ]
  },
  {
   "cell_type": "code",
   "execution_count": null,
   "metadata": {},
   "outputs": [],
   "source": [
    "# Критерий Краскела-Уоллиса\n",
    "\n",
    "# Нулевая и альтернативная гипотезы\n",
    "H0 = 'Нет статистически значимой разницы между ценой разного типа недвижимости'\n",
    "H1 = 'Есть статистически значимая разница между ценой разного типа недвижимости'\n",
    "\n",
    "# Уровень значимости\n",
    "alpha = 0.05\n",
    "\n",
    "# Вычисляем результат\n",
    "_, p = stats.kruskal(single_detached, multi_family, coop, propertyType, condo, other, townhouse, traditional, land, high_rise)\n",
    "\n",
    "# Выводим результат на экран\n",
    "print('p-value = %.3f' % p)\n",
    "\n",
    "# Сравниваем полученное p-value с уровнем значимости\n",
    "if p > alpha:\n",
    "    print(f\"Принимаем нулевую гипотезу: {H0}\")\n",
    "else:\n",
    "    print(f\"Отвергаем нулевую гипотезу в пользу альтернативной\")\n",
    "    print(f\"Альтернативная гипотеза: {H1}\")"
   ]
  },
  {
   "cell_type": "markdown",
   "metadata": {},
   "source": [
    "##### Критерий Краскела-Уоллиса показал, что существует статистически значимая разница между ценой разного типа недвижимости."
   ]
  },
  {
   "cell_type": "markdown",
   "metadata": {},
   "source": [
    "##### Зависимость целевого признака <b>target</b> от признака <b>state</b>"
   ]
  },
  {
   "cell_type": "code",
   "execution_count": null,
   "metadata": {},
   "outputs": [],
   "source": [
    "# Распределение объявлений по штатам\n",
    "\n",
    "fig = px.histogram(\n",
    "    data_frame=df.groupby(['state'], as_index=False)['target'].count().sort_values(by=['target'], ascending=False),\n",
    "    x='state',\n",
    "    y= ['target'],\n",
    "    color='state',\n",
    "    height=500, \n",
    "    width=1000, \n",
    "    title='Распределение признака state',\n",
    "    text_auto=True   \n",
    ")\n",
    "\n",
    "fig.show();"
   ]
  },
  {
   "cell_type": "markdown",
   "metadata": {},
   "source": [
    "##### На графике представлены данные по 30 штатам, болше всего предложиний в штате Техас (TX) 59582 и штате Флорида (FL) 57907, наименьшие значения в штатах Оклахома (OK), Южная Калифорния (SC), Кентукки (KY) и Делавэр (DE) - 30, 12, 4 и 4 соответственно."
   ]
  },
  {
   "cell_type": "code",
   "execution_count": null,
   "metadata": {},
   "outputs": [],
   "source": [
    "# Зависимость медианного значения целевой переменной от state\n",
    "\n",
    "fig = px.bar(\n",
    "    data_frame= df.groupby(['state'], as_index=False)['target'].median().sort_values(by=['target'], ascending=False),\n",
    "    x='state',\n",
    "    y='target',\n",
    "    color='state',\n",
    "    text='target', \n",
    "    orientation='v',\n",
    "    title='Зависимость медианного значения признака target от признака state',\n",
    "    height=500, \n",
    "    width=1000   \n",
    ")\n",
    "\n",
    "fig.show();"
   ]
  },
  {
   "cell_type": "markdown",
   "metadata": {},
   "source": [
    "##### По поводу медианной цены на недвижимость, то в лидерах штаты:\n",
    "* Калифорния (CA) - 650000$;\n",
    "* Массачусетс (MA) - 639000$;\n",
    "* Нью-Йорк (NY) - 618000$;\n",
    "* Вашингтон (WA) - 509000$;\n",
    "* Орегон (OR) - 469000$.\n",
    "##### Наименьшая стоимость:\n",
    "* Миссури (MO) - 180000$;\n",
    "* Огайо (OH) - 150000$;\n",
    "* Оклахома (OK) - 124450$;\n",
    "* Мичиган (MI) - 114900;\n",
    "* Айова (IA) - 112500.\n",
    "##### Можно предположить, что данный признак оказывает влияние на цену недвижимости."
   ]
  },
  {
   "cell_type": "markdown",
   "metadata": {},
   "source": [
    "##### Зависимость целевого признака <b>target</b> от признака <b>city</b>"
   ]
  },
  {
   "cell_type": "code",
   "execution_count": null,
   "metadata": {},
   "outputs": [],
   "source": [
    "# Зависимость медианного значения target от city\n",
    "\n",
    "treemap_data = df.groupby(by='city', as_index=False)[['target']].median().sort_values(by=['target'], ascending=False)[:101]\n",
    "\n",
    "#строим график\n",
    "fig = px.treemap(\n",
    "    data_frame=treemap_data, #DataFrame\n",
    "    path=['city'], #категориальный признак, для которого строится график\n",
    "    values='target', #параметр, который сравнивается\n",
    "    height=500, #высота\n",
    "    width=1500, #ширина\n",
    "    title='Зависимость медианного значения признака target от признака city' #заголовок    \n",
    ")\n",
    "\n",
    "#отображаем график\n",
    "fig.show();"
   ]
  },
  {
   "cell_type": "markdown",
   "metadata": {},
   "source": [
    "##### Топ-городов по цене недвижимости:\n",
    "* Saratoga (штат Калифорния) - 2998000$;\n",
    "* New Richmond (штат Огайо) - 2980000$;\n",
    "* Sunset Beach (штат Серерная Каролина) - 2822500$;\n",
    "* Friendswood (штат Техас) - 2750250$;\n",
    "* Rancho Park (штат Калифорния) - 2750000$.\n",
    "##### Наименьшая стоимость:\n",
    "* Dixie - 1140000$;\n",
    "* Coral gables - 1049000$;\n",
    "* Fremont - 1024880$;\n",
    "* Romayor - 999500$;\n",
    "* Woodland hills - 999500$.\n",
    "##### Также можно предположить о влиянии данного признака на стоимость недвижимости."
   ]
  },
  {
   "cell_type": "markdown",
   "metadata": {},
   "source": [
    "##### Зависимость целевого признака <b>target</b> от <b>beds</b>"
   ]
  },
  {
   "cell_type": "code",
   "execution_count": null,
   "metadata": {},
   "outputs": [],
   "source": [
    "# Распределение признака beds\n",
    "\n",
    "fig = px.histogram(\n",
    "    data_frame=df,\n",
    "    x='beds',    \n",
    "    title='Распределение beds',\n",
    "    text_auto=True,    \n",
    "    height=500,    \n",
    "    width=1000      \n",
    ")\n",
    "fig.show();"
   ]
  },
  {
   "cell_type": "markdown",
   "metadata": {},
   "source": [
    "##### По количеству спален объявления о продаже недвижимости располагаются следующим образом:\n",
    "* 3 beds - 104300;\n",
    "* 4 beds - 52805;\n",
    "* 2 beds - 32410.\n",
    "##### На последнем месте по количеству объявалений 9 beds - 179.\n",
    "##### Основная доля объектов приходится на количество beds от 2 до 5."
   ]
  },
  {
   "cell_type": "code",
   "execution_count": null,
   "metadata": {},
   "outputs": [],
   "source": [
    "# Диаграмма рассеивания зависимости медианного значения target от beds\n",
    "\n",
    "fig = px.scatter(\n",
    "    data_frame=df.groupby(['beds'], as_index=False)['target'].median(),\n",
    "    x='beds',   \n",
    "    y='target',\n",
    "    color='beds',\n",
    "    title='Диаграмма рассеивания median target от beds',       \n",
    "    height=500,    \n",
    "    width=1000,\n",
    "    size='target'       \n",
    ")\n",
    "fig.show();"
   ]
  },
  {
   "cell_type": "markdown",
   "metadata": {},
   "source": [
    "##### Вдна зависимость цены недвижимости от числа beds. До трёх включительно разница небольшая, но после трёх видно ускорение в увеличении стоимости. Особенно заметен скачок после 4 beds до 7.  С 7 до 9 beds разница опять несущественна. Возможно это связано с небольшой разницей в общей площади дома и более меньшими площадями самих beds."
   ]
  },
  {
   "cell_type": "markdown",
   "metadata": {},
   "source": [
    "##### Зависимость целевого признака <b>target</b> от признака <b>baths</b>"
   ]
  },
  {
   "cell_type": "code",
   "execution_count": null,
   "metadata": {},
   "outputs": [],
   "source": [
    "# Распределение baths \n",
    "\n",
    "fig = px.histogram(\n",
    "    data_frame=df,\n",
    "    x='baths',    \n",
    "    title='Распределение baths',\n",
    "    text_auto=True,    \n",
    "    height=500,    \n",
    "    width=1000,\n",
    "    nbins=20     \n",
    ")\n",
    "fig.show();"
   ]
  },
  {
   "cell_type": "markdown",
   "metadata": {},
   "source": [
    "##### По количеству ванных комнат (baths) объявления следующим образом:\n",
    "* 2 (1.75 - 2.24) baths - 74476;\n",
    "* 3 (2.75 - 3.24) baths - 50282;\n",
    "* 0 (0 - 0.24) baths - 29140.\n",
    "##### На последнем месте по количеству объявалений попал диапазон (6.25 - 6.74) baths - 104.\n",
    "##### Основная доля объектов приходится на количество baths от 2 до 4."
   ]
  },
  {
   "cell_type": "code",
   "execution_count": null,
   "metadata": {},
   "outputs": [],
   "source": [
    "# Диаграмма рассеивания зависимости медианного значения target от baths\n",
    "\n",
    "fig = px.scatter(\n",
    "    data_frame=df.groupby(['baths'], as_index=False)['target'].median(),\n",
    "    x='baths',   \n",
    "    y='target',\n",
    "    color='baths',\n",
    "    title='Диаграмма рассеивания median target от baths',       \n",
    "    height=500,    \n",
    "    width=1000,\n",
    "    size='target'       \n",
    ")\n",
    "fig.show();"
   ]
  },
  {
   "cell_type": "markdown",
   "metadata": {},
   "source": [
    "##### Картина неоднозначная. Заметно, что при увеличении количества baths растёт и медианная стоимость недвижимости, но некоторые значения выпадают из общего тренда:\n",
    "* участки с 1 до 3 цена то то растет, то падает, вероятно это связяно с количеством объявлений, которое тоже то растет до максимума, то падает до минимума;\n",
    "* значения baths 4, 4.5, 5.25 - низкие - вероятно, данные объекты расположены в штатах с более низкой медианной стоимостью недвижимости;\n",
    "* значения 3.2, 3.75, 5.2 - высокие, вероятно это недвижимость из дорогих штатов;\n",
    "##### Зависимость прослеживается."
   ]
  },
  {
   "cell_type": "markdown",
   "metadata": {},
   "source": [
    "##### Зависимость целевого признака <b>target</b> от признака <b>stories</b>"
   ]
  },
  {
   "cell_type": "code",
   "execution_count": null,
   "metadata": {},
   "outputs": [],
   "source": [
    "df.stories.describe()"
   ]
  },
  {
   "cell_type": "code",
   "execution_count": null,
   "metadata": {},
   "outputs": [],
   "source": [
    "# Распределение признака stories\n",
    "\n",
    "fig = px.histogram(\n",
    "    data_frame=df,\n",
    "    x='stories',    \n",
    "    title='Распределение stories',\n",
    "    text_auto=True,    \n",
    "    height=500,    \n",
    "    width=1000,\n",
    "    nbins=40     \n",
    ")\n",
    "fig.show();"
   ]
  },
  {
   "cell_type": "markdown",
   "metadata": {},
   "source": [
    "##### Основная часть недвижимости расположена на 2-3 этажах, медианное значение - 1 этаж, что вполне объяснимо так как это частные дома."
   ]
  },
  {
   "cell_type": "code",
   "execution_count": null,
   "metadata": {},
   "outputs": [],
   "source": [
    "# Диаграмма рассеивания зависимости медианного значения target от baths\n",
    "\n",
    "fig = px.scatter(\n",
    "    data_frame=df.groupby(['stories'], as_index=False)['target'].median(),\n",
    "    x='stories',   \n",
    "    y='target',\n",
    "    color='stories',\n",
    "    title='Диаграмма рассеивания median target от baths',       \n",
    "    height=500,    \n",
    "    width=1000,\n",
    "    size='target'       \n",
    ")\n",
    "fig.show();"
   ]
  },
  {
   "cell_type": "markdown",
   "metadata": {},
   "source": [
    "##### Наблюдается плавная прямая зависимость стоимости от этажности строения."
   ]
  },
  {
   "cell_type": "markdown",
   "metadata": {},
   "source": [
    "##### Зависимость целевого признака <b>target</b> от признака <b>heating</b>"
   ]
  },
  {
   "cell_type": "code",
   "execution_count": null,
   "metadata": {},
   "outputs": [],
   "source": [
    "# распределение признака heating\n",
    "\n",
    "fig = px.histogram(\n",
    "    data_frame=df,\n",
    "    x='heating',    \n",
    "    title='Распределение heating',\n",
    "    text_auto=True,    \n",
    "    height=500,    \n",
    "    width=1000        \n",
    ")\n",
    "fig.show();"
   ]
  },
  {
   "cell_type": "markdown",
   "metadata": {},
   "source": [
    "##### Преобладающая часть недвижимость с отоплением типа forced air, медианная стоимость такой недвижимости - 339000$. На втором месте все, что вошло в категорию other, на третьем и четвертом electric и central соответственно. Недвижимость с отсутствием отопления на предпоследнем месте."
   ]
  },
  {
   "cell_type": "code",
   "execution_count": null,
   "metadata": {},
   "outputs": [],
   "source": [
    "# Зависимость медианного значения признака target от heating\n",
    "\n",
    "fig = px.bar(\n",
    "    data_frame= df.groupby(['heating'], as_index=False)['target'].median().sort_values(by=['target'], ascending=False),\n",
    "    x='heating',\n",
    "    y='target',\n",
    "    color='heating',\n",
    "    text='target', \n",
    "    orientation='v',\n",
    "    title='Зависимость target от heating',\n",
    "    height=500, \n",
    "    width=1000   \n",
    ")\n",
    "\n",
    "fig.show();"
   ]
  },
  {
   "cell_type": "markdown",
   "metadata": {},
   "source": [
    "##### Самая дорогая недвижимость с отоплением типа central air (390000$), следующая с типом central (355000$) и absent (354243.5$), далее forced air (335000$). Наименьшая по стоимости недвижимость с отоплением типа electric (270000$)."
   ]
  },
  {
   "cell_type": "markdown",
   "metadata": {},
   "source": [
    "##### Зависимость целевого признака <b>target</b> от признака <b>parking</b>"
   ]
  },
  {
   "cell_type": "code",
   "execution_count": null,
   "metadata": {},
   "outputs": [],
   "source": [
    "# Распределение признака parking\n",
    "\n",
    "fig = px.histogram(\n",
    "    data_frame=df,\n",
    "    x='parking',    \n",
    "    title='Распределение parking',\n",
    "    text_auto=True,    \n",
    "    height=500,    \n",
    "    width=1000        \n",
    ")\n",
    "fig.show();"
   ]
  },
  {
   "cell_type": "markdown",
   "metadata": {},
   "source": [
    "##### Порядка 60% недвижимости в признаке parking представлены типом attached с медианной стоимостью 325499,5$. Следующий тип по количеству - это недвижимость с 2-мя парковочными местами. Наименьшие по количеству объявлений - недвижимость с 5-ю парковочными местами 694 объявления."
   ]
  },
  {
   "cell_type": "code",
   "execution_count": null,
   "metadata": {},
   "outputs": [],
   "source": [
    "# Зависимость медианного значения признака target от parking\n",
    "\n",
    "fig = px.bar(\n",
    "    data_frame= df.groupby(['parking'], as_index=False)['target'].median().sort_values(by=['target'], ascending=False),\n",
    "    x='parking',\n",
    "    y='target',\n",
    "    color='parking',\n",
    "    text='target', \n",
    "    orientation='v',\n",
    "    title='Зависимость median target от parking',\n",
    "    height=500, \n",
    "    width=1000   \n",
    ")\n",
    "\n",
    "fig.show();"
   ]
  },
  {
   "cell_type": "markdown",
   "metadata": {},
   "source": [
    "##### По стоимости недвижимости на первых позициях недвижимость с 5-ю и 6-ю парковочными местами, 625000$ и 609850$ соответственно. Это обусловлено тем, что у данного типа недвижимости самое маленькое количество объявлений в выборке. Наименьший по стоимости тип carport - 249767$."
   ]
  },
  {
   "cell_type": "markdown",
   "metadata": {},
   "source": [
    "##### Зависимость целевого признака <b>target</b> от признака <b>age</b>"
   ]
  },
  {
   "cell_type": "code",
   "execution_count": null,
   "metadata": {},
   "outputs": [],
   "source": [
    "# Распределение признака age\n",
    "\n",
    "fig = px.histogram(\n",
    "    data_frame=df,\n",
    "    x='age',    \n",
    "    title='Распределение age',\n",
    "    text_auto=True,    \n",
    "    height=500,    \n",
    "    width=1000,\n",
    "    nbins=50,\n",
    "    marginal='box'     \n",
    ")\n",
    "fig.show();"
   ]
  },
  {
   "cell_type": "markdown",
   "metadata": {},
   "source": [
    "##### По возрасту недвижимости преобладают объекты  от 0 до 39 лет. Это новостройки. Далее идет недвижимость с возрастом от 30 до 39 лет, но и третья по рейтингу  - это от 10 до 149 лет и от 20 до 29 лет. Медианный возраст - 39 лет."
   ]
  },
  {
   "cell_type": "code",
   "execution_count": null,
   "metadata": {},
   "outputs": [],
   "source": [
    "# Зависимость медианного значения признака target от признака age\n",
    "\n",
    "fig = px.scatter(\n",
    "    data_frame=df.groupby(['age'], as_index=False)['target'].median(),\n",
    "    x='age',   \n",
    "    y='target',\n",
    "    color='age',\n",
    "    title='Зависимость median target от age',       \n",
    "    height=500,    \n",
    "    width=1000,\n",
    "    #size='target'       \n",
    ")\n",
    "fig.show();"
   ]
  },
  {
   "cell_type": "markdown",
   "metadata": {},
   "source": [
    "##### С увеличением возраста объекта недвижимости от 0 до 40 лет наблюдается плавное снижение его стоимости. С увеличением вораста от 40 до 115 лет идет плавное увеличение стоимости. Также можно заметить, что довоенная недвижимость (80-87 лет) все еще держится в цене. Что касаемо объектов старше 150 лет, то их можно разделить на два класса: те которые имеют цену ниже рыночной, возможно это объекты требующие ремонта или реставрации, а также расположенные в непристижных районах, и второй класс - те, которые стоят существенно дороже - какие-то экслюзивные варианты, или имеющие большую площадь, либо большой земельный участок. В обще признак age оказывает какое-то влияние на целевой признак target."
   ]
  },
  {
   "cell_type": "markdown",
   "metadata": {},
   "source": [
    "##### Вывод:\n",
    "##### Все рассмотренные признаки так или иначе оказывают хоть какое-то влияние на целевой признак, Сказать однозначно, что воздействия нет - нельзя. Поэтому на следующем этапе, на этапе отбора признаков, проведем оценку важности признаков и тогда уже будет ясно окончактельно какие признаки будут использоваться в построении модели."
   ]
  },
  {
   "cell_type": "markdown",
   "metadata": {},
   "source": [
    "##### <center><b>Отбор признаков</b></center>"
   ]
  },
  {
   "cell_type": "markdown",
   "metadata": {},
   "source": [
    "##### Мы закончили обрабатывать и исследовать данные. Переходим к подготовке данных к подаче их вход моделей обучения. В датасете сформирован 21 признак, 8 из которых имеют тип object, закодируем их."
   ]
  },
  {
   "cell_type": "code",
   "execution_count": null,
   "metadata": {},
   "outputs": [],
   "source": [
    "# Отобразим кол-во уникальных значений для выбора метода кодировки\n",
    "\n",
    "display('Количество уникальных значений в типе данных object:',\n",
    "        df.select_dtypes(include='object').nunique())"
   ]
  },
  {
   "cell_type": "markdown",
   "metadata": {},
   "source": [
    "##### Слишком много уникальных значений в признаках street и city, поэтому целесообразно будет их удалить. Привязка к местоположению объекта останется по признаку state. Признаки heating, cooling и parking переведем в бинарный тип 0 или 1 (есть или нет). Оставшиеся закодируем. "
   ]
  },
  {
   "cell_type": "code",
   "execution_count": null,
   "metadata": {},
   "outputs": [],
   "source": [
    "# Удаляем ненужные признаки\n",
    "\n",
    "df = df.drop(['street', 'city'], axis=1)\n",
    "\n",
    "# Кодируем признаки с бинарными значениями\n",
    "\n",
    "df['heating'] = df['heating'].apply(lambda x: 0 if x == 'absent' else 1).astype(int)\n",
    "df['cooling'] = df['cooling'].apply(lambda x: 0 if x == 'absent' else 1).astype(int)\n",
    "df['parking'] = df['parking'].apply(lambda x: 0 if x == '0' else 1).astype(int)"
   ]
  },
  {
   "cell_type": "code",
   "execution_count": null,
   "metadata": {},
   "outputs": [],
   "source": [
    "# Создаем список признаков для однократного кодирования\n",
    "\n",
    "oh_cols = ['status', 'propertyType']\n",
    "\n",
    "# Создаем объект однократного кодирования и выполняем кодирование\n",
    "\n",
    "encoder = ce.OneHotEncoder(cols=oh_cols, use_cat_names=True)\n",
    "encoded_data = encoder.fit_transform(df[oh_cols])\n",
    "\n",
    "# Присоединяем к датафрейму закодированные признаки\n",
    "\n",
    "df = pd.concat([df, encoded_data], axis=1)"
   ]
  },
  {
   "cell_type": "code",
   "execution_count": null,
   "metadata": {},
   "outputs": [],
   "source": [
    "# Создаем объект бинарного кодирования и выполняем кодирование\n",
    "\n",
    "encoder = ce.BinaryEncoder(cols=['state'])\n",
    "encoded_data = encoder.fit_transform(df[['state']])\n",
    "\n",
    "# Присоединяем к датафрейму закодированные признаки\n",
    "\n",
    "df = pd.concat([df, encoded_data], axis=1)"
   ]
  },
  {
   "cell_type": "code",
   "execution_count": null,
   "metadata": {},
   "outputs": [],
   "source": [
    "# Удалим исходные признаки и выведем размер датафрейма\n",
    "\n",
    "df = df.drop(['status', 'propertyType', 'state'], axis=1)\n",
    "print('Размер получившегося датафрейма:', df.shape)"
   ]
  },
  {
   "cell_type": "markdown",
   "metadata": {},
   "source": [
    "##### С помощью метода Пирсона, проверим датафрейм на отсутствие сильной связи между признаками."
   ]
  },
  {
   "cell_type": "code",
   "execution_count": null,
   "metadata": {},
   "outputs": [],
   "source": [
    "# Тепловуая карта мультиколлинеарности\n",
    "\n",
    "fig = plt.figure(figsize=(24, 16))\n",
    "heatmap = sns.heatmap(\n",
    "    data = df.drop('target', axis=1).corr(method='pearson'),\n",
    "    annot = True,\n",
    "    fmt = '.2g',\n",
    "    vmin = -1,\n",
    "    vmax = 1,\n",
    "    center = 0,\n",
    "    cmap= 'Spectral',\n",
    "    square = True\n",
    ");\n",
    "heatmap.set_title('Тепловая карта мультиколлинеарности', fontsize=18);"
   ]
  },
  {
   "cell_type": "markdown",
   "metadata": {},
   "source": [
    "##### Существует сильная связь признаков status_active и status_for sale (o.77), а также cooling и heating (o.71). Правильно было бы удалить по одному из признаков в этих парах. После оценки значимости решим какие именно."
   ]
  },
  {
   "cell_type": "markdown",
   "metadata": {},
   "source": [
    "##### Оценка значимости и отбор признаков  \n",
    "##### С помощью SelectKBest попробуем отобрать из признаков 25 лучших. Затем проведем хи-тест и тест  ANOVA для категориальных и непрерывных признаков. Это позволит принять решение, какие признаки удалять, а какие оставить в итоговых выборках. По итогу разделим датафрейм на тренировочные и тестовые выборки и векторы ответов для подачи на вход модели.  "
   ]
  },
  {
   "cell_type": "markdown",
   "metadata": {},
   "source": [
    "##### Отбор лучших признаков с помощью SelectKBest"
   ]
  },
  {
   "cell_type": "code",
   "execution_count": null,
   "metadata": {},
   "outputs": [],
   "source": [
    "# Создаем объект класса SelectKBest\n",
    "\n",
    "kbest = SelectKBest(score_func=f_regression, k=25)\n",
    "\n",
    "# Подгоняем его под данные и получаем список лучших 25 признаков\n",
    "\n",
    "kbest.fit(df.drop('target', axis=1), df['target'])\n",
    "kbest_columns = kbest.get_feature_names_out()\n",
    "\n",
    "# Посмотрим, какие признаки не вошли в число лучших\n",
    "\n",
    "display('В число лучших признаков не вошли:',\n",
    "        set(df.drop('target', axis=1).columns).difference(set(kbest_columns)))"
   ]
  },
  {
   "cell_type": "markdown",
   "metadata": {},
   "source": [
    "##### Метод SelectKBest показал, что в 25 лучших признаков не входят cooling, heating и status_active. Т.е. от них можно избавиться без большого ушерба. Перед принятием решения проведем дополнительные тесты."
   ]
  },
  {
   "cell_type": "code",
   "execution_count": null,
   "metadata": {},
   "outputs": [],
   "source": [
    "# Разделим все признаки на два списка: категориальные и непрерывные\n",
    "\n",
    "cat_cols = ['Pool', 'heating', 'cooling', 'parking', 'status_for sale', 'status_active',\n",
    "            'status_other', 'status_new construction', 'status_pending', 'status_foreclosure',\n",
    "            'propertyType_single family', 'propertyType_townhouse', 'propertyType_other',\n",
    "            'propertyType_multi family', 'propertyType_condo', 'propertyType_land',\n",
    "            'propertyType_coop', 'propertyType_traditional', 'propertyType_single detached',\n",
    "            'propertyType_high rise', 'state_0', 'state_1', 'state_2', 'state_3', 'state_4']\n",
    "\n",
    "num_cols = ['baths', 'sqft', 'beds', 'stories', 'lotsize', 'price_sqft', 'age',\n",
    "            'age_remodeled', 'rating_school', 'distance_school', 'schools_count']"
   ]
  },
  {
   "cell_type": "markdown",
   "metadata": {},
   "source": [
    "##### Хи-квадрат для категориальных признаков  "
   ]
  },
  {
   "cell_type": "code",
   "execution_count": null,
   "metadata": {},
   "outputs": [],
   "source": [
    "# Воспользуемся тестом хи-квадрат и проиллюстрируем его результаты\n",
    "\n",
    "imp_cat = pd.Series(chi2(df[cat_cols], df.target)[0], index=cat_cols)\n",
    "imp_cat = imp_cat.sort_values(ascending=False)\n",
    "\n",
    "fig = plt.figure(figsize=(12, 8))\n",
    "barplot = sns.barplot(\n",
    "    data = imp_cat.to_frame(name='importance').reset_index(),\n",
    "    x = 'importance',\n",
    "    y = 'index',\n",
    "    orient = 'h',\n",
    "    palette = 'vlag'\n",
    ");\n",
    "barplot.set_title('Важность категориальных признаков', fontsize = 12);\n",
    "barplot.set_xlabel('Величина важности');\n",
    "barplot.set_ylabel('Признаки');"
   ]
  },
  {
   "cell_type": "markdown",
   "metadata": {},
   "source": [
    "##### Тест ANOVA для непрерывных признаков  "
   ]
  },
  {
   "cell_type": "code",
   "execution_count": null,
   "metadata": {},
   "outputs": [],
   "source": [
    "# Воспользуемся тестом ANOVA и проиллюстрируем его результаты\n",
    "imp_num = pd.Series(f_classif(df[num_cols], df.target)[0], index = num_cols)\n",
    "imp_num = imp_num.sort_values(ascending=False)\n",
    "\n",
    "fig = plt.figure(figsize=(8, 4))\n",
    "barplot = sns.barplot(\n",
    "    data = imp_num.to_frame(name='importance').reset_index(),\n",
    "    x = 'importance',\n",
    "    y = 'index',\n",
    "    orient = 'h',\n",
    "    palette = 'vlag'\n",
    ");\n",
    "barplot.set_title('Важность непрерывных признаков', fontsize = 12);\n",
    "barplot.set_xlabel('Величина важности');\n",
    "barplot.set_ylabel('Признаки');"
   ]
  },
  {
   "cell_type": "markdown",
   "metadata": {},
   "source": [
    "##### Тесты показали, что признаки cooling и heating входят в число последних по важности, поэтому удалим их оба. Что касается следующей пары status_active и status_for sale, то наименьший по важности из них последний - от него и избавимся. Наибольшая важность у признака status_foreclosure - это недвижимостm, вернувшfzcz к кредитору из-за неуплаты ипотеки. Вполне вероятно, что такая недвижимость продается по сниженной цене, поэтому пользуется большой популярностью.\n",
    "##### По результату теста ANOVA наименьшие по важности sqft и price_sqft. Осмелюсь в этом усомниться. А с учетем того, что первый по важности признак distance_school, в принципе может быть, но всетаки площадь недвижимости при покупке должна быть намного важнее всех остальных признаков. С учетом всего этого проигнорируем результат ANOVA теста и с непрерывными признаками никаких манипуляций производить не будем. "
   ]
  },
  {
   "cell_type": "code",
   "execution_count": null,
   "metadata": {},
   "outputs": [],
   "source": [
    "# Удалим ненужные более признаки и выведем размер датафрейма\n",
    "\n",
    "df = df.drop(['cooling', 'heating', 'status_for sale'], axis=1)\n",
    "print('Размер получившегося датафрейма:', df.shape)"
   ]
  },
  {
   "cell_type": "markdown",
   "metadata": {},
   "source": [
    "##### Разделим датафрейм на обучающие и тестовые выборки в соотношении 70/30, далее нормализуем данные."
   ]
  },
  {
   "cell_type": "code",
   "execution_count": null,
   "metadata": {},
   "outputs": [],
   "source": [
    "# Разделяем датафрейм и готовим выборки\n",
    "\n",
    "X = df.drop('target', axis=1)\n",
    "y = df['target']\n",
    "\n",
    "X_train, X_test, y_train, y_test = train_test_split(\n",
    "    X, y,\n",
    "    test_size=0.3,\n",
    "    random_state=42,\n",
    "    shuffle=True\n",
    ")\n",
    "\n",
    "# Инициализируем нормализатор RobustScaler\n",
    "\n",
    "r_scaler = preprocessing.RobustScaler()\n",
    "\n",
    "# Кодируем исходный датасет\n",
    "\n",
    "X_train_scal = r_scaler.fit_transform(X_train)\n",
    "\n",
    "# Преобразуем промежуточный датасет в полноценный датафрейм для визуализации\n",
    "\n",
    "X_train_scal = pd.DataFrame(X_train_scal, columns=X_train.columns)\n",
    "X_test_scal = pd.DataFrame(r_scaler.transform(X_test), columns=X_test.columns)"
   ]
  },
  {
   "cell_type": "code",
   "execution_count": null,
   "metadata": {},
   "outputs": [],
   "source": [
    "# Выведем размерности\n",
    "\n",
    "display(X_train_scal.shape, X_test_scal.shape)"
   ]
  },
  {
   "cell_type": "markdown",
   "metadata": {},
   "source": [
    "##### Вывод:\n",
    "##### После этапа отбора у нас осталось 33 признака из 37. Переходим к следующему этапу."
   ]
  },
  {
   "cell_type": "markdown",
   "metadata": {},
   "source": [
    "##### <center><b>Решение задачи регрессии</b></center>\n",
    "##### В данном разделе мы применим различные модели машинного обучения с целью предсказания стоимости недвижимости. Будем обучать модели от простых к более сложным:\n",
    "* LinearRregression;\n",
    "* LinearRregression + PolynomialFeatures; \n",
    "* DecisionTreeRegressor;\n",
    "* RandomForestRegressor;\n",
    "* AdaBoostRegressor;  \n",
    "* GradientBoostingRegressor;\n",
    "* CatBoostRegressor.\n",
    "##### В конце сведем значения метрик в таблицу и выберем модель, которая лучше всех справилась с поставленной задачей.  "
   ]
  },
  {
   "cell_type": "markdown",
   "metadata": {},
   "source": [
    "##### Сначала построим базовую модель, которую будем впоследствии улучшать. Для построения используем простую модель обратной регресии. Базовая модель будет строиться на всех признаках. Для оценки качества моделирования на протяжении всего проекта мы будем использовать три метрики качества:  \n",
    "* `MAE` - среднюю абсолютную ошибку, чтобы понимать, на сколько тысяч долларов ошиблась модель;\n",
    "* `MAPE` - среднюю абсолютную ошибку в процентах поскольку стоимость жилья - вещь относительная;    \n",
    "* `R2` - коэффициент детерминации, чтобы понимать, насколько хорошо модель улавливает закономерности - целевая метрика.   "
   ]
  },
  {
   "cell_type": "code",
   "execution_count": null,
   "metadata": {},
   "outputs": [],
   "source": [
    "# Метрики MAE, MAPE и R2 для тренировочной и тестовой выборок\n",
    "\n",
    "def metrics_func(y_train, y_train_pred, y_test, y_test_predict):\n",
    "    print(f'MAE:')\n",
    "    print(f'For TRAIN = {round(metrics.mean_absolute_error(y_train, y_train_pred), 2)}')\n",
    "    print(f'For TEST = {round(metrics.mean_absolute_error(y_test, y_test_predict), 2)}')\n",
    "    print()\n",
    "    print(f'MAPE:')\n",
    "    print(f'For TRAIN = {round((metrics.mean_absolute_percentage_error(y_train, y_train_pred)*100), 2)}')\n",
    "    print(f'For TEST = {round((metrics.mean_absolute_percentage_error(y_test, y_test_predict)*100), 2)}')\n",
    "    print()\n",
    "    print(f'R2:')\n",
    "    print(f'For TRAIN = {round(metrics.r2_score(y_train, y_train_pred), 2)}')\n",
    "    print(f'For TEST = {round(metrics.r2_score(y_test, y_test_predict), 2)}')"
   ]
  },
  {
   "cell_type": "code",
   "execution_count": null,
   "metadata": {},
   "outputs": [],
   "source": [
    "# Обучим модель линейной регрессии\n",
    "\n",
    "model_base = LinearRegression()\n",
    "model_base.fit(X_train_scal, y_train)\n",
    "\n",
    "# Выполним предсказание\n",
    "\n",
    "y_train_predict = model_base.predict(X_train_scal)\n",
    "y_test_predict = model_base.predict(X_test_scal)\n",
    "\n",
    "# Выведем результаты\n",
    "\n",
    "metrics_func(y_train, y_train_predict, y_test, y_test_predict)"
   ]
  },
  {
   "cell_type": "markdown",
   "metadata": {},
   "source": [
    "##### Базовая модель показала не лучшие метрики - абсолютная ошибка в размере более 231 тыс. или 76%. Коэффицент детерминации 0.33 (наилучшее значение = 1). Это означает, что модель не уловила закономерностей в данных. Поробуем обучить модель на 25 отобранных лучших признаках - для этого используем SelectKBest"
   ]
  },
  {
   "cell_type": "code",
   "execution_count": null,
   "metadata": {},
   "outputs": [],
   "source": [
    "# Выведем 25 лучших признаков\n",
    "\n",
    "selector = feature_selection.SelectKBest(feature_selection.f_regression, k=25)\n",
    "selector.fit(X_train_scal, y_train)\n",
    "best_features = selector.get_feature_names_out()\n",
    "best_features"
   ]
  },
  {
   "cell_type": "markdown",
   "metadata": {},
   "source": [
    "##### Видим, что в число 25 лучших признаков вошли такие, как: sqft, age и признаки state. Значит можно предположить, что модель отработает нормально.\n",
    "##### Построим линейную регрессию на лучших признаках."
   ]
  },
  {
   "cell_type": "code",
   "execution_count": null,
   "metadata": {},
   "outputs": [],
   "source": [
    "model = LinearRegression()\n",
    "model.fit(X_train_scal[best_features], y_train)\n",
    "y_train_predict = model.predict(X_train_scal[best_features])\n",
    "y_test_predict = model.predict(X_test_scal[best_features])\n",
    "metrics_func(y_train, y_train_predict, y_test, y_test_predict)"
   ]
  },
  {
   "cell_type": "markdown",
   "metadata": {},
   "source": [
    "##### Результаты практически не отличаются от базовой модели на всех признаках. Реализуем линейную модель с лучшими признаками, используя метод пошаговой регрессии. Понадобится пакет [dmba](https://pypi.org/project/dmba/) с импортированными функциями stepwise_selection и метрикой AIC_score. [AIC (информационный критерий Акаике)](https://ru.wikipedia.org/wiki/%D0%98%D0%BD%D1%84%D0%BE%D1%80%D0%BC%D0%B0%D1%86%D0%B8%D0%BE%D0%BD%D0%BD%D1%8B%D0%B9_%D0%BA%D1%80%D0%B8%D1%82%D0%B5%D1%80%D0%B8%D0%B9_%D0%90%D0%BA%D0%B0%D0%B8%D0%BA%D0%B5)  - данная метрика штрафует добавление членов в модель. В нашем случае будем производить поиск оптимальной модели ориентируясь на самый низкий AIC, для этого начнём с построенной модели на константе, вычисляем метрику, далее добавляем один признак, снова расчитываем метрику, далее добавляется следующий и т.д., т.е выполняя таким образом пошаговую регрессию."
   ]
  },
  {
   "cell_type": "code",
   "execution_count": null,
   "metadata": {},
   "outputs": [],
   "source": [
    "# Функция возращает подогнанную модель для заданного множества переменных\n",
    "\n",
    "def train_model(variables):\n",
    "    if len(variables) == 0:\n",
    "        return None\n",
    "    model = LinearRegression()\n",
    "    model.fit(X_train_scal[variables], y_train)\n",
    "    return model"
   ]
  },
  {
   "cell_type": "code",
   "execution_count": null,
   "metadata": {},
   "outputs": [],
   "source": [
    "# Функция возвращает метрику для модели и множества переменных\n",
    "\n",
    "def score_model(model, variables):\n",
    "    if len(variables) == 0:\n",
    "        return AIC_score(y_train, [y_train.mean()] * len(y_train), model, df=1)\n",
    "    return AIC_score(y_train, model.predict(X_train_scal[variables]), model)"
   ]
  },
  {
   "cell_type": "code",
   "execution_count": null,
   "metadata": {},
   "outputs": [],
   "source": [
    "# Применяем функции и выводим результаты\n",
    "\n",
    "best_model, best_variables = stepwise_selection(X_train_scal.columns, train_model, score_model, verbose=False)\n",
    "\n",
    "print(f'Пересечение: {best_model.intercept_:.3f}')\n",
    "print('Коэффициенты:')\n",
    "for name, coef in zip(best_variables, best_model.coef_):\n",
    "    print(f'{name}:{coef}')"
   ]
  },
  {
   "cell_type": "code",
   "execution_count": null,
   "metadata": {},
   "outputs": [],
   "source": [
    "# Строим модель на лучших признаках, подогнанных с помощью пошаговой регрессии\n",
    "\n",
    "model = LinearRegression()\n",
    "model.fit(X_train_scal[best_variables], y_train)\n",
    "y_train_predict = model.predict(X_train_scal[best_variables])\n",
    "y_test_predict = model.predict(X_test_scal[best_variables])\n",
    "metrics_func(y_train, y_train_predict, y_test, y_test_predict)"
   ]
  },
  {
   "cell_type": "markdown",
   "metadata": {},
   "source": [
    "##### Метрики практически не улутшились, поэтому усложним модель, добавив полиноминальные признаки.\n",
    "##### Полиноминальная регрессия."
   ]
  },
  {
   "cell_type": "code",
   "execution_count": null,
   "metadata": {},
   "outputs": [],
   "source": [
    "poly = preprocessing.PolynomialFeatures(degree=2, include_bias=True)\n",
    "\n",
    "poly.fit(X_train_scal[best_features])\n",
    "X_train_poly = poly.transform(X_train_scal[best_features])\n",
    "X_test_poly = poly.transform(X_test_scal[best_features])\n",
    "\n",
    "model_lin_poly = LinearRegression()\n",
    "model_lin_poly.fit(X_train_poly, y_train)\n",
    "y_train_pred = model_lin_poly.predict(X_train_poly)\n",
    "y_test_pred = model_lin_poly.predict(X_test_poly)\n",
    "\n",
    "metrics_func(y_train, y_train_pred, y_test, y_test_pred)"
   ]
  },
  {
   "cell_type": "markdown",
   "metadata": {},
   "source": [
    "##### При построении модели на полиноминальных признаках на тренировочной выборке метрики улучшились: ошибка 141 тыс. или 44%, R2 возросло до 0.67, а на тестовой выборке явного улучшения нет: ошибка 229 тыс. или 49%, коэфициент детерминации -1154, что говорит об отсутсвии уловимой закономерности - нет явной линейной связи между предикторами и целевым признаком. Вероятно это произошло из-зи ухода от линейной закономерности.\n",
    "##### Переходим к деревьям решений."
   ]
  },
  {
   "cell_type": "code",
   "execution_count": null,
   "metadata": {},
   "outputs": [],
   "source": [
    "# DecisionTreeRegressor\n",
    "\n",
    "tree_model = DecisionTreeRegressor(random_state=42)\n",
    "tree_model.fit(X_train_scal, y_train)\n",
    "\n",
    "y_train_pred = tree_model.predict(X_train_scal)\n",
    "y_test_pred = tree_model.predict(X_test_scal)\n",
    "\n",
    "metrics_func(y_train, y_train_pred, y_test, y_test_pred)"
   ]
  },
  {
   "cell_type": "markdown",
   "metadata": {},
   "source": [
    "#### Модель построили на всех признаках. На лицо явное переобучение модели. Подберём оптимальные параметры глубины дерева."
   ]
  },
  {
   "cell_type": "code",
   "execution_count": null,
   "metadata": {},
   "outputs": [],
   "source": [
    "# Функция для подбора оптимальных параметров глубины дерева\n",
    "\n",
    "max_depths = range(7, 20)\n",
    "\n",
    "def tree_depths(X_train, X_test, y_train, y_test):\n",
    "  R_2_train = []\n",
    "  R_2_test = []\n",
    "  for depth in max_depths:\n",
    "    tree_model = DecisionTreeRegressor(max_depth=depth, random_state=42).fit(X_train_scal, y_train)\n",
    "    y_train_pred = tree_model.predict(X_train_scal)\n",
    "    y_test_pred = tree_model.predict(X_test_scal)\n",
    "    R_2_tr = round(metrics.r2_score(y_train, y_train_pred), 2)\n",
    "    R_2_tes = round(metrics.r2_score(y_test, y_test_pred), 2)\n",
    "    R_2_train.append(R_2_tr)\n",
    "    R_2_test.append(R_2_tes)\n",
    "\n",
    "  fig = go.Figure()\n",
    "  fig.add_trace(go.Scatter(x=list(max_depths), y=R_2_train, name='Train'))\n",
    "  fig.add_trace(go.Scatter(x=list(max_depths), y=R_2_test, name='Test'))\n",
    "  fig.update_xaxes(title='Depth count')\n",
    "  fig.update_yaxes(title='R_2')\n",
    "  fig.update_layout(title='Dependence of R_2 on the number of trees', height=600, width=800)\n",
    "  return fig.show()"
   ]
  },
  {
   "cell_type": "code",
   "execution_count": null,
   "metadata": {},
   "outputs": [],
   "source": [
    "# Применим функцию\n",
    "\n",
    "tree_depths(X_train_scal, X_test_scal, y_train, y_test)"
   ]
  },
  {
   "cell_type": "markdown",
   "metadata": {},
   "source": [
    "##### За оптимальную глубину возьмем 13 деревьев. Построим модель"
   ]
  },
  {
   "cell_type": "code",
   "execution_count": null,
   "metadata": {},
   "outputs": [],
   "source": [
    "# DecisionTreeRegressor\n",
    "\n",
    "tree_model = DecisionTreeRegressor(random_state=42, max_depth=13)\n",
    "tree_model.fit(X_train_scal, y_train)\n",
    "\n",
    "y_train_pred = tree_model.predict(X_train_scal)\n",
    "y_test_pred = tree_model.predict(X_test_scal)\n",
    "\n",
    "metrics_func(y_train, y_train_pred, y_test, y_test_pred)"
   ]
  },
  {
   "cell_type": "markdown",
   "metadata": {},
   "source": [
    "##### Модель отработала идеально. Ошибка уменьшилась до 13 тыс. или 5%, а коэффициент детерминации равен 0.99/0.97 (наилучшее значение = 1)."
   ]
  },
  {
   "cell_type": "markdown",
   "metadata": {},
   "source": [
    "##### Ансамблевые методы\n",
    "##### Первая модель - бэггинг модель случайного леса"
   ]
  },
  {
   "cell_type": "code",
   "execution_count": null,
   "metadata": {},
   "outputs": [],
   "source": [
    "# Случайный лес\n",
    "\n",
    "random_forest = RandomForestRegressor(n_estimators=200,\n",
    "                                               max_depth=13,                                               \n",
    "                                               criterion='squared_error',\n",
    "                                               random_state=42)\n",
    "\n",
    "random_forest.fit(X_train_scal, y_train)\n",
    "\n",
    "y_train_pred = random_forest.predict(X_train_scal)\n",
    "y_test_pred = random_forest.predict(X_test_scal)\n",
    "metrics_func(y_train, y_train_pred, y_test, y_test_pred)"
   ]
  },
  {
   "cell_type": "markdown",
   "metadata": {},
   "source": [
    "##### Модель отработала отлично: ошибка 11 тыс. или 4%, коэффициент детерминации 0.99.\n",
    "##### Второй моделью будет бустинг - AdaBoost."
   ]
  },
  {
   "cell_type": "code",
   "execution_count": null,
   "metadata": {},
   "outputs": [],
   "source": [
    "# AdaBoost\n",
    "\n",
    "dtr = DecisionTreeRegressor(\n",
    "    max_depth=13, #максимальная глубина дерева\n",
    "    random_state=42 #датчик генератора случайных чисел\n",
    ")\n",
    "# Создаем объект класса AdaBoost\n",
    "\n",
    "ada = AdaBoostRegressor(\n",
    "    estimator=dtr, #базовая модель\n",
    "    random_state=42, #датчик генератора случайных чисел\n",
    "    n_estimators=50, #количество моделей в ансамбле\n",
    "    learning_rate=0.01\n",
    ")\n",
    "# Обучаем модель\n",
    "\n",
    "ada.fit(X_train_scal, y_train)\n",
    "\n",
    "# Формируем предсказание для тестовой выборки\n",
    "\n",
    "y_train_pred  = ada.predict(X_train_scal)\n",
    "y_test_pred = ada.predict(X_test_scal)\n",
    "\n",
    "metrics_func(y_train, y_train_pred, y_test, y_test_pred)"
   ]
  },
  {
   "cell_type": "markdown",
   "metadata": {},
   "source": [
    "##### Модель так же отработала отлично: ошибка 9 тыс. или 4%, коэффициент детерминации 0.99.\n",
    "##### Следующая модель градиентного бустинга"
   ]
  },
  {
   "cell_type": "code",
   "execution_count": null,
   "metadata": {},
   "outputs": [],
   "source": [
    "# Создаем объект класса градиентный бустинг\n",
    "\n",
    "gb = GradientBoostingRegressor(\n",
    "    max_depth=13, #максимальная глубина дерева\n",
    "    n_estimators=500, #количество деревьев в ансамбле\n",
    "    random_state=42, #датчик генератора случайных чисел\n",
    "    learning_rate=0.01\n",
    ")\n",
    "\n",
    "# Обучаем модель\n",
    "\n",
    "gb.fit(X_train_scal, y_train)\n",
    "\n",
    "# Формируем предсказание для тестовой выборки\n",
    "\n",
    "y_train_pred  = gb.predict(X_train_scal)\n",
    "y_test_pred = gb.predict(X_test_scal)\n",
    "\n",
    "metrics_func(y_train, y_train_pred, y_test, y_test_pred)"
   ]
  },
  {
   "cell_type": "markdown",
   "metadata": {},
   "source": [
    "##### Ошибка на тренировочном наборе данных 6 тыс. или 3%, коэффициент детерминации 1.0, на тестовом наборе ошибка 12 тыс. или 4%, коэффициент детерминации 0.98, выглядит подозрительно, особенно R2 = 1.0, как говорится очень хорошо - тоже не хорошо.\n",
    "##### Ещё одна модель бустинга CatBoost"
   ]
  },
  {
   "cell_type": "code",
   "execution_count": null,
   "metadata": {},
   "outputs": [],
   "source": [
    "catmodel = CatBoostRegressor(random_state=42, verbose=False)\n",
    "catmodel.fit(X_train_scal, y_train)\n",
    "\n",
    "y_train_pred  = catmodel.predict(X_train_scal)\n",
    "y_test_pred = catmodel.predict(X_test_scal)\n",
    "\n",
    "metrics_func(y_train, y_train_pred, y_test, y_test_pred)"
   ]
  },
  {
   "cell_type": "markdown",
   "metadata": {},
   "source": [
    "##### Модель отработала отлично. Ошибка на тренировочном наборе данных 16 тыс. или 5%, коэффициент детерминации 0.99, на тестовом наборе ошибка 18 тыс. или 5%, коэффициент детерминации 0.98. Отличие в результатах между тестовым и тренировочным наборами небольшое, что внушает доверие. Кроме того модель CatBoostRegressor обучается быстрее градиентного бустинга.\n",
    "##### Посмотрим на важность признаков в модели CatBoostRegressor"
   ]
  },
  {
   "cell_type": "code",
   "execution_count": null,
   "metadata": {},
   "outputs": [],
   "source": [
    "# Преобразуем массив важности признаков в объект Series\n",
    "\n",
    "catmodel_feat = pd.Series(catmodel.get_feature_importance(),\n",
    "                         index=X_train_scal.columns).sort_values(ascending=False)\n",
    "\n",
    "# Построим диаграмму, иллюстрирующую важность признаков в модели\n",
    "\n",
    "fig = plt.figure(figsize=(12, 8))\n",
    "barplot = sns.barplot(\n",
    "    data = catmodel_feat.to_frame(name='importance').reset_index(),\n",
    "    x = 'importance',\n",
    "    y = 'index',\n",
    "    orient = 'h',\n",
    "    palette = 'vlag'\n",
    ");\n",
    "barplot.set_title('Важность признаков в модели CatBoostRegressor', fontsize = 14);\n",
    "barplot.set_xlabel('Величина важности');\n",
    "barplot.set_ylabel('Признаки');"
   ]
  },
  {
   "cell_type": "markdown",
   "metadata": {},
   "source": [
    "##### Картина со значимостью показывает значительный отрыв признаков price_sqft и sqft от остальных признаков. Выведем веса признаков, вносимые в модель."
   ]
  },
  {
   "cell_type": "code",
   "execution_count": null,
   "metadata": {},
   "outputs": [],
   "source": [
    "# Признаки и их веса вносимые в модель\n",
    "\n",
    "best_feature_cat = pd.DataFrame({'feature_importance': catmodel.get_feature_importance(), \n",
    "              'feature_names':X_train_scal.columns}).sort_values(by=['feature_importance'], \n",
    "                                                           ascending=False)\n",
    "# Признаки по весам\n",
    "\n",
    "best = best_feature_cat['feature_names'][:]\n",
    "best_feature_cat\n"
   ]
  },
  {
   "cell_type": "markdown",
   "metadata": {},
   "source": [
    "##### Именно это мы и видим на графике выше. С существенным перевесом на первых местах признаки price_sqft и sqft. В принципе с этим можно согласиться, т.к. при покупке недвижимости наиважнейшими факторами являются площадь и цена за единицу площади."
   ]
  },
  {
   "cell_type": "markdown",
   "metadata": {},
   "source": [
    "##### <center>Оценка модели</center>\n",
    "##### Все модели, если судить по коэффициенту детерминации, показали прекрасные результаты. Мы строили данные модели на всех признаках. Сведем в таблицу все полученные результаты, чтобы проще было оценить эффективность тех или иных моделей.\n",
    "\n",
    "\n",
    "\n",
    "| Модель | R2 train/test | MAPE train/test | MAE train/test |  \n",
    "|---|---:|---:|---:|   \n",
    "| LinearRegression | 0.33 / 0.32 | 75.75 / 75.51  | 231412.56 / 233733.92 |  \n",
    "| PolynomialRegression | 0.67 / -1154.37 | 43.52 / 49.07 | 141207.01 / 229029.94  |  \n",
    "| DecisionTreeRegressor | 0.99 / 0.97 | 4.94 / 5.61 | 13200.43 / 17724.39 |  \n",
    "| RandomForestRegressor | 0.99 / 0.98 | 4.12 / 4.57 | 10629.19 / 13125.84 |  \n",
    "| **AdaBoostRegressor** | **0.99 / 0.98** | **3.86 / 4.34** | **9348.88 / 12619.76** |  \n",
    "| **GradientBoostingRegressor** | **1.0 / 0.98** | **2.48 / 3.75** | **5898.25 / 11617.92** |  \n",
    "| CatBoostRegressor | 0.99 / 0.98 | 5.08 / 5.41 | 16256.77 / 18306.14 |  \n",
    "\n",
    "\n",
    "##### Вывод:\n",
    "##### Нам удалось повысить качество моделирования по сравнению с базовой моделью. По результатам работы явно преобладает модель GradientBoostingRegressor, но по скорости она сильно проигывает остальным моделям. Следующая модель по результатам <b>AdaBoostRegressor</b>. Ее и возьмем для разработки сервиса. "
   ]
  },
  {
   "cell_type": "markdown",
   "metadata": {},
   "source": [
    "##### <center><b>Подготовка модели к продакшену</b></center>\n",
    "##### С помощью библиотеки Pickle сериализуем обученную модель <i>AdaBoostRegressor</i> и сохраним ее в файл <i>model.pkl</i>. Его останется только открыть и развернуть на сервере, чтобы выполнять прогнозы стоимости недвижимости."
   ]
  },
  {
   "cell_type": "markdown",
   "metadata": {},
   "source": [
    "##### Для начала переобучим модель на ненормализованных данных т.к. на вход модели будут подаваться именно такие данные."
   ]
  },
  {
   "cell_type": "code",
   "execution_count": null,
   "metadata": {},
   "outputs": [],
   "source": [
    "# Создаем объект класса AdaBoost\n",
    "\n",
    "abr = AdaBoostRegressor(\n",
    "    estimator=dtr, #базовая модель\n",
    "    random_state=42, #датчик генератора случайных чисел\n",
    "    n_estimators=50, #количество моделей в ансамбле\n",
    "    learning_rate=0.01\n",
    ")\n",
    "# Обучаем модель\n",
    "\n",
    "abr.fit(X_train, y_train)\n",
    "\n",
    "# Формируем предсказание для тестовой выборки\n",
    "\n",
    "y_train_pred  = abr.predict(X_train)\n",
    "y_test_pred = abr.predict(X_test)\n",
    "\n",
    "metrics_func(y_train, y_train_pred, y_test, y_test_pred)"
   ]
  },
  {
   "cell_type": "markdown",
   "metadata": {},
   "source": [
    "##### Для проверки корректности работы модели, развернутой на сервере, ниже приводится предсказание на тестовом наборе (состоящем из одной записи из выборки X_test). Точно такой же набор будет подан на сервер клиентским приложением. Ответы должны совпасть."
   ]
  },
  {
   "cell_type": "code",
   "execution_count": null,
   "metadata": {},
   "outputs": [],
   "source": [
    "# Задаем тестовый набор\n",
    "\n",
    "test_data = [3.00,1750.0,2.0,1.0,0,1,3050.0,75.0,9.0,40.0,3.00,5.44,2.0,0,1,0,0,0,1,0,0,0,0,0,0,0,0,0,0,1,0,0,1]\n",
    "test_data = np.array(test_data).reshape(1, -1) # преобразуем в датафрейм\n",
    "\n",
    "# Выполняем предсказание с помощью обученной модели\n",
    "\n",
    "prediction = abr.predict(test_data)\n",
    "\n",
    "# Выводим результат на экран для проверки при запуске на сервере\n",
    "\n",
    "print('Предсказание модели:', round(prediction[0]))"
   ]
  },
  {
   "cell_type": "code",
   "execution_count": null,
   "metadata": {},
   "outputs": [],
   "source": [
    "# Производим сериализацию модели и сохраняем ее в файл формата pkl\n",
    "\n",
    "with open('model.pkl', 'wb') as output:\n",
    "    pickle.dump(abr, output)"
   ]
  },
  {
   "attachments": {
    "image-2.png": {
     "image/png": "[encoded data removed]"
    },
    "image.png": {
     "image/png": "[encoded data removed]"
    }
   },
   "cell_type": "markdown",
   "metadata": {},
   "source": [
    "##### После сериализации должен появиться файл модели <i>model.pkl</i>.\n",
    "##### Далее напишем веб-сервер <i>server.py</i> на Flask, и развернем на нем модель <i>model.pkl</i>. Также напишем клиентский сервис <i>client.py</i> с тестовым набором данных для проверки работы модели.\n",
    "##### Запускаем сервер <i>server.py</i> в терминале с помощью команды <i>python server.py</i>\n",
    "![image.png](attachment:image.png)\n",
    "##### Далее запускаем клиента <i>client.py</i> также в терминале, параллельно работающему серверу, с помощью команды <i>python client.py</i>\n",
    "![image-2.png](attachment:image-2.png)\n",
    "##### Как видим ответы совпадают, значит модель работает корректно. Останавливаем работу сервера сочетанием клавиш Ctrl+C."
   ]
  },
  {
   "cell_type": "markdown",
   "metadata": {},
   "source": [
    "##### <center><b>Выводы по проекту</b></center>\n",
    "##### На протяжении проекта мы прошли через все этапы модели CRISP-DM, включая подготовку модели к продакшену. Все стоявшие перед нами задачи, выполнены. Проект можно считать успешно завершенным.\n",
    "##### В качестве возможных шагов повышения качества моделирования, можно было бы отметить более пристальное внимание подготовке данных, например:\n",
    "* разделить на большее количество категорий типы недвижимости;\n",
    "* выделить ценовые категории недвижимости;\n",
    "* применить алгоритмы кластеризации для выделения групп жилья по иным критериям;\n",
    "* добавить в датафрейм новые данные в том числе на основании признака \"street\" (близость магазинов, автозаправок, мест развлечений; шумных автострад, аэропортов, вредных производств и т.д.).  \n",
    "##### Также можно применить не задействованные алгоритмы и методы обработки данных, а также другие модели машинного обучения, включая нейронные сети.\n",
    "##### В целом проект позволил применить все знания и навыки, полученные в курсе и благодаря своей сложности показал направления дальнейшего развития в области Data Science."
   ]
  }
 ],
 "metadata": {
  "kernelspec": {
   "display_name": "Python 3",
   "language": "python",
   "name": "python3"
  },
  "language_info": {
   "codemirror_mode": {
    "name": "ipython",
    "version": 3
   },
   "file_extension": ".py",
   "mimetype": "text/x-python",
   "name": "python",
   "nbconvert_exporter": "python",
   "pygments_lexer": "ipython3",
   "version": "3.10.9"
  }
 },
 "nbformat": 4,
 "nbformat_minor": 2
}
