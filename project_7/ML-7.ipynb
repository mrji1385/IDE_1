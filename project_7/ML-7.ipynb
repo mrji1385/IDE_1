{
 "cells": [
  {
   "cell_type": "code",
   "execution_count": 12,
   "metadata": {},
   "outputs": [],
   "source": [
    "# Импорт библиотек\n",
    "\n",
    "import numpy as np #для матричных вычислений\n",
    "import pandas as pd #для анализа и предобработки данных\n",
    "import matplotlib.pyplot as plt #для визуализации\n",
    "import seaborn as sns #для визуализации\n",
    "\n",
    "from sklearn import linear_model #линейные моделиё\n",
    "from sklearn import tree #деревья решений\n",
    "from sklearn import ensemble #ансамбли\n",
    "from sklearn import metrics #метрики\n",
    "from sklearn.model_selection import train_test_split #сплитование выборки\n",
    "\n",
    "from sklearn.model_selection import GridSearchCV\n",
    "from sklearn.model_selection import RandomizedSearchCV\n",
    "from sklearn.model_selection import cross_val_score\n",
    "import hyperopt\n",
    "from hyperopt import hp, fmin, tpe, Trials\n",
    "import optuna"
   ]
  },
  {
   "cell_type": "code",
   "execution_count": 13,
   "metadata": {},
   "outputs": [
    {
     "data": {
      "text/html": [
       "<div>\n",
       "<style scoped>\n",
       "    .dataframe tbody tr th:only-of-type {\n",
       "        vertical-align: middle;\n",
       "    }\n",
       "\n",
       "    .dataframe tbody tr th {\n",
       "        vertical-align: top;\n",
       "    }\n",
       "\n",
       "    .dataframe thead th {\n",
       "        text-align: right;\n",
       "    }\n",
       "</style>\n",
       "<table border=\"1\" class=\"dataframe\">\n",
       "  <thead>\n",
       "    <tr style=\"text-align: right;\">\n",
       "      <th></th>\n",
       "      <th>Activity</th>\n",
       "      <th>D1</th>\n",
       "      <th>D2</th>\n",
       "      <th>D3</th>\n",
       "      <th>D4</th>\n",
       "      <th>D5</th>\n",
       "      <th>D6</th>\n",
       "      <th>D7</th>\n",
       "      <th>D8</th>\n",
       "      <th>D9</th>\n",
       "      <th>...</th>\n",
       "      <th>D1767</th>\n",
       "      <th>D1768</th>\n",
       "      <th>D1769</th>\n",
       "      <th>D1770</th>\n",
       "      <th>D1771</th>\n",
       "      <th>D1772</th>\n",
       "      <th>D1773</th>\n",
       "      <th>D1774</th>\n",
       "      <th>D1775</th>\n",
       "      <th>D1776</th>\n",
       "    </tr>\n",
       "  </thead>\n",
       "  <tbody>\n",
       "    <tr>\n",
       "      <th>0</th>\n",
       "      <td>1</td>\n",
       "      <td>0.000000</td>\n",
       "      <td>0.497009</td>\n",
       "      <td>0.10</td>\n",
       "      <td>0.0</td>\n",
       "      <td>0.132956</td>\n",
       "      <td>0.678031</td>\n",
       "      <td>0.273166</td>\n",
       "      <td>0.585445</td>\n",
       "      <td>0.743663</td>\n",
       "      <td>...</td>\n",
       "      <td>0</td>\n",
       "      <td>0</td>\n",
       "      <td>0</td>\n",
       "      <td>0</td>\n",
       "      <td>0</td>\n",
       "      <td>0</td>\n",
       "      <td>0</td>\n",
       "      <td>0</td>\n",
       "      <td>0</td>\n",
       "      <td>0</td>\n",
       "    </tr>\n",
       "    <tr>\n",
       "      <th>1</th>\n",
       "      <td>1</td>\n",
       "      <td>0.366667</td>\n",
       "      <td>0.606291</td>\n",
       "      <td>0.05</td>\n",
       "      <td>0.0</td>\n",
       "      <td>0.111209</td>\n",
       "      <td>0.803455</td>\n",
       "      <td>0.106105</td>\n",
       "      <td>0.411754</td>\n",
       "      <td>0.836582</td>\n",
       "      <td>...</td>\n",
       "      <td>1</td>\n",
       "      <td>1</td>\n",
       "      <td>1</td>\n",
       "      <td>1</td>\n",
       "      <td>0</td>\n",
       "      <td>1</td>\n",
       "      <td>0</td>\n",
       "      <td>0</td>\n",
       "      <td>1</td>\n",
       "      <td>0</td>\n",
       "    </tr>\n",
       "    <tr>\n",
       "      <th>2</th>\n",
       "      <td>1</td>\n",
       "      <td>0.033300</td>\n",
       "      <td>0.480124</td>\n",
       "      <td>0.00</td>\n",
       "      <td>0.0</td>\n",
       "      <td>0.209791</td>\n",
       "      <td>0.610350</td>\n",
       "      <td>0.356453</td>\n",
       "      <td>0.517720</td>\n",
       "      <td>0.679051</td>\n",
       "      <td>...</td>\n",
       "      <td>0</td>\n",
       "      <td>0</td>\n",
       "      <td>0</td>\n",
       "      <td>0</td>\n",
       "      <td>0</td>\n",
       "      <td>0</td>\n",
       "      <td>0</td>\n",
       "      <td>0</td>\n",
       "      <td>0</td>\n",
       "      <td>0</td>\n",
       "    </tr>\n",
       "    <tr>\n",
       "      <th>3</th>\n",
       "      <td>1</td>\n",
       "      <td>0.000000</td>\n",
       "      <td>0.538825</td>\n",
       "      <td>0.00</td>\n",
       "      <td>0.5</td>\n",
       "      <td>0.196344</td>\n",
       "      <td>0.724230</td>\n",
       "      <td>0.235606</td>\n",
       "      <td>0.288764</td>\n",
       "      <td>0.805110</td>\n",
       "      <td>...</td>\n",
       "      <td>0</td>\n",
       "      <td>0</td>\n",
       "      <td>0</td>\n",
       "      <td>0</td>\n",
       "      <td>0</td>\n",
       "      <td>0</td>\n",
       "      <td>0</td>\n",
       "      <td>0</td>\n",
       "      <td>0</td>\n",
       "      <td>0</td>\n",
       "    </tr>\n",
       "    <tr>\n",
       "      <th>4</th>\n",
       "      <td>0</td>\n",
       "      <td>0.100000</td>\n",
       "      <td>0.517794</td>\n",
       "      <td>0.00</td>\n",
       "      <td>0.0</td>\n",
       "      <td>0.494734</td>\n",
       "      <td>0.781422</td>\n",
       "      <td>0.154361</td>\n",
       "      <td>0.303809</td>\n",
       "      <td>0.812646</td>\n",
       "      <td>...</td>\n",
       "      <td>0</td>\n",
       "      <td>0</td>\n",
       "      <td>0</td>\n",
       "      <td>0</td>\n",
       "      <td>0</td>\n",
       "      <td>0</td>\n",
       "      <td>0</td>\n",
       "      <td>0</td>\n",
       "      <td>0</td>\n",
       "      <td>0</td>\n",
       "    </tr>\n",
       "  </tbody>\n",
       "</table>\n",
       "<p>5 rows × 1777 columns</p>\n",
       "</div>"
      ],
      "text/plain": [
       "   Activity        D1        D2    D3   D4        D5        D6        D7   \n",
       "0         1  0.000000  0.497009  0.10  0.0  0.132956  0.678031  0.273166  \\\n",
       "1         1  0.366667  0.606291  0.05  0.0  0.111209  0.803455  0.106105   \n",
       "2         1  0.033300  0.480124  0.00  0.0  0.209791  0.610350  0.356453   \n",
       "3         1  0.000000  0.538825  0.00  0.5  0.196344  0.724230  0.235606   \n",
       "4         0  0.100000  0.517794  0.00  0.0  0.494734  0.781422  0.154361   \n",
       "\n",
       "         D8        D9  ...  D1767  D1768  D1769  D1770  D1771  D1772  D1773   \n",
       "0  0.585445  0.743663  ...      0      0      0      0      0      0      0  \\\n",
       "1  0.411754  0.836582  ...      1      1      1      1      0      1      0   \n",
       "2  0.517720  0.679051  ...      0      0      0      0      0      0      0   \n",
       "3  0.288764  0.805110  ...      0      0      0      0      0      0      0   \n",
       "4  0.303809  0.812646  ...      0      0      0      0      0      0      0   \n",
       "\n",
       "   D1774  D1775  D1776  \n",
       "0      0      0      0  \n",
       "1      0      1      0  \n",
       "2      0      0      0  \n",
       "3      0      0      0  \n",
       "4      0      0      0  \n",
       "\n",
       "[5 rows x 1777 columns]"
      ]
     },
     "execution_count": 13,
     "metadata": {},
     "output_type": "execute_result"
    }
   ],
   "source": [
    "# Загружаем данные\n",
    "\n",
    "data = pd.read_csv('data/_train_sem09 (1).csv')\n",
    "data.head()"
   ]
  },
  {
   "cell_type": "code",
   "execution_count": 14,
   "metadata": {},
   "outputs": [
    {
     "data": {
      "text/plain": [
       "Activity    0\n",
       "D1          0\n",
       "D2          0\n",
       "D3          0\n",
       "D4          0\n",
       "           ..\n",
       "D1772       0\n",
       "D1773       0\n",
       "D1774       0\n",
       "D1775       0\n",
       "D1776       0\n",
       "Length: 1777, dtype: int64"
      ]
     },
     "execution_count": 14,
     "metadata": {},
     "output_type": "execute_result"
    }
   ],
   "source": [
    "# Проверяем наличие пропусков\n",
    "\n",
    "data.isnull().sum()"
   ]
  },
  {
   "cell_type": "code",
   "execution_count": 15,
   "metadata": {},
   "outputs": [
    {
     "data": {
      "image/png": "[encoded data removed]",
      "text/plain": [
       "<Figure size 640x480 with 1 Axes>"
      ]
     },
     "metadata": {},
     "output_type": "display_data"
    }
   ],
   "source": [
    "# Смотрим на сбалансированность классов\n",
    "\n",
    "sns.countplot(data=data, x='Activity');"
   ]
  },
  {
   "cell_type": "code",
   "execution_count": 16,
   "metadata": {},
   "outputs": [],
   "source": [
    "# Создаем матрицу наблюдений $X$ и вектор ответов\n",
    "\n",
    "X = data.drop(['Activity'], axis=1)\n",
    "y = data['Activity']"
   ]
  },
  {
   "cell_type": "code",
   "execution_count": 17,
   "metadata": {},
   "outputs": [],
   "source": [
    "# Разделяем выборку на тренировочную и тестовую в соотношении 80/20. Для сохранения соотношений целевого признака используем параметр stratify (стратифицированное разбиение)\n",
    "\n",
    "X_train, X_test, y_train, y_test = train_test_split(X, y, stratify=y, random_state = 1, test_size = 0.2)"
   ]
  },
  {
   "cell_type": "markdown",
   "metadata": {},
   "source": [
    "### 1. Логистическая регрессия"
   ]
  },
  {
   "cell_type": "code",
   "execution_count": 19,
   "metadata": {},
   "outputs": [
    {
     "name": "stdout",
     "output_type": "stream",
     "text": [
      "f1_score на тестовом наборе: 0.78\n"
     ]
    }
   ],
   "source": [
    "# Создаем и обучаем логистическую регрессию без подбора гиперпараметров\n",
    "\n",
    "log_reg = linear_model.LogisticRegression(random_state=42, max_iter=1000)\n",
    "log_reg.fit(X_train, y_train)\n",
    "y_test_pred = log_reg.predict(X_test)\n",
    "print('f1_score на тестовом наборе: {:.2f}'.format(metrics.f1_score(y_test, y_test_pred)))"
   ]
  },
  {
   "cell_type": "markdown",
   "metadata": {},
   "source": [
    "##### Вывод: целевая метрика 0.78"
   ]
  },
  {
   "cell_type": "markdown",
   "metadata": {},
   "source": [
    "##### Подбор гиперпараметров с помощью базовых методов:"
   ]
  },
  {
   "cell_type": "markdown",
   "metadata": {},
   "source": [
    "#### GridSearchCV"
   ]
  },
  {
   "cell_type": "code",
   "execution_count": 20,
   "metadata": {},
   "outputs": [
    {
     "name": "stdout",
     "output_type": "stream",
     "text": [
      "CPU times: total: 2.23 s\n",
      "Wall time: 2min 40s\n",
      "f1_score на тестовом наборе: 0.79\n",
      "Наилучшие значения гиперпараметров: {'C': 0.1, 'penalty': 'l2', 'solver': 'lbfgs'}\n"
     ]
    },
    {
     "name": "stderr",
     "output_type": "stream",
     "text": [
      "c:\\Users\\sysadmin\\AppData\\Local\\Programs\\Python\\Python310\\lib\\site-packages\\sklearn\\linear_model\\_logistic.py:460: ConvergenceWarning: lbfgs failed to converge (status=1):\n",
      "STOP: TOTAL NO. of ITERATIONS REACHED LIMIT.\n",
      "\n",
      "Increase the number of iterations (max_iter) or scale the data as shown in:\n",
      "    https://scikit-learn.org/stable/modules/preprocessing.html\n",
      "Please also refer to the documentation for alternative solver options:\n",
      "    https://scikit-learn.org/stable/modules/linear_model.html#logistic-regression\n",
      "  n_iter_i = _check_optimize_result(\n"
     ]
    }
   ],
   "source": [
    "param_grid = [\n",
    "              {'penalty': ['l2', 'none'] ,\n",
    "              'solver': ['lbfgs', 'sag'],\n",
    "               'C': [0.01, 0.1, 0.3, 0.5, 0.7, 0.9, 1]},\n",
    "              \n",
    "              {'penalty': ['l1', 'l2'] ,\n",
    "              'solver': ['liblinear', 'saga'],\n",
    "               'C': [0.01, 0.1, 0.3, 0.5, 0.7, 0.9, 1]}\n",
    "]\n",
    "grid_search_lg = GridSearchCV(\n",
    "    estimator=linear_model.LogisticRegression(random_state=42, max_iter=50), \n",
    "    param_grid=param_grid, \n",
    "    cv=5, \n",
    "    n_jobs = -1\n",
    ")  \n",
    "%time grid_search_lg.fit(X_train, y_train) \n",
    "\n",
    "y_test_pred = grid_search_lg.predict(X_test)\n",
    "print('f1_score на тестовом наборе: {:.2f}'.format(metrics.f1_score(y_test, y_test_pred)))\n",
    "print(\"Наилучшие значения гиперпараметров: {}\".format(grid_search_lg.best_params_))"
   ]
  },
  {
   "cell_type": "markdown",
   "metadata": {},
   "source": [
    "##### Вывод: удалось улучшить целевую метрику до 0.79"
   ]
  },
  {
   "cell_type": "markdown",
   "metadata": {},
   "source": [
    "##### RandomizedSearchCV"
   ]
  },
  {
   "cell_type": "code",
   "execution_count": 21,
   "metadata": {},
   "outputs": [
    {
     "name": "stdout",
     "output_type": "stream",
     "text": [
      "CPU times: total: 3.05 s\n",
      "Wall time: 1min 4s\n",
      "f1_score на тестовом наборе: 0.78\n",
      "Наилучшие значения гиперпараметров: {'solver': 'sag', 'penalty': 'l2', 'C': 0.23}\n"
     ]
    },
    {
     "name": "stderr",
     "output_type": "stream",
     "text": [
      "c:\\Users\\sysadmin\\AppData\\Local\\Programs\\Python\\Python310\\lib\\site-packages\\sklearn\\linear_model\\_sag.py:350: ConvergenceWarning: The max_iter was reached which means the coef_ did not converge\n",
      "  warnings.warn(\n"
     ]
    }
   ],
   "source": [
    "param_grid = [{'penalty': ['l2', 'none'],\n",
    "              'solver': ['lbfgs', 'sag'],\n",
    "               'C': list(np.linspace(0.01, 1, 10, dtype=float))}]\n",
    "            \n",
    "random_search_lg = RandomizedSearchCV(\n",
    "    estimator=linear_model.LogisticRegression(random_state=42, max_iter=50), \n",
    "    param_distributions=param_grid, \n",
    "    cv=5, \n",
    "    n_iter = 30, \n",
    "    n_jobs = -1\n",
    ")  \n",
    "%time random_search_lg.fit(X_train, y_train) \n",
    "y_test_pred = random_search_lg.predict(X_test)\n",
    "print('f1_score на тестовом наборе: {:.2f}'.format(metrics.f1_score(y_test, y_test_pred)))\n",
    "print(\"Наилучшие значения гиперпараметров: {}\".format(random_search_lg.best_params_))"
   ]
  },
  {
   "cell_type": "markdown",
   "metadata": {},
   "source": [
    "##### Вывод: целевая метрика не изменилась 0.78"
   ]
  },
  {
   "cell_type": "markdown",
   "metadata": {},
   "source": [
    "##### Подбор гиперпараметров с помощью продвинутых методов:"
   ]
  },
  {
   "cell_type": "markdown",
   "metadata": {},
   "source": [
    "##### Hyperopt"
   ]
  },
  {
   "cell_type": "code",
   "execution_count": 22,
   "metadata": {},
   "outputs": [
    {
     "name": "stdout",
     "output_type": "stream",
     "text": [
      "Версия Hyperopt : 0.2.7\n"
     ]
    }
   ],
   "source": [
    "print(\"Версия Hyperopt : {}\".format(hyperopt.__version__))"
   ]
  },
  {
   "cell_type": "code",
   "execution_count": 23,
   "metadata": {},
   "outputs": [],
   "source": [
    "space={'penalty': hp.choice('penalty', ['l2', 'none']),\n",
    "       'solver' : hp.choice('solver', ['saga', 'sag', 'lbfgs'])\n",
    "      } "
   ]
  },
  {
   "cell_type": "code",
   "execution_count": 24,
   "metadata": {},
   "outputs": [],
   "source": [
    "random_state = 42\n",
    "def hyperopt_rf(params, cv=5, X=X_train, y=y_train, random_state=random_state):\n",
    "    params = {'penalty': params['penalty'], \n",
    "              'solver': params['solver']\n",
    "              }\n",
    "  \n",
    "    model = linear_model.LogisticRegression(**params, random_state=42, max_iter=50)\n",
    "\n",
    "    # обучаем модель можно с помощью кросс-валидации\n",
    "    # применим  cross validation с тем же количеством фолдов\n",
    "    score = cross_val_score(model, X, y, cv=cv, scoring=\"f1\", n_jobs=-1).mean()\n",
    "\n",
    "    # метрику необходимо минимизировать, поэтому ставим знак минус\n",
    "    return -score"
   ]
  },
  {
   "cell_type": "code",
   "execution_count": 25,
   "metadata": {},
   "outputs": [
    {
     "name": "stdout",
     "output_type": "stream",
     "text": [
      "100%|██████████| 30/30 [02:01<00:00,  4.04s/trial, best loss: -0.781240717510282]\n",
      "Наилучшие значения гиперпараметров {'penalty': 0, 'solver': 0}\n"
     ]
    }
   ],
   "source": [
    "# Начинаем подбор гиперпараметров\n",
    "\n",
    "trials = Trials()\n",
    "\n",
    "best=fmin(hyperopt_rf,\n",
    "          space=space,\n",
    "          algo=tpe.suggest,\n",
    "          max_evals=30,\n",
    "          trials=trials,\n",
    "          rstate=np.random.default_rng(random_state)\n",
    "         )\n",
    "print(\"Наилучшие значения гиперпараметров {}\".format(best))"
   ]
  },
  {
   "cell_type": "code",
   "execution_count": 26,
   "metadata": {},
   "outputs": [
    {
     "name": "stdout",
     "output_type": "stream",
     "text": [
      "f1_score на обучающем наборе: 0.89\n",
      "f1_score на тестовом наборе: 0.78\n"
     ]
    }
   ],
   "source": [
    "# Рассчитаем f1_score для тестовой выборки\n",
    "\n",
    "model = linear_model.LogisticRegression(penalty='l2', solver='sag', random_state=42, max_iter=1000)\n",
    "model.fit(X_train, y_train)\n",
    "y_train_pred = model.predict(X_train)\n",
    "print('f1_score на обучающем наборе: {:.2f}'.format(metrics.f1_score(y_train, y_train_pred)))\n",
    "\n",
    "y_test_pred = model.predict(X_test)\n",
    "print('f1_score на тестовом наборе: {:.2f}'.format(metrics.f1_score(y_test, y_test_pred)))"
   ]
  },
  {
   "cell_type": "markdown",
   "metadata": {},
   "source": [
    "##### Вывод: целевая метрика не изменилась 0.78"
   ]
  },
  {
   "cell_type": "markdown",
   "metadata": {},
   "source": [
    "##### Optuna"
   ]
  },
  {
   "cell_type": "code",
   "execution_count": 29,
   "metadata": {},
   "outputs": [],
   "source": [
    "def optuna_lr(trial):\n",
    "  \n",
    "  penalty = trial.suggest_categorical('penalty', ['l2', 'none'])\n",
    "  solver = trial.suggest_categorical('solver', ['lbfgs', 'sag'])\n",
    "  C = trial.suggest_float('C', 0.01, 1)\n",
    "  \n",
    "  model = linear_model.LogisticRegression(penalty=penalty,\n",
    "                                          solver=solver,\n",
    "                                          C=C,\n",
    "                                          random_state=42,\n",
    "                                          max_iter=50)\n",
    "\n",
    "  # обучаем модель можно с помощью кросс-валидации\n",
    "  # применим  cross validation с тем же количеством фолдов\n",
    "  score = cross_val_score(model, X_train, y_train, cv=5, scoring=\"f1\", n_jobs=-1).mean()\n",
    "\n",
    "  return score"
   ]
  },
  {
   "cell_type": "code",
   "execution_count": 30,
   "metadata": {},
   "outputs": [
    {
     "name": "stderr",
     "output_type": "stream",
     "text": [
      "[I 2023-11-07 11:57:02,865] A new study created in memory with name: LogisticRegression\n",
      "[I 2023-11-07 11:57:19,831] Trial 0 finished with value: 0.7525843675694686 and parameters: {'penalty': 'none', 'solver': 'lbfgs', 'C': 0.3781674992806116}. Best is trial 0 with value: 0.7525843675694686.\n",
      "[I 2023-11-07 11:57:21,572] Trial 1 finished with value: 0.7525843675694686 and parameters: {'penalty': 'none', 'solver': 'lbfgs', 'C': 0.08123846889894765}. Best is trial 0 with value: 0.7525843675694686.\n",
      "[I 2023-11-07 11:57:26,077] Trial 2 finished with value: 0.7683043585976091 and parameters: {'penalty': 'none', 'solver': 'sag', 'C': 0.2164497499997332}. Best is trial 2 with value: 0.7683043585976091.\n",
      "[I 2023-11-07 11:57:27,908] Trial 3 finished with value: 0.771384590734081 and parameters: {'penalty': 'l2', 'solver': 'lbfgs', 'C': 0.7740230296976861}. Best is trial 3 with value: 0.771384590734081.\n",
      "[I 2023-11-07 11:57:29,680] Trial 4 finished with value: 0.768328486798868 and parameters: {'penalty': 'l2', 'solver': 'lbfgs', 'C': 0.8875518006333633}. Best is trial 3 with value: 0.771384590734081.\n",
      "[I 2023-11-07 11:57:33,726] Trial 5 finished with value: 0.7683043585976091 and parameters: {'penalty': 'none', 'solver': 'sag', 'C': 0.8280402406953075}. Best is trial 3 with value: 0.771384590734081.\n",
      "[I 2023-11-07 11:57:35,507] Trial 6 finished with value: 0.7525843675694686 and parameters: {'penalty': 'none', 'solver': 'lbfgs', 'C': 0.364788936879695}. Best is trial 3 with value: 0.771384590734081.\n",
      "[I 2023-11-07 11:57:39,708] Trial 7 finished with value: 0.7683043585976091 and parameters: {'penalty': 'none', 'solver': 'sag', 'C': 0.7324941700538578}. Best is trial 3 with value: 0.771384590734081.\n",
      "[I 2023-11-07 11:57:43,811] Trial 8 finished with value: 0.7683043585976091 and parameters: {'penalty': 'none', 'solver': 'sag', 'C': 0.19248484397770538}. Best is trial 3 with value: 0.771384590734081.\n",
      "[I 2023-11-07 11:57:45,550] Trial 9 finished with value: 0.7525843675694686 and parameters: {'penalty': 'none', 'solver': 'lbfgs', 'C': 0.071801490531274}. Best is trial 3 with value: 0.771384590734081.\n",
      "[I 2023-11-07 11:57:47,299] Trial 10 finished with value: 0.7685600950835556 and parameters: {'penalty': 'l2', 'solver': 'lbfgs', 'C': 0.9998406375684923}. Best is trial 3 with value: 0.771384590734081.\n",
      "[I 2023-11-07 11:57:49,183] Trial 11 finished with value: 0.7687835985243333 and parameters: {'penalty': 'l2', 'solver': 'lbfgs', 'C': 0.9791591524258322}. Best is trial 3 with value: 0.771384590734081.\n",
      "[I 2023-11-07 11:57:51,114] Trial 12 finished with value: 0.7725322916530535 and parameters: {'penalty': 'l2', 'solver': 'lbfgs', 'C': 0.5742534019941786}. Best is trial 12 with value: 0.7725322916530535.\n",
      "[I 2023-11-07 11:57:52,886] Trial 13 finished with value: 0.7723286073670088 and parameters: {'penalty': 'l2', 'solver': 'lbfgs', 'C': 0.618054206032091}. Best is trial 12 with value: 0.7725322916530535.\n",
      "[I 2023-11-07 11:57:54,643] Trial 14 finished with value: 0.7714003351269618 and parameters: {'penalty': 'l2', 'solver': 'lbfgs', 'C': 0.6068338468529814}. Best is trial 12 with value: 0.7725322916530535.\n",
      "[I 2023-11-07 11:57:56,503] Trial 15 finished with value: 0.7715696397115368 and parameters: {'penalty': 'l2', 'solver': 'lbfgs', 'C': 0.5908360386543194}. Best is trial 12 with value: 0.7725322916530535.\n",
      "[I 2023-11-07 11:57:58,419] Trial 16 finished with value: 0.7711618057126306 and parameters: {'penalty': 'l2', 'solver': 'lbfgs', 'C': 0.6619268901663717}. Best is trial 12 with value: 0.7725322916530535.\n",
      "[I 2023-11-07 11:58:00,202] Trial 17 finished with value: 0.774397860593848 and parameters: {'penalty': 'l2', 'solver': 'lbfgs', 'C': 0.48764457056634575}. Best is trial 17 with value: 0.774397860593848.\n",
      "[I 2023-11-07 11:58:04,276] Trial 18 finished with value: 0.7779849257143716 and parameters: {'penalty': 'l2', 'solver': 'sag', 'C': 0.5238607553816118}. Best is trial 18 with value: 0.7779849257143716.\n",
      "[I 2023-11-07 11:58:08,337] Trial 19 finished with value: 0.7778860407497368 and parameters: {'penalty': 'l2', 'solver': 'sag', 'C': 0.45836815829865263}. Best is trial 18 with value: 0.7779849257143716.\n",
      "[I 2023-11-07 11:58:12,597] Trial 20 finished with value: 0.7781220768064949 and parameters: {'penalty': 'l2', 'solver': 'sag', 'C': 0.4497845105986355}. Best is trial 20 with value: 0.7781220768064949.\n",
      "[I 2023-11-07 11:58:16,810] Trial 21 finished with value: 0.7781220768064949 and parameters: {'penalty': 'l2', 'solver': 'sag', 'C': 0.45197108430957794}. Best is trial 20 with value: 0.7781220768064949.\n",
      "[I 2023-11-07 11:58:20,962] Trial 22 finished with value: 0.7792171158313885 and parameters: {'penalty': 'l2', 'solver': 'sag', 'C': 0.428467039183593}. Best is trial 22 with value: 0.7792171158313885.\n",
      "[I 2023-11-07 11:58:25,182] Trial 23 finished with value: 0.7787436026506723 and parameters: {'penalty': 'l2', 'solver': 'sag', 'C': 0.3927122120004078}. Best is trial 22 with value: 0.7792171158313885.\n",
      "[I 2023-11-07 11:58:29,331] Trial 24 finished with value: 0.780769740158036 and parameters: {'penalty': 'l2', 'solver': 'sag', 'C': 0.30044013838926925}. Best is trial 24 with value: 0.780769740158036.\n",
      "[I 2023-11-07 11:58:33,500] Trial 25 finished with value: 0.7809100508184703 and parameters: {'penalty': 'l2', 'solver': 'sag', 'C': 0.30841970302301197}. Best is trial 25 with value: 0.7809100508184703.\n",
      "[I 2023-11-07 11:58:37,576] Trial 26 finished with value: 0.7807790030608667 and parameters: {'penalty': 'l2', 'solver': 'sag', 'C': 0.292247599247398}. Best is trial 25 with value: 0.7809100508184703.\n",
      "[I 2023-11-07 11:58:41,693] Trial 27 finished with value: 0.7805416627220678 and parameters: {'penalty': 'l2', 'solver': 'sag', 'C': 0.30300896019889595}. Best is trial 25 with value: 0.7809100508184703.\n",
      "[I 2023-11-07 11:58:45,812] Trial 28 finished with value: 0.780769740158036 and parameters: {'penalty': 'l2', 'solver': 'sag', 'C': 0.29460813543338626}. Best is trial 25 with value: 0.7809100508184703.\n",
      "[I 2023-11-07 11:58:49,996] Trial 29 finished with value: 0.7794544642513868 and parameters: {'penalty': 'l2', 'solver': 'sag', 'C': 0.35332644626157744}. Best is trial 25 with value: 0.7809100508184703.\n"
     ]
    },
    {
     "name": "stdout",
     "output_type": "stream",
     "text": [
      "CPU times: total: 2.19 s\n",
      "Wall time: 1min 47s\n"
     ]
    }
   ],
   "source": [
    "%%time\n",
    "# cоздаем объект исследования\n",
    "# можем напрямую указать, что нам необходимо максимизировать метрику direction=\"maximize\"\n",
    "study = optuna.create_study(study_name=\"LogisticRegression\", direction=\"maximize\")\n",
    "# ищем лучшую комбинацию гиперпараметров n_trials раз\n",
    "study.optimize(optuna_lr, n_trials=30)"
   ]
  },
  {
   "cell_type": "code",
   "execution_count": 31,
   "metadata": {},
   "outputs": [
    {
     "name": "stdout",
     "output_type": "stream",
     "text": [
      "Наилучшие значения гиперпараметров {'penalty': 'l2', 'solver': 'sag', 'C': 0.30841970302301197}\n",
      "f1_score на обучающем наборе: 0.78\n"
     ]
    }
   ],
   "source": [
    "# Выводим результаты на обучающей выборке\n",
    "\n",
    "print(\"Наилучшие значения гиперпараметров {}\".format(study.best_params))\n",
    "print(\"f1_score на обучающем наборе: {:.2f}\".format(study.best_value))"
   ]
  },
  {
   "cell_type": "code",
   "execution_count": 32,
   "metadata": {},
   "outputs": [
    {
     "name": "stdout",
     "output_type": "stream",
     "text": [
      "f1_score на тестовом наборе: 0.79\n"
     ]
    }
   ],
   "source": [
    "# Рассчитаем точность для тестовой выборки\n",
    "\n",
    "model = linear_model.LogisticRegression(**study.best_params, random_state=42, max_iter=1000)\n",
    "model.fit(X_train, y_train)\n",
    "y_test_pred = model.predict(X_test)\n",
    "print('f1_score на тестовом наборе: {:.2f}'.format(metrics.f1_score(y_test, y_test_pred)))"
   ]
  },
  {
   "cell_type": "markdown",
   "metadata": {},
   "source": [
    "##### Вывод: удалось улучшить целевую метрику до 0.79"
   ]
  },
  {
   "cell_type": "markdown",
   "metadata": {},
   "source": [
    "### 2. Случайный лес"
   ]
  },
  {
   "cell_type": "code",
   "execution_count": 33,
   "metadata": {},
   "outputs": [
    {
     "name": "stdout",
     "output_type": "stream",
     "text": [
      "Train: 1.00\n",
      "Test: 0.81\n"
     ]
    }
   ],
   "source": [
    "# Создаем и обучаем случайный лес без подбора гиперпараметров\n",
    "rf = ensemble.RandomForestClassifier(random_state=42)\n",
    "rf.fit(X_train, y_train)\n",
    "\n",
    "y_train_pred = rf.predict(X_train)\n",
    "print('Train: {:.2f}'.format(metrics.f1_score(y_train, y_train_pred)))\n",
    "y_test_pred = rf.predict(X_test)\n",
    "print('Test: {:.2f}'.format(metrics.f1_score(y_test, y_test_pred)))"
   ]
  },
  {
   "cell_type": "markdown",
   "metadata": {},
   "source": [
    "##### Вывод: целевая метрика 0.81"
   ]
  },
  {
   "cell_type": "markdown",
   "metadata": {},
   "source": [
    "##### Подбор гиперпараметров с помощью базовых методов:"
   ]
  },
  {
   "cell_type": "markdown",
   "metadata": {},
   "source": [
    "##### GridSearchCV"
   ]
  },
  {
   "cell_type": "code",
   "execution_count": 36,
   "metadata": {},
   "outputs": [
    {
     "name": "stdout",
     "output_type": "stream",
     "text": [
      "CPU times: total: 10.3 s\n",
      "Wall time: 4min 24s\n",
      "f1_score на обучающем наборе: 0.99\n",
      "f1_score на тестовом наборе: 0.82\n",
      "Наилучшие значения гиперпараметров: {'max_depth': 25, 'min_samples_leaf': 2, 'n_estimators': 280}\n"
     ]
    }
   ],
   "source": [
    "param_grid = {'n_estimators': list(range(100, 300, 30)),\n",
    "              'min_samples_leaf': list(np.linspace(2, 10, 1, dtype=int)),\n",
    "              'max_depth': list(np.linspace(20, 40, 5, dtype=int))\n",
    "              }\n",
    "            \n",
    "grid_search_forest = GridSearchCV(\n",
    "    estimator=ensemble.RandomForestClassifier(random_state=42), \n",
    "    param_grid=param_grid, \n",
    "    cv=5, \n",
    "    n_jobs = -1\n",
    ")  \n",
    "%time grid_search_forest.fit(X_train, y_train) \n",
    "y_train_pred = grid_search_forest.predict(X_train)\n",
    "print('f1_score на обучающем наборе: {:.2f}'.format(metrics.f1_score(y_train, y_train_pred)))\n",
    "y_test_pred = grid_search_forest.predict(X_test)\n",
    "print('f1_score на тестовом наборе: {:.2f}'.format(metrics.f1_score(y_test, y_test_pred)))\n",
    "print(\"Наилучшие значения гиперпараметров: {}\".format(grid_search_forest.best_params_))"
   ]
  },
  {
   "cell_type": "markdown",
   "metadata": {},
   "source": [
    "##### Вывод: целевая метрика улучшена до 0.82"
   ]
  },
  {
   "cell_type": "markdown",
   "metadata": {},
   "source": [
    "##### RandomizedSearchCV"
   ]
  },
  {
   "cell_type": "code",
   "execution_count": 37,
   "metadata": {},
   "outputs": [
    {
     "name": "stdout",
     "output_type": "stream",
     "text": [
      "CPU times: total: 10.1 s\n",
      "Wall time: 2min 19s\n",
      "f1_score на обучающем наборе: 0.99\n",
      "f1_score на тестовом наборе: 0.82\n",
      "Наилучшие значения гиперпараметров: {'n_estimators': 280, 'min_samples_leaf': 2, 'max_depth': 22}\n"
     ]
    }
   ],
   "source": [
    "param_grid = {'n_estimators': list(range(100, 300, 30)),\n",
    "              'min_samples_leaf': list(np.linspace(2, 10, 1, dtype=int)),\n",
    "              'max_depth': list(np.linspace(20, 40, 10, dtype=int))\n",
    "              }\n",
    "            \n",
    "random_search_forest = RandomizedSearchCV(\n",
    "    estimator=ensemble.RandomForestClassifier(random_state=42), \n",
    "    param_distributions=param_grid, \n",
    "    cv=5,\n",
    "    n_iter = 20, \n",
    "    n_jobs = -1\n",
    ")  \n",
    "%time random_search_forest.fit(X_train, y_train) \n",
    "y_train_pred = random_search_forest.predict(X_train)\n",
    "print('f1_score на обучающем наборе: {:.2f}'.format(metrics.f1_score(y_train, y_train_pred)))\n",
    "y_test_pred = random_search_forest.predict(X_test)\n",
    "print('f1_score на тестовом наборе: {:.2f}'.format(metrics.f1_score(y_test, y_test_pred)))\n",
    "print(\"Наилучшие значения гиперпараметров: {}\".format(random_search_forest.best_params_))"
   ]
  },
  {
   "cell_type": "markdown",
   "metadata": {},
   "source": [
    "##### Вывод: целевая метрика улучшена до 0.82."
   ]
  },
  {
   "cell_type": "markdown",
   "metadata": {},
   "source": [
    "##### Подбор гиперпараметров с помощью продвинутых методов:"
   ]
  },
  {
   "cell_type": "markdown",
   "metadata": {},
   "source": [
    "##### Hyperopt"
   ]
  },
  {
   "cell_type": "code",
   "execution_count": 38,
   "metadata": {},
   "outputs": [],
   "source": [
    "space={'n_estimators': hp.quniform('n_estimators', 100, 300, 30),\n",
    "       'max_depth' : hp.quniform('max_depth', 20, 40, 10),\n",
    "       'min_samples_leaf': hp.quniform('min_samples_leaf', 2, 10, 1)\n",
    "      }"
   ]
  },
  {
   "cell_type": "code",
   "execution_count": 39,
   "metadata": {},
   "outputs": [],
   "source": [
    "random_state = 42\n",
    "\n",
    "def hyperopt_rf(params, cv=5, X=X_train, y=y_train, random_state=random_state):\n",
    "    params = {'n_estimators': int(params['n_estimators']), \n",
    "              'max_depth': int(params['max_depth']), \n",
    "             'min_samples_leaf': int(params['min_samples_leaf'])\n",
    "              }\n",
    "  \n",
    "    model = ensemble.RandomForestClassifier(**params, random_state=random_state)\n",
    "    \n",
    "    # обучаем модель с помощью кросс-валидации\n",
    "    # применим  cross validation с тем же количеством фолдов\n",
    "    score = cross_val_score(model, X, y, cv=cv, scoring=\"f1\", n_jobs=-1).mean()\n",
    "\n",
    "    return -score"
   ]
  },
  {
   "cell_type": "code",
   "execution_count": 40,
   "metadata": {},
   "outputs": [
    {
     "name": "stdout",
     "output_type": "stream",
     "text": [
      "100%|██████████| 20/20 [03:04<00:00,  9.25s/trial, best loss: -0.8105395273906474]\n",
      "Наилучшие значения гиперпараметров {'max_depth': 30.0, 'min_samples_leaf': 3.0, 'n_estimators': 240.0}\n",
      "CPU times: total: 1.56 s\n",
      "Wall time: 3min 5s\n"
     ]
    }
   ],
   "source": [
    "%%time\n",
    "\n",
    "# Подбор гиперпараметров\n",
    "\n",
    "trials = Trials()\n",
    "\n",
    "best=fmin(hyperopt_rf,\n",
    "          space=space,\n",
    "          algo=tpe.suggest,\n",
    "          max_evals=20,\n",
    "          trials=trials,\n",
    "          rstate=np.random.default_rng(random_state)\n",
    "         )\n",
    "print(\"Наилучшие значения гиперпараметров {}\".format(best))"
   ]
  },
  {
   "cell_type": "code",
   "execution_count": 41,
   "metadata": {},
   "outputs": [
    {
     "name": "stdout",
     "output_type": "stream",
     "text": [
      "f1_score на обучающем наборе: 0.98\n",
      "f1_score на тестовом наборе: 0.83\n"
     ]
    }
   ],
   "source": [
    "# Рассчитаем точность для тестовой выборки\n",
    "\n",
    "model = ensemble.RandomForestClassifier(\n",
    "    random_state=random_state, \n",
    "    n_estimators=int(best['n_estimators']),\n",
    "    max_depth=int(best['max_depth']),\n",
    "    min_samples_leaf=int(best['min_samples_leaf'])\n",
    ")\n",
    "model.fit(X_train, y_train)\n",
    "y_train_pred = model.predict(X_train)\n",
    "print('f1_score на обучающем наборе: {:.2f}'.format(metrics.f1_score(y_train, y_train_pred)))\n",
    "y_test_pred = model.predict(X_test)\n",
    "print('f1_score на тестовом наборе: {:.2f}'.format(metrics.f1_score(y_test, y_test_pred)))"
   ]
  },
  {
   "cell_type": "markdown",
   "metadata": {},
   "source": [
    "##### Вывод: целевая метрика улучшена до 0.83."
   ]
  },
  {
   "cell_type": "markdown",
   "metadata": {},
   "source": [
    "##### Optuna"
   ]
  },
  {
   "cell_type": "code",
   "execution_count": 42,
   "metadata": {},
   "outputs": [],
   "source": [
    "def optuna_rf(trial):\n",
    "  \n",
    "  n_estimators = trial.suggest_int('n_estimators', 100, 310, 30)\n",
    "  max_depth = trial.suggest_int('max_depth', 20, 40, 10)\n",
    "  min_samples_leaf = trial.suggest_int('min_samples_leaf', 2, 10, 1)\n",
    "\n",
    "  \n",
    "  model = ensemble.RandomForestClassifier(n_estimators=n_estimators,\n",
    "                                          max_depth=max_depth,\n",
    "                                          min_samples_leaf=min_samples_leaf,\n",
    "                                          random_state=42)\n",
    "  # обучаем модель с помощью кросс-валидации\n",
    "  # применим  cross validation с тем же количеством фолдов\n",
    "  score = cross_val_score(model, X_train, y_train, cv=5, scoring=\"f1\", n_jobs=-1).mean()\n",
    "\n",
    "  return score"
   ]
  },
  {
   "cell_type": "code",
   "execution_count": 43,
   "metadata": {},
   "outputs": [
    {
     "name": "stderr",
     "output_type": "stream",
     "text": [
      "[I 2023-11-07 14:32:13,571] A new study created in memory with name: RandomForestClassifier\n",
      "[I 2023-11-07 14:32:23,785] Trial 0 finished with value: 0.799697838341408 and parameters: {'n_estimators': 160, 'max_depth': 20, 'min_samples_leaf': 7}. Best is trial 0 with value: 0.799697838341408.\n",
      "[I 2023-11-07 14:32:31,044] Trial 1 finished with value: 0.8062244173695184 and parameters: {'n_estimators': 130, 'max_depth': 40, 'min_samples_leaf': 3}. Best is trial 1 with value: 0.8062244173695184.\n",
      "[I 2023-11-07 14:32:37,222] Trial 2 finished with value: 0.8002095106535245 and parameters: {'n_estimators': 130, 'max_depth': 40, 'min_samples_leaf': 6}. Best is trial 1 with value: 0.8062244173695184.\n",
      "[I 2023-11-07 14:32:51,116] Trial 3 finished with value: 0.8103350312584325 and parameters: {'n_estimators': 280, 'max_depth': 20, 'min_samples_leaf': 4}. Best is trial 3 with value: 0.8103350312584325.\n",
      "[I 2023-11-07 14:33:04,510] Trial 4 finished with value: 0.8139206857934681 and parameters: {'n_estimators': 220, 'max_depth': 40, 'min_samples_leaf': 2}. Best is trial 4 with value: 0.8139206857934681.\n",
      "[I 2023-11-07 14:33:16,764] Trial 5 finished with value: 0.8020253024743237 and parameters: {'n_estimators': 280, 'max_depth': 20, 'min_samples_leaf': 6}. Best is trial 4 with value: 0.8139206857934681.\n",
      "[I 2023-11-07 14:33:32,109] Trial 6 finished with value: 0.8084724090721384 and parameters: {'n_estimators': 310, 'max_depth': 40, 'min_samples_leaf': 4}. Best is trial 4 with value: 0.8139206857934681.\n",
      "[I 2023-11-07 14:33:37,450] Trial 7 finished with value: 0.7941411209740347 and parameters: {'n_estimators': 130, 'max_depth': 40, 'min_samples_leaf': 9}. Best is trial 4 with value: 0.8139206857934681.\n",
      "[I 2023-11-07 14:33:47,592] Trial 8 finished with value: 0.796148317524837 and parameters: {'n_estimators': 250, 'max_depth': 20, 'min_samples_leaf': 8}. Best is trial 4 with value: 0.8139206857934681.\n",
      "[I 2023-11-07 14:34:00,524] Trial 9 finished with value: 0.8006992223961455 and parameters: {'n_estimators': 310, 'max_depth': 40, 'min_samples_leaf': 7}. Best is trial 4 with value: 0.8139206857934681.\n",
      "[I 2023-11-07 14:34:12,403] Trial 10 finished with value: 0.8129537285259177 and parameters: {'n_estimators': 190, 'max_depth': 30, 'min_samples_leaf': 2}. Best is trial 4 with value: 0.8139206857934681.\n",
      "[I 2023-11-07 14:34:23,789] Trial 11 finished with value: 0.8129537285259177 and parameters: {'n_estimators': 190, 'max_depth': 30, 'min_samples_leaf': 2}. Best is trial 4 with value: 0.8139206857934681.\n",
      "[I 2023-11-07 14:34:36,858] Trial 12 finished with value: 0.8142814558119763 and parameters: {'n_estimators': 220, 'max_depth': 30, 'min_samples_leaf': 2}. Best is trial 12 with value: 0.8142814558119763.\n",
      "[I 2023-11-07 14:34:47,948] Trial 13 finished with value: 0.8051737921034491 and parameters: {'n_estimators': 220, 'max_depth': 30, 'min_samples_leaf': 4}. Best is trial 12 with value: 0.8142814558119763.\n",
      "[I 2023-11-07 14:35:00,998] Trial 14 finished with value: 0.8142814558119763 and parameters: {'n_estimators': 220, 'max_depth': 30, 'min_samples_leaf': 2}. Best is trial 12 with value: 0.8142814558119763.\n",
      "[I 2023-11-07 14:35:12,849] Trial 15 finished with value: 0.8001559118813327 and parameters: {'n_estimators': 250, 'max_depth': 30, 'min_samples_leaf': 5}. Best is trial 12 with value: 0.8142814558119763.\n",
      "[I 2023-11-07 14:35:22,318] Trial 16 finished with value: 0.7915845098574344 and parameters: {'n_estimators': 250, 'max_depth': 30, 'min_samples_leaf': 10}. Best is trial 12 with value: 0.8142814558119763.\n",
      "[I 2023-11-07 14:35:31,356] Trial 17 finished with value: 0.8082539102695744 and parameters: {'n_estimators': 160, 'max_depth': 30, 'min_samples_leaf': 3}. Best is trial 12 with value: 0.8142814558119763.\n",
      "[I 2023-11-07 14:35:37,098] Trial 18 finished with value: 0.8067270333344656 and parameters: {'n_estimators': 100, 'max_depth': 30, 'min_samples_leaf': 3}. Best is trial 12 with value: 0.8142814558119763.\n",
      "[I 2023-11-07 14:35:47,638] Trial 19 finished with value: 0.8024807470657234 and parameters: {'n_estimators': 220, 'max_depth': 20, 'min_samples_leaf': 5}. Best is trial 12 with value: 0.8142814558119763.\n",
      "[I 2023-11-07 14:35:58,997] Trial 20 finished with value: 0.8129537285259177 and parameters: {'n_estimators': 190, 'max_depth': 30, 'min_samples_leaf': 2}. Best is trial 12 with value: 0.8142814558119763.\n",
      "[I 2023-11-07 14:36:12,104] Trial 21 finished with value: 0.8139206857934681 and parameters: {'n_estimators': 220, 'max_depth': 40, 'min_samples_leaf': 2}. Best is trial 12 with value: 0.8142814558119763.\n",
      "[I 2023-11-07 14:36:24,131] Trial 22 finished with value: 0.809636358882394 and parameters: {'n_estimators': 220, 'max_depth': 30, 'min_samples_leaf': 3}. Best is trial 12 with value: 0.8142814558119763.\n",
      "[I 2023-11-07 14:36:38,942] Trial 23 finished with value: 0.8143986402870749 and parameters: {'n_estimators': 250, 'max_depth': 40, 'min_samples_leaf': 2}. Best is trial 23 with value: 0.8143986402870749.\n",
      "[I 2023-11-07 14:36:54,102] Trial 24 finished with value: 0.813068482863037 and parameters: {'n_estimators': 280, 'max_depth': 30, 'min_samples_leaf': 3}. Best is trial 23 with value: 0.8143986402870749.\n",
      "[I 2023-11-07 14:37:06,043] Trial 25 finished with value: 0.8001559118813327 and parameters: {'n_estimators': 250, 'max_depth': 30, 'min_samples_leaf': 5}. Best is trial 23 with value: 0.8143986402870749.\n",
      "[I 2023-11-07 14:37:18,629] Trial 26 finished with value: 0.8066529095253114 and parameters: {'n_estimators': 250, 'max_depth': 40, 'min_samples_leaf': 4}. Best is trial 23 with value: 0.8143986402870749.\n",
      "[I 2023-11-07 14:37:28,356] Trial 27 finished with value: 0.8099685819716356 and parameters: {'n_estimators': 160, 'max_depth': 30, 'min_samples_leaf': 2}. Best is trial 23 with value: 0.8143986402870749.\n",
      "[I 2023-11-07 14:37:43,668] Trial 28 finished with value: 0.8133089031934124 and parameters: {'n_estimators': 280, 'max_depth': 40, 'min_samples_leaf': 3}. Best is trial 23 with value: 0.8143986402870749.\n",
      "[I 2023-11-07 14:37:52,037] Trial 29 finished with value: 0.7986787062337152 and parameters: {'n_estimators': 190, 'max_depth': 20, 'min_samples_leaf': 7}. Best is trial 23 with value: 0.8143986402870749.\n"
     ]
    },
    {
     "name": "stdout",
     "output_type": "stream",
     "text": [
      "CPU times: total: 2.53 s\n",
      "Wall time: 5min 38s\n"
     ]
    }
   ],
   "source": [
    "%%time\n",
    "\n",
    "# Создаем объект исследования\n",
    "\n",
    "study = optuna.create_study(study_name=\"RandomForestClassifier\", direction=\"maximize\")\n",
    "# ищем лучшую комбинацию гиперпараметров n_trials раз\n",
    "study.optimize(optuna_rf, n_trials=30)"
   ]
  },
  {
   "cell_type": "code",
   "execution_count": 44,
   "metadata": {},
   "outputs": [
    {
     "name": "stdout",
     "output_type": "stream",
     "text": [
      "Наилучшие значения гиперпараметров {'n_estimators': 250, 'max_depth': 40, 'min_samples_leaf': 2}\n",
      "f1_score на обучающем наборе: 0.81\n"
     ]
    }
   ],
   "source": [
    "# Выводим результаты на обучающей выборке\n",
    "\n",
    "print(\"Наилучшие значения гиперпараметров {}\".format(study.best_params))\n",
    "print(\"f1_score на обучающем наборе: {:.2f}\".format(study.best_value))"
   ]
  },
  {
   "cell_type": "code",
   "execution_count": 45,
   "metadata": {},
   "outputs": [
    {
     "name": "stdout",
     "output_type": "stream",
     "text": [
      "f1_score на обучающем наборе: 0.99\n",
      "f1_score на тестовом наборе: 0.82\n"
     ]
    }
   ],
   "source": [
    "# Рассчитаем точность для тестовой выборки\n",
    "\n",
    "model = ensemble.RandomForestClassifier(**study.best_params,random_state=42)\n",
    "model.fit(X_train, y_train)\n",
    "y_train_pred = model.predict(X_train)\n",
    "print('f1_score на обучающем наборе: {:.2f}'.format(metrics.f1_score(y_train, y_train_pred)))\n",
    "y_test_pred = model.predict(X_test)\n",
    "print('f1_score на тестовом наборе: {:.2f}'.format(metrics.f1_score(y_test, y_test_pred)))"
   ]
  },
  {
   "cell_type": "markdown",
   "metadata": {},
   "source": [
    "##### Вывод: целевая метрика улучшена до 0.82."
   ]
  }
 ],
 "metadata": {
  "kernelspec": {
   "display_name": "Python 3",
   "language": "python",
   "name": "python3"
  },
  "language_info": {
   "codemirror_mode": {
    "name": "ipython",
    "version": 3
   },
   "file_extension": ".py",
   "mimetype": "text/x-python",
   "name": "python",
   "nbconvert_exporter": "python",
   "pygments_lexer": "ipython3",
   "version": "3.10.9"
  }
 },
 "nbformat": 4,
 "nbformat_minor": 2
}
