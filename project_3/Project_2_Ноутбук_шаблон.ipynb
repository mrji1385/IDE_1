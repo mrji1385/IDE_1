{
  "cells": [
    {
      "cell_type": "markdown",
      "id": "42289889-bd57-434e-9637-d3e354756316",
      "metadata": {
        "id": "42289889-bd57-434e-9637-d3e354756316"
      },
      "source": [
        "<center> <img src = https://raw.githubusercontent.com/AndreyRysistov/DatasetsForPandas/main/hh%20label.jpg alt=\"drawing\" style=\"width:400px;\">"
      ]
    },
    {
      "cell_type": "markdown",
      "id": "829cb75b-f14e-4ba8-9195-7ba929a7d656",
      "metadata": {
        "id": "829cb75b-f14e-4ba8-9195-7ba929a7d656",
        "tags": []
      },
      "source": [
        "# <center> Проект: Анализ вакансий из HeadHunter\n",
        "   "
      ]
    },
    {
      "cell_type": "code",
      "execution_count": 1,
      "id": "dccfde33-2452-43fb-a8a5-5c6ebc02a71d",
      "metadata": {
        "id": "dccfde33-2452-43fb-a8a5-5c6ebc02a71d"
      },
      "outputs": [],
      "source": [
        "import pandas as pd\n",
        "import psycopg2\n",
        "import urllib.parse as req"
      ]
    },
    {
      "cell_type": "code",
      "execution_count": 2,
      "id": "oVKH4ehvf8Ay",
      "metadata": {
        "id": "oVKH4ehvf8Ay"
      },
      "outputs": [],
      "source": [
        "# вставьте сюда параметры подключения из юнита 1. Работа с базой данных из Python \n",
        "\n",
        "DBNAME = 'project_sql'\n",
        "USER = 'skillfactory'\n",
        "PASSWORD = 'cCkxxLVrDE8EbvjueeMedPKt'\n",
        "HOST = '84.201.134.129'\n",
        "PORT = 5432"
      ]
    },
    {
      "cell_type": "code",
      "execution_count": 3,
      "id": "G4X_q8KBf7SF",
      "metadata": {
        "id": "G4X_q8KBf7SF"
      },
      "outputs": [],
      "source": [
        "connection = psycopg2.connect(\n",
        "    dbname=DBNAME,\n",
        "    user=USER,\n",
        "    host=HOST,\n",
        "    password=PASSWORD,\n",
        "    port=PORT\n",
        ")"
      ]
    },
    {
      "cell_type": "markdown",
      "id": "0dc6476b-7a00-44f1-ac93-6e3baed33a29",
      "metadata": {
        "id": "0dc6476b-7a00-44f1-ac93-6e3baed33a29"
      },
      "source": [
        "# Юнит 3. Предварительный анализ данных"
      ]
    },
    {
      "cell_type": "markdown",
      "id": "889782b6-8d1c-410e-8920-e57f27917c64",
      "metadata": {
        "id": "889782b6-8d1c-410e-8920-e57f27917c64"
      },
      "source": [
        "1. Напишите запрос, который посчитает количество вакансий в нашей базе (вакансии находятся в таблице vacancies). "
      ]
    },
    {
      "cell_type": "code",
      "execution_count": 4,
      "id": "bc39e68e-ed02-4ee2-9235-7258a2f867a8",
      "metadata": {
        "id": "bc39e68e-ed02-4ee2-9235-7258a2f867a8"
      },
      "outputs": [],
      "source": [
        "# текст запроса\n",
        "query_3_1 = f'''SELECT\n",
        "                    COUNT(id)  -- считаем количество вакансий по id\n",
        "                FROM\n",
        "                    vacancies\n",
        "            '''"
      ]
    },
    {
      "cell_type": "code",
      "execution_count": 5,
      "id": "7mAwtsk4hEHY",
      "metadata": {
        "id": "7mAwtsk4hEHY"
      },
      "outputs": [
        {
          "name": "stderr",
          "output_type": "stream",
          "text": [
            "C:\\Users\\sysadmin\\AppData\\Local\\Temp\\ipykernel_21164\\505335110.py:2: UserWarning: pandas only supports SQLAlchemy connectable (engine/connection) or database string URI or sqlite3 DBAPI2 connection. Other DBAPI2 objects are not tested. Please consider using SQLAlchemy.\n",
            "  quantity_vacancies = pd.read_sql_query(query_3_1, connection)\n"
          ]
        },
        {
          "data": {
            "text/html": [
              "<div>\n",
              "<style scoped>\n",
              "    .dataframe tbody tr th:only-of-type {\n",
              "        vertical-align: middle;\n",
              "    }\n",
              "\n",
              "    .dataframe tbody tr th {\n",
              "        vertical-align: top;\n",
              "    }\n",
              "\n",
              "    .dataframe thead th {\n",
              "        text-align: right;\n",
              "    }\n",
              "</style>\n",
              "<table border=\"1\" class=\"dataframe\">\n",
              "  <thead>\n",
              "    <tr style=\"text-align: right;\">\n",
              "      <th></th>\n",
              "      <th>count</th>\n",
              "    </tr>\n",
              "  </thead>\n",
              "  <tbody>\n",
              "    <tr>\n",
              "      <th>0</th>\n",
              "      <td>49197</td>\n",
              "    </tr>\n",
              "  </tbody>\n",
              "</table>\n",
              "</div>"
            ],
            "text/plain": [
              "   count\n",
              "0  49197"
            ]
          },
          "execution_count": 5,
          "metadata": {},
          "output_type": "execute_result"
        }
      ],
      "source": [
        "# результат запроса\n",
        "quantity_vacancies = pd.read_sql_query(query_3_1, connection)\n",
        "quantity_vacancies"
      ]
    },
    {
      "cell_type": "markdown",
      "id": "b583485d-1f9e-494e-ada4-80ffff7c53d6",
      "metadata": {
        "id": "b583485d-1f9e-494e-ada4-80ffff7c53d6"
      },
      "source": [
        "2. Напишите запрос, который посчитает количество работодателей (таблица employers). "
      ]
    },
    {
      "cell_type": "code",
      "execution_count": 6,
      "id": "5408c52c-3407-4a63-b25b-1aafa2322d28",
      "metadata": {
        "id": "5408c52c-3407-4a63-b25b-1aafa2322d28"
      },
      "outputs": [],
      "source": [
        "# текст запроса\n",
        "query_3_2 = f'''SELECT\n",
        "                    COUNT(id)  -- считаем количество работодателей по id\n",
        "                FROM\n",
        "                    employers\n",
        "            '''"
      ]
    },
    {
      "cell_type": "code",
      "execution_count": 7,
      "id": "jVL4eshKhdqc",
      "metadata": {
        "id": "jVL4eshKhdqc"
      },
      "outputs": [
        {
          "name": "stderr",
          "output_type": "stream",
          "text": [
            "C:\\Users\\sysadmin\\AppData\\Local\\Temp\\ipykernel_21164\\72524357.py:2: UserWarning: pandas only supports SQLAlchemy connectable (engine/connection) or database string URI or sqlite3 DBAPI2 connection. Other DBAPI2 objects are not tested. Please consider using SQLAlchemy.\n",
            "  quantity_employers = pd.read_sql_query(query_3_2, connection)\n"
          ]
        },
        {
          "data": {
            "text/html": [
              "<div>\n",
              "<style scoped>\n",
              "    .dataframe tbody tr th:only-of-type {\n",
              "        vertical-align: middle;\n",
              "    }\n",
              "\n",
              "    .dataframe tbody tr th {\n",
              "        vertical-align: top;\n",
              "    }\n",
              "\n",
              "    .dataframe thead th {\n",
              "        text-align: right;\n",
              "    }\n",
              "</style>\n",
              "<table border=\"1\" class=\"dataframe\">\n",
              "  <thead>\n",
              "    <tr style=\"text-align: right;\">\n",
              "      <th></th>\n",
              "      <th>count</th>\n",
              "    </tr>\n",
              "  </thead>\n",
              "  <tbody>\n",
              "    <tr>\n",
              "      <th>0</th>\n",
              "      <td>23501</td>\n",
              "    </tr>\n",
              "  </tbody>\n",
              "</table>\n",
              "</div>"
            ],
            "text/plain": [
              "   count\n",
              "0  23501"
            ]
          },
          "execution_count": 7,
          "metadata": {},
          "output_type": "execute_result"
        }
      ],
      "source": [
        "# результат запроса\n",
        "quantity_employers = pd.read_sql_query(query_3_2, connection)\n",
        "quantity_employers"
      ]
    },
    {
      "cell_type": "markdown",
      "id": "a2bfff1f-c975-4bf6-84be-2185d79dcb76",
      "metadata": {
        "id": "a2bfff1f-c975-4bf6-84be-2185d79dcb76"
      },
      "source": [
        "3. Посчитате с помощью запроса количество регионов (таблица areas)."
      ]
    },
    {
      "cell_type": "code",
      "execution_count": 8,
      "id": "1m8QJwBYhey6",
      "metadata": {
        "id": "1m8QJwBYhey6"
      },
      "outputs": [],
      "source": [
        "# текст запроса\n",
        "query_3_3 = f'''SELECT\n",
        "                    COUNT(id)  -- считаем количество регионов по id\n",
        "                FROM\n",
        "                    areas\n",
        "            '''"
      ]
    },
    {
      "cell_type": "code",
      "execution_count": 9,
      "id": "EZsn9tlfhe7f",
      "metadata": {
        "id": "EZsn9tlfhe7f"
      },
      "outputs": [
        {
          "name": "stderr",
          "output_type": "stream",
          "text": [
            "C:\\Users\\sysadmin\\AppData\\Local\\Temp\\ipykernel_21164\\2486803467.py:2: UserWarning: pandas only supports SQLAlchemy connectable (engine/connection) or database string URI or sqlite3 DBAPI2 connection. Other DBAPI2 objects are not tested. Please consider using SQLAlchemy.\n",
            "  quantity_areas = pd.read_sql_query(query_3_3, connection)\n"
          ]
        },
        {
          "data": {
            "text/html": [
              "<div>\n",
              "<style scoped>\n",
              "    .dataframe tbody tr th:only-of-type {\n",
              "        vertical-align: middle;\n",
              "    }\n",
              "\n",
              "    .dataframe tbody tr th {\n",
              "        vertical-align: top;\n",
              "    }\n",
              "\n",
              "    .dataframe thead th {\n",
              "        text-align: right;\n",
              "    }\n",
              "</style>\n",
              "<table border=\"1\" class=\"dataframe\">\n",
              "  <thead>\n",
              "    <tr style=\"text-align: right;\">\n",
              "      <th></th>\n",
              "      <th>count</th>\n",
              "    </tr>\n",
              "  </thead>\n",
              "  <tbody>\n",
              "    <tr>\n",
              "      <th>0</th>\n",
              "      <td>1362</td>\n",
              "    </tr>\n",
              "  </tbody>\n",
              "</table>\n",
              "</div>"
            ],
            "text/plain": [
              "   count\n",
              "0   1362"
            ]
          },
          "execution_count": 9,
          "metadata": {},
          "output_type": "execute_result"
        }
      ],
      "source": [
        "# результат запроса\n",
        "quantity_areas = pd.read_sql_query(query_3_3, connection)\n",
        "quantity_areas"
      ]
    },
    {
      "cell_type": "markdown",
      "id": "41bb59f3-53cc-4a67-a5bc-bedf573955e4",
      "metadata": {
        "id": "41bb59f3-53cc-4a67-a5bc-bedf573955e4"
      },
      "source": [
        "4. Посчитате с помощью запроса количество сфер деятельности в базе (таблица industries)."
      ]
    },
    {
      "cell_type": "code",
      "execution_count": 10,
      "id": "d286cf4c-707b-4cd2-9190-7ab3587d04a1",
      "metadata": {
        "id": "d286cf4c-707b-4cd2-9190-7ab3587d04a1"
      },
      "outputs": [],
      "source": [
        "# текст запроса\n",
        "query_3_4 = f'''SELECT\n",
        "                    COUNT(id)  -- считаем количество сфер деятельности по id\n",
        "                FROM\n",
        "                    industries\n",
        "            '''"
      ]
    },
    {
      "cell_type": "code",
      "execution_count": 11,
      "id": "JYAaoZ4qhfzW",
      "metadata": {
        "id": "JYAaoZ4qhfzW"
      },
      "outputs": [
        {
          "name": "stderr",
          "output_type": "stream",
          "text": [
            "C:\\Users\\sysadmin\\AppData\\Local\\Temp\\ipykernel_21164\\3829655345.py:2: UserWarning: pandas only supports SQLAlchemy connectable (engine/connection) or database string URI or sqlite3 DBAPI2 connection. Other DBAPI2 objects are not tested. Please consider using SQLAlchemy.\n",
            "  quantity_industries = pd.read_sql_query(query_3_4, connection)\n"
          ]
        },
        {
          "data": {
            "text/html": [
              "<div>\n",
              "<style scoped>\n",
              "    .dataframe tbody tr th:only-of-type {\n",
              "        vertical-align: middle;\n",
              "    }\n",
              "\n",
              "    .dataframe tbody tr th {\n",
              "        vertical-align: top;\n",
              "    }\n",
              "\n",
              "    .dataframe thead th {\n",
              "        text-align: right;\n",
              "    }\n",
              "</style>\n",
              "<table border=\"1\" class=\"dataframe\">\n",
              "  <thead>\n",
              "    <tr style=\"text-align: right;\">\n",
              "      <th></th>\n",
              "      <th>count</th>\n",
              "    </tr>\n",
              "  </thead>\n",
              "  <tbody>\n",
              "    <tr>\n",
              "      <th>0</th>\n",
              "      <td>294</td>\n",
              "    </tr>\n",
              "  </tbody>\n",
              "</table>\n",
              "</div>"
            ],
            "text/plain": [
              "   count\n",
              "0    294"
            ]
          },
          "execution_count": 11,
          "metadata": {},
          "output_type": "execute_result"
        }
      ],
      "source": [
        "# результат запроса\n",
        "quantity_industries = pd.read_sql_query(query_3_4, connection)\n",
        "quantity_industries"
      ]
    },
    {
      "cell_type": "markdown",
      "id": "9a8a2181-6914-448b-85f1-38f5f18b8a93",
      "metadata": {
        "id": "9a8a2181-6914-448b-85f1-38f5f18b8a93"
      },
      "source": [
        "***"
      ]
    },
    {
      "cell_type": "markdown",
      "id": "01ddc006",
      "metadata": {},
      "source": [
        "5. Дополните65льный анализ."
      ]
    },
    {
      "cell_type": "markdown",
      "id": "55b672a4",
      "metadata": {},
      "source": [
        "5.1. Запрос, который определит ТОП-25 работодателей с максимальным количеством вакансий."
      ]
    },
    {
      "cell_type": "code",
      "execution_count": 12,
      "id": "adb8d43a",
      "metadata": {},
      "outputs": [],
      "source": [
        "# текст запроса\n",
        "query_3_5_1 = f'''SELECT \n",
        "                    e.name,\n",
        "                    COUNT(v.id) vacancies -- подсчет вакансий по их id для каждого работодателя \n",
        "                FROM \n",
        "                    vacancies v\n",
        "                    LEFT JOIN employers e ON v.employer_id = e.id -- соединяем таблицы vacancies и employers\n",
        "                GROUP BY e.id -- группируем по id работодателя\n",
        "                ORDER BY vacancies DESC -- сортировка по убыванию\n",
        "                LIMIT 25 -- выводим первые 25 записей\n",
        "             '''"
      ]
    },
    {
      "cell_type": "code",
      "execution_count": 13,
      "id": "8f2599d5",
      "metadata": {},
      "outputs": [
        {
          "name": "stderr",
          "output_type": "stream",
          "text": [
            "C:\\Users\\sysadmin\\AppData\\Local\\Temp\\ipykernel_21164\\1560675499.py:2: UserWarning: pandas only supports SQLAlchemy connectable (engine/connection) or database string URI or sqlite3 DBAPI2 connection. Other DBAPI2 objects are not tested. Please consider using SQLAlchemy.\n",
            "  top_25_vacancies = pd.read_sql_query(query_3_5_1, connection)\n"
          ]
        },
        {
          "data": {
            "text/html": [
              "<div>\n",
              "<style scoped>\n",
              "    .dataframe tbody tr th:only-of-type {\n",
              "        vertical-align: middle;\n",
              "    }\n",
              "\n",
              "    .dataframe tbody tr th {\n",
              "        vertical-align: top;\n",
              "    }\n",
              "\n",
              "    .dataframe thead th {\n",
              "        text-align: right;\n",
              "    }\n",
              "</style>\n",
              "<table border=\"1\" class=\"dataframe\">\n",
              "  <thead>\n",
              "    <tr style=\"text-align: right;\">\n",
              "      <th></th>\n",
              "      <th>name</th>\n",
              "      <th>vacancies</th>\n",
              "    </tr>\n",
              "  </thead>\n",
              "  <tbody>\n",
              "    <tr>\n",
              "      <th>0</th>\n",
              "      <td>Яндекс</td>\n",
              "      <td>1933</td>\n",
              "    </tr>\n",
              "    <tr>\n",
              "      <th>1</th>\n",
              "      <td>Ростелеком</td>\n",
              "      <td>491</td>\n",
              "    </tr>\n",
              "    <tr>\n",
              "      <th>2</th>\n",
              "      <td>Тинькофф</td>\n",
              "      <td>444</td>\n",
              "    </tr>\n",
              "    <tr>\n",
              "      <th>3</th>\n",
              "      <td>СБЕР</td>\n",
              "      <td>428</td>\n",
              "    </tr>\n",
              "    <tr>\n",
              "      <th>4</th>\n",
              "      <td>Газпром нефть</td>\n",
              "      <td>331</td>\n",
              "    </tr>\n",
              "    <tr>\n",
              "      <th>5</th>\n",
              "      <td>ИК СИБИНТЕК</td>\n",
              "      <td>327</td>\n",
              "    </tr>\n",
              "    <tr>\n",
              "      <th>6</th>\n",
              "      <td>МТС</td>\n",
              "      <td>292</td>\n",
              "    </tr>\n",
              "    <tr>\n",
              "      <th>7</th>\n",
              "      <td>DataArt</td>\n",
              "      <td>247</td>\n",
              "    </tr>\n",
              "    <tr>\n",
              "      <th>8</th>\n",
              "      <td>Совкомбанк Технологии</td>\n",
              "      <td>204</td>\n",
              "    </tr>\n",
              "    <tr>\n",
              "      <th>9</th>\n",
              "      <td>Первый Бит</td>\n",
              "      <td>176</td>\n",
              "    </tr>\n",
              "    <tr>\n",
              "      <th>10</th>\n",
              "      <td>Ozon</td>\n",
              "      <td>175</td>\n",
              "    </tr>\n",
              "    <tr>\n",
              "      <th>11</th>\n",
              "      <td>IBS</td>\n",
              "      <td>175</td>\n",
              "    </tr>\n",
              "    <tr>\n",
              "      <th>12</th>\n",
              "      <td>Andersen</td>\n",
              "      <td>155</td>\n",
              "    </tr>\n",
              "    <tr>\n",
              "      <th>13</th>\n",
              "      <td>Тензор</td>\n",
              "      <td>155</td>\n",
              "    </tr>\n",
              "    <tr>\n",
              "      <th>14</th>\n",
              "      <td>Спецремонт</td>\n",
              "      <td>151</td>\n",
              "    </tr>\n",
              "    <tr>\n",
              "      <th>15</th>\n",
              "      <td>VK</td>\n",
              "      <td>150</td>\n",
              "    </tr>\n",
              "    <tr>\n",
              "      <th>16</th>\n",
              "      <td>Поляков Денис Иванович</td>\n",
              "      <td>127</td>\n",
              "    </tr>\n",
              "    <tr>\n",
              "      <th>17</th>\n",
              "      <td>Иннотех, Группа компаний</td>\n",
              "      <td>122</td>\n",
              "    </tr>\n",
              "    <tr>\n",
              "      <th>18</th>\n",
              "      <td>Bell Integrator</td>\n",
              "      <td>121</td>\n",
              "    </tr>\n",
              "    <tr>\n",
              "      <th>19</th>\n",
              "      <td>ANCOR</td>\n",
              "      <td>118</td>\n",
              "    </tr>\n",
              "    <tr>\n",
              "      <th>20</th>\n",
              "      <td>ЛАНИТ</td>\n",
              "      <td>117</td>\n",
              "    </tr>\n",
              "    <tr>\n",
              "      <th>21</th>\n",
              "      <td>МАГНИТ, Розничная сеть</td>\n",
              "      <td>114</td>\n",
              "    </tr>\n",
              "    <tr>\n",
              "      <th>22</th>\n",
              "      <td>Лига Цифровой Экономики</td>\n",
              "      <td>110</td>\n",
              "    </tr>\n",
              "    <tr>\n",
              "      <th>23</th>\n",
              "      <td>Softline</td>\n",
              "      <td>108</td>\n",
              "    </tr>\n",
              "    <tr>\n",
              "      <th>24</th>\n",
              "      <td>МегаФон</td>\n",
              "      <td>104</td>\n",
              "    </tr>\n",
              "  </tbody>\n",
              "</table>\n",
              "</div>"
            ],
            "text/plain": [
              "                        name  vacancies\n",
              "0                     Яндекс       1933\n",
              "1                 Ростелеком        491\n",
              "2                   Тинькофф        444\n",
              "3                       СБЕР        428\n",
              "4              Газпром нефть        331\n",
              "5                ИК СИБИНТЕК        327\n",
              "6                        МТС        292\n",
              "7                    DataArt        247\n",
              "8      Совкомбанк Технологии        204\n",
              "9                 Первый Бит        176\n",
              "10                      Ozon        175\n",
              "11                       IBS        175\n",
              "12                  Andersen        155\n",
              "13                    Тензор        155\n",
              "14                Спецремонт        151\n",
              "15                        VK        150\n",
              "16    Поляков Денис Иванович        127\n",
              "17  Иннотех, Группа компаний        122\n",
              "18           Bell Integrator        121\n",
              "19                     ANCOR        118\n",
              "20                     ЛАНИТ        117\n",
              "21    МАГНИТ, Розничная сеть        114\n",
              "22   Лига Цифровой Экономики        110\n",
              "23                  Softline        108\n",
              "24                   МегаФон        104"
            ]
          },
          "execution_count": 13,
          "metadata": {},
          "output_type": "execute_result"
        }
      ],
      "source": [
        "# результат запроса\n",
        "top_25_vacancies = pd.read_sql_query(query_3_5_1, connection)\n",
        "top_25_vacancies"
      ]
    },
    {
      "cell_type": "markdown",
      "id": "f9df3ca1",
      "metadata": {},
      "source": [
        "5.2. Запрос для определения количества работодателей с не менее, чем 10 вакансиями."
      ]
    },
    {
      "cell_type": "code",
      "execution_count": 14,
      "id": "8d4de3d5",
      "metadata": {},
      "outputs": [],
      "source": [
        "# текст запроса\n",
        "query_3_5_2 = f'''WITH tab AS ( -- таблица с работодателями у каждого из которых не менее 10 вакансий\n",
        "                    SELECT \n",
        "                        COUNT(*) -- подсчет вакансий для каждого работодателя\n",
        "                    FROM \n",
        "                        vacancies v\n",
        "                        LEFT JOIN employers e ON v.employer_id = e.id -- соединяем таблицы                 \n",
        "                    GROUP BY v.employer_id -- группируем по id работодателя\n",
        "                    HAVING COUNT(v.id) >= 10 -- не менее 10 вакансий у работодателя  \n",
        "                )\n",
        "                \n",
        "                SELECT\n",
        "                    COUNT(*) -- количество работодателей удовлетворяющих условию\n",
        "                FROM\n",
        "                    tab\n",
        "             '''"
      ]
    },
    {
      "cell_type": "code",
      "execution_count": 15,
      "id": "c64c767b",
      "metadata": {},
      "outputs": [
        {
          "name": "stderr",
          "output_type": "stream",
          "text": [
            "C:\\Users\\sysadmin\\AppData\\Local\\Temp\\ipykernel_21164\\2591236038.py:2: UserWarning: pandas only supports SQLAlchemy connectable (engine/connection) or database string URI or sqlite3 DBAPI2 connection. Other DBAPI2 objects are not tested. Please consider using SQLAlchemy.\n",
            "  from_10_vacancies = pd.read_sql_query(query_3_5_2, connection)\n"
          ]
        },
        {
          "data": {
            "text/html": [
              "<div>\n",
              "<style scoped>\n",
              "    .dataframe tbody tr th:only-of-type {\n",
              "        vertical-align: middle;\n",
              "    }\n",
              "\n",
              "    .dataframe tbody tr th {\n",
              "        vertical-align: top;\n",
              "    }\n",
              "\n",
              "    .dataframe thead th {\n",
              "        text-align: right;\n",
              "    }\n",
              "</style>\n",
              "<table border=\"1\" class=\"dataframe\">\n",
              "  <thead>\n",
              "    <tr style=\"text-align: right;\">\n",
              "      <th></th>\n",
              "      <th>count</th>\n",
              "    </tr>\n",
              "  </thead>\n",
              "  <tbody>\n",
              "    <tr>\n",
              "      <th>0</th>\n",
              "      <td>730</td>\n",
              "    </tr>\n",
              "  </tbody>\n",
              "</table>\n",
              "</div>"
            ],
            "text/plain": [
              "   count\n",
              "0    730"
            ]
          },
          "execution_count": 15,
          "metadata": {},
          "output_type": "execute_result"
        }
      ],
      "source": [
        "# результат запроса\n",
        "from_10_vacancies = pd.read_sql_query(query_3_5_2, connection)\n",
        "from_10_vacancies"
      ]
    },
    {
      "cell_type": "markdown",
      "id": "672c7dec",
      "metadata": {},
      "source": [
        "5.3. Запрос, который определит ТОП-50 регионов по количеству работодателей."
      ]
    },
    {
      "cell_type": "code",
      "execution_count": 16,
      "id": "6c33a03d",
      "metadata": {},
      "outputs": [],
      "source": [
        "# текст запроса\n",
        "query_3_5_3 = f'''SELECT \n",
        "                    a.name,\n",
        "                    COUNT(e.id) employers -- подсчет работодателей по их id для каждого региона \n",
        "                FROM \n",
        "                    employers e\n",
        "                    LEFT JOIN areas a ON e.area = a.id -- соединяем таблицы areas и employers\n",
        "                GROUP BY a.id -- группируем по id региона\n",
        "                ORDER BY employers DESC -- сортировка по убыванию количества работодателей\n",
        "                LIMIT 50 -- выводим первые 50 строк\n",
        "             '''"
      ]
    },
    {
      "cell_type": "code",
      "execution_count": 17,
      "id": "dd01bde2",
      "metadata": {},
      "outputs": [
        {
          "name": "stderr",
          "output_type": "stream",
          "text": [
            "C:\\Users\\sysadmin\\AppData\\Local\\Temp\\ipykernel_21164\\2014920760.py:2: UserWarning: pandas only supports SQLAlchemy connectable (engine/connection) or database string URI or sqlite3 DBAPI2 connection. Other DBAPI2 objects are not tested. Please consider using SQLAlchemy.\n",
            "  top_50_areas_vacancies = pd.read_sql_query(query_3_5_3, connection)\n"
          ]
        },
        {
          "data": {
            "text/html": [
              "<div>\n",
              "<style scoped>\n",
              "    .dataframe tbody tr th:only-of-type {\n",
              "        vertical-align: middle;\n",
              "    }\n",
              "\n",
              "    .dataframe tbody tr th {\n",
              "        vertical-align: top;\n",
              "    }\n",
              "\n",
              "    .dataframe thead th {\n",
              "        text-align: right;\n",
              "    }\n",
              "</style>\n",
              "<table border=\"1\" class=\"dataframe\">\n",
              "  <thead>\n",
              "    <tr style=\"text-align: right;\">\n",
              "      <th></th>\n",
              "      <th>name</th>\n",
              "      <th>employers</th>\n",
              "    </tr>\n",
              "  </thead>\n",
              "  <tbody>\n",
              "    <tr>\n",
              "      <th>0</th>\n",
              "      <td>Москва</td>\n",
              "      <td>5864</td>\n",
              "    </tr>\n",
              "    <tr>\n",
              "      <th>1</th>\n",
              "      <td>Санкт-Петербург</td>\n",
              "      <td>2217</td>\n",
              "    </tr>\n",
              "    <tr>\n",
              "      <th>2</th>\n",
              "      <td>Минск</td>\n",
              "      <td>1115</td>\n",
              "    </tr>\n",
              "    <tr>\n",
              "      <th>3</th>\n",
              "      <td>Алматы</td>\n",
              "      <td>721</td>\n",
              "    </tr>\n",
              "    <tr>\n",
              "      <th>4</th>\n",
              "      <td>Екатеринбург</td>\n",
              "      <td>609</td>\n",
              "    </tr>\n",
              "    <tr>\n",
              "      <th>5</th>\n",
              "      <td>Новосибирск</td>\n",
              "      <td>573</td>\n",
              "    </tr>\n",
              "    <tr>\n",
              "      <th>6</th>\n",
              "      <td>Казань</td>\n",
              "      <td>480</td>\n",
              "    </tr>\n",
              "    <tr>\n",
              "      <th>7</th>\n",
              "      <td>Нижний Новгород</td>\n",
              "      <td>426</td>\n",
              "    </tr>\n",
              "    <tr>\n",
              "      <th>8</th>\n",
              "      <td>Россия</td>\n",
              "      <td>410</td>\n",
              "    </tr>\n",
              "    <tr>\n",
              "      <th>9</th>\n",
              "      <td>Краснодар</td>\n",
              "      <td>409</td>\n",
              "    </tr>\n",
              "    <tr>\n",
              "      <th>10</th>\n",
              "      <td>Ростов-на-Дону</td>\n",
              "      <td>335</td>\n",
              "    </tr>\n",
              "    <tr>\n",
              "      <th>11</th>\n",
              "      <td>Красноярск</td>\n",
              "      <td>331</td>\n",
              "    </tr>\n",
              "    <tr>\n",
              "      <th>12</th>\n",
              "      <td>Ташкент</td>\n",
              "      <td>326</td>\n",
              "    </tr>\n",
              "    <tr>\n",
              "      <th>13</th>\n",
              "      <td>Самара</td>\n",
              "      <td>315</td>\n",
              "    </tr>\n",
              "    <tr>\n",
              "      <th>14</th>\n",
              "      <td>Нур-Султан</td>\n",
              "      <td>312</td>\n",
              "    </tr>\n",
              "    <tr>\n",
              "      <th>15</th>\n",
              "      <td>Челябинск</td>\n",
              "      <td>310</td>\n",
              "    </tr>\n",
              "    <tr>\n",
              "      <th>16</th>\n",
              "      <td>Воронеж</td>\n",
              "      <td>292</td>\n",
              "    </tr>\n",
              "    <tr>\n",
              "      <th>17</th>\n",
              "      <td>Уфа</td>\n",
              "      <td>252</td>\n",
              "    </tr>\n",
              "    <tr>\n",
              "      <th>18</th>\n",
              "      <td>Пермь</td>\n",
              "      <td>250</td>\n",
              "    </tr>\n",
              "    <tr>\n",
              "      <th>19</th>\n",
              "      <td>Тюмень</td>\n",
              "      <td>218</td>\n",
              "    </tr>\n",
              "    <tr>\n",
              "      <th>20</th>\n",
              "      <td>Омск</td>\n",
              "      <td>210</td>\n",
              "    </tr>\n",
              "    <tr>\n",
              "      <th>21</th>\n",
              "      <td>Казахстан</td>\n",
              "      <td>207</td>\n",
              "    </tr>\n",
              "    <tr>\n",
              "      <th>22</th>\n",
              "      <td>Томск</td>\n",
              "      <td>191</td>\n",
              "    </tr>\n",
              "    <tr>\n",
              "      <th>23</th>\n",
              "      <td>Ижевск</td>\n",
              "      <td>189</td>\n",
              "    </tr>\n",
              "    <tr>\n",
              "      <th>24</th>\n",
              "      <td>Барнаул</td>\n",
              "      <td>187</td>\n",
              "    </tr>\n",
              "    <tr>\n",
              "      <th>25</th>\n",
              "      <td>Иркутск</td>\n",
              "      <td>187</td>\n",
              "    </tr>\n",
              "    <tr>\n",
              "      <th>26</th>\n",
              "      <td>Калининград</td>\n",
              "      <td>157</td>\n",
              "    </tr>\n",
              "    <tr>\n",
              "      <th>27</th>\n",
              "      <td>Тула</td>\n",
              "      <td>149</td>\n",
              "    </tr>\n",
              "    <tr>\n",
              "      <th>28</th>\n",
              "      <td>Владивосток</td>\n",
              "      <td>148</td>\n",
              "    </tr>\n",
              "    <tr>\n",
              "      <th>29</th>\n",
              "      <td>Саратов</td>\n",
              "      <td>138</td>\n",
              "    </tr>\n",
              "    <tr>\n",
              "      <th>30</th>\n",
              "      <td>Ярославль</td>\n",
              "      <td>137</td>\n",
              "    </tr>\n",
              "    <tr>\n",
              "      <th>31</th>\n",
              "      <td>Кемерово</td>\n",
              "      <td>121</td>\n",
              "    </tr>\n",
              "    <tr>\n",
              "      <th>32</th>\n",
              "      <td>Белгород</td>\n",
              "      <td>115</td>\n",
              "    </tr>\n",
              "    <tr>\n",
              "      <th>33</th>\n",
              "      <td>Рязань</td>\n",
              "      <td>115</td>\n",
              "    </tr>\n",
              "    <tr>\n",
              "      <th>34</th>\n",
              "      <td>Хабаровск</td>\n",
              "      <td>112</td>\n",
              "    </tr>\n",
              "    <tr>\n",
              "      <th>35</th>\n",
              "      <td>Киров (Кировская область)</td>\n",
              "      <td>111</td>\n",
              "    </tr>\n",
              "    <tr>\n",
              "      <th>36</th>\n",
              "      <td>Пенза</td>\n",
              "      <td>111</td>\n",
              "    </tr>\n",
              "    <tr>\n",
              "      <th>37</th>\n",
              "      <td>Сочи</td>\n",
              "      <td>109</td>\n",
              "    </tr>\n",
              "    <tr>\n",
              "      <th>38</th>\n",
              "      <td>Волгоград</td>\n",
              "      <td>107</td>\n",
              "    </tr>\n",
              "    <tr>\n",
              "      <th>39</th>\n",
              "      <td>Тольятти</td>\n",
              "      <td>100</td>\n",
              "    </tr>\n",
              "    <tr>\n",
              "      <th>40</th>\n",
              "      <td>Тверь</td>\n",
              "      <td>94</td>\n",
              "    </tr>\n",
              "    <tr>\n",
              "      <th>41</th>\n",
              "      <td>Иваново (Ивановская область)</td>\n",
              "      <td>94</td>\n",
              "    </tr>\n",
              "    <tr>\n",
              "      <th>42</th>\n",
              "      <td>Чебоксары</td>\n",
              "      <td>91</td>\n",
              "    </tr>\n",
              "    <tr>\n",
              "      <th>43</th>\n",
              "      <td>Набережные Челны</td>\n",
              "      <td>91</td>\n",
              "    </tr>\n",
              "    <tr>\n",
              "      <th>44</th>\n",
              "      <td>Ульяновск</td>\n",
              "      <td>88</td>\n",
              "    </tr>\n",
              "    <tr>\n",
              "      <th>45</th>\n",
              "      <td>Липецк</td>\n",
              "      <td>85</td>\n",
              "    </tr>\n",
              "    <tr>\n",
              "      <th>46</th>\n",
              "      <td>Владимир</td>\n",
              "      <td>83</td>\n",
              "    </tr>\n",
              "    <tr>\n",
              "      <th>47</th>\n",
              "      <td>Ставрополь</td>\n",
              "      <td>79</td>\n",
              "    </tr>\n",
              "    <tr>\n",
              "      <th>48</th>\n",
              "      <td>Бишкек</td>\n",
              "      <td>77</td>\n",
              "    </tr>\n",
              "    <tr>\n",
              "      <th>49</th>\n",
              "      <td>Московская область</td>\n",
              "      <td>75</td>\n",
              "    </tr>\n",
              "  </tbody>\n",
              "</table>\n",
              "</div>"
            ],
            "text/plain": [
              "                            name  employers\n",
              "0                         Москва       5864\n",
              "1                Санкт-Петербург       2217\n",
              "2                          Минск       1115\n",
              "3                         Алматы        721\n",
              "4                   Екатеринбург        609\n",
              "5                    Новосибирск        573\n",
              "6                         Казань        480\n",
              "7                Нижний Новгород        426\n",
              "8                         Россия        410\n",
              "9                      Краснодар        409\n",
              "10                Ростов-на-Дону        335\n",
              "11                    Красноярск        331\n",
              "12                       Ташкент        326\n",
              "13                        Самара        315\n",
              "14                    Нур-Султан        312\n",
              "15                     Челябинск        310\n",
              "16                       Воронеж        292\n",
              "17                           Уфа        252\n",
              "18                         Пермь        250\n",
              "19                        Тюмень        218\n",
              "20                          Омск        210\n",
              "21                     Казахстан        207\n",
              "22                         Томск        191\n",
              "23                        Ижевск        189\n",
              "24                       Барнаул        187\n",
              "25                       Иркутск        187\n",
              "26                   Калининград        157\n",
              "27                          Тула        149\n",
              "28                   Владивосток        148\n",
              "29                       Саратов        138\n",
              "30                     Ярославль        137\n",
              "31                      Кемерово        121\n",
              "32                      Белгород        115\n",
              "33                        Рязань        115\n",
              "34                     Хабаровск        112\n",
              "35     Киров (Кировская область)        111\n",
              "36                         Пенза        111\n",
              "37                          Сочи        109\n",
              "38                     Волгоград        107\n",
              "39                      Тольятти        100\n",
              "40                         Тверь         94\n",
              "41  Иваново (Ивановская область)         94\n",
              "42                     Чебоксары         91\n",
              "43              Набережные Челны         91\n",
              "44                     Ульяновск         88\n",
              "45                        Липецк         85\n",
              "46                      Владимир         83\n",
              "47                    Ставрополь         79\n",
              "48                        Бишкек         77\n",
              "49            Московская область         75"
            ]
          },
          "execution_count": 17,
          "metadata": {},
          "output_type": "execute_result"
        }
      ],
      "source": [
        "# результат запроса\n",
        "top_50_areas_vacancies = pd.read_sql_query(query_3_5_3, connection)\n",
        "top_50_areas_vacancies"
      ]
    },
    {
      "cell_type": "markdown",
      "id": "4b533d6e",
      "metadata": {},
      "source": [
        "5.4. Запрос, который определит ТОП-50 регионов по количеству вакансий."
      ]
    },
    {
      "cell_type": "code",
      "execution_count": 18,
      "id": "b4c4f343",
      "metadata": {},
      "outputs": [],
      "source": [
        "# текст запроса\n",
        "query_3_5_4 = f'''SELECT \n",
        "                    a.name,\n",
        "                    COUNT(v.id) vacancies -- подсчет вакансий по их id для каждого из регионов \n",
        "                FROM \n",
        "                    vacancies v\n",
        "                    LEFT JOIN areas a ON v.area_id = a.id -- соединяем таблицы areas и vacancies\n",
        "                GROUP BY a.id -- группируем по id региона\n",
        "                ORDER BY vacancies DESC -- сортировка по убыванию количества вакансий \n",
        "                LIMIT 50 -- выводим первые 50 значений\n",
        "             '''"
      ]
    },
    {
      "cell_type": "code",
      "execution_count": 19,
      "id": "5b9f08c8",
      "metadata": {},
      "outputs": [
        {
          "name": "stderr",
          "output_type": "stream",
          "text": [
            "C:\\Users\\sysadmin\\AppData\\Local\\Temp\\ipykernel_21164\\3385596592.py:2: UserWarning: pandas only supports SQLAlchemy connectable (engine/connection) or database string URI or sqlite3 DBAPI2 connection. Other DBAPI2 objects are not tested. Please consider using SQLAlchemy.\n",
            "  top_50_areas_vacancies = pd.read_sql_query(query_3_5_4, connection)\n"
          ]
        },
        {
          "data": {
            "text/html": [
              "<div>\n",
              "<style scoped>\n",
              "    .dataframe tbody tr th:only-of-type {\n",
              "        vertical-align: middle;\n",
              "    }\n",
              "\n",
              "    .dataframe tbody tr th {\n",
              "        vertical-align: top;\n",
              "    }\n",
              "\n",
              "    .dataframe thead th {\n",
              "        text-align: right;\n",
              "    }\n",
              "</style>\n",
              "<table border=\"1\" class=\"dataframe\">\n",
              "  <thead>\n",
              "    <tr style=\"text-align: right;\">\n",
              "      <th></th>\n",
              "      <th>name</th>\n",
              "      <th>vacancies</th>\n",
              "    </tr>\n",
              "  </thead>\n",
              "  <tbody>\n",
              "    <tr>\n",
              "      <th>0</th>\n",
              "      <td>Москва</td>\n",
              "      <td>5333</td>\n",
              "    </tr>\n",
              "    <tr>\n",
              "      <th>1</th>\n",
              "      <td>Санкт-Петербург</td>\n",
              "      <td>2851</td>\n",
              "    </tr>\n",
              "    <tr>\n",
              "      <th>2</th>\n",
              "      <td>Минск</td>\n",
              "      <td>2112</td>\n",
              "    </tr>\n",
              "    <tr>\n",
              "      <th>3</th>\n",
              "      <td>Новосибирск</td>\n",
              "      <td>2006</td>\n",
              "    </tr>\n",
              "    <tr>\n",
              "      <th>4</th>\n",
              "      <td>Алматы</td>\n",
              "      <td>1892</td>\n",
              "    </tr>\n",
              "    <tr>\n",
              "      <th>5</th>\n",
              "      <td>Екатеринбург</td>\n",
              "      <td>1698</td>\n",
              "    </tr>\n",
              "    <tr>\n",
              "      <th>6</th>\n",
              "      <td>Нижний Новгород</td>\n",
              "      <td>1670</td>\n",
              "    </tr>\n",
              "    <tr>\n",
              "      <th>7</th>\n",
              "      <td>Казань</td>\n",
              "      <td>1415</td>\n",
              "    </tr>\n",
              "    <tr>\n",
              "      <th>8</th>\n",
              "      <td>Краснодар</td>\n",
              "      <td>1301</td>\n",
              "    </tr>\n",
              "    <tr>\n",
              "      <th>9</th>\n",
              "      <td>Самара</td>\n",
              "      <td>1144</td>\n",
              "    </tr>\n",
              "    <tr>\n",
              "      <th>10</th>\n",
              "      <td>Ростов-на-Дону</td>\n",
              "      <td>1131</td>\n",
              "    </tr>\n",
              "    <tr>\n",
              "      <th>11</th>\n",
              "      <td>Воронеж</td>\n",
              "      <td>1063</td>\n",
              "    </tr>\n",
              "    <tr>\n",
              "      <th>12</th>\n",
              "      <td>Ташкент</td>\n",
              "      <td>851</td>\n",
              "    </tr>\n",
              "    <tr>\n",
              "      <th>13</th>\n",
              "      <td>Красноярск</td>\n",
              "      <td>847</td>\n",
              "    </tr>\n",
              "    <tr>\n",
              "      <th>14</th>\n",
              "      <td>Нур-Султан</td>\n",
              "      <td>840</td>\n",
              "    </tr>\n",
              "    <tr>\n",
              "      <th>15</th>\n",
              "      <td>Челябинск</td>\n",
              "      <td>786</td>\n",
              "    </tr>\n",
              "    <tr>\n",
              "      <th>16</th>\n",
              "      <td>Пермь</td>\n",
              "      <td>771</td>\n",
              "    </tr>\n",
              "    <tr>\n",
              "      <th>17</th>\n",
              "      <td>Уфа</td>\n",
              "      <td>767</td>\n",
              "    </tr>\n",
              "    <tr>\n",
              "      <th>18</th>\n",
              "      <td>Томск</td>\n",
              "      <td>692</td>\n",
              "    </tr>\n",
              "    <tr>\n",
              "      <th>19</th>\n",
              "      <td>Омск</td>\n",
              "      <td>617</td>\n",
              "    </tr>\n",
              "    <tr>\n",
              "      <th>20</th>\n",
              "      <td>Саратов</td>\n",
              "      <td>579</td>\n",
              "    </tr>\n",
              "    <tr>\n",
              "      <th>21</th>\n",
              "      <td>Тюмень</td>\n",
              "      <td>547</td>\n",
              "    </tr>\n",
              "    <tr>\n",
              "      <th>22</th>\n",
              "      <td>Владивосток</td>\n",
              "      <td>539</td>\n",
              "    </tr>\n",
              "    <tr>\n",
              "      <th>23</th>\n",
              "      <td>Тбилиси</td>\n",
              "      <td>474</td>\n",
              "    </tr>\n",
              "    <tr>\n",
              "      <th>24</th>\n",
              "      <td>Ижевск</td>\n",
              "      <td>466</td>\n",
              "    </tr>\n",
              "    <tr>\n",
              "      <th>25</th>\n",
              "      <td>Волгоград</td>\n",
              "      <td>456</td>\n",
              "    </tr>\n",
              "    <tr>\n",
              "      <th>26</th>\n",
              "      <td>Иркутск</td>\n",
              "      <td>451</td>\n",
              "    </tr>\n",
              "    <tr>\n",
              "      <th>27</th>\n",
              "      <td>Ярославль</td>\n",
              "      <td>391</td>\n",
              "    </tr>\n",
              "    <tr>\n",
              "      <th>28</th>\n",
              "      <td>Барнаул</td>\n",
              "      <td>374</td>\n",
              "    </tr>\n",
              "    <tr>\n",
              "      <th>29</th>\n",
              "      <td>Рязань</td>\n",
              "      <td>346</td>\n",
              "    </tr>\n",
              "    <tr>\n",
              "      <th>30</th>\n",
              "      <td>Тула</td>\n",
              "      <td>343</td>\n",
              "    </tr>\n",
              "    <tr>\n",
              "      <th>31</th>\n",
              "      <td>Калининград</td>\n",
              "      <td>343</td>\n",
              "    </tr>\n",
              "    <tr>\n",
              "      <th>32</th>\n",
              "      <td>Хабаровск</td>\n",
              "      <td>338</td>\n",
              "    </tr>\n",
              "    <tr>\n",
              "      <th>33</th>\n",
              "      <td>Ульяновск</td>\n",
              "      <td>332</td>\n",
              "    </tr>\n",
              "    <tr>\n",
              "      <th>34</th>\n",
              "      <td>Кемерово</td>\n",
              "      <td>316</td>\n",
              "    </tr>\n",
              "    <tr>\n",
              "      <th>35</th>\n",
              "      <td>Пенза</td>\n",
              "      <td>305</td>\n",
              "    </tr>\n",
              "    <tr>\n",
              "      <th>36</th>\n",
              "      <td>Киров (Кировская область)</td>\n",
              "      <td>293</td>\n",
              "    </tr>\n",
              "    <tr>\n",
              "      <th>37</th>\n",
              "      <td>Тверь</td>\n",
              "      <td>274</td>\n",
              "    </tr>\n",
              "    <tr>\n",
              "      <th>38</th>\n",
              "      <td>Белгород</td>\n",
              "      <td>253</td>\n",
              "    </tr>\n",
              "    <tr>\n",
              "      <th>39</th>\n",
              "      <td>Чебоксары</td>\n",
              "      <td>245</td>\n",
              "    </tr>\n",
              "    <tr>\n",
              "      <th>40</th>\n",
              "      <td>Сочи</td>\n",
              "      <td>230</td>\n",
              "    </tr>\n",
              "    <tr>\n",
              "      <th>41</th>\n",
              "      <td>Тольятти</td>\n",
              "      <td>229</td>\n",
              "    </tr>\n",
              "    <tr>\n",
              "      <th>42</th>\n",
              "      <td>Армения</td>\n",
              "      <td>223</td>\n",
              "    </tr>\n",
              "    <tr>\n",
              "      <th>43</th>\n",
              "      <td>Владимир</td>\n",
              "      <td>219</td>\n",
              "    </tr>\n",
              "    <tr>\n",
              "      <th>44</th>\n",
              "      <td>Липецк</td>\n",
              "      <td>203</td>\n",
              "    </tr>\n",
              "    <tr>\n",
              "      <th>45</th>\n",
              "      <td>Набережные Челны</td>\n",
              "      <td>202</td>\n",
              "    </tr>\n",
              "    <tr>\n",
              "      <th>46</th>\n",
              "      <td>Оренбург</td>\n",
              "      <td>199</td>\n",
              "    </tr>\n",
              "    <tr>\n",
              "      <th>47</th>\n",
              "      <td>Иваново (Ивановская область)</td>\n",
              "      <td>190</td>\n",
              "    </tr>\n",
              "    <tr>\n",
              "      <th>48</th>\n",
              "      <td>Симферополь</td>\n",
              "      <td>187</td>\n",
              "    </tr>\n",
              "    <tr>\n",
              "      <th>49</th>\n",
              "      <td>Курск</td>\n",
              "      <td>178</td>\n",
              "    </tr>\n",
              "  </tbody>\n",
              "</table>\n",
              "</div>"
            ],
            "text/plain": [
              "                            name  vacancies\n",
              "0                         Москва       5333\n",
              "1                Санкт-Петербург       2851\n",
              "2                          Минск       2112\n",
              "3                    Новосибирск       2006\n",
              "4                         Алматы       1892\n",
              "5                   Екатеринбург       1698\n",
              "6                Нижний Новгород       1670\n",
              "7                         Казань       1415\n",
              "8                      Краснодар       1301\n",
              "9                         Самара       1144\n",
              "10                Ростов-на-Дону       1131\n",
              "11                       Воронеж       1063\n",
              "12                       Ташкент        851\n",
              "13                    Красноярск        847\n",
              "14                    Нур-Султан        840\n",
              "15                     Челябинск        786\n",
              "16                         Пермь        771\n",
              "17                           Уфа        767\n",
              "18                         Томск        692\n",
              "19                          Омск        617\n",
              "20                       Саратов        579\n",
              "21                        Тюмень        547\n",
              "22                   Владивосток        539\n",
              "23                       Тбилиси        474\n",
              "24                        Ижевск        466\n",
              "25                     Волгоград        456\n",
              "26                       Иркутск        451\n",
              "27                     Ярославль        391\n",
              "28                       Барнаул        374\n",
              "29                        Рязань        346\n",
              "30                          Тула        343\n",
              "31                   Калининград        343\n",
              "32                     Хабаровск        338\n",
              "33                     Ульяновск        332\n",
              "34                      Кемерово        316\n",
              "35                         Пенза        305\n",
              "36     Киров (Кировская область)        293\n",
              "37                         Тверь        274\n",
              "38                      Белгород        253\n",
              "39                     Чебоксары        245\n",
              "40                          Сочи        230\n",
              "41                      Тольятти        229\n",
              "42                       Армения        223\n",
              "43                      Владимир        219\n",
              "44                        Липецк        203\n",
              "45              Набережные Челны        202\n",
              "46                      Оренбург        199\n",
              "47  Иваново (Ивановская область)        190\n",
              "48                   Симферополь        187\n",
              "49                         Курск        178"
            ]
          },
          "execution_count": 19,
          "metadata": {},
          "output_type": "execute_result"
        }
      ],
      "source": [
        "# результат запроса\n",
        "top_50_areas_vacancies = pd.read_sql_query(query_3_5_4, connection)\n",
        "top_50_areas_vacancies"
      ]
    },
    {
      "cell_type": "markdown",
      "id": "7edb21a0",
      "metadata": {},
      "source": [
        "***"
      ]
    },
    {
      "cell_type": "markdown",
      "id": "89df93eb",
      "metadata": {},
      "source": [
        "выводы по предварительному анализу данных:\n",
        "- Среднее число вакансий на всех работодателей: 2.1 (общее количество вакансий 49197, а общее количество работодателей 23501).\n",
        "- среднее количество вакансий у работодателя с вакансиями: 3.3 (общее количество вакансий 49197, а количество работодателей с вакансиями 14906). \n",
        "- Максимальное количество вакансий 1933 у компании Яндекс.\n",
        "- 25 компаний имеют количество вакансий от 100 и более (0.1 % от общего количества работодателей с вакансиями).\n",
        "- На 17 месте по количеству вакансий находится ИП Поляков Денис Иванович, единственная компания в ТОП-25 не относящаяся к крупным компаниям.\n",
        "- Количество компаний, которые разместили не менее 10 резюме - составляет 730. Можно считать, что это компании, которым требуется \"существенное количество\" IT специалистов.\n",
        "- Распределение вакансий по регионам вполне ожидаемо - прямая корреляция с количеством населения, административным статусом и количеством экономических субъектов. В ТОП-50 по количеству вакансий входят административные центры субъектов Российской Федерации и крупнейшие города, а также столицы и крупные города стран СНГ."
      ]
    },
    {
      "cell_type": "markdown",
      "id": "8d62a9f3-f64e-4fe7-bdac-c4dffa16155e",
      "metadata": {
        "id": "8d62a9f3-f64e-4fe7-bdac-c4dffa16155e"
      },
      "source": [
        "# Юнит 4. Детальный анализ вакансий"
      ]
    },
    {
      "cell_type": "markdown",
      "id": "93053d3d-b284-481a-9cf7-012d7014c0e0",
      "metadata": {
        "id": "93053d3d-b284-481a-9cf7-012d7014c0e0"
      },
      "source": [
        "1. Напишите запрос, который позволит узнать, сколько (cnt) вакансий в каждом регионе (area).\n",
        "Отсортируйте по количеству вакансий в порядке убывания."
      ]
    },
    {
      "cell_type": "code",
      "execution_count": 20,
      "id": "3f069da6-fdc9-4ae7-b514-fafe2675efd3",
      "metadata": {
        "id": "3f069da6-fdc9-4ae7-b514-fafe2675efd3"
      },
      "outputs": [],
      "source": [
        "# текст запроса\n",
        "query_4_1 = f'''SELECT\n",
        "                    a.name,\n",
        "                    COUNT(v.id) cnt  -- считаем количество вакансий по id\n",
        "                FROM\n",
        "                    vacancies v\n",
        "                LEFT JOIN areas a ON v.area_id = a.id  -- соединяем таблицы vacancies и areas\n",
        "                GROUP BY 1  -- группируем по названию региона\n",
        "                ORDER BY 2 DESC  -- сортируем по количеству вакансий по убыванию\n",
        "                LIMIT 5  -- выводим 5 первых значений\n",
        "            '''"
      ]
    },
    {
      "cell_type": "code",
      "execution_count": 21,
      "id": "P7QL86hrjhRJ",
      "metadata": {
        "id": "P7QL86hrjhRJ"
      },
      "outputs": [
        {
          "name": "stderr",
          "output_type": "stream",
          "text": [
            "C:\\Users\\sysadmin\\AppData\\Local\\Temp\\ipykernel_21164\\686296021.py:2: UserWarning: pandas only supports SQLAlchemy connectable (engine/connection) or database string URI or sqlite3 DBAPI2 connection. Other DBAPI2 objects are not tested. Please consider using SQLAlchemy.\n",
            "  top_vacancies = pd.read_sql_query(query_4_1, connection)\n"
          ]
        },
        {
          "data": {
            "text/html": [
              "<div>\n",
              "<style scoped>\n",
              "    .dataframe tbody tr th:only-of-type {\n",
              "        vertical-align: middle;\n",
              "    }\n",
              "\n",
              "    .dataframe tbody tr th {\n",
              "        vertical-align: top;\n",
              "    }\n",
              "\n",
              "    .dataframe thead th {\n",
              "        text-align: right;\n",
              "    }\n",
              "</style>\n",
              "<table border=\"1\" class=\"dataframe\">\n",
              "  <thead>\n",
              "    <tr style=\"text-align: right;\">\n",
              "      <th></th>\n",
              "      <th>name</th>\n",
              "      <th>cnt</th>\n",
              "    </tr>\n",
              "  </thead>\n",
              "  <tbody>\n",
              "    <tr>\n",
              "      <th>0</th>\n",
              "      <td>Москва</td>\n",
              "      <td>5333</td>\n",
              "    </tr>\n",
              "    <tr>\n",
              "      <th>1</th>\n",
              "      <td>Санкт-Петербург</td>\n",
              "      <td>2851</td>\n",
              "    </tr>\n",
              "    <tr>\n",
              "      <th>2</th>\n",
              "      <td>Минск</td>\n",
              "      <td>2112</td>\n",
              "    </tr>\n",
              "    <tr>\n",
              "      <th>3</th>\n",
              "      <td>Новосибирск</td>\n",
              "      <td>2006</td>\n",
              "    </tr>\n",
              "    <tr>\n",
              "      <th>4</th>\n",
              "      <td>Алматы</td>\n",
              "      <td>1892</td>\n",
              "    </tr>\n",
              "  </tbody>\n",
              "</table>\n",
              "</div>"
            ],
            "text/plain": [
              "              name   cnt\n",
              "0           Москва  5333\n",
              "1  Санкт-Петербург  2851\n",
              "2            Минск  2112\n",
              "3      Новосибирск  2006\n",
              "4           Алматы  1892"
            ]
          },
          "execution_count": 21,
          "metadata": {},
          "output_type": "execute_result"
        }
      ],
      "source": [
        "# результат запроса\n",
        "top_vacancies = pd.read_sql_query(query_4_1, connection)\n",
        "top_vacancies"
      ]
    },
    {
      "cell_type": "markdown",
      "id": "4266f0b6-1646-492a-88b4-2f6a46502135",
      "metadata": {
        "id": "4266f0b6-1646-492a-88b4-2f6a46502135"
      },
      "source": [
        "2. Напишите запрос, чтобы определить у какого количества вакансий заполнено хотя бы одно из двух полей с зарплатой."
      ]
    },
    {
      "cell_type": "code",
      "execution_count": 22,
      "id": "0c44b350-72eb-4d65-8b54-a1fc449ba9fd",
      "metadata": {
        "id": "0c44b350-72eb-4d65-8b54-a1fc449ba9fd"
      },
      "outputs": [],
      "source": [
        "# текст запроса\n",
        "query_4_2 = f'''SELECT\n",
        "                    COUNT(id)  -- считаем количество по id\n",
        "                FROM\n",
        "                    vacancies\n",
        "                WHERE salary_from IS NOT NULL OR salary_to IS NOT NULL  -- проверяем что заполнено хотя бы одно поле с зарплатой\n",
        "            '''"
      ]
    },
    {
      "cell_type": "code",
      "execution_count": 23,
      "id": "rhvwaMDkoWTi",
      "metadata": {
        "id": "rhvwaMDkoWTi"
      },
      "outputs": [
        {
          "name": "stderr",
          "output_type": "stream",
          "text": [
            "C:\\Users\\sysadmin\\AppData\\Local\\Temp\\ipykernel_21164\\4217971214.py:2: UserWarning: pandas only supports SQLAlchemy connectable (engine/connection) or database string URI or sqlite3 DBAPI2 connection. Other DBAPI2 objects are not tested. Please consider using SQLAlchemy.\n",
            "  salary_not_empty = pd.read_sql_query(query_4_2, connection)\n"
          ]
        },
        {
          "data": {
            "text/html": [
              "<div>\n",
              "<style scoped>\n",
              "    .dataframe tbody tr th:only-of-type {\n",
              "        vertical-align: middle;\n",
              "    }\n",
              "\n",
              "    .dataframe tbody tr th {\n",
              "        vertical-align: top;\n",
              "    }\n",
              "\n",
              "    .dataframe thead th {\n",
              "        text-align: right;\n",
              "    }\n",
              "</style>\n",
              "<table border=\"1\" class=\"dataframe\">\n",
              "  <thead>\n",
              "    <tr style=\"text-align: right;\">\n",
              "      <th></th>\n",
              "      <th>count</th>\n",
              "    </tr>\n",
              "  </thead>\n",
              "  <tbody>\n",
              "    <tr>\n",
              "      <th>0</th>\n",
              "      <td>24073</td>\n",
              "    </tr>\n",
              "  </tbody>\n",
              "</table>\n",
              "</div>"
            ],
            "text/plain": [
              "   count\n",
              "0  24073"
            ]
          },
          "execution_count": 23,
          "metadata": {},
          "output_type": "execute_result"
        }
      ],
      "source": [
        "# результат запроса\n",
        "salary_not_empty = pd.read_sql_query(query_4_2, connection)\n",
        "salary_not_empty"
      ]
    },
    {
      "cell_type": "markdown",
      "id": "635c4d5d-f323-4c66-b428-50a088120aa0",
      "metadata": {
        "id": "635c4d5d-f323-4c66-b428-50a088120aa0"
      },
      "source": [
        "3. Найдите средние значения для нижней и верхней границы зарплатной вилки. Округлите значения до целого."
      ]
    },
    {
      "cell_type": "code",
      "execution_count": 24,
      "id": "603cdbe4-0ec3-4106-8eaf-c73fcdd29165",
      "metadata": {
        "id": "603cdbe4-0ec3-4106-8eaf-c73fcdd29165"
      },
      "outputs": [],
      "source": [
        "# текст запроса\n",
        "query_4_3 = f'''SELECT\n",
        "                    ROUND(AVG(salary_from))::int salary_from,  -- находим среднее значение и округляем до целого\n",
        "                    ROUND(AVG(salary_to))::int salary_to  -- для красоты приводим к типу int\n",
        "                FROM\n",
        "                    vacancies\n",
        "            '''"
      ]
    },
    {
      "cell_type": "code",
      "execution_count": 25,
      "id": "pswpAb66ovZZ",
      "metadata": {
        "id": "pswpAb66ovZZ"
      },
      "outputs": [
        {
          "name": "stderr",
          "output_type": "stream",
          "text": [
            "C:\\Users\\sysadmin\\AppData\\Local\\Temp\\ipykernel_21164\\212845365.py:2: UserWarning: pandas only supports SQLAlchemy connectable (engine/connection) or database string URI or sqlite3 DBAPI2 connection. Other DBAPI2 objects are not tested. Please consider using SQLAlchemy.\n",
            "  avg_salary = pd.read_sql_query(query_4_3, connection)\n"
          ]
        },
        {
          "data": {
            "text/html": [
              "<div>\n",
              "<style scoped>\n",
              "    .dataframe tbody tr th:only-of-type {\n",
              "        vertical-align: middle;\n",
              "    }\n",
              "\n",
              "    .dataframe tbody tr th {\n",
              "        vertical-align: top;\n",
              "    }\n",
              "\n",
              "    .dataframe thead th {\n",
              "        text-align: right;\n",
              "    }\n",
              "</style>\n",
              "<table border=\"1\" class=\"dataframe\">\n",
              "  <thead>\n",
              "    <tr style=\"text-align: right;\">\n",
              "      <th></th>\n",
              "      <th>salary_from</th>\n",
              "      <th>salary_to</th>\n",
              "    </tr>\n",
              "  </thead>\n",
              "  <tbody>\n",
              "    <tr>\n",
              "      <th>0</th>\n",
              "      <td>71065</td>\n",
              "      <td>110537</td>\n",
              "    </tr>\n",
              "  </tbody>\n",
              "</table>\n",
              "</div>"
            ],
            "text/plain": [
              "   salary_from  salary_to\n",
              "0        71065     110537"
            ]
          },
          "execution_count": 25,
          "metadata": {},
          "output_type": "execute_result"
        }
      ],
      "source": [
        "# результат запроса\n",
        "avg_salary = pd.read_sql_query(query_4_3, connection)\n",
        "avg_salary"
      ]
    },
    {
      "cell_type": "markdown",
      "id": "f3fdaec9-5fd3-4260-9cf5-1d7406b628a5",
      "metadata": {
        "id": "f3fdaec9-5fd3-4260-9cf5-1d7406b628a5"
      },
      "source": [
        "4. Напишите запрос, который выведет количество вакансий для каждого сочетания типа рабочего графика (schedule) и типа трудоустройства (employment), используемого в вакансиях. Результат отсортируйте по убыванию количества.\n"
      ]
    },
    {
      "cell_type": "code",
      "execution_count": 26,
      "id": "1ea710ec-871b-431e-9462-c7d0fd87011b",
      "metadata": {
        "id": "1ea710ec-871b-431e-9462-c7d0fd87011b"
      },
      "outputs": [],
      "source": [
        "# текст запроса\n",
        "query_4_4 = f'''SELECT\n",
        "                    schedule,\n",
        "                    employment,\n",
        "                    COUNT(id)  -- подсчет количества вакансий\n",
        "                FROM\n",
        "                    vacancies\n",
        "                GROUP BY 1, 2  -- группируем по графику, а внутри по типу трудоустройства\n",
        "                ORDER BY 3 DESC  -- сортируем по количеству в порядке убывания\n",
        "            '''"
      ]
    },
    {
      "cell_type": "code",
      "execution_count": 27,
      "id": "lGUVqavdo4JQ",
      "metadata": {
        "id": "lGUVqavdo4JQ"
      },
      "outputs": [
        {
          "name": "stderr",
          "output_type": "stream",
          "text": [
            "C:\\Users\\sysadmin\\AppData\\Local\\Temp\\ipykernel_21164\\1090706311.py:2: UserWarning: pandas only supports SQLAlchemy connectable (engine/connection) or database string URI or sqlite3 DBAPI2 connection. Other DBAPI2 objects are not tested. Please consider using SQLAlchemy.\n",
            "  sched_employ = pd.read_sql_query(query_4_4, connection)\n"
          ]
        },
        {
          "data": {
            "text/html": [
              "<div>\n",
              "<style scoped>\n",
              "    .dataframe tbody tr th:only-of-type {\n",
              "        vertical-align: middle;\n",
              "    }\n",
              "\n",
              "    .dataframe tbody tr th {\n",
              "        vertical-align: top;\n",
              "    }\n",
              "\n",
              "    .dataframe thead th {\n",
              "        text-align: right;\n",
              "    }\n",
              "</style>\n",
              "<table border=\"1\" class=\"dataframe\">\n",
              "  <thead>\n",
              "    <tr style=\"text-align: right;\">\n",
              "      <th></th>\n",
              "      <th>schedule</th>\n",
              "      <th>employment</th>\n",
              "      <th>count</th>\n",
              "    </tr>\n",
              "  </thead>\n",
              "  <tbody>\n",
              "    <tr>\n",
              "      <th>0</th>\n",
              "      <td>Полный день</td>\n",
              "      <td>Полная занятость</td>\n",
              "      <td>35367</td>\n",
              "    </tr>\n",
              "    <tr>\n",
              "      <th>1</th>\n",
              "      <td>Удаленная работа</td>\n",
              "      <td>Полная занятость</td>\n",
              "      <td>7802</td>\n",
              "    </tr>\n",
              "    <tr>\n",
              "      <th>2</th>\n",
              "      <td>Гибкий график</td>\n",
              "      <td>Полная занятость</td>\n",
              "      <td>1593</td>\n",
              "    </tr>\n",
              "    <tr>\n",
              "      <th>3</th>\n",
              "      <td>Удаленная работа</td>\n",
              "      <td>Частичная занятость</td>\n",
              "      <td>1312</td>\n",
              "    </tr>\n",
              "    <tr>\n",
              "      <th>4</th>\n",
              "      <td>Сменный график</td>\n",
              "      <td>Полная занятость</td>\n",
              "      <td>940</td>\n",
              "    </tr>\n",
              "    <tr>\n",
              "      <th>5</th>\n",
              "      <td>Полный день</td>\n",
              "      <td>Стажировка</td>\n",
              "      <td>569</td>\n",
              "    </tr>\n",
              "    <tr>\n",
              "      <th>6</th>\n",
              "      <td>Вахтовый метод</td>\n",
              "      <td>Полная занятость</td>\n",
              "      <td>367</td>\n",
              "    </tr>\n",
              "    <tr>\n",
              "      <th>7</th>\n",
              "      <td>Полный день</td>\n",
              "      <td>Частичная занятость</td>\n",
              "      <td>347</td>\n",
              "    </tr>\n",
              "    <tr>\n",
              "      <th>8</th>\n",
              "      <td>Гибкий график</td>\n",
              "      <td>Частичная занятость</td>\n",
              "      <td>312</td>\n",
              "    </tr>\n",
              "    <tr>\n",
              "      <th>9</th>\n",
              "      <td>Полный день</td>\n",
              "      <td>Проектная работа</td>\n",
              "      <td>141</td>\n",
              "    </tr>\n",
              "    <tr>\n",
              "      <th>10</th>\n",
              "      <td>Удаленная работа</td>\n",
              "      <td>Проектная работа</td>\n",
              "      <td>133</td>\n",
              "    </tr>\n",
              "    <tr>\n",
              "      <th>11</th>\n",
              "      <td>Гибкий график</td>\n",
              "      <td>Стажировка</td>\n",
              "      <td>116</td>\n",
              "    </tr>\n",
              "    <tr>\n",
              "      <th>12</th>\n",
              "      <td>Сменный график</td>\n",
              "      <td>Частичная занятость</td>\n",
              "      <td>101</td>\n",
              "    </tr>\n",
              "    <tr>\n",
              "      <th>13</th>\n",
              "      <td>Удаленная работа</td>\n",
              "      <td>Стажировка</td>\n",
              "      <td>64</td>\n",
              "    </tr>\n",
              "    <tr>\n",
              "      <th>14</th>\n",
              "      <td>Гибкий график</td>\n",
              "      <td>Проектная работа</td>\n",
              "      <td>18</td>\n",
              "    </tr>\n",
              "    <tr>\n",
              "      <th>15</th>\n",
              "      <td>Сменный график</td>\n",
              "      <td>Стажировка</td>\n",
              "      <td>12</td>\n",
              "    </tr>\n",
              "    <tr>\n",
              "      <th>16</th>\n",
              "      <td>Вахтовый метод</td>\n",
              "      <td>Проектная работа</td>\n",
              "      <td>2</td>\n",
              "    </tr>\n",
              "    <tr>\n",
              "      <th>17</th>\n",
              "      <td>Сменный график</td>\n",
              "      <td>Проектная работа</td>\n",
              "      <td>1</td>\n",
              "    </tr>\n",
              "  </tbody>\n",
              "</table>\n",
              "</div>"
            ],
            "text/plain": [
              "            schedule           employment  count\n",
              "0        Полный день     Полная занятость  35367\n",
              "1   Удаленная работа     Полная занятость   7802\n",
              "2      Гибкий график     Полная занятость   1593\n",
              "3   Удаленная работа  Частичная занятость   1312\n",
              "4     Сменный график     Полная занятость    940\n",
              "5        Полный день           Стажировка    569\n",
              "6     Вахтовый метод     Полная занятость    367\n",
              "7        Полный день  Частичная занятость    347\n",
              "8      Гибкий график  Частичная занятость    312\n",
              "9        Полный день     Проектная работа    141\n",
              "10  Удаленная работа     Проектная работа    133\n",
              "11     Гибкий график           Стажировка    116\n",
              "12    Сменный график  Частичная занятость    101\n",
              "13  Удаленная работа           Стажировка     64\n",
              "14     Гибкий график     Проектная работа     18\n",
              "15    Сменный график           Стажировка     12\n",
              "16    Вахтовый метод     Проектная работа      2\n",
              "17    Сменный график     Проектная работа      1"
            ]
          },
          "execution_count": 27,
          "metadata": {},
          "output_type": "execute_result"
        }
      ],
      "source": [
        "# результат запроса\n",
        "sched_employ = pd.read_sql_query(query_4_4, connection)\n",
        "sched_employ"
      ]
    },
    {
      "cell_type": "markdown",
      "id": "0136ffee-0ead-4a6b-b608-61d1c753a438",
      "metadata": {
        "id": "0136ffee-0ead-4a6b-b608-61d1c753a438"
      },
      "source": [
        "5. Напишите запрос, выводящий значения поля Требуемый опыт работы (experience) в порядке возрастания количества вакансий, в которых указан данный вариант опыта. "
      ]
    },
    {
      "cell_type": "code",
      "execution_count": 28,
      "id": "5b3a8e79-f7ab-4008-b767-12aea3a205ea",
      "metadata": {
        "id": "5b3a8e79-f7ab-4008-b767-12aea3a205ea"
      },
      "outputs": [],
      "source": [
        "# текст запроса\n",
        "query_4_5 = f'''SELECT\n",
        "                    experience,\n",
        "                    COUNT(id)  -- подсчет количества вакансий\n",
        "                FROM\n",
        "                    vacancies\n",
        "                GROUP BY 1  -- группируем по опыту работы\n",
        "                ORDER BY 2  -- сортируем по количеству в порядке возрастания\n",
        "            '''"
      ]
    },
    {
      "cell_type": "code",
      "execution_count": 29,
      "id": "3Is64Y-hpDpq",
      "metadata": {
        "id": "3Is64Y-hpDpq"
      },
      "outputs": [
        {
          "name": "stderr",
          "output_type": "stream",
          "text": [
            "C:\\Users\\sysadmin\\AppData\\Local\\Temp\\ipykernel_21164\\3463261295.py:2: UserWarning: pandas only supports SQLAlchemy connectable (engine/connection) or database string URI or sqlite3 DBAPI2 connection. Other DBAPI2 objects are not tested. Please consider using SQLAlchemy.\n",
            "  count_experience = pd.read_sql_query(query_4_5, connection)\n"
          ]
        },
        {
          "data": {
            "text/html": [
              "<div>\n",
              "<style scoped>\n",
              "    .dataframe tbody tr th:only-of-type {\n",
              "        vertical-align: middle;\n",
              "    }\n",
              "\n",
              "    .dataframe tbody tr th {\n",
              "        vertical-align: top;\n",
              "    }\n",
              "\n",
              "    .dataframe thead th {\n",
              "        text-align: right;\n",
              "    }\n",
              "</style>\n",
              "<table border=\"1\" class=\"dataframe\">\n",
              "  <thead>\n",
              "    <tr style=\"text-align: right;\">\n",
              "      <th></th>\n",
              "      <th>experience</th>\n",
              "      <th>count</th>\n",
              "    </tr>\n",
              "  </thead>\n",
              "  <tbody>\n",
              "    <tr>\n",
              "      <th>0</th>\n",
              "      <td>Более 6 лет</td>\n",
              "      <td>1337</td>\n",
              "    </tr>\n",
              "    <tr>\n",
              "      <th>1</th>\n",
              "      <td>Нет опыта</td>\n",
              "      <td>7197</td>\n",
              "    </tr>\n",
              "    <tr>\n",
              "      <th>2</th>\n",
              "      <td>От 3 до 6 лет</td>\n",
              "      <td>14511</td>\n",
              "    </tr>\n",
              "    <tr>\n",
              "      <th>3</th>\n",
              "      <td>От 1 года до 3 лет</td>\n",
              "      <td>26152</td>\n",
              "    </tr>\n",
              "  </tbody>\n",
              "</table>\n",
              "</div>"
            ],
            "text/plain": [
              "           experience  count\n",
              "0         Более 6 лет   1337\n",
              "1           Нет опыта   7197\n",
              "2       От 3 до 6 лет  14511\n",
              "3  От 1 года до 3 лет  26152"
            ]
          },
          "execution_count": 29,
          "metadata": {},
          "output_type": "execute_result"
        }
      ],
      "source": [
        "# результат запроса\n",
        "count_experience = pd.read_sql_query(query_4_5, connection)\n",
        "count_experience"
      ]
    },
    {
      "cell_type": "markdown",
      "id": "oq2b7n1QpIka",
      "metadata": {
        "id": "oq2b7n1QpIka"
      },
      "source": [
        "***"
      ]
    },
    {
      "cell_type": "markdown",
      "id": "4fe3e7a3",
      "metadata": {},
      "source": [
        "6. Дополнительный анализ. "
      ]
    },
    {
      "cell_type": "markdown",
      "id": "7cb35e9e",
      "metadata": {},
      "source": [
        "6.1. Запрос для определения количества вакансий, у которых заполнены оба поля с зарплатой, либо не заполнены одно или оба поля с зарплатой. Дополнительно введем поле с процентным соотношением полученного количества."
      ]
    },
    {
      "cell_type": "code",
      "execution_count": 30,
      "id": "20fed3d0",
      "metadata": {},
      "outputs": [],
      "source": [
        "# текст запроса\n",
        "query_4_6_1 = f'''WITH salary_from_to AS ( -- таблица с 4 строками методом объединения 4 однострочных таблиц\n",
        "                    SELECT\n",
        "                        'Минимум & Максимум' salary,\n",
        "                        COUNT(id) vacancies\n",
        "                    FROM\n",
        "                        vacancies \n",
        "                    WHERE\n",
        "                        salary_from IS NOT NULL AND salary_to IS NOT NULL -- заполнены оба поля с зарплатой\n",
        "                    UNION -- объединяем\n",
        "                    SELECT\n",
        "                        'Минимум',\n",
        "                        COUNT(id)\n",
        "                    FROM\n",
        "                        vacancies \n",
        "                    WHERE\n",
        "                        salary_from IS NOT NULL AND salary_to IS NULL -- заполнено только поле с минимумом зарплаты\n",
        "                    UNION\n",
        "                    SELECT\n",
        "                        'Максимум',\n",
        "                        COUNT(id)\n",
        "                    FROM\n",
        "                        vacancies \n",
        "                    WHERE\n",
        "                        salary_from IS NULL AND salary_to IS NOT NULL -- заполнено только поле с максимумом зарплаты\n",
        "                    UNION\n",
        "                    SELECT\n",
        "                        'Отсутствует',\n",
        "                        COUNT(id)\n",
        "                    FROM\n",
        "                        vacancies \n",
        "                    WHERE\n",
        "                        salary_from IS NULL AND salary_to IS NULL -- не заполнены оба поля с зарплатой \n",
        "                )\n",
        "                SELECT -- итоговая таблица с добавленным столбцом \"процент от общего количества вакансий\"\n",
        "                    salary,\n",
        "                    vacancies,\n",
        "                    ROUND(vacancies/(SELECT SUM(vacancies) FROM salary_from_to)*100)::int percent -- вычисление процента количества вакансий с приведением к целому\n",
        "                FROM\n",
        "                    salary_from_to\n",
        "                ORDER BY vacancies DESC -- сортировка по убыванию количества вакансий\n",
        "             '''"
      ]
    },
    {
      "cell_type": "code",
      "execution_count": 31,
      "id": "6e8587eb",
      "metadata": {},
      "outputs": [
        {
          "name": "stderr",
          "output_type": "stream",
          "text": [
            "C:\\Users\\sysadmin\\AppData\\Local\\Temp\\ipykernel_21164\\1205354364.py:2: UserWarning: pandas only supports SQLAlchemy connectable (engine/connection) or database string URI or sqlite3 DBAPI2 connection. Other DBAPI2 objects are not tested. Please consider using SQLAlchemy.\n",
            "  salary_full_empty = pd.read_sql_query(query_4_6_1, connection)\n"
          ]
        },
        {
          "data": {
            "text/html": [
              "<div>\n",
              "<style scoped>\n",
              "    .dataframe tbody tr th:only-of-type {\n",
              "        vertical-align: middle;\n",
              "    }\n",
              "\n",
              "    .dataframe tbody tr th {\n",
              "        vertical-align: top;\n",
              "    }\n",
              "\n",
              "    .dataframe thead th {\n",
              "        text-align: right;\n",
              "    }\n",
              "</style>\n",
              "<table border=\"1\" class=\"dataframe\">\n",
              "  <thead>\n",
              "    <tr style=\"text-align: right;\">\n",
              "      <th></th>\n",
              "      <th>salary</th>\n",
              "      <th>vacancies</th>\n",
              "      <th>percent</th>\n",
              "    </tr>\n",
              "  </thead>\n",
              "  <tbody>\n",
              "    <tr>\n",
              "      <th>0</th>\n",
              "      <td>Отсутствует</td>\n",
              "      <td>25124</td>\n",
              "      <td>51</td>\n",
              "    </tr>\n",
              "    <tr>\n",
              "      <th>1</th>\n",
              "      <td>Минимум</td>\n",
              "      <td>11383</td>\n",
              "      <td>23</td>\n",
              "    </tr>\n",
              "    <tr>\n",
              "      <th>2</th>\n",
              "      <td>Минимум &amp; Максимум</td>\n",
              "      <td>10102</td>\n",
              "      <td>21</td>\n",
              "    </tr>\n",
              "    <tr>\n",
              "      <th>3</th>\n",
              "      <td>Максимум</td>\n",
              "      <td>2588</td>\n",
              "      <td>5</td>\n",
              "    </tr>\n",
              "  </tbody>\n",
              "</table>\n",
              "</div>"
            ],
            "text/plain": [
              "               salary  vacancies  percent\n",
              "0         Отсутствует      25124       51\n",
              "1             Минимум      11383       23\n",
              "2  Минимум & Максимум      10102       21\n",
              "3            Максимум       2588        5"
            ]
          },
          "execution_count": 31,
          "metadata": {},
          "output_type": "execute_result"
        }
      ],
      "source": [
        "# результат запроса\n",
        "salary_full_empty = pd.read_sql_query(query_4_6_1, connection)\n",
        "salary_full_empty"
      ]
    },
    {
      "cell_type": "markdown",
      "id": "f491b38f",
      "metadata": {},
      "source": [
        "***"
      ]
    },
    {
      "cell_type": "markdown",
      "id": "299c9a5c",
      "metadata": {},
      "source": [
        "выводы по детальному анализу вакансий:\n",
        "- Распределение вакансий по регионам, как уже ранее показано, прямо коррелирует с количеством населения, административным статусом, количеством экономических субъектов в данном регионе. В ТОП-50 по количеству вакансий входят административные центры субъектов Российской Федерации, крупные города, а также столицы и крупные города стран СНГ. Так на долю Москвы приходится 5333 из 49197 вакансии, на доля Санкт-Петербурга 28751 из 49197. Минск на третьем месте 2112 из 49197.\n",
        "- Более половины вакансий (51 %) не имеет каких-либо указаний на предлагаемую заработную плату. В 21 % имеется полная информация о предложении работодателя по зарплате. Минимум указан в 23 % вакансий. Максимум в 5 % вакансий.\n",
        "- Средние значения для нижней и верхней границы зарплатной вилки составляют 71 и 110 тыс. рублей, соответственно. Дополнительно можно отметить, что уровень средних зарплат, полученный из этой базы данных не совсем соответствует реальным зарплатам в ИТ сфере в России на 2022 год. По этим данным, как пример, реальная медианная зарплата за первое полугодие 2022 года составила 140 тыс. рублей. Возможны две причины - зарплаты в вакансиях работодателей в-принципе ниже реальных рыночных, а также разные совокупности искомых сотрудников\\работников и предоставивших информацию о своей заработной плате.\n",
        "- Распределение вакансий для каждого сочетания типа рабочего графика и типа трудоустройства показывает, что порядка 80 % вакансий предполагают личное присутствие на рабочем месте (полный день, сменный и гибкий график). На долю удаленной работы приходится лишь порядка 19 %. Вахтовый метод где-то 0.8 %. Относительно формата занятости опять ожидаемо - более 93 % вакансий предполагают полную занятость. Частичная занятость и стажировка - всего чуть больше 4 и полутра процентов, соответственно. Проектная работа, менее 1 %.\n",
        "- Требуемый опыт работы указан в подавляющем количестве вакансий - более 85 %. В 14 % вакансийе опыт не указан. Половину работодателей устраивает опыт от 1 до 3 лет. А почти 30 % опыт от 3 до 6 лет. А 2.7 % работодателей требуют больше 6 лет опыта."
      ]
    },
    {
      "cell_type": "markdown",
      "id": "7ea20ab6-04a7-40a0-adec-443a0e5a42c3",
      "metadata": {
        "id": "7ea20ab6-04a7-40a0-adec-443a0e5a42c3"
      },
      "source": [
        "# Юнит 5. Анализ работодателей"
      ]
    },
    {
      "cell_type": "markdown",
      "id": "968aed80-74ef-4ffb-b5bf-c65b84e9caea",
      "metadata": {
        "id": "968aed80-74ef-4ffb-b5bf-c65b84e9caea"
      },
      "source": [
        "1. Напишите запрос, который позволит узнать, какие работодатели находятся на первом и пятом месте по количеству вакансий."
      ]
    },
    {
      "cell_type": "code",
      "execution_count": 32,
      "id": "f2d62796-d400-4ec1-a675-88112739a50e",
      "metadata": {
        "id": "f2d62796-d400-4ec1-a675-88112739a50e"
      },
      "outputs": [],
      "source": [
        "# текст запроса\n",
        "query_5_1 = f'''SELECT\n",
        "                    e.name,\n",
        "                    COUNT(v.id)  -- считаем количество вакансий\n",
        "                FROM\n",
        "                    employers e\n",
        "                LEFT JOIN vacancies v ON v.employer_id = e.id  -- соединяем таблицы vacancies и employers\n",
        "                GROUP BY 1  -- группируем по имени работодателя\n",
        "                ORDER BY 2 DESC  -- сортируем по количеству в порядке убывания\n",
        "                LIMIT 5  -- выводим первые пять строк\n",
        "            '''"
      ]
    },
    {
      "cell_type": "code",
      "execution_count": 33,
      "id": "64tOMkAxqkQk",
      "metadata": {
        "id": "64tOMkAxqkQk"
      },
      "outputs": [
        {
          "name": "stderr",
          "output_type": "stream",
          "text": [
            "C:\\Users\\sysadmin\\AppData\\Local\\Temp\\ipykernel_21164\\4042659804.py:2: UserWarning: pandas only supports SQLAlchemy connectable (engine/connection) or database string URI or sqlite3 DBAPI2 connection. Other DBAPI2 objects are not tested. Please consider using SQLAlchemy.\n",
            "  top_5_employer = pd.read_sql_query(query_5_1, connection)\n"
          ]
        },
        {
          "data": {
            "text/html": [
              "<div>\n",
              "<style scoped>\n",
              "    .dataframe tbody tr th:only-of-type {\n",
              "        vertical-align: middle;\n",
              "    }\n",
              "\n",
              "    .dataframe tbody tr th {\n",
              "        vertical-align: top;\n",
              "    }\n",
              "\n",
              "    .dataframe thead th {\n",
              "        text-align: right;\n",
              "    }\n",
              "</style>\n",
              "<table border=\"1\" class=\"dataframe\">\n",
              "  <thead>\n",
              "    <tr style=\"text-align: right;\">\n",
              "      <th></th>\n",
              "      <th>name</th>\n",
              "      <th>count</th>\n",
              "    </tr>\n",
              "  </thead>\n",
              "  <tbody>\n",
              "    <tr>\n",
              "      <th>0</th>\n",
              "      <td>Яндекс</td>\n",
              "      <td>1933</td>\n",
              "    </tr>\n",
              "    <tr>\n",
              "      <th>1</th>\n",
              "      <td>Ростелеком</td>\n",
              "      <td>491</td>\n",
              "    </tr>\n",
              "    <tr>\n",
              "      <th>2</th>\n",
              "      <td>Тинькофф</td>\n",
              "      <td>444</td>\n",
              "    </tr>\n",
              "    <tr>\n",
              "      <th>3</th>\n",
              "      <td>СБЕР</td>\n",
              "      <td>428</td>\n",
              "    </tr>\n",
              "    <tr>\n",
              "      <th>4</th>\n",
              "      <td>Газпром нефть</td>\n",
              "      <td>331</td>\n",
              "    </tr>\n",
              "  </tbody>\n",
              "</table>\n",
              "</div>"
            ],
            "text/plain": [
              "            name  count\n",
              "0         Яндекс   1933\n",
              "1     Ростелеком    491\n",
              "2       Тинькофф    444\n",
              "3           СБЕР    428\n",
              "4  Газпром нефть    331"
            ]
          },
          "execution_count": 33,
          "metadata": {},
          "output_type": "execute_result"
        }
      ],
      "source": [
        "# результат запроса\n",
        "top_5_employer = pd.read_sql_query(query_5_1, connection)\n",
        "top_5_employer"
      ]
    },
    {
      "cell_type": "markdown",
      "id": "68377cfc-b378-43dc-ab7d-1195abf2c515",
      "metadata": {
        "id": "68377cfc-b378-43dc-ab7d-1195abf2c515"
      },
      "source": [
        "2. Напишите запрос, который для каждого региона выведет количество работодателей и вакансий в нём.\n",
        "Среди регионов, в которых нет вакансий, найдите тот, в котором наибольшее количество работодателей.\n"
      ]
    },
    {
      "cell_type": "code",
      "execution_count": 34,
      "id": "dd7df27a-e3e8-412e-a21a-5d389b71e891",
      "metadata": {
        "id": "dd7df27a-e3e8-412e-a21a-5d389b71e891"
      },
      "outputs": [],
      "source": [
        "# текст запроса\n",
        "# Для решения данного задания создадим дополнительно таблицы:\n",
        "# - vacan с id регионов и количеством вакансий в каждом из них;\n",
        "# - employ с id регионов и количеством работодателей в каждом из них.\n",
        "\n",
        "query_5_2 = f'''SELECT\n",
        "                    a.name,\n",
        "                    vacan.vacan_quantity,\n",
        "                    employ.employ_quantity\n",
        "                FROM\n",
        "                    areas a  -- присоединяем слева к таблице с регионами таблицы vacan и employ по ID регионов\n",
        "                LEFT JOIN (SELECT\n",
        "                               a.id id,\n",
        "                               COUNT(v.id) vacan_quantity -- количество вакансий по регионам\n",
        "                            FROM\n",
        "                                vacancies v\n",
        "                            LEFT JOIN areas a ON v.area_id = a.id\n",
        "                            GROUP BY a.id  -- таблица vacan\n",
        "                            ) vacan ON a.id = vacan.id\n",
        "                            LEFT JOIN (SELECT\n",
        "                                           a.id id,\n",
        "                                           COUNT(e.id) employ_quantity -- количество работодателей по регионам\n",
        "                                        FROM\n",
        "                                            employers e\n",
        "                                        LEFT JOIN areas a ON e.area = a.id\n",
        "                                        GROUP BY a.id  -- таблица employ\n",
        "                                        ) employ ON a.id = employ.id\n",
        "                WHERE vacan_quantity IS NULL AND employ_quantity IS NOT NULL  -- оставим регионы, в которых отсутствуют вакансии и есть хотя бы один работодатель\n",
        "                ORDER BY employ_quantity DESC  -- сортируем по количеству работодателей в порядке возрастания\n",
        "                LIMIT 10  -- оставим первые 10 строк\n",
        "            '''"
      ]
    },
    {
      "cell_type": "code",
      "execution_count": 35,
      "id": "x1ikWbydrbf6",
      "metadata": {
        "id": "x1ikWbydrbf6"
      },
      "outputs": [
        {
          "name": "stderr",
          "output_type": "stream",
          "text": [
            "C:\\Users\\sysadmin\\AppData\\Local\\Temp\\ipykernel_21164\\1732355076.py:2: UserWarning: pandas only supports SQLAlchemy connectable (engine/connection) or database string URI or sqlite3 DBAPI2 connection. Other DBAPI2 objects are not tested. Please consider using SQLAlchemy.\n",
            "  area_vacan_employ = pd.read_sql_query(query_5_2, connection)\n"
          ]
        },
        {
          "data": {
            "text/html": [
              "<div>\n",
              "<style scoped>\n",
              "    .dataframe tbody tr th:only-of-type {\n",
              "        vertical-align: middle;\n",
              "    }\n",
              "\n",
              "    .dataframe tbody tr th {\n",
              "        vertical-align: top;\n",
              "    }\n",
              "\n",
              "    .dataframe thead th {\n",
              "        text-align: right;\n",
              "    }\n",
              "</style>\n",
              "<table border=\"1\" class=\"dataframe\">\n",
              "  <thead>\n",
              "    <tr style=\"text-align: right;\">\n",
              "      <th></th>\n",
              "      <th>name</th>\n",
              "      <th>vacan_quantity</th>\n",
              "      <th>employ_quantity</th>\n",
              "    </tr>\n",
              "  </thead>\n",
              "  <tbody>\n",
              "    <tr>\n",
              "      <th>0</th>\n",
              "      <td>Россия</td>\n",
              "      <td>None</td>\n",
              "      <td>410</td>\n",
              "    </tr>\n",
              "    <tr>\n",
              "      <th>1</th>\n",
              "      <td>Казахстан</td>\n",
              "      <td>None</td>\n",
              "      <td>207</td>\n",
              "    </tr>\n",
              "    <tr>\n",
              "      <th>2</th>\n",
              "      <td>Московская область</td>\n",
              "      <td>None</td>\n",
              "      <td>75</td>\n",
              "    </tr>\n",
              "    <tr>\n",
              "      <th>3</th>\n",
              "      <td>Краснодарский край</td>\n",
              "      <td>None</td>\n",
              "      <td>19</td>\n",
              "    </tr>\n",
              "    <tr>\n",
              "      <th>4</th>\n",
              "      <td>Ростовская область</td>\n",
              "      <td>None</td>\n",
              "      <td>18</td>\n",
              "    </tr>\n",
              "    <tr>\n",
              "      <th>5</th>\n",
              "      <td>Беларусь</td>\n",
              "      <td>None</td>\n",
              "      <td>18</td>\n",
              "    </tr>\n",
              "    <tr>\n",
              "      <th>6</th>\n",
              "      <td>Азербайджан</td>\n",
              "      <td>None</td>\n",
              "      <td>17</td>\n",
              "    </tr>\n",
              "    <tr>\n",
              "      <th>7</th>\n",
              "      <td>Нижегородская область</td>\n",
              "      <td>None</td>\n",
              "      <td>16</td>\n",
              "    </tr>\n",
              "    <tr>\n",
              "      <th>8</th>\n",
              "      <td>Республика Татарстан</td>\n",
              "      <td>None</td>\n",
              "      <td>16</td>\n",
              "    </tr>\n",
              "    <tr>\n",
              "      <th>9</th>\n",
              "      <td>Узбекистан</td>\n",
              "      <td>None</td>\n",
              "      <td>15</td>\n",
              "    </tr>\n",
              "  </tbody>\n",
              "</table>\n",
              "</div>"
            ],
            "text/plain": [
              "                    name vacan_quantity  employ_quantity\n",
              "0                 Россия           None              410\n",
              "1              Казахстан           None              207\n",
              "2     Московская область           None               75\n",
              "3     Краснодарский край           None               19\n",
              "4     Ростовская область           None               18\n",
              "5               Беларусь           None               18\n",
              "6            Азербайджан           None               17\n",
              "7  Нижегородская область           None               16\n",
              "8   Республика Татарстан           None               16\n",
              "9             Узбекистан           None               15"
            ]
          },
          "execution_count": 35,
          "metadata": {},
          "output_type": "execute_result"
        }
      ],
      "source": [
        "# результат запроса\n",
        "area_vacan_employ = pd.read_sql_query(query_5_2, connection)\n",
        "area_vacan_employ"
      ]
    },
    {
      "cell_type": "markdown",
      "id": "f2fe0acb-ab1a-4e15-9326-2560e22d73c1",
      "metadata": {
        "id": "f2fe0acb-ab1a-4e15-9326-2560e22d73c1"
      },
      "source": [
        "3. Для каждого работодателя посчитайте количество регионов, в которых он публикует свои вакансии. Отсортируйте результат по убыванию количества.\n"
      ]
    },
    {
      "cell_type": "code",
      "execution_count": 36,
      "id": "6271f8ad-bd2e-4196-ae4a-5b39c4c1010e",
      "metadata": {
        "id": "6271f8ad-bd2e-4196-ae4a-5b39c4c1010e"
      },
      "outputs": [],
      "source": [
        "# текст запроса\n",
        "query_5_3 = f'''SELECT\n",
        "                    e.name,\n",
        "                    COUNT(DISTINCT v.area_id)  --количество уникальных значений регионов для каждого работодателя\n",
        "                FROM\n",
        "                    employers e\n",
        "                LEFT JOIN vacancies v ON v.employer_id = e.id\n",
        "                GROUP BY 1  -- группируем по имени работодателя\n",
        "                ORDER BY 2 DESC  -- сортируем по количеству регионов в порядке убывания\n",
        "            '''"
      ]
    },
    {
      "cell_type": "code",
      "execution_count": 37,
      "id": "1EIvX3HasH4F",
      "metadata": {
        "id": "1EIvX3HasH4F"
      },
      "outputs": [
        {
          "name": "stderr",
          "output_type": "stream",
          "text": [
            "C:\\Users\\sysadmin\\AppData\\Local\\Temp\\ipykernel_21164\\1425591209.py:2: UserWarning: pandas only supports SQLAlchemy connectable (engine/connection) or database string URI or sqlite3 DBAPI2 connection. Other DBAPI2 objects are not tested. Please consider using SQLAlchemy.\n",
            "  quant_area = pd.read_sql_query(query_5_3, connection)\n"
          ]
        },
        {
          "data": {
            "text/html": [
              "<div>\n",
              "<style scoped>\n",
              "    .dataframe tbody tr th:only-of-type {\n",
              "        vertical-align: middle;\n",
              "    }\n",
              "\n",
              "    .dataframe tbody tr th {\n",
              "        vertical-align: top;\n",
              "    }\n",
              "\n",
              "    .dataframe thead th {\n",
              "        text-align: right;\n",
              "    }\n",
              "</style>\n",
              "<table border=\"1\" class=\"dataframe\">\n",
              "  <thead>\n",
              "    <tr style=\"text-align: right;\">\n",
              "      <th></th>\n",
              "      <th>name</th>\n",
              "      <th>count</th>\n",
              "    </tr>\n",
              "  </thead>\n",
              "  <tbody>\n",
              "    <tr>\n",
              "      <th>0</th>\n",
              "      <td>Яндекс</td>\n",
              "      <td>181</td>\n",
              "    </tr>\n",
              "    <tr>\n",
              "      <th>1</th>\n",
              "      <td>Ростелеком</td>\n",
              "      <td>152</td>\n",
              "    </tr>\n",
              "    <tr>\n",
              "      <th>2</th>\n",
              "      <td>Спецремонт</td>\n",
              "      <td>116</td>\n",
              "    </tr>\n",
              "    <tr>\n",
              "      <th>3</th>\n",
              "      <td>Поляков Денис Иванович</td>\n",
              "      <td>88</td>\n",
              "    </tr>\n",
              "    <tr>\n",
              "      <th>4</th>\n",
              "      <td>ООО ЕФИН</td>\n",
              "      <td>71</td>\n",
              "    </tr>\n",
              "    <tr>\n",
              "      <th>...</th>\n",
              "      <td>...</td>\n",
              "      <td>...</td>\n",
              "    </tr>\n",
              "    <tr>\n",
              "      <th>23170</th>\n",
              "      <td>СДЕЛКА</td>\n",
              "      <td>0</td>\n",
              "    </tr>\n",
              "    <tr>\n",
              "      <th>23171</th>\n",
              "      <td>Alandr Group</td>\n",
              "      <td>0</td>\n",
              "    </tr>\n",
              "    <tr>\n",
              "      <th>23172</th>\n",
              "      <td>СДК</td>\n",
              "      <td>0</td>\n",
              "    </tr>\n",
              "    <tr>\n",
              "      <th>23173</th>\n",
              "      <td>Lemon Land Lombard</td>\n",
              "      <td>0</td>\n",
              "    </tr>\n",
              "    <tr>\n",
              "      <th>23174</th>\n",
              "      <td>Махина</td>\n",
              "      <td>0</td>\n",
              "    </tr>\n",
              "  </tbody>\n",
              "</table>\n",
              "<p>23175 rows × 2 columns</p>\n",
              "</div>"
            ],
            "text/plain": [
              "                         name  count\n",
              "0                      Яндекс    181\n",
              "1                  Ростелеком    152\n",
              "2                  Спецремонт    116\n",
              "3      Поляков Денис Иванович     88\n",
              "4                   ООО ЕФИН      71\n",
              "...                       ...    ...\n",
              "23170                  СДЕЛКА      0\n",
              "23171            Alandr Group      0\n",
              "23172                     СДК      0\n",
              "23173      Lemon Land Lombard      0\n",
              "23174                  Махина      0\n",
              "\n",
              "[23175 rows x 2 columns]"
            ]
          },
          "execution_count": 37,
          "metadata": {},
          "output_type": "execute_result"
        }
      ],
      "source": [
        "# результат запроса\n",
        "quant_area = pd.read_sql_query(query_5_3, connection)\n",
        "quant_area"
      ]
    },
    {
      "cell_type": "markdown",
      "id": "eab2206d-d95b-468b-8e5f-34381abf0ce7",
      "metadata": {
        "id": "eab2206d-d95b-468b-8e5f-34381abf0ce7"
      },
      "source": [
        "4. Напишите запрос для подсчёта количества работодателей, у которых не указана сфера деятельности. "
      ]
    },
    {
      "cell_type": "code",
      "execution_count": 38,
      "id": "80defb23-bfb1-4a18-8be6-bf36aa7165d5",
      "metadata": {
        "id": "80defb23-bfb1-4a18-8be6-bf36aa7165d5"
      },
      "outputs": [],
      "source": [
        "# текст запроса\n",
        "query_5_4 = f'''SELECT\n",
        "                    COUNT(*)\n",
        "                FROM\n",
        "                    employers e\n",
        "                FULL JOIN employers_industries e_i ON e.id = e_i.employer_id  -- делаем полное соединение таблиц\n",
        "                WHERE e_i.industry_id IS NULL  -- оставляем записи с пустыми id сферы деятельности\n",
        "            '''"
      ]
    },
    {
      "cell_type": "code",
      "execution_count": 39,
      "id": "Dp_yCx6ysQSu",
      "metadata": {
        "id": "Dp_yCx6ysQSu"
      },
      "outputs": [
        {
          "name": "stderr",
          "output_type": "stream",
          "text": [
            "C:\\Users\\sysadmin\\AppData\\Local\\Temp\\ipykernel_21164\\654933434.py:2: UserWarning: pandas only supports SQLAlchemy connectable (engine/connection) or database string URI or sqlite3 DBAPI2 connection. Other DBAPI2 objects are not tested. Please consider using SQLAlchemy.\n",
            "  empl_indus_empty = pd.read_sql_query(query_5_4, connection)\n"
          ]
        },
        {
          "data": {
            "text/html": [
              "<div>\n",
              "<style scoped>\n",
              "    .dataframe tbody tr th:only-of-type {\n",
              "        vertical-align: middle;\n",
              "    }\n",
              "\n",
              "    .dataframe tbody tr th {\n",
              "        vertical-align: top;\n",
              "    }\n",
              "\n",
              "    .dataframe thead th {\n",
              "        text-align: right;\n",
              "    }\n",
              "</style>\n",
              "<table border=\"1\" class=\"dataframe\">\n",
              "  <thead>\n",
              "    <tr style=\"text-align: right;\">\n",
              "      <th></th>\n",
              "      <th>count</th>\n",
              "    </tr>\n",
              "  </thead>\n",
              "  <tbody>\n",
              "    <tr>\n",
              "      <th>0</th>\n",
              "      <td>8419</td>\n",
              "    </tr>\n",
              "  </tbody>\n",
              "</table>\n",
              "</div>"
            ],
            "text/plain": [
              "   count\n",
              "0   8419"
            ]
          },
          "execution_count": 39,
          "metadata": {},
          "output_type": "execute_result"
        }
      ],
      "source": [
        "# результат запроса\n",
        "empl_indus_empty = pd.read_sql_query(query_5_4, connection)\n",
        "empl_indus_empty"
      ]
    },
    {
      "cell_type": "markdown",
      "id": "0112af31-f6b0-4e3b-82ab-71296e752e5e",
      "metadata": {
        "id": "0112af31-f6b0-4e3b-82ab-71296e752e5e"
      },
      "source": [
        "5. Напишите запрос, чтобы узнать название компании, находящейся на третьем месте в алфавитном списке (по названию) компаний, у которых указано четыре сферы деятельности. "
      ]
    },
    {
      "cell_type": "code",
      "execution_count": 40,
      "id": "973b0cfc-a972-470a-8b4a-68744ef220c4",
      "metadata": {
        "id": "973b0cfc-a972-470a-8b4a-68744ef220c4"
      },
      "outputs": [],
      "source": [
        "# текст запроса\n",
        "query_5_5 = f'''SELECT\n",
        "                    e.name,\n",
        "                    COUNT(e_i.industry_id)\n",
        "                FROM\n",
        "                    employers e\n",
        "                JOIN employers_industries e_i ON e.id = e_i.employer_id  -- соединяем таблицы\n",
        "                GROUP BY 1\n",
        "                HAVING COUNT(e_i.industry_id) = 4  -- оставляем компании, у которых указано 4 сферы деятельности\n",
        "                ORDER BY 1  -- сортируем по названию в алфавитном порядке\n",
        "                OFFSET 2  -- обрезаем верхние 2 строки\n",
        "                LIMIT 1  -- оставляем верхнюю из оставшихся, т.е. 3 в алфавитном списке\n",
        "             '''"
      ]
    },
    {
      "cell_type": "code",
      "execution_count": 41,
      "id": "xsPtpp8EsaED",
      "metadata": {
        "id": "xsPtpp8EsaED"
      },
      "outputs": [
        {
          "name": "stderr",
          "output_type": "stream",
          "text": [
            "C:\\Users\\sysadmin\\AppData\\Local\\Temp\\ipykernel_21164\\1133966337.py:2: UserWarning: pandas only supports SQLAlchemy connectable (engine/connection) or database string URI or sqlite3 DBAPI2 connection. Other DBAPI2 objects are not tested. Please consider using SQLAlchemy.\n",
            "  empl_4_indus = pd.read_sql_query(query_5_5, connection)\n"
          ]
        },
        {
          "data": {
            "text/html": [
              "<div>\n",
              "<style scoped>\n",
              "    .dataframe tbody tr th:only-of-type {\n",
              "        vertical-align: middle;\n",
              "    }\n",
              "\n",
              "    .dataframe tbody tr th {\n",
              "        vertical-align: top;\n",
              "    }\n",
              "\n",
              "    .dataframe thead th {\n",
              "        text-align: right;\n",
              "    }\n",
              "</style>\n",
              "<table border=\"1\" class=\"dataframe\">\n",
              "  <thead>\n",
              "    <tr style=\"text-align: right;\">\n",
              "      <th></th>\n",
              "      <th>name</th>\n",
              "      <th>count</th>\n",
              "    </tr>\n",
              "  </thead>\n",
              "  <tbody>\n",
              "    <tr>\n",
              "      <th>0</th>\n",
              "      <td>2ГИС</td>\n",
              "      <td>4</td>\n",
              "    </tr>\n",
              "  </tbody>\n",
              "</table>\n",
              "</div>"
            ],
            "text/plain": [
              "   name  count\n",
              "0  2ГИС      4"
            ]
          },
          "execution_count": 41,
          "metadata": {},
          "output_type": "execute_result"
        }
      ],
      "source": [
        "# результат запроса\n",
        "empl_4_indus = pd.read_sql_query(query_5_5, connection)\n",
        "empl_4_indus"
      ]
    },
    {
      "cell_type": "markdown",
      "id": "3bfcfdaf-755d-4d2b-8ed8-326201dc07ab",
      "metadata": {
        "id": "3bfcfdaf-755d-4d2b-8ed8-326201dc07ab"
      },
      "source": [
        "6. С помощью запроса выясните, у какого количества работодателей в качестве сферы деятельности указана Разработка программного обеспечения.\n"
      ]
    },
    {
      "cell_type": "code",
      "execution_count": 42,
      "id": "ad3f270f-2991-47eb-929b-e8f88a55b0d1",
      "metadata": {
        "id": "ad3f270f-2991-47eb-929b-e8f88a55b0d1"
      },
      "outputs": [],
      "source": [
        "# текст запроса\n",
        "query_5_6 = f'''SELECT\n",
        "                    COUNT(*)\n",
        "                FROM\n",
        "                    industries i\n",
        "                JOIN employers_industries e_i ON e_i.industry_id = i.id  -- соединztv таблицs\n",
        "                WHERE i.name = 'Разработка программного обеспечения'  -- оставляем записи, в которых сфера деятельности \"Разработка программного обеспечения\"\n",
        "            '''"
      ]
    },
    {
      "cell_type": "code",
      "execution_count": 43,
      "id": "H72qxWM0shPR",
      "metadata": {
        "id": "H72qxWM0shPR"
      },
      "outputs": [
        {
          "name": "stderr",
          "output_type": "stream",
          "text": [
            "C:\\Users\\sysadmin\\AppData\\Local\\Temp\\ipykernel_21164\\3493476957.py:2: UserWarning: pandas only supports SQLAlchemy connectable (engine/connection) or database string URI or sqlite3 DBAPI2 connection. Other DBAPI2 objects are not tested. Please consider using SQLAlchemy.\n",
            "  soft_quantity = pd.read_sql_query(query_5_6, connection)\n"
          ]
        },
        {
          "data": {
            "text/html": [
              "<div>\n",
              "<style scoped>\n",
              "    .dataframe tbody tr th:only-of-type {\n",
              "        vertical-align: middle;\n",
              "    }\n",
              "\n",
              "    .dataframe tbody tr th {\n",
              "        vertical-align: top;\n",
              "    }\n",
              "\n",
              "    .dataframe thead th {\n",
              "        text-align: right;\n",
              "    }\n",
              "</style>\n",
              "<table border=\"1\" class=\"dataframe\">\n",
              "  <thead>\n",
              "    <tr style=\"text-align: right;\">\n",
              "      <th></th>\n",
              "      <th>count</th>\n",
              "    </tr>\n",
              "  </thead>\n",
              "  <tbody>\n",
              "    <tr>\n",
              "      <th>0</th>\n",
              "      <td>3553</td>\n",
              "    </tr>\n",
              "  </tbody>\n",
              "</table>\n",
              "</div>"
            ],
            "text/plain": [
              "   count\n",
              "0   3553"
            ]
          },
          "execution_count": 43,
          "metadata": {},
          "output_type": "execute_result"
        }
      ],
      "source": [
        "# результат запроса\n",
        "soft_quantity = pd.read_sql_query(query_5_6, connection)\n",
        "soft_quantity"
      ]
    },
    {
      "cell_type": "markdown",
      "id": "7b02bb86-0546-40fb-94a4-242f050a5c57",
      "metadata": {
        "id": "7b02bb86-0546-40fb-94a4-242f050a5c57"
      },
      "source": [
        "7. Для компании «Яндекс» выведите список регионов-миллионников, в которых представлены вакансии компании, вместе с количеством вакансий в этих регионах. Также добавьте строку Total с общим количеством вакансий компании. Результат отсортируйте по возрастанию количества.\n",
        "\n",
        "Список городов-милионников надо взять [отсюда](https://ru.wikipedia.org/wiki/%D0%93%D0%BE%D1%80%D0%BE%D0%B4%D0%B0-%D0%BC%D0%B8%D0%BB%D0%BB%D0%B8%D0%BE%D0%BD%D0%B5%D1%80%D1%8B_%D0%A0%D0%BE%D1%81%D1%81%D0%B8%D0%B8). \n",
        "\n",
        "Если возникнут трудности с этим задание посмотрите материалы модуля  PYTHON-17. Как получать данные из веб-источников и API. "
      ]
    },
    {
      "cell_type": "code",
      "execution_count": 44,
      "id": "ZdfrL6gIs1Pn",
      "metadata": {
        "id": "ZdfrL6gIs1Pn"
      },
      "outputs": [],
      "source": [
        "# код для получения списка городов-милионников\n",
        "path_common = req.urlparse('https://ru.wikipedia.org/wiki/Города-миллионеры_России#Список_городов-миллионеров')\n",
        "# преобразуем кириллицу в url\n",
        "url = path_common.scheme + '://' + req.quote(path_common.netloc) +  req.quote(path_common.path) + '#'+ req.quote(path_common.fragment)\n",
        "# достаем таблицу со страницы\n",
        "df = pd.read_html(url)\n",
        "# берем столбец с городами\n",
        "df = df[1]\n",
        "# преобразуем его в кортеж\n",
        "list_citys = tuple(df['Город'])"
      ]
    },
    {
      "cell_type": "code",
      "execution_count": 45,
      "id": "5a0e32a4-e68a-4365-8a39-2fe24c542c36",
      "metadata": {
        "id": "5a0e32a4-e68a-4365-8a39-2fe24c542c36"
      },
      "outputs": [],
      "source": [
        "# текст запроса\n",
        "query_5_7 = f'''WITH tab AS (\n",
        "                SELECT\n",
        "                    a.name,\n",
        "                    COUNT(*)::int cnt\n",
        "                FROM\n",
        "                    vacancies v\n",
        "                LEFT JOIN areas a ON v.area_id = a.id  -- в таблицу вакансий добавляем названия работодателей \n",
        "                LEFT JOIN employers e ON v.employer_id = e.id  -- в таблицу вакансий добавляем названия регионов\n",
        "                WHERE e.name = 'Яндекс'  -- оставляем записи, в которых работодатель \"Яндекс\"\n",
        "                AND a.name IN {list_citys}  -- оставляем только регионы из списка регионов-миллионников \n",
        "                GROUP BY 1  -- группируем по названию регионов\n",
        "                ORDER BY 2  -- сортируем по количеству вакансий в порядке возрастания\n",
        "                )  -- cоздаем таблицу table с регионами из списка города-миллионники и количеством вакансий для каждого для Яндекса\n",
        "                SELECT *\n",
        "                FROM\n",
        "                    tab\n",
        "                UNION ALL  -- добавляем к таблице table общее количество вакансий по городам-миллионникам\n",
        "                SELECT\n",
        "                    'total',\n",
        "                    SUM(cnt)  -- общая сумма вакансий\n",
        "                FROM\n",
        "                    tab\n",
        "            '''"
      ]
    },
    {
      "cell_type": "code",
      "execution_count": 46,
      "id": "ttPhiO1rsvPq",
      "metadata": {
        "id": "ttPhiO1rsvPq"
      },
      "outputs": [
        {
          "name": "stderr",
          "output_type": "stream",
          "text": [
            "C:\\Users\\sysadmin\\AppData\\Local\\Temp\\ipykernel_21164\\1571217279.py:2: UserWarning: pandas only supports SQLAlchemy connectable (engine/connection) or database string URI or sqlite3 DBAPI2 connection. Other DBAPI2 objects are not tested. Please consider using SQLAlchemy.\n",
            "  millionaire_cities = pd.read_sql_query(query_5_7, connection)\n"
          ]
        },
        {
          "data": {
            "text/html": [
              "<div>\n",
              "<style scoped>\n",
              "    .dataframe tbody tr th:only-of-type {\n",
              "        vertical-align: middle;\n",
              "    }\n",
              "\n",
              "    .dataframe tbody tr th {\n",
              "        vertical-align: top;\n",
              "    }\n",
              "\n",
              "    .dataframe thead th {\n",
              "        text-align: right;\n",
              "    }\n",
              "</style>\n",
              "<table border=\"1\" class=\"dataframe\">\n",
              "  <thead>\n",
              "    <tr style=\"text-align: right;\">\n",
              "      <th></th>\n",
              "      <th>name</th>\n",
              "      <th>cnt</th>\n",
              "    </tr>\n",
              "  </thead>\n",
              "  <tbody>\n",
              "    <tr>\n",
              "      <th>0</th>\n",
              "      <td>Омск</td>\n",
              "      <td>21</td>\n",
              "    </tr>\n",
              "    <tr>\n",
              "      <th>1</th>\n",
              "      <td>Челябинск</td>\n",
              "      <td>22</td>\n",
              "    </tr>\n",
              "    <tr>\n",
              "      <th>2</th>\n",
              "      <td>Красноярск</td>\n",
              "      <td>23</td>\n",
              "    </tr>\n",
              "    <tr>\n",
              "      <th>3</th>\n",
              "      <td>Волгоград</td>\n",
              "      <td>24</td>\n",
              "    </tr>\n",
              "    <tr>\n",
              "      <th>4</th>\n",
              "      <td>Пермь</td>\n",
              "      <td>25</td>\n",
              "    </tr>\n",
              "    <tr>\n",
              "      <th>5</th>\n",
              "      <td>Казань</td>\n",
              "      <td>25</td>\n",
              "    </tr>\n",
              "    <tr>\n",
              "      <th>6</th>\n",
              "      <td>Ростов-на-Дону</td>\n",
              "      <td>25</td>\n",
              "    </tr>\n",
              "    <tr>\n",
              "      <th>7</th>\n",
              "      <td>Уфа</td>\n",
              "      <td>26</td>\n",
              "    </tr>\n",
              "    <tr>\n",
              "      <th>8</th>\n",
              "      <td>Самара</td>\n",
              "      <td>26</td>\n",
              "    </tr>\n",
              "    <tr>\n",
              "      <th>9</th>\n",
              "      <td>Краснодар</td>\n",
              "      <td>30</td>\n",
              "    </tr>\n",
              "    <tr>\n",
              "      <th>10</th>\n",
              "      <td>Воронеж</td>\n",
              "      <td>32</td>\n",
              "    </tr>\n",
              "    <tr>\n",
              "      <th>11</th>\n",
              "      <td>Новосибирск</td>\n",
              "      <td>35</td>\n",
              "    </tr>\n",
              "    <tr>\n",
              "      <th>12</th>\n",
              "      <td>Нижний Новгород</td>\n",
              "      <td>36</td>\n",
              "    </tr>\n",
              "    <tr>\n",
              "      <th>13</th>\n",
              "      <td>Екатеринбург</td>\n",
              "      <td>39</td>\n",
              "    </tr>\n",
              "    <tr>\n",
              "      <th>14</th>\n",
              "      <td>Санкт-Петербург</td>\n",
              "      <td>42</td>\n",
              "    </tr>\n",
              "    <tr>\n",
              "      <th>15</th>\n",
              "      <td>Москва</td>\n",
              "      <td>54</td>\n",
              "    </tr>\n",
              "    <tr>\n",
              "      <th>16</th>\n",
              "      <td>total</td>\n",
              "      <td>485</td>\n",
              "    </tr>\n",
              "  </tbody>\n",
              "</table>\n",
              "</div>"
            ],
            "text/plain": [
              "               name  cnt\n",
              "0              Омск   21\n",
              "1         Челябинск   22\n",
              "2        Красноярск   23\n",
              "3         Волгоград   24\n",
              "4             Пермь   25\n",
              "5            Казань   25\n",
              "6    Ростов-на-Дону   25\n",
              "7               Уфа   26\n",
              "8            Самара   26\n",
              "9         Краснодар   30\n",
              "10          Воронеж   32\n",
              "11      Новосибирск   35\n",
              "12  Нижний Новгород   36\n",
              "13     Екатеринбург   39\n",
              "14  Санкт-Петербург   42\n",
              "15           Москва   54\n",
              "16            total  485"
            ]
          },
          "execution_count": 46,
          "metadata": {},
          "output_type": "execute_result"
        }
      ],
      "source": [
        "# результат запроса\n",
        "millionaire_cities = pd.read_sql_query(query_5_7, connection)\n",
        "millionaire_cities"
      ]
    },
    {
      "cell_type": "markdown",
      "id": "04966e40-3bc3-4dc8-9ba2-e80580ce3abc",
      "metadata": {
        "id": "04966e40-3bc3-4dc8-9ba2-e80580ce3abc"
      },
      "source": [
        "***"
      ]
    },
    {
      "cell_type": "markdown",
      "id": "0e74bc8d",
      "metadata": {},
      "source": [
        "8. Дополнительный анализ"
      ]
    },
    {
      "cell_type": "markdown",
      "id": "52ac3b08",
      "metadata": {},
      "source": [
        "8.1. Запрос для определения, в каких регионах Яндекс публикует свои вакансии."
      ]
    },
    {
      "cell_type": "code",
      "execution_count": 47,
      "id": "f15c9f1c",
      "metadata": {},
      "outputs": [],
      "source": [
        "# текст запроса\n",
        "query_5_8_1 = f'''SELECT\n",
        "                    a.name,  -- выводим названия регионов\n",
        "                    COUNT(v.id) quantity  -- количество вакансий по их id для каждого региона\n",
        "                FROM\n",
        "                    vacancies v\n",
        "                    LEFT JOIN employers e ON v.employer_id = e.id  -- соединяем таблицы vacancies и employers\n",
        "                    LEFT JOIN areas a ON v.area_id = a.id  -- соединяем таблицы vacancies и areas\n",
        "                WHERE e.name = 'Яндекс'  -- оставляем записи где работодатель Яндекс\n",
        "                GROUP BY a.id  -- группировка по id региона\n",
        "                ORDER BY quantity DESC  -- сортируем по количеству вакансий по убыванию                          \n",
        "            '''"
      ]
    },
    {
      "cell_type": "code",
      "execution_count": 48,
      "id": "fdbadad9",
      "metadata": {},
      "outputs": [
        {
          "name": "stderr",
          "output_type": "stream",
          "text": [
            "C:\\Users\\sysadmin\\AppData\\Local\\Temp\\ipykernel_21164\\2552198180.py:2: UserWarning: pandas only supports SQLAlchemy connectable (engine/connection) or database string URI or sqlite3 DBAPI2 connection. Other DBAPI2 objects are not tested. Please consider using SQLAlchemy.\n",
            "  yandex_areas = pd.read_sql_query(query_5_8_1, connection)\n"
          ]
        },
        {
          "data": {
            "text/html": [
              "<div>\n",
              "<style scoped>\n",
              "    .dataframe tbody tr th:only-of-type {\n",
              "        vertical-align: middle;\n",
              "    }\n",
              "\n",
              "    .dataframe tbody tr th {\n",
              "        vertical-align: top;\n",
              "    }\n",
              "\n",
              "    .dataframe thead th {\n",
              "        text-align: right;\n",
              "    }\n",
              "</style>\n",
              "<table border=\"1\" class=\"dataframe\">\n",
              "  <thead>\n",
              "    <tr style=\"text-align: right;\">\n",
              "      <th></th>\n",
              "      <th>name</th>\n",
              "      <th>quantity</th>\n",
              "    </tr>\n",
              "  </thead>\n",
              "  <tbody>\n",
              "    <tr>\n",
              "      <th>0</th>\n",
              "      <td>Москва</td>\n",
              "      <td>54</td>\n",
              "    </tr>\n",
              "    <tr>\n",
              "      <th>1</th>\n",
              "      <td>Санкт-Петербург</td>\n",
              "      <td>42</td>\n",
              "    </tr>\n",
              "    <tr>\n",
              "      <th>2</th>\n",
              "      <td>Екатеринбург</td>\n",
              "      <td>39</td>\n",
              "    </tr>\n",
              "    <tr>\n",
              "      <th>3</th>\n",
              "      <td>Нижний Новгород</td>\n",
              "      <td>36</td>\n",
              "    </tr>\n",
              "    <tr>\n",
              "      <th>4</th>\n",
              "      <td>Новосибирск</td>\n",
              "      <td>35</td>\n",
              "    </tr>\n",
              "    <tr>\n",
              "      <th>...</th>\n",
              "      <td>...</td>\n",
              "      <td>...</td>\n",
              "    </tr>\n",
              "    <tr>\n",
              "      <th>176</th>\n",
              "      <td>Кызылорда</td>\n",
              "      <td>1</td>\n",
              "    </tr>\n",
              "    <tr>\n",
              "      <th>177</th>\n",
              "      <td>Томилино</td>\n",
              "      <td>1</td>\n",
              "    </tr>\n",
              "    <tr>\n",
              "      <th>178</th>\n",
              "      <td>Костанай</td>\n",
              "      <td>1</td>\n",
              "    </tr>\n",
              "    <tr>\n",
              "      <th>179</th>\n",
              "      <td>Актобе</td>\n",
              "      <td>1</td>\n",
              "    </tr>\n",
              "    <tr>\n",
              "      <th>180</th>\n",
              "      <td>Актау</td>\n",
              "      <td>1</td>\n",
              "    </tr>\n",
              "  </tbody>\n",
              "</table>\n",
              "<p>181 rows × 2 columns</p>\n",
              "</div>"
            ],
            "text/plain": [
              "                name  quantity\n",
              "0             Москва        54\n",
              "1    Санкт-Петербург        42\n",
              "2       Екатеринбург        39\n",
              "3    Нижний Новгород        36\n",
              "4        Новосибирск        35\n",
              "..               ...       ...\n",
              "176        Кызылорда         1\n",
              "177         Томилино         1\n",
              "178         Костанай         1\n",
              "179           Актобе         1\n",
              "180            Актау         1\n",
              "\n",
              "[181 rows x 2 columns]"
            ]
          },
          "execution_count": 48,
          "metadata": {},
          "output_type": "execute_result"
        }
      ],
      "source": [
        "# результат запроса\n",
        "yandex_areas = pd.read_sql_query(query_5_8_1, connection)\n",
        "yandex_areas"
      ]
    },
    {
      "cell_type": "markdown",
      "id": "3ed22af7",
      "metadata": {},
      "source": [
        "***"
      ]
    },
    {
      "cell_type": "markdown",
      "id": "96695f2a",
      "metadata": {},
      "source": [
        "выводы по анализу работодателей:\n",
        "- Работодатели на первом и пятом месте по количеству вакансий: Яндекс и Газпромнефть.\n",
        "- 186 регионов без вакансий. Это страны, и другие составные субъекты, отдельные части которых присутствуют в перечне регионов без текущей потребности в ИТ специалистах.\n",
        "- Если посмотреть количество регионов для каждого работодателя, в которых он публикует свои вакансии, то можно увидеть корреляцию с количеством вакансий у работодателей. У кого много вакансий - у того много и регионов, в которых он публикует свои вакансии. У кого одна вакансия - тот опубликовал ее в одном регионе. Яндекс ожидаемо на первом месте c результатом 181 регион. Размещение вакансий: Москва, СПб, все административные центры субъектов РФ, самые крупные города, плюс тоже самое по Казахстану и Беларуси. Наблюдается полная корреляция с величиной и статусом региона, первые пять: Москва 54, Санкт-Петербург 42, Екатеринбург 39, Нижний Новгород 36, Новосибирск 35.\n",
        "- Почти 8.5 тыс. работодателей не указали сферы деятельности в которых они предлагают работу.\n",
        "- В отличие от предыдущих, компания 2ГИС указала 4 сферы деятельности.\n",
        "- У 3553 работодателей указана такая сфера деятельности \"Разработка программного обеспечения\".\n",
        "- Количество вакансий Яндекса по городам-миллионникам - 16. Москва первая в списке, СПб второй и т.д. Всего 485 вакансий, что составляет четверть от всех вакансий Яндекса.\n",
        "- ИП Поляков Денис Иванович находится на 4 месте среди работодателей по количеству регионов опубликованных вакансий (88 регионов) Более подробную информацию об этом работодателе добудем в Дополнительных исследованиях к данному проекту."
      ]
    },
    {
      "cell_type": "markdown",
      "id": "b1ef156a-efcb-49ce-bb23-90763e7f35b2",
      "metadata": {
        "id": "b1ef156a-efcb-49ce-bb23-90763e7f35b2",
        "tags": []
      },
      "source": [
        "# Юнит 6. Предметный анализ"
      ]
    },
    {
      "cell_type": "markdown",
      "id": "b9cd50a0-992d-4988-8463-2b2b1c4629b4",
      "metadata": {
        "id": "b9cd50a0-992d-4988-8463-2b2b1c4629b4"
      },
      "source": [
        "1. Сколько вакансий имеет отношение к данным?\n",
        "\n",
        "Считаем, что вакансия имеет отношение к данным, если в её названии содержатся слова 'data' или 'данн'.\n",
        "\n",
        "*Подсказка: Обратите внимание, что названия вакансий могут быть написаны в любом регистре.* \n"
      ]
    },
    {
      "cell_type": "code",
      "execution_count": 49,
      "id": "54ab0e50-c0f1-47cc-a54b-bc5c8bc363f9",
      "metadata": {
        "id": "54ab0e50-c0f1-47cc-a54b-bc5c8bc363f9"
      },
      "outputs": [],
      "source": [
        "# текст запроса\n",
        "query_6_1 = f'''SELECT\n",
        "                    COUNT(*)\n",
        "                FROM\n",
        "                    vacancies\n",
        "                WHERE lower(name) LIKE '%data%' OR lower(name) LIKE '%данн%'  -- переводим названия вакансий с нижний регистр и проверяем на содержание в них \"data\" или \"данн\"\n",
        "            '''"
      ]
    },
    {
      "cell_type": "code",
      "execution_count": 50,
      "id": "9F1meAqsuUjd",
      "metadata": {
        "id": "9F1meAqsuUjd"
      },
      "outputs": [
        {
          "name": "stderr",
          "output_type": "stream",
          "text": [
            "C:\\Users\\sysadmin\\AppData\\Local\\Temp\\ipykernel_21164\\2935617630.py:2: UserWarning: pandas only supports SQLAlchemy connectable (engine/connection) or database string URI or sqlite3 DBAPI2 connection. Other DBAPI2 objects are not tested. Please consider using SQLAlchemy.\n",
            "  data_vacancies = pd.read_sql_query(query_6_1, connection)\n"
          ]
        },
        {
          "data": {
            "text/html": [
              "<div>\n",
              "<style scoped>\n",
              "    .dataframe tbody tr th:only-of-type {\n",
              "        vertical-align: middle;\n",
              "    }\n",
              "\n",
              "    .dataframe tbody tr th {\n",
              "        vertical-align: top;\n",
              "    }\n",
              "\n",
              "    .dataframe thead th {\n",
              "        text-align: right;\n",
              "    }\n",
              "</style>\n",
              "<table border=\"1\" class=\"dataframe\">\n",
              "  <thead>\n",
              "    <tr style=\"text-align: right;\">\n",
              "      <th></th>\n",
              "      <th>count</th>\n",
              "    </tr>\n",
              "  </thead>\n",
              "  <tbody>\n",
              "    <tr>\n",
              "      <th>0</th>\n",
              "      <td>1771</td>\n",
              "    </tr>\n",
              "  </tbody>\n",
              "</table>\n",
              "</div>"
            ],
            "text/plain": [
              "   count\n",
              "0   1771"
            ]
          },
          "execution_count": 50,
          "metadata": {},
          "output_type": "execute_result"
        }
      ],
      "source": [
        "# результат запроса\n",
        "data_vacancies = pd.read_sql_query(query_6_1, connection)\n",
        "data_vacancies"
      ]
    },
    {
      "cell_type": "markdown",
      "id": "4dea20cb-a36b-474a-a0b9-e08e8e3857a5",
      "metadata": {
        "id": "4dea20cb-a36b-474a-a0b9-e08e8e3857a5"
      },
      "source": [
        "2. Сколько есть подходящих вакансий для начинающего дата-сайентиста? \n",
        "Будем считать вакансиями для дата-сайентистов такие, в названии которых есть хотя бы одно из следующих сочетаний:\n",
        "* 'data scientist'\n",
        "* 'data science'\n",
        "* 'исследователь данных'\n",
        "* 'ML' (здесь не нужно брать вакансии по HTML)\n",
        "* 'machine learning'\n",
        "* 'машинн%обучен%'\n",
        "\n",
        "** В следующих заданиях мы продолжим работать с вакансиями по этому условию.*\n",
        "\n",
        "Считаем вакансиями для специалистов уровня Junior следующие:\n",
        "* в названии есть слово 'junior' *или*\n",
        "* требуемый опыт — Нет опыта *или*\n",
        "* тип трудоустройства — Стажировка.\n",
        " "
      ]
    },
    {
      "cell_type": "code",
      "execution_count": 51,
      "id": "9c61b3c0-bb66-46c9-ae1e-81d3f5752b4a",
      "metadata": {
        "id": "9c61b3c0-bb66-46c9-ae1e-81d3f5752b4a"
      },
      "outputs": [],
      "source": [
        "# текст запроса\n",
        "query_6_2 = f'''SELECT\n",
        "                    COUNT(*)\n",
        "                FROM\n",
        "                    vacancies\n",
        "                WHERE (name ~* 'data scientist' \n",
        "                OR name ~* 'data science' \n",
        "                OR name ~* 'исследователь данных' \n",
        "                OR (name ~* 'ML' AND name !~* 'HTML') \n",
        "                OR name ~* 'machine learning' \n",
        "                OR name ~* 'машинн.*обучен.*')  -- условие для выбора вакансий, которые соответствуют  вакансиям для дата-сайентистов\n",
        "                AND\n",
        "                (name ~* 'junior' OR\n",
        "                experience = 'Нет опыта' OR\n",
        "                employment = 'Стажировка')  --условие для выбора вакансий для специалистов уровня Junior\n",
        "            '''"
      ]
    },
    {
      "cell_type": "code",
      "execution_count": 52,
      "id": "ZNM-LLYuu1dj",
      "metadata": {
        "id": "ZNM-LLYuu1dj"
      },
      "outputs": [
        {
          "name": "stderr",
          "output_type": "stream",
          "text": [
            "C:\\Users\\sysadmin\\AppData\\Local\\Temp\\ipykernel_21164\\2311562088.py:2: UserWarning: pandas only supports SQLAlchemy connectable (engine/connection) or database string URI or sqlite3 DBAPI2 connection. Other DBAPI2 objects are not tested. Please consider using SQLAlchemy.\n",
            "  jun_vacancies = pd.read_sql_query(query_6_2, connection)\n"
          ]
        },
        {
          "data": {
            "text/html": [
              "<div>\n",
              "<style scoped>\n",
              "    .dataframe tbody tr th:only-of-type {\n",
              "        vertical-align: middle;\n",
              "    }\n",
              "\n",
              "    .dataframe tbody tr th {\n",
              "        vertical-align: top;\n",
              "    }\n",
              "\n",
              "    .dataframe thead th {\n",
              "        text-align: right;\n",
              "    }\n",
              "</style>\n",
              "<table border=\"1\" class=\"dataframe\">\n",
              "  <thead>\n",
              "    <tr style=\"text-align: right;\">\n",
              "      <th></th>\n",
              "      <th>count</th>\n",
              "    </tr>\n",
              "  </thead>\n",
              "  <tbody>\n",
              "    <tr>\n",
              "      <th>0</th>\n",
              "      <td>51</td>\n",
              "    </tr>\n",
              "  </tbody>\n",
              "</table>\n",
              "</div>"
            ],
            "text/plain": [
              "   count\n",
              "0     51"
            ]
          },
          "execution_count": 52,
          "metadata": {},
          "output_type": "execute_result"
        }
      ],
      "source": [
        "# результат запроса\n",
        "jun_vacancies = pd.read_sql_query(query_6_2, connection)\n",
        "jun_vacancies"
      ]
    },
    {
      "cell_type": "markdown",
      "id": "eedceb80-c5ca-480e-b27a-278dfb8b4438",
      "metadata": {
        "id": "eedceb80-c5ca-480e-b27a-278dfb8b4438"
      },
      "source": [
        "3. Сколько есть вакансий для DS, в которых в качестве ключевого навыка указан SQL или postgres?\n",
        "\n",
        "** Критерии для отнесения вакансии к DS указаны в предыдущем задании.*"
      ]
    },
    {
      "cell_type": "code",
      "execution_count": 53,
      "id": "69621713-0cc5-4f1b-a1d7-bb144fa6148c",
      "metadata": {
        "id": "69621713-0cc5-4f1b-a1d7-bb144fa6148c"
      },
      "outputs": [],
      "source": [
        "# текст запроса\n",
        "query_6_3 = f'''SELECT\n",
        "                    COUNT(*)\n",
        "                FROM\n",
        "                    vacancies\n",
        "                WHERE\n",
        "                    (name ~* 'data scientist' OR \n",
        "                    name ~* 'data science' OR \n",
        "                    name ~* 'исследователь данных' OR\n",
        "                    (name ~ 'ML' AND name !~* 'HTML') OR\n",
        "                    name ~* 'machine learning' OR\n",
        "                    name ~* 'машинн.*обучен.*') -- применение условия для соответствия вакансии дата-сайентиста\n",
        "                    AND\n",
        "                    (key_skills ~* 'SQL' OR key_skills ~* 'postgres')  --условие для выбора вакансий где в качестве ключевого навыка указан SQL или postgres\n",
        "            '''"
      ]
    },
    {
      "cell_type": "code",
      "execution_count": 54,
      "id": "alA8WEAAvGdf",
      "metadata": {
        "id": "alA8WEAAvGdf"
      },
      "outputs": [
        {
          "name": "stderr",
          "output_type": "stream",
          "text": [
            "C:\\Users\\sysadmin\\AppData\\Local\\Temp\\ipykernel_21164\\3698489625.py:2: UserWarning: pandas only supports SQLAlchemy connectable (engine/connection) or database string URI or sqlite3 DBAPI2 connection. Other DBAPI2 objects are not tested. Please consider using SQLAlchemy.\n",
            "  sql_vacancies = pd.read_sql_query(query_6_3, connection)\n"
          ]
        },
        {
          "data": {
            "text/html": [
              "<div>\n",
              "<style scoped>\n",
              "    .dataframe tbody tr th:only-of-type {\n",
              "        vertical-align: middle;\n",
              "    }\n",
              "\n",
              "    .dataframe tbody tr th {\n",
              "        vertical-align: top;\n",
              "    }\n",
              "\n",
              "    .dataframe thead th {\n",
              "        text-align: right;\n",
              "    }\n",
              "</style>\n",
              "<table border=\"1\" class=\"dataframe\">\n",
              "  <thead>\n",
              "    <tr style=\"text-align: right;\">\n",
              "      <th></th>\n",
              "      <th>count</th>\n",
              "    </tr>\n",
              "  </thead>\n",
              "  <tbody>\n",
              "    <tr>\n",
              "      <th>0</th>\n",
              "      <td>201</td>\n",
              "    </tr>\n",
              "  </tbody>\n",
              "</table>\n",
              "</div>"
            ],
            "text/plain": [
              "   count\n",
              "0    201"
            ]
          },
          "execution_count": 54,
          "metadata": {},
          "output_type": "execute_result"
        }
      ],
      "source": [
        "# результат запроса\n",
        "sql_vacancies = pd.read_sql_query(query_6_3, connection)\n",
        "sql_vacancies"
      ]
    },
    {
      "cell_type": "markdown",
      "id": "1be1e9c6-37cf-4a5f-bfeb-04cab799dc80",
      "metadata": {
        "id": "1be1e9c6-37cf-4a5f-bfeb-04cab799dc80"
      },
      "source": [
        "4. Проверьте, насколько популярен Python в требованиях работодателей к DS.Для этого вычислите количество вакансий, в которых в качестве ключевого навыка указан Python.\n",
        "\n",
        "** Это можно сделать помощью запроса, аналогичного предыдущему.*"
      ]
    },
    {
      "cell_type": "code",
      "execution_count": 55,
      "id": "0036a355-9ccf-4564-8b01-73d8194297e7",
      "metadata": {
        "id": "0036a355-9ccf-4564-8b01-73d8194297e7"
      },
      "outputs": [],
      "source": [
        "# текст запроса\n",
        "query_6_4 = f'''SELECT\n",
        "                    COUNT(*)\n",
        "                FROM\n",
        "                    vacancies\n",
        "                WHERE\n",
        "                    (name ~* 'data scientist' OR \n",
        "                    name ~* 'data science' OR \n",
        "                    name ~* 'исследователь данных' OR\n",
        "                    (name ~ 'ML' AND name !~* 'HTML') OR\n",
        "                    name ~* 'machine learning' OR\n",
        "                    name ~* 'машинн.*обучен.*') -- применение условия для соответствия вакансии дата-сайентиста\n",
        "                    AND\n",
        "                    key_skills ~* 'Python'  -- условие для выбора вакансий где в качестве ключевого навыка указан Python\n",
        "            '''"
      ]
    },
    {
      "cell_type": "code",
      "execution_count": 56,
      "id": "1i-5WyucvQ6v",
      "metadata": {
        "id": "1i-5WyucvQ6v"
      },
      "outputs": [
        {
          "name": "stderr",
          "output_type": "stream",
          "text": [
            "C:\\Users\\sysadmin\\AppData\\Local\\Temp\\ipykernel_21164\\100281186.py:2: UserWarning: pandas only supports SQLAlchemy connectable (engine/connection) or database string URI or sqlite3 DBAPI2 connection. Other DBAPI2 objects are not tested. Please consider using SQLAlchemy.\n",
            "  python_vacancies = pd.read_sql_query(query_6_4, connection)\n"
          ]
        },
        {
          "data": {
            "text/html": [
              "<div>\n",
              "<style scoped>\n",
              "    .dataframe tbody tr th:only-of-type {\n",
              "        vertical-align: middle;\n",
              "    }\n",
              "\n",
              "    .dataframe tbody tr th {\n",
              "        vertical-align: top;\n",
              "    }\n",
              "\n",
              "    .dataframe thead th {\n",
              "        text-align: right;\n",
              "    }\n",
              "</style>\n",
              "<table border=\"1\" class=\"dataframe\">\n",
              "  <thead>\n",
              "    <tr style=\"text-align: right;\">\n",
              "      <th></th>\n",
              "      <th>count</th>\n",
              "    </tr>\n",
              "  </thead>\n",
              "  <tbody>\n",
              "    <tr>\n",
              "      <th>0</th>\n",
              "      <td>351</td>\n",
              "    </tr>\n",
              "  </tbody>\n",
              "</table>\n",
              "</div>"
            ],
            "text/plain": [
              "   count\n",
              "0    351"
            ]
          },
          "execution_count": 56,
          "metadata": {},
          "output_type": "execute_result"
        }
      ],
      "source": [
        "# результат запроса\n",
        "python_vacancies = pd.read_sql_query(query_6_4, connection)\n",
        "python_vacancies"
      ]
    },
    {
      "cell_type": "markdown",
      "id": "ec3c8db7-fa21-4a41-a994-1af63742a642",
      "metadata": {
        "id": "ec3c8db7-fa21-4a41-a994-1af63742a642"
      },
      "source": [
        "5. Сколько ключевых навыков в среднем указывают в вакансиях для DS?\n",
        "Ответ округлите до двух знаков после точки-разделителя."
      ]
    },
    {
      "cell_type": "code",
      "execution_count": 57,
      "id": "949132bc-d5b6-4611-8218-0b9a504d74f4",
      "metadata": {
        "id": "949132bc-d5b6-4611-8218-0b9a504d74f4"
      },
      "outputs": [],
      "source": [
        "# текст запроса\n",
        "# Количество ключевых навыков в вакансии будем рассчитывать по количеству разделителей \"\\t\" + 1 в ячейке key_skills\n",
        "query_6_5 = f'''SELECT\n",
        "                    ROUND(AVG(length(key_skills) - length(replace(key_skills,'\\t','')) + 1), 2)\n",
        "                FROM\n",
        "                    vacancies\n",
        "                WHERE\n",
        "                    (name ~* 'data scientist' OR \n",
        "                    name ~* 'data science' OR \n",
        "                    name ~* 'исследователь данных' OR\n",
        "                    (name ~ 'ML' AND name !~* 'HTML') OR\n",
        "                    name ~* 'machine learning' OR\n",
        "                    name ~* 'машинн.*обучен.*') -- применение условия для соответствия вакансии дата-сайентиста\n",
        "                '''"
      ]
    },
    {
      "cell_type": "code",
      "execution_count": 58,
      "id": "a3V24Tvmviqk",
      "metadata": {
        "id": "a3V24Tvmviqk"
      },
      "outputs": [
        {
          "name": "stderr",
          "output_type": "stream",
          "text": [
            "C:\\Users\\sysadmin\\AppData\\Local\\Temp\\ipykernel_21164\\1487478692.py:2: UserWarning: pandas only supports SQLAlchemy connectable (engine/connection) or database string URI or sqlite3 DBAPI2 connection. Other DBAPI2 objects are not tested. Please consider using SQLAlchemy.\n",
            "  avg_vacancies = pd.read_sql_query(query_6_5, connection)\n"
          ]
        },
        {
          "data": {
            "text/html": [
              "<div>\n",
              "<style scoped>\n",
              "    .dataframe tbody tr th:only-of-type {\n",
              "        vertical-align: middle;\n",
              "    }\n",
              "\n",
              "    .dataframe tbody tr th {\n",
              "        vertical-align: top;\n",
              "    }\n",
              "\n",
              "    .dataframe thead th {\n",
              "        text-align: right;\n",
              "    }\n",
              "</style>\n",
              "<table border=\"1\" class=\"dataframe\">\n",
              "  <thead>\n",
              "    <tr style=\"text-align: right;\">\n",
              "      <th></th>\n",
              "      <th>round</th>\n",
              "    </tr>\n",
              "  </thead>\n",
              "  <tbody>\n",
              "    <tr>\n",
              "      <th>0</th>\n",
              "      <td>6.41</td>\n",
              "    </tr>\n",
              "  </tbody>\n",
              "</table>\n",
              "</div>"
            ],
            "text/plain": [
              "   round\n",
              "0   6.41"
            ]
          },
          "execution_count": 58,
          "metadata": {},
          "output_type": "execute_result"
        }
      ],
      "source": [
        "# результат запроса\n",
        "avg_vacancies = pd.read_sql_query(query_6_5, connection)\n",
        "avg_vacancies"
      ]
    },
    {
      "cell_type": "markdown",
      "id": "1041c17a-ca8f-4543-a0ca-32778914fb00",
      "metadata": {
        "id": "1041c17a-ca8f-4543-a0ca-32778914fb00"
      },
      "source": [
        "6. Напишите запрос, позволяющий вычислить, какую зарплату для DS в **среднем** указывают для каждого типа требуемого опыта (уникальное значение из поля *experience*). \n",
        "\n",
        "При решении задачи примите во внимание следующее:\n",
        "1. Рассматриваем только вакансии, у которых заполнено хотя бы одно из двух полей с зарплатой.\n",
        "2. Если заполнены оба поля с зарплатой, то считаем зарплату по каждой вакансии как сумму двух полей, делённую на 2. Если заполнено только одно из полей, то его и считаем зарплатой по вакансии.\n",
        "3. Если в расчётах участвует null, в результате он тоже даст null (посмотрите, что возвращает запрос select 1 + null). Чтобы избежать этой ситуацию, мы воспользуемся функцией [coalesce](https://postgrespro.ru/docs/postgresql/9.5/functions-conditional#functions-coalesce-nvl-ifnull), которая заменит null на значение, которое мы передадим. Например, посмотрите, что возвращает запрос `select 1 + coalesce(null, 0)`\n",
        "\n",
        "Выясните, на какую зарплату в среднем может рассчитывать дата-сайентист с опытом работы от 3 до 6 лет. Результат округлите до целого числа. "
      ]
    },
    {
      "cell_type": "code",
      "execution_count": 59,
      "id": "6a743d39-5204-48d3-8271-b9f88e68d40e",
      "metadata": {
        "id": "6a743d39-5204-48d3-8271-b9f88e68d40e"
      },
      "outputs": [],
      "source": [
        "# текст запроса\n",
        "# Среднюю зарплату будем считать так: ROUND(AVG((COALESCE(salary_from, salary_to) + COALESCE(salary_to, salary_from)) / 2)) - данное выражение даст нам в итоге либо две минимальных зарплаты,\n",
        "# либо две максимальных зарплаты, либо минимальную и максимальную. После деления на 2 получим либо среднюю, либо минимальную ну или максимальную.\n",
        "query_6_6 = f'''SELECT\n",
        "                    experience,\n",
        "                    ROUND(AVG((COALESCE(salary_from, salary_to) + COALESCE(salary_to, salary_from)) / 2))::int avg\n",
        "                FROM\n",
        "                    vacancies\n",
        "                WHERE\n",
        "                    (name ~* 'data scientist' OR \n",
        "                    name ~* 'data science' OR \n",
        "                    name ~* 'исследователь данных' OR\n",
        "                    (name ~ 'ML' AND name !~* 'HTML') OR\n",
        "                    name ~* 'machine learning' OR\n",
        "                    name ~* 'машинн.*обучен.*') -- применение условия для соответствия вакансии дата-сайентиста\n",
        "                    AND\n",
        "                    (salary_from IS NOT NULL OR salary_to IS NOT NULL) -- заполнено хотя бы одно из двух полей с зарплатой\n",
        "                GROUP BY experience -- группируем по опыту\n",
        "            '''"
      ]
    },
    {
      "cell_type": "code",
      "execution_count": 60,
      "id": "aRIJ0mZEwU1_",
      "metadata": {
        "id": "aRIJ0mZEwU1_"
      },
      "outputs": [
        {
          "name": "stderr",
          "output_type": "stream",
          "text": [
            "C:\\Users\\sysadmin\\AppData\\Local\\Temp\\ipykernel_21164\\4147299713.py:2: UserWarning: pandas only supports SQLAlchemy connectable (engine/connection) or database string URI or sqlite3 DBAPI2 connection. Other DBAPI2 objects are not tested. Please consider using SQLAlchemy.\n",
            "  avg_salary = pd.read_sql_query(query_6_6, connection)\n"
          ]
        },
        {
          "data": {
            "text/html": [
              "<div>\n",
              "<style scoped>\n",
              "    .dataframe tbody tr th:only-of-type {\n",
              "        vertical-align: middle;\n",
              "    }\n",
              "\n",
              "    .dataframe tbody tr th {\n",
              "        vertical-align: top;\n",
              "    }\n",
              "\n",
              "    .dataframe thead th {\n",
              "        text-align: right;\n",
              "    }\n",
              "</style>\n",
              "<table border=\"1\" class=\"dataframe\">\n",
              "  <thead>\n",
              "    <tr style=\"text-align: right;\">\n",
              "      <th></th>\n",
              "      <th>experience</th>\n",
              "      <th>avg</th>\n",
              "    </tr>\n",
              "  </thead>\n",
              "  <tbody>\n",
              "    <tr>\n",
              "      <th>0</th>\n",
              "      <td>Нет опыта</td>\n",
              "      <td>74643</td>\n",
              "    </tr>\n",
              "    <tr>\n",
              "      <th>1</th>\n",
              "      <td>От 1 года до 3 лет</td>\n",
              "      <td>139675</td>\n",
              "    </tr>\n",
              "    <tr>\n",
              "      <th>2</th>\n",
              "      <td>От 3 до 6 лет</td>\n",
              "      <td>243115</td>\n",
              "    </tr>\n",
              "  </tbody>\n",
              "</table>\n",
              "</div>"
            ],
            "text/plain": [
              "           experience     avg\n",
              "0           Нет опыта   74643\n",
              "1  От 1 года до 3 лет  139675\n",
              "2       От 3 до 6 лет  243115"
            ]
          },
          "execution_count": 60,
          "metadata": {},
          "output_type": "execute_result"
        }
      ],
      "source": [
        "# результат запроса\n",
        "avg_salary = pd.read_sql_query(query_6_6, connection)\n",
        "avg_salary"
      ]
    },
    {
      "cell_type": "markdown",
      "id": "6a7892b4-4113-4746-adce-18aa2844f18e",
      "metadata": {
        "id": "6a7892b4-4113-4746-adce-18aa2844f18e"
      },
      "source": [
        "***"
      ]
    },
    {
      "cell_type": "markdown",
      "id": "e6258fc0",
      "metadata": {},
      "source": [
        "7. Дополнительный анализ"
      ]
    },
    {
      "cell_type": "markdown",
      "id": "7ffe800a",
      "metadata": {},
      "source": [
        "7.1. Запрос для определения работодателей, которым требуются дата-сайентисты."
      ]
    },
    {
      "cell_type": "code",
      "execution_count": 61,
      "id": "38cfc857",
      "metadata": {},
      "outputs": [],
      "source": [
        "# текст запроса\n",
        "query_6_7_1 = f'''SELECT \n",
        "                    e.name,\n",
        "                    COUNT(v.id) vacancies -- подсчет вакансий по их id для каждого работодателя \n",
        "                FROM \n",
        "                    vacancies v\n",
        "                    LEFT JOIN employers e ON v.employer_id = e.id -- соединяем таблицы  employers и vacancies\n",
        "                WHERE\n",
        "                    (v.name ~* 'data scientist' OR \n",
        "                    v.name ~* 'data science' OR \n",
        "                    v.name ~* 'исследователь данных' OR\n",
        "                    (v.name ~ 'ML' AND v.name !~* 'HTML') OR\n",
        "                    v.name ~* 'machine learning' OR\n",
        "                    v.name ~* 'машинн.*обучен.*') -- условие соответствия вакансии дата-сайентиста\n",
        "                GROUP BY e.id -- группируем по id работодателя\n",
        "                ORDER BY vacancies DESC -- сортировка по убыванию\n",
        "             '''"
      ]
    },
    {
      "cell_type": "code",
      "execution_count": 62,
      "id": "6e35f137",
      "metadata": {},
      "outputs": [
        {
          "name": "stderr",
          "output_type": "stream",
          "text": [
            "C:\\Users\\sysadmin\\AppData\\Local\\Temp\\ipykernel_21164\\2535929142.py:2: UserWarning: pandas only supports SQLAlchemy connectable (engine/connection) or database string URI or sqlite3 DBAPI2 connection. Other DBAPI2 objects are not tested. Please consider using SQLAlchemy.\n",
            "  employers_ds = pd.read_sql_query(query_6_7_1, connection)\n"
          ]
        },
        {
          "data": {
            "text/html": [
              "<div>\n",
              "<style scoped>\n",
              "    .dataframe tbody tr th:only-of-type {\n",
              "        vertical-align: middle;\n",
              "    }\n",
              "\n",
              "    .dataframe tbody tr th {\n",
              "        vertical-align: top;\n",
              "    }\n",
              "\n",
              "    .dataframe thead th {\n",
              "        text-align: right;\n",
              "    }\n",
              "</style>\n",
              "<table border=\"1\" class=\"dataframe\">\n",
              "  <thead>\n",
              "    <tr style=\"text-align: right;\">\n",
              "      <th></th>\n",
              "      <th>name</th>\n",
              "      <th>vacancies</th>\n",
              "    </tr>\n",
              "  </thead>\n",
              "  <tbody>\n",
              "    <tr>\n",
              "      <th>0</th>\n",
              "      <td>СБЕР</td>\n",
              "      <td>37</td>\n",
              "    </tr>\n",
              "    <tr>\n",
              "      <th>1</th>\n",
              "      <td>Bell Integrator</td>\n",
              "      <td>25</td>\n",
              "    </tr>\n",
              "    <tr>\n",
              "      <th>2</th>\n",
              "      <td>Банк ВТБ (ПАО)</td>\n",
              "      <td>18</td>\n",
              "    </tr>\n",
              "    <tr>\n",
              "      <th>3</th>\n",
              "      <td>VK</td>\n",
              "      <td>15</td>\n",
              "    </tr>\n",
              "    <tr>\n",
              "      <th>4</th>\n",
              "      <td>Positive Technologies</td>\n",
              "      <td>11</td>\n",
              "    </tr>\n",
              "    <tr>\n",
              "      <th>...</th>\n",
              "      <td>...</td>\n",
              "      <td>...</td>\n",
              "    </tr>\n",
              "    <tr>\n",
              "      <th>220</th>\n",
              "      <td>Федеральное автономное учреждение Государствен...</td>\n",
              "      <td>1</td>\n",
              "    </tr>\n",
              "    <tr>\n",
              "      <th>221</th>\n",
              "      <td>Представительство ООО «Квалитет» (Российская Ф...</td>\n",
              "      <td>1</td>\n",
              "    </tr>\n",
              "    <tr>\n",
              "      <th>222</th>\n",
              "      <td>DIGINETICA</td>\n",
              "      <td>1</td>\n",
              "    </tr>\n",
              "    <tr>\n",
              "      <th>223</th>\n",
              "      <td>Дром</td>\n",
              "      <td>1</td>\n",
              "    </tr>\n",
              "    <tr>\n",
              "      <th>224</th>\n",
              "      <td>Sifox</td>\n",
              "      <td>1</td>\n",
              "    </tr>\n",
              "  </tbody>\n",
              "</table>\n",
              "<p>225 rows × 2 columns</p>\n",
              "</div>"
            ],
            "text/plain": [
              "                                                  name  vacancies\n",
              "0                                                 СБЕР         37\n",
              "1                                      Bell Integrator         25\n",
              "2                                       Банк ВТБ (ПАО)         18\n",
              "3                                                   VK         15\n",
              "4                                Positive Technologies         11\n",
              "..                                                 ...        ...\n",
              "220  Федеральное автономное учреждение Государствен...          1\n",
              "221  Представительство ООО «Квалитет» (Российская Ф...          1\n",
              "222                                         DIGINETICA          1\n",
              "223                                               Дром          1\n",
              "224                                              Sifox          1\n",
              "\n",
              "[225 rows x 2 columns]"
            ]
          },
          "execution_count": 62,
          "metadata": {},
          "output_type": "execute_result"
        }
      ],
      "source": [
        "# результат запроса\n",
        "employers_ds = pd.read_sql_query(query_6_7_1, connection)\n",
        "employers_ds"
      ]
    },
    {
      "cell_type": "markdown",
      "id": "5dec9d7f",
      "metadata": {},
      "source": [
        "***"
      ]
    },
    {
      "cell_type": "markdown",
      "id": "4962025c",
      "metadata": {},
      "source": [
        "выводы по предметному анализу:\n",
        "- 1771 вакансия имеет отношение к данным (3.6 % от всего количества). Всего лишь!!!\n",
        "- Всего лишь 51 вакансия для начинающего дата-сайентиста!!!\n",
        "- Но Стоит овладеть навыками SQL или postgres и уже можно всерьез рассматривать 201 вакансию (речь о вакансиях для дата-сайентистов).\n",
        "- Для тех кто знает Python открыта 351 вакансия (73 % всех вакансий для дата-сайентистов).\n",
        "- 6.41 ключевых навыков в среднем указывают в вакансиях для дата-сайентистов.\n",
        "- Имеется прямая корреляция с опытом, чем больше опыт - тем больший размер заработной платы предлагает работодатель. Сотрудникам без опыта готовы платить 75 тыс. рублей. С опытом от года и до 3 лет - 140 тыс. руб. А от 3 до 6 лет - 243 тыс. руб. Правда стоит отметить, что из 480 вакансий для дата-сайентистов заработная плата указана лишь в 62. А вот в 418 работодателей не указали размер зарплаты. Значит, строим предположение о корреляции на основании только лишь 13 % вакансий.\n",
        "- 225 работодателям требуются дата-саентисты, а это 1.5 % от общего количества."
      ]
    },
    {
      "cell_type": "markdown",
      "id": "c0ED6fh7wiBT",
      "metadata": {
        "id": "c0ED6fh7wiBT"
      },
      "source": [
        "# Общий вывод по проекту"
      ]
    },
    {
      "cell_type": "markdown",
      "id": "b5b4241d",
      "metadata": {},
      "source": [
        "Общий анализ:\n",
        "\n",
        "- Общее количество вакансий 49197, общее количество работодателей 23501, работодателей с вакансиями только 14906. Т.о. среднее количество вакансий у работодателя: 3.3 (рассматриваем работодателей с вакансиями).\n",
        "- Распределение вакансий по регионам, прямо коррелирует с «масштабом региона». В ТОП-50 по количеству вакансий входят административные центры субъектов Российской Федерации и крупные города, а также столицы и крупные города стран СНГ. Так на долю Москвы приходится почти 11 % от общего количества вакансий, доля Санкт-Петербурга почти 6 %. На третьем месте Минск с более, чем 4 %.\n",
        "= Более половины вакансий - 51 %, не имеют каких-либо указаний на предлагаемую заработную плату. В 21 % имеется полная информация о предложении работодателя по зарплате. Минимум указан в 23 % вакансий, а максимум в 5 % вакансий. Средние значения для нижней и верхней границы зарплатной вилки составляют 71 и 110 тыс. рублей, соответственно.\n",
        "- Более 80 % вакансий предполагают личное присутствие на рабочем месте (полный день, сменный и гибкий график), на долю удаленной работы приходится около 19 %. Вахтовый метод примерно 0.8 %. Относительно формата занятости: более 93 % вакансий предполагают полную занятость. Частичная занятость и стажировка - всего чуть больше 4 и полутра процентов, соответственно. Проектная работа, менее 1 %.\n",
        "- Требуемый опыт работы указан в подавляющем количестве вакансий - более 85 %. При этом половина устанавливает опыт от 1 до 3 лет, почти 30 % от 3 до 6 лет и 2.7 % - больше 6 лет опыта. Опыт прямо связан с зарплатными предложениями, при росте опыта растет предлагаемая зарплата.\n",
        "- Если посмотреть количество регионов для каждого работодателя, в которых он публикует свои вакансии, то мы видим корреляцию с количеством вакансий у работодателей, т.е. при росте числа вакансий растет число регионов публикации.\n",
        "\n",
        "Анализ вакансий, связанных с «Data Science»:\n",
        "\n",
        "- 1771 вакансия имеет отношение к данным (в названии присутствуют или «data» или «данн»), то есть 3.6 % от всего количества вакансий. Если говорить о вакансиях для дата-сайентистов (исходя из перечня указанных условий для названий), то их 480 или чуть меньше 1 %.\n",
        "- В 51 вакансии указан уровень Junior, это 10.6 % от всех вакансий, для дата-сайентистов.\n",
        "- SQL или postgres в качестве ключевых навыков указаны в 201 вакансии для дата-сайентистов. Python присутствует в 351 вакансии, что составляет 73 % всех вакансий для дата-сайентистов.\n",
        "- 6.41 среднее количество ключевых навыков в вакансиях для дата-сайентистов.\n",
        "- Сотрудникам без опыта готовы платить 75 тыс. рублей, с опытом от года до 3 лет - 140 тыс. руб., а от 3 и до 6 лет - 243 тыс. руб. Для опыта свыше 6 лет – зарплата не указана. Основываясь на информации по всем вакансиям можно считать, что предлагаемая зарплата должна быть в 5-6 раз выше, чем для соискателей без опыта. Максимальная и минимальная указанные зарплаты: 55.5 и 550 тыс. руб.\n",
        "\n",
        "Выводы вытекающие из анализа вакансий, связанных с «Data Science»:\n",
        "\n",
        "Специальность «Data Science» достаточно редко востребована в общем количестве вакансий ИТ сферы. Вакансии предлагаются в основном крупными компаниями (банки, телекоммуникационные корпорации, интернет-гиганты, крупные промышленные компании и т.п. Востребованы специалисты с опытом, и с набором определенных ключевых навыков. Вакансии предлагаются в крупных городах. Возможная удаленная работа. Заработная плата в целом в два – три раза выше, чем в среднем для ИТ сферы. И зависит в первую очередь от опыта."
      ]
    },
    {
      "cell_type": "markdown",
      "id": "8c84793e",
      "metadata": {},
      "source": [
        "### Дополнительные исследования"
      ]
    },
    {
      "cell_type": "markdown",
      "id": "33139e10",
      "metadata": {},
      "source": [
        "7. Добудем информацию об ИП Поляков Денис Иванович, а именно:\n",
        "1) из какого региона этот работодатель,\n",
        "2) в каких сферах деятельности он предлагает вакансии,\n",
        "3) в каких регионах предлагаются вакансии,\n",
        "4) какие именно вакансии (название, график, оплата, регион вакансии и т.д.)."
      ]
    },
    {
      "cell_type": "code",
      "execution_count": 63,
      "id": "ae16e699",
      "metadata": {},
      "outputs": [],
      "source": [
        "# текст запроса\n",
        "query_7_1 = f'''SELECT \n",
        "                    e.id id_eployer,\n",
        "                    e.name,\n",
        "                    a.name area\n",
        "                FROM \n",
        "                    employers e\n",
        "                JOIN areas a ON e.area = a.id -- соединяем таблицы employers и areas\n",
        "                WHERE e.id = 5130287 -- это id ИП Поляков Денис Иванович\n",
        "            '''"
      ]
    },
    {
      "cell_type": "code",
      "execution_count": 64,
      "id": "88ac18c1",
      "metadata": {},
      "outputs": [
        {
          "name": "stderr",
          "output_type": "stream",
          "text": [
            "C:\\Users\\sysadmin\\AppData\\Local\\Temp\\ipykernel_21164\\676973739.py:2: UserWarning: pandas only supports SQLAlchemy connectable (engine/connection) or database string URI or sqlite3 DBAPI2 connection. Other DBAPI2 objects are not tested. Please consider using SQLAlchemy.\n",
            "  mr_polyakov = pd.read_sql_query(query_7_1, connection)\n"
          ]
        },
        {
          "data": {
            "text/html": [
              "<div>\n",
              "<style scoped>\n",
              "    .dataframe tbody tr th:only-of-type {\n",
              "        vertical-align: middle;\n",
              "    }\n",
              "\n",
              "    .dataframe tbody tr th {\n",
              "        vertical-align: top;\n",
              "    }\n",
              "\n",
              "    .dataframe thead th {\n",
              "        text-align: right;\n",
              "    }\n",
              "</style>\n",
              "<table border=\"1\" class=\"dataframe\">\n",
              "  <thead>\n",
              "    <tr style=\"text-align: right;\">\n",
              "      <th></th>\n",
              "      <th>id_eployer</th>\n",
              "      <th>name</th>\n",
              "      <th>area</th>\n",
              "    </tr>\n",
              "  </thead>\n",
              "  <tbody>\n",
              "    <tr>\n",
              "      <th>0</th>\n",
              "      <td>5130287</td>\n",
              "      <td>Поляков Денис Иванович</td>\n",
              "      <td>Владивосток</td>\n",
              "    </tr>\n",
              "  </tbody>\n",
              "</table>\n",
              "</div>"
            ],
            "text/plain": [
              "   id_eployer                    name         area\n",
              "0     5130287  Поляков Денис Иванович  Владивосток"
            ]
          },
          "execution_count": 64,
          "metadata": {},
          "output_type": "execute_result"
        }
      ],
      "source": [
        "# результат запроса\n",
        "mr_polyakov = pd.read_sql_query(query_7_1, connection)\n",
        "mr_polyakov"
      ]
    },
    {
      "cell_type": "code",
      "execution_count": 65,
      "id": "4c026447",
      "metadata": {},
      "outputs": [],
      "source": [
        "# текст запроса\n",
        "query_7_2 = f'''SELECT \n",
        "                    COUNT(*) indusiries\n",
        "                FROM \n",
        "                    employers_industries e_i\n",
        "                LEFT JOIN industries i ON e_i.industry_id = i.id -- соединяем таблицы employers_industries и industries\n",
        "                WHERE e_i.employer_id = 5130287 -- id ИП Поляков Денис Иванович\n",
        "             '''   "
      ]
    },
    {
      "cell_type": "code",
      "execution_count": 66,
      "id": "46504b05",
      "metadata": {},
      "outputs": [
        {
          "name": "stderr",
          "output_type": "stream",
          "text": [
            "C:\\Users\\sysadmin\\AppData\\Local\\Temp\\ipykernel_21164\\2403880047.py:2: UserWarning: pandas only supports SQLAlchemy connectable (engine/connection) or database string URI or sqlite3 DBAPI2 connection. Other DBAPI2 objects are not tested. Please consider using SQLAlchemy.\n",
            "  mr_polyakov_industries = pd.read_sql_query(query_7_2, connection)\n"
          ]
        },
        {
          "data": {
            "text/html": [
              "<div>\n",
              "<style scoped>\n",
              "    .dataframe tbody tr th:only-of-type {\n",
              "        vertical-align: middle;\n",
              "    }\n",
              "\n",
              "    .dataframe tbody tr th {\n",
              "        vertical-align: top;\n",
              "    }\n",
              "\n",
              "    .dataframe thead th {\n",
              "        text-align: right;\n",
              "    }\n",
              "</style>\n",
              "<table border=\"1\" class=\"dataframe\">\n",
              "  <thead>\n",
              "    <tr style=\"text-align: right;\">\n",
              "      <th></th>\n",
              "      <th>indusiries</th>\n",
              "    </tr>\n",
              "  </thead>\n",
              "  <tbody>\n",
              "    <tr>\n",
              "      <th>0</th>\n",
              "      <td>0</td>\n",
              "    </tr>\n",
              "  </tbody>\n",
              "</table>\n",
              "</div>"
            ],
            "text/plain": [
              "   indusiries\n",
              "0           0"
            ]
          },
          "execution_count": 66,
          "metadata": {},
          "output_type": "execute_result"
        }
      ],
      "source": [
        "# результат запроса\n",
        "mr_polyakov_industries = pd.read_sql_query(query_7_2, connection)\n",
        "mr_polyakov_industries"
      ]
    },
    {
      "cell_type": "code",
      "execution_count": 67,
      "id": "3f095d68",
      "metadata": {},
      "outputs": [],
      "source": [
        "# текст запроса\n",
        "query_7_3 = f'''SELECT \n",
        "                    a.name area_vacancy,\n",
        "                    COUNT(*) quantity\n",
        "                FROM \n",
        "                    vacancies v\n",
        "                LEFT JOIN areas a ON v.area_id = a.id -- соединяем таблицы vacancies и areas \n",
        "                WHERE v.employer_id = 5130287 -- id ИП Поляков Денис Иванович\n",
        "                GROUP BY a.name -- группируем по названию региона\n",
        "                ORDER BY quantity DESC, area_vacancy -- сортируем по количеству вакансий в порядке убывания и по названию региона по алфавиту \n",
        "             '''"
      ]
    },
    {
      "cell_type": "code",
      "execution_count": 68,
      "id": "905b1202",
      "metadata": {},
      "outputs": [
        {
          "name": "stderr",
          "output_type": "stream",
          "text": [
            "C:\\Users\\sysadmin\\AppData\\Local\\Temp\\ipykernel_21164\\299267780.py:2: UserWarning: pandas only supports SQLAlchemy connectable (engine/connection) or database string URI or sqlite3 DBAPI2 connection. Other DBAPI2 objects are not tested. Please consider using SQLAlchemy.\n",
            "  mr_polyakov_areas = pd.read_sql_query(query_7_3, connection)\n"
          ]
        },
        {
          "data": {
            "text/html": [
              "<div>\n",
              "<style scoped>\n",
              "    .dataframe tbody tr th:only-of-type {\n",
              "        vertical-align: middle;\n",
              "    }\n",
              "\n",
              "    .dataframe tbody tr th {\n",
              "        vertical-align: top;\n",
              "    }\n",
              "\n",
              "    .dataframe thead th {\n",
              "        text-align: right;\n",
              "    }\n",
              "</style>\n",
              "<table border=\"1\" class=\"dataframe\">\n",
              "  <thead>\n",
              "    <tr style=\"text-align: right;\">\n",
              "      <th></th>\n",
              "      <th>area_vacancy</th>\n",
              "      <th>quantity</th>\n",
              "    </tr>\n",
              "  </thead>\n",
              "  <tbody>\n",
              "    <tr>\n",
              "      <th>0</th>\n",
              "      <td>Орск</td>\n",
              "      <td>3</td>\n",
              "    </tr>\n",
              "    <tr>\n",
              "      <th>1</th>\n",
              "      <td>Балаково</td>\n",
              "      <td>2</td>\n",
              "    </tr>\n",
              "    <tr>\n",
              "      <th>2</th>\n",
              "      <td>Бийск</td>\n",
              "      <td>2</td>\n",
              "    </tr>\n",
              "    <tr>\n",
              "      <th>3</th>\n",
              "      <td>Братск</td>\n",
              "      <td>2</td>\n",
              "    </tr>\n",
              "    <tr>\n",
              "      <th>4</th>\n",
              "      <td>Брянск</td>\n",
              "      <td>2</td>\n",
              "    </tr>\n",
              "    <tr>\n",
              "      <th>...</th>\n",
              "      <td>...</td>\n",
              "      <td>...</td>\n",
              "    </tr>\n",
              "    <tr>\n",
              "      <th>83</th>\n",
              "      <td>Усолье-Сибирское</td>\n",
              "      <td>1</td>\n",
              "    </tr>\n",
              "    <tr>\n",
              "      <th>84</th>\n",
              "      <td>Уссурийск</td>\n",
              "      <td>1</td>\n",
              "    </tr>\n",
              "    <tr>\n",
              "      <th>85</th>\n",
              "      <td>Чита</td>\n",
              "      <td>1</td>\n",
              "    </tr>\n",
              "    <tr>\n",
              "      <th>86</th>\n",
              "      <td>Южно-Сахалинск</td>\n",
              "      <td>1</td>\n",
              "    </tr>\n",
              "    <tr>\n",
              "      <th>87</th>\n",
              "      <td>Ярославль</td>\n",
              "      <td>1</td>\n",
              "    </tr>\n",
              "  </tbody>\n",
              "</table>\n",
              "<p>88 rows × 2 columns</p>\n",
              "</div>"
            ],
            "text/plain": [
              "        area_vacancy  quantity\n",
              "0               Орск         3\n",
              "1           Балаково         2\n",
              "2              Бийск         2\n",
              "3             Братск         2\n",
              "4             Брянск         2\n",
              "..               ...       ...\n",
              "83  Усолье-Сибирское         1\n",
              "84         Уссурийск         1\n",
              "85              Чита         1\n",
              "86    Южно-Сахалинск         1\n",
              "87         Ярославль         1\n",
              "\n",
              "[88 rows x 2 columns]"
            ]
          },
          "execution_count": 68,
          "metadata": {},
          "output_type": "execute_result"
        }
      ],
      "source": [
        "# результат запроса\n",
        "mr_polyakov_areas = pd.read_sql_query(query_7_3, connection)\n",
        "mr_polyakov_areas"
      ]
    },
    {
      "cell_type": "code",
      "execution_count": 69,
      "id": "3133a7a1",
      "metadata": {},
      "outputs": [],
      "source": [
        "# текст запроса\n",
        "query_7_4 = f'''SELECT \n",
        "                    v.name,\n",
        "                    v.key_skills,\n",
        "                    v.schedule,\n",
        "                    v.experience,\n",
        "                    v.employment,\n",
        "                    v.salary_from,\n",
        "                    v.salary_to,\n",
        "                    a.name area_vacancy\n",
        "                FROM \n",
        "                    vacancies v\n",
        "                LEFT JOIN areas a ON v.area_id = a.id -- соединяем таблицы vacancies и areas\n",
        "                WHERE v.employer_id = 5130287 -- id ИП Поляков Денис Иванович\n",
        "                ORDER BY  v.salary_from DESC, v.salary_to DESC\n",
        "             '''"
      ]
    },
    {
      "cell_type": "code",
      "execution_count": 70,
      "id": "c9e42b2f",
      "metadata": {},
      "outputs": [
        {
          "name": "stderr",
          "output_type": "stream",
          "text": [
            "C:\\Users\\sysadmin\\AppData\\Local\\Temp\\ipykernel_21164\\521560378.py:2: UserWarning: pandas only supports SQLAlchemy connectable (engine/connection) or database string URI or sqlite3 DBAPI2 connection. Other DBAPI2 objects are not tested. Please consider using SQLAlchemy.\n",
            "  mr_polyakov_vacancies = pd.read_sql_query(query_7_4, connection)\n"
          ]
        },
        {
          "data": {
            "text/html": [
              "<div>\n",
              "<style scoped>\n",
              "    .dataframe tbody tr th:only-of-type {\n",
              "        vertical-align: middle;\n",
              "    }\n",
              "\n",
              "    .dataframe tbody tr th {\n",
              "        vertical-align: top;\n",
              "    }\n",
              "\n",
              "    .dataframe thead th {\n",
              "        text-align: right;\n",
              "    }\n",
              "</style>\n",
              "<table border=\"1\" class=\"dataframe\">\n",
              "  <thead>\n",
              "    <tr style=\"text-align: right;\">\n",
              "      <th></th>\n",
              "      <th>name</th>\n",
              "      <th>key_skills</th>\n",
              "      <th>schedule</th>\n",
              "      <th>experience</th>\n",
              "      <th>employment</th>\n",
              "      <th>salary_from</th>\n",
              "      <th>salary_to</th>\n",
              "      <th>area_vacancy</th>\n",
              "    </tr>\n",
              "  </thead>\n",
              "  <tbody>\n",
              "    <tr>\n",
              "      <th>0</th>\n",
              "      <td>Компьютерный мастер</td>\n",
              "      <td>Навыки продаж\\tНавыки работы с возражениями\\tУ...</td>\n",
              "      <td>Полный день</td>\n",
              "      <td>От 1 года до 3 лет</td>\n",
              "      <td>Полная занятость</td>\n",
              "      <td>70000</td>\n",
              "      <td>NaN</td>\n",
              "      <td>Тула</td>\n",
              "    </tr>\n",
              "    <tr>\n",
              "      <th>1</th>\n",
              "      <td>Компьютерный мастер</td>\n",
              "      <td>None</td>\n",
              "      <td>Полный день</td>\n",
              "      <td>От 1 года до 3 лет</td>\n",
              "      <td>Полная занятость</td>\n",
              "      <td>60000</td>\n",
              "      <td>NaN</td>\n",
              "      <td>Кемерово</td>\n",
              "    </tr>\n",
              "    <tr>\n",
              "      <th>2</th>\n",
              "      <td>Компьютерный мастер</td>\n",
              "      <td>None</td>\n",
              "      <td>Полный день</td>\n",
              "      <td>От 1 года до 3 лет</td>\n",
              "      <td>Полная занятость</td>\n",
              "      <td>60000</td>\n",
              "      <td>NaN</td>\n",
              "      <td>Курск</td>\n",
              "    </tr>\n",
              "    <tr>\n",
              "      <th>3</th>\n",
              "      <td>Компьютерный мастер</td>\n",
              "      <td>None</td>\n",
              "      <td>Полный день</td>\n",
              "      <td>От 1 года до 3 лет</td>\n",
              "      <td>Полная занятость</td>\n",
              "      <td>60000</td>\n",
              "      <td>NaN</td>\n",
              "      <td>Оренбург</td>\n",
              "    </tr>\n",
              "    <tr>\n",
              "      <th>4</th>\n",
              "      <td>Компьютерный мастер</td>\n",
              "      <td>None</td>\n",
              "      <td>Полный день</td>\n",
              "      <td>От 1 года до 3 лет</td>\n",
              "      <td>Полная занятость</td>\n",
              "      <td>60000</td>\n",
              "      <td>NaN</td>\n",
              "      <td>Набережные Челны</td>\n",
              "    </tr>\n",
              "    <tr>\n",
              "      <th>...</th>\n",
              "      <td>...</td>\n",
              "      <td>...</td>\n",
              "      <td>...</td>\n",
              "      <td>...</td>\n",
              "      <td>...</td>\n",
              "      <td>...</td>\n",
              "      <td>...</td>\n",
              "      <td>...</td>\n",
              "    </tr>\n",
              "    <tr>\n",
              "      <th>122</th>\n",
              "      <td>Ученик компьютерного мастера</td>\n",
              "      <td>None</td>\n",
              "      <td>Полный день</td>\n",
              "      <td>Нет опыта</td>\n",
              "      <td>Стажировка</td>\n",
              "      <td>30000</td>\n",
              "      <td>50000.0</td>\n",
              "      <td>Геленджик</td>\n",
              "    </tr>\n",
              "    <tr>\n",
              "      <th>123</th>\n",
              "      <td>Ученик компьютерного мастера</td>\n",
              "      <td>None</td>\n",
              "      <td>Полный день</td>\n",
              "      <td>Нет опыта</td>\n",
              "      <td>Стажировка</td>\n",
              "      <td>30000</td>\n",
              "      <td>50000.0</td>\n",
              "      <td>Балаково</td>\n",
              "    </tr>\n",
              "    <tr>\n",
              "      <th>124</th>\n",
              "      <td>Ученик компьютерного мастера</td>\n",
              "      <td>None</td>\n",
              "      <td>Полный день</td>\n",
              "      <td>Нет опыта</td>\n",
              "      <td>Стажировка</td>\n",
              "      <td>30000</td>\n",
              "      <td>50000.0</td>\n",
              "      <td>Новороссийск</td>\n",
              "    </tr>\n",
              "    <tr>\n",
              "      <th>125</th>\n",
              "      <td>Ученик компьютерного мастера</td>\n",
              "      <td>None</td>\n",
              "      <td>Полный день</td>\n",
              "      <td>Нет опыта</td>\n",
              "      <td>Стажировка</td>\n",
              "      <td>30000</td>\n",
              "      <td>50000.0</td>\n",
              "      <td>Тюмень</td>\n",
              "    </tr>\n",
              "    <tr>\n",
              "      <th>126</th>\n",
              "      <td>Ученик компьютерного мастера</td>\n",
              "      <td>None</td>\n",
              "      <td>Полный день</td>\n",
              "      <td>Нет опыта</td>\n",
              "      <td>Стажировка</td>\n",
              "      <td>30000</td>\n",
              "      <td>50000.0</td>\n",
              "      <td>Санкт-Петербург</td>\n",
              "    </tr>\n",
              "  </tbody>\n",
              "</table>\n",
              "<p>127 rows × 8 columns</p>\n",
              "</div>"
            ],
            "text/plain": [
              "                             name   \n",
              "0             Компьютерный мастер  \\\n",
              "1             Компьютерный мастер   \n",
              "2             Компьютерный мастер   \n",
              "3             Компьютерный мастер   \n",
              "4             Компьютерный мастер   \n",
              "..                            ...   \n",
              "122  Ученик компьютерного мастера   \n",
              "123  Ученик компьютерного мастера   \n",
              "124  Ученик компьютерного мастера   \n",
              "125  Ученик компьютерного мастера   \n",
              "126  Ученик компьютерного мастера   \n",
              "\n",
              "                                            key_skills     schedule   \n",
              "0    Навыки продаж\\tНавыки работы с возражениями\\tУ...  Полный день  \\\n",
              "1                                                 None  Полный день   \n",
              "2                                                 None  Полный день   \n",
              "3                                                 None  Полный день   \n",
              "4                                                 None  Полный день   \n",
              "..                                                 ...          ...   \n",
              "122                                               None  Полный день   \n",
              "123                                               None  Полный день   \n",
              "124                                               None  Полный день   \n",
              "125                                               None  Полный день   \n",
              "126                                               None  Полный день   \n",
              "\n",
              "             experience        employment  salary_from  salary_to   \n",
              "0    От 1 года до 3 лет  Полная занятость        70000        NaN  \\\n",
              "1    От 1 года до 3 лет  Полная занятость        60000        NaN   \n",
              "2    От 1 года до 3 лет  Полная занятость        60000        NaN   \n",
              "3    От 1 года до 3 лет  Полная занятость        60000        NaN   \n",
              "4    От 1 года до 3 лет  Полная занятость        60000        NaN   \n",
              "..                  ...               ...          ...        ...   \n",
              "122           Нет опыта        Стажировка        30000    50000.0   \n",
              "123           Нет опыта        Стажировка        30000    50000.0   \n",
              "124           Нет опыта        Стажировка        30000    50000.0   \n",
              "125           Нет опыта        Стажировка        30000    50000.0   \n",
              "126           Нет опыта        Стажировка        30000    50000.0   \n",
              "\n",
              "         area_vacancy  \n",
              "0                Тула  \n",
              "1            Кемерово  \n",
              "2               Курск  \n",
              "3            Оренбург  \n",
              "4    Набережные Челны  \n",
              "..                ...  \n",
              "122         Геленджик  \n",
              "123          Балаково  \n",
              "124      Новороссийск  \n",
              "125            Тюмень  \n",
              "126   Санкт-Петербург  \n",
              "\n",
              "[127 rows x 8 columns]"
            ]
          },
          "execution_count": 70,
          "metadata": {},
          "output_type": "execute_result"
        }
      ],
      "source": [
        "# результат запроса\n",
        "mr_polyakov_vacancies = pd.read_sql_query(query_7_4, connection)\n",
        "mr_polyakov_vacancies"
      ]
    },
    {
      "cell_type": "markdown",
      "id": "28ee8420",
      "metadata": {},
      "source": [
        "Выводы по дополнительным исследованиям:\n",
        "\n",
        "1. ИП Поляков Денис Иванович зарегистрирован во Владивостоке.\n",
        "\n",
        "2. Cферs деятельности ИП Поляков Д.И. в данной базе данных не указаны.\n",
        "\n",
        "3. ИП Поляков Д.И. разместил вакансии для 88 регионов.\n",
        "\n",
        "4. Всего размещено 127 вакансий. Это либо компьютерный мастер, либо ученик компьютерного матера.\n",
        "\n",
        "Предлагаемая зарплата:\n",
        "- минимальная для ученика компьютерного мастера 30 тыс. руб., для компьютерного мастера от 40 тыс. руб.\n",
        "- максимальная в 5 регионах 70 тыс. руб. (Ижевск, Новотроицк, Курск, Нижневартовск, Воткинск), в 8 регионах 55 тыс. руб., в остальных - 50 тыс. руб. Стоит отметить Стерлитамак где максимальная предлагаемая зарплата 150 тыс. руб.\n",
        "\n",
        "Требование по опыту работы, либо отсутствует, либо от 1 до 3 лет, соответственно предлагаемой зарплате и вакансии.\n",
        "Для ученика компьютерного мастера предлагается стажировка, для компьютерного мастера - полная занятость.\n",
        "График для всех вакансий указан как полный день.\n",
        "Требуемые навыки в основном не указаны. Исключение, 6 вакансий, а именно: компьютерный мастер в Архангельске, Тамбове, Орле, Томске, Симферополе и Туле. Там требуются следующие навыки: Техники продаж, Уверенный пользователь ПК, Ремонт ПК, Настройка ПО, Настройка ПК, Сборка ПК, Грамотная речь, Выездное обслуживание, Диагностика, Активные продажи, Ремонт электроники, Диагностика ПК, Опытный пользователь ПК.\n",
        "\n",
        "Исходя из выше изложенного, скорее всего ИП Поляков Денис Иванович это федеральная сеть мастерских по обслуживанию и ремонту компьютерной техники, установке и настройке ПО."
      ]
    },
    {
      "cell_type": "code",
      "execution_count": 72,
      "id": "6cdabf15",
      "metadata": {},
      "outputs": [],
      "source": [
        "# закрыdftv соединение после окончания работы\n",
        "connection.close()"
      ]
    }
  ],
  "metadata": {
    "colab": {
      "collapsed_sections": [
        "8d62a9f3-f64e-4fe7-bdac-c4dffa16155e"
      ],
      "provenance": []
    },
    "kernelspec": {
      "display_name": "Python 3 (ipykernel)",
      "language": "python",
      "name": "python3"
    },
    "language_info": {
      "codemirror_mode": {
        "name": "ipython",
        "version": 3
      },
      "file_extension": ".py",
      "mimetype": "text/x-python",
      "name": "python",
      "nbconvert_exporter": "python",
      "pygments_lexer": "ipython3",
      "version": "3.10.9"
    }
  },
  "nbformat": 4,
  "nbformat_minor": 5
}
