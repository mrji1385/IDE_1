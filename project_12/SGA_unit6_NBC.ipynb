{
  "cells": [
    {
      "cell_type": "markdown",
      "id": "00009cca",
      "metadata": {
        "id": "00009cca"
      },
      "source": [
        "# Классификация текстов с использованием Наивного Байесовского Классификатора"
      ]
    },
    {
      "cell_type": "markdown",
      "id": "a52414b8",
      "metadata": {
        "id": "a52414b8"
      },
      "source": [
        "## Задание 1 (1 балл)"
      ]
    },
    {
      "cell_type": "markdown",
      "id": "f5f27b43",
      "metadata": {
        "id": "f5f27b43"
      },
      "source": [
        "Откройте данные. Узнайте, сколько в них спам- и не спам-писем. Визуализируйте полученные соотношение подходящим образом."
      ]
    },
    {
      "cell_type": "code",
      "execution_count": 1,
      "id": "ac369274",
      "metadata": {
        "id": "ac369274"
      },
      "outputs": [
        {
          "data": {
            "text/html": [
              "<div>\n",
              "<style scoped>\n",
              "    .dataframe tbody tr th:only-of-type {\n",
              "        vertical-align: middle;\n",
              "    }\n",
              "\n",
              "    .dataframe tbody tr th {\n",
              "        vertical-align: top;\n",
              "    }\n",
              "\n",
              "    .dataframe thead th {\n",
              "        text-align: right;\n",
              "    }\n",
              "</style>\n",
              "<table border=\"1\" class=\"dataframe\">\n",
              "  <thead>\n",
              "    <tr style=\"text-align: right;\">\n",
              "      <th></th>\n",
              "      <th>email</th>\n",
              "      <th>label</th>\n",
              "    </tr>\n",
              "  </thead>\n",
              "  <tbody>\n",
              "    <tr>\n",
              "      <th>0</th>\n",
              "      <td>date wed NUMBER aug NUMBER NUMBER NUMBER NUMB...</td>\n",
              "      <td>0</td>\n",
              "    </tr>\n",
              "    <tr>\n",
              "      <th>1</th>\n",
              "      <td>martin a posted tassos papadopoulos the greek ...</td>\n",
              "      <td>0</td>\n",
              "    </tr>\n",
              "    <tr>\n",
              "      <th>2</th>\n",
              "      <td>man threatens explosion in moscow thursday aug...</td>\n",
              "      <td>0</td>\n",
              "    </tr>\n",
              "    <tr>\n",
              "      <th>3</th>\n",
              "      <td>klez the virus that won t die already the most...</td>\n",
              "      <td>0</td>\n",
              "    </tr>\n",
              "    <tr>\n",
              "      <th>4</th>\n",
              "      <td>in adding cream to spaghetti carbonara which ...</td>\n",
              "      <td>0</td>\n",
              "    </tr>\n",
              "  </tbody>\n",
              "</table>\n",
              "</div>"
            ],
            "text/plain": [
              "                                               email  label\n",
              "0   date wed NUMBER aug NUMBER NUMBER NUMBER NUMB...      0\n",
              "1  martin a posted tassos papadopoulos the greek ...      0\n",
              "2  man threatens explosion in moscow thursday aug...      0\n",
              "3  klez the virus that won t die already the most...      0\n",
              "4   in adding cream to spaghetti carbonara which ...      0"
            ]
          },
          "execution_count": 1,
          "metadata": {},
          "output_type": "execute_result"
        }
      ],
      "source": [
        "# Откроем данные\n",
        "\n",
        "import pandas as pd\n",
        "import numpy as np\n",
        "\n",
        "data = pd.read_csv('data/spam_or_not_spam.csv')\n",
        "data.head()"
      ]
    },
    {
      "cell_type": "code",
      "execution_count": 2,
      "id": "f4231781",
      "metadata": {
        "id": "f4231781"
      },
      "outputs": [
        {
          "name": "stdout",
          "output_type": "stream",
          "text": [
            "label\n",
            "0    2500\n",
            "1     500\n",
            "Name: count, dtype: int64\n"
          ]
        },
        {
          "data": {
            "text/plain": [
              "label\n",
              "0    0.833333\n",
              "1    0.166667\n",
              "Name: proportion, dtype: float64"
            ]
          },
          "execution_count": 2,
          "metadata": {},
          "output_type": "execute_result"
        }
      ],
      "source": [
        "# Рассчитаем частоты для классов\n",
        "\n",
        "print(data['label'].value_counts())\n",
        "data['label'].value_counts(normalize=True)"
      ]
    },
    {
      "cell_type": "code",
      "execution_count": 3,
      "id": "9b871636",
      "metadata": {
        "id": "9b871636"
      },
      "outputs": [
        {
          "data": {
            "image/png": "[encoded data removed]",
            "text/plain": [
              "<Figure size 640x480 with 1 Axes>"
            ]
          },
          "metadata": {},
          "output_type": "display_data"
        }
      ],
      "source": [
        "# Визуализируем результат\n",
        "\n",
        "import seaborn as sns\n",
        "\n",
        "sns.countplot(data=data, x='label');"
      ]
    },
    {
      "cell_type": "markdown",
      "id": "f41b7344",
      "metadata": {},
      "source": [
        "##### Вывод: на графике видно, что наблюдается несбалансированность классов."
      ]
    },
    {
      "cell_type": "markdown",
      "id": "b161614b",
      "metadata": {
        "id": "b161614b"
      },
      "source": [
        "## Задание 2 (2 балла)"
      ]
    },
    {
      "cell_type": "markdown",
      "id": "dd29763b",
      "metadata": {
        "id": "dd29763b"
      },
      "source": [
        "Вам необходимо предобработать ваши данные и перевести их в векторный вид. Подгрузим необходимый модуль:"
      ]
    },
    {
      "cell_type": "code",
      "execution_count": 4,
      "id": "382eac9c",
      "metadata": {
        "id": "382eac9c"
      },
      "outputs": [],
      "source": [
        "from sklearn.feature_extraction.text import CountVectorizer"
      ]
    },
    {
      "cell_type": "markdown",
      "id": "89546b95",
      "metadata": {
        "id": "89546b95"
      },
      "source": [
        "Замените в данных все пустые строки и строки, состоящие из пробелов, на пропуски (NaN). После этого удалите из данных все строки, в которых наблюдаются пропущенные значения."
      ]
    },
    {
      "cell_type": "code",
      "execution_count": 5,
      "id": "45180f82",
      "metadata": {
        "id": "45180f82"
      },
      "outputs": [],
      "source": [
        "# Удалим пустые строки и строки, состоящие из пробелов с помощью масок\n",
        "\n",
        "data = data[(data['email'].isnull()!=True) & (data['email']!=\" \")]"
      ]
    },
    {
      "cell_type": "markdown",
      "id": "2ca2fe88",
      "metadata": {
        "id": "2ca2fe88"
      },
      "source": [
        "Переводим данные в векторный вид:"
      ]
    },
    {
      "cell_type": "code",
      "execution_count": 6,
      "id": "29e9a37b",
      "metadata": {
        "id": "29e9a37b"
      },
      "outputs": [],
      "source": [
        "vectorizer = CountVectorizer()\n",
        "X = vectorizer.fit_transform(data[\"email\"])"
      ]
    },
    {
      "cell_type": "markdown",
      "id": "88c8b726",
      "metadata": {
        "id": "88c8b726"
      },
      "source": [
        "Определите, сколько теперь признаков в нашем наборе данных:"
      ]
    },
    {
      "cell_type": "code",
      "execution_count": 7,
      "id": "f19c2a02",
      "metadata": {
        "id": "f19c2a02"
      },
      "outputs": [
        {
          "data": {
            "text/plain": [
              "34116"
            ]
          },
          "execution_count": 7,
          "metadata": {},
          "output_type": "execute_result"
        }
      ],
      "source": [
        "X.shape[1]"
      ]
    },
    {
      "cell_type": "markdown",
      "id": "1803f282",
      "metadata": {
        "id": "1803f282"
      },
      "source": [
        "## Задание 3 (2 балла)"
      ]
    },
    {
      "cell_type": "markdown",
      "id": "39f400b7",
      "metadata": {
        "id": "39f400b7"
      },
      "source": [
        "Определите целевую переменную и признаки:"
      ]
    },
    {
      "cell_type": "code",
      "execution_count": 8,
      "id": "31f1acb6",
      "metadata": {
        "id": "31f1acb6"
      },
      "outputs": [],
      "source": [
        "X = X.toarray()\n",
        "y = data['label']"
      ]
    },
    {
      "cell_type": "markdown",
      "id": "b20f273e",
      "metadata": {
        "id": "b20f273e"
      },
      "source": [
        "Разделите выборку на обучающую и тестовую, используя стратифицированное разбиение (параметр `stratify` установите в значение вектора ответов y) размер тестовой выборки (`test_size`) возьмите как 0.25, параметр `random_state` определите со значением 42:"
      ]
    },
    {
      "cell_type": "code",
      "execution_count": 9,
      "id": "96538fb6",
      "metadata": {
        "id": "96538fb6"
      },
      "outputs": [],
      "source": [
        "from sklearn import model_selection\n",
        "\n",
        "X_train, X_test, y_train, y_test = model_selection.train_test_split(\n",
        "    X, y, \n",
        "    stratify=y,\n",
        "    test_size=0.25, \n",
        "    random_state=42\n",
        ")"
      ]
    },
    {
      "cell_type": "markdown",
      "id": "139dac3d",
      "metadata": {
        "id": "139dac3d"
      },
      "source": [
        "Рассчитайте среднее значение целевой переменной по тестовой выборке:"
      ]
    },
    {
      "cell_type": "code",
      "execution_count": 10,
      "id": "e9baf72d",
      "metadata": {
        "id": "e9baf72d"
      },
      "outputs": [
        {
          "data": {
            "text/plain": [
              "0.165"
            ]
          },
          "execution_count": 10,
          "metadata": {},
          "output_type": "execute_result"
        }
      ],
      "source": [
        "round(y_test.mean(), 3)"
      ]
    },
    {
      "cell_type": "markdown",
      "id": "710e0e94",
      "metadata": {
        "id": "710e0e94"
      },
      "source": [
        "## Задание 4 (3 балла)"
      ]
    },
    {
      "cell_type": "markdown",
      "id": "26cf6885",
      "metadata": {
        "id": "26cf6885"
      },
      "source": [
        "Определите и обучите подходящий алгоритм с параметром alpha = 0.01"
      ]
    },
    {
      "cell_type": "code",
      "execution_count": 11,
      "id": "4865dd78",
      "metadata": {
        "id": "4865dd78"
      },
      "outputs": [],
      "source": [
        "# Будем использовать алгоритм ComplementNB\n",
        "\n",
        "from sklearn.naive_bayes import ComplementNB\n",
        "\n",
        "alpha=0.01\n",
        "\n",
        "complement_nb = ComplementNB(alpha=alpha)\n",
        "complement_nb.fit(X_train, y_train)\n",
        "y_train_pred = complement_nb.predict(X_train)\n",
        "y_test_pred = complement_nb.predict(X_test)\n",
        "y_test_pred_proba = complement_nb.predict_proba(X_test)"
      ]
    },
    {
      "cell_type": "markdown",
      "id": "d803fbe3",
      "metadata": {
        "id": "d803fbe3"
      },
      "source": [
        "Оцените результат с точки зрения всех известных вам метрик (не менее трёх):"
      ]
    },
    {
      "cell_type": "code",
      "execution_count": 12,
      "id": "b0bbc4d2",
      "metadata": {
        "id": "b0bbc4d2"
      },
      "outputs": [
        {
          "name": "stdout",
          "output_type": "stream",
          "text": [
            "Accuracy: 0.988\n",
            "Precision: 1.0\n",
            "Recall: 0.927\n",
            "F1-score: 0.962\n"
          ]
        }
      ],
      "source": [
        "from sklearn import metrics\n",
        "\n",
        "print('Accuracy:', round(metrics.accuracy_score(y_test, y_test_pred), 3))\n",
        "print('Precision:', round(metrics.precision_score(y_test, y_test_pred), 3))\n",
        "print('Recall:', round(metrics.recall_score(y_test, y_test_pred), 3))\n",
        "print('F1-score:', round(metrics.f1_score(y_test, y_test_pred), 3))"
      ]
    },
    {
      "cell_type": "markdown",
      "id": "c85976d1",
      "metadata": {
        "id": "c85976d1"
      },
      "source": [
        "Нарисуйте ROC-кривую:"
      ]
    },
    {
      "cell_type": "code",
      "execution_count": 13,
      "id": "97d573b4",
      "metadata": {},
      "outputs": [
        {
          "data": {
            "image/png": "[encoded data removed]",
            "text/plain": [
              "<Figure size 900x900 with 1 Axes>"
            ]
          },
          "metadata": {},
          "output_type": "display_data"
        }
      ],
      "source": [
        "from sklearn.metrics import roc_curve\n",
        "import matplotlib.pyplot as plt\n",
        "\n",
        "false_positive_rates, true_positive_rates, threshold = roc_curve(y_test, y_test_pred_proba[:,1], drop_intermediate=False)\n",
        "\n",
        "plt.figure(figsize=(9, 9))\n",
        "plt.plot(false_positive_rates, true_positive_rates, color=\"cornflowerblue\", lw=5,  label=\"ROC-кривая\")\n",
        "plt.plot([0, 1], [0, 1], color=\"indigo\", lw=2, linestyle=\"--\")\n",
        "plt.xlim([0.0, 1.0])\n",
        "plt.ylim([0.0, 1.05])\n",
        "plt.xlabel(\"False Positive Rate\")\n",
        "plt.ylabel(\"True Positive Rate\")\n",
        "plt.title(\"ROC-кривая\")\n",
        "plt.legend(loc=\"lower right\")\n",
        "plt.show();"
      ]
    },
    {
      "cell_type": "markdown",
      "id": "cf0bb49b",
      "metadata": {
        "id": "cf0bb49b"
      },
      "source": [
        "## Задание 5 (3 балла)"
      ]
    },
    {
      "cell_type": "markdown",
      "id": "30b7a0ae",
      "metadata": {
        "id": "30b7a0ae"
      },
      "source": [
        "Переберите несколько значений alpha с помощью кросс-валидации. Оцените, зависит ли от этого параметра качество классификации."
      ]
    },
    {
      "cell_type": "code",
      "execution_count": 14,
      "id": "3513d907",
      "metadata": {
        "id": "3513d907"
      },
      "outputs": [],
      "source": [
        "from sklearn import naive_bayes\n",
        "from sklearn.model_selection import cross_validate\n",
        "\n",
        "metrics_list = []\n",
        "\n",
        "for i in list(np.linspace(0.01, 0.1, 10, dtype=float)):\n",
        "\n",
        "    # Создаём модель\n",
        "    model = naive_bayes.ComplementNB(alpha=i)\n",
        " \n",
        "    # Создаём объект кросс-валидатора KFold\n",
        "    kf = model_selection.KFold(n_splits=5)\n",
        " \n",
        "    # Считаем метрики на кросс-валидации k-fold\n",
        "    cv_metrics = cross_validate(\n",
        "        estimator=model, # модель\n",
        "        X=X, # матрица наблюдений X\n",
        "        y=y, # вектор ответов y\n",
        "        cv=kf, # кросс-валидатор\n",
        "        scoring='accuracy', # метрика\n",
        "        return_train_score=True \n",
        "    )\n",
        "    metrics_list.append((np.mean(cv_metrics['test_score'])))"
      ]
    },
    {
      "cell_type": "code",
      "execution_count": 15,
      "id": "852407d5",
      "metadata": {},
      "outputs": [
        {
          "data": {
            "image/png": "[encoded data removed]",
            "text/plain": [
              "<Figure size 640x480 with 1 Axes>"
            ]
          },
          "metadata": {},
          "output_type": "display_data"
        }
      ],
      "source": [
        "# Рисуем график\n",
        "\n",
        "lpt=sns.lineplot(\n",
        "    x=list(np.linspace(0.01, 0.1, 10, dtype=float)),\n",
        "    y=metrics_list\n",
        ")\n",
        "lpt.set(title='accuracy на кросс-валидации', xlabel='alpha');"
      ]
    },
    {
      "cell_type": "markdown",
      "id": "1252f9ec",
      "metadata": {},
      "source": [
        "##### Вывод:\n",
        "##### На графике метрики качества видно, что после alpha=0.05 идёт ухудшение метрики accuracy, а следовательно и качества классификации. Из этого можно сделать вывод, что от параметра alpha зависит качество классификации."
      ]
    }
  ],
  "metadata": {
    "colab": {
      "name": "SGA_unit6_NBC.ipynb",
      "provenance": []
    },
    "kernelspec": {
      "display_name": "Python 3 (ipykernel)",
      "language": "python",
      "name": "python3"
    },
    "language_info": {
      "codemirror_mode": {
        "name": "ipython",
        "version": 3
      },
      "file_extension": ".py",
      "mimetype": "text/x-python",
      "name": "python",
      "nbconvert_exporter": "python",
      "pygments_lexer": "ipython3",
      "version": "3.10.9"
    }
  },
  "nbformat": 4,
  "nbformat_minor": 5
}
